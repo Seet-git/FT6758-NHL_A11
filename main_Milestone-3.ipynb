{
 "cells": [
  {
   "cell_type": "code",
   "execution_count": null,
   "id": "initial_id",
   "metadata": {
    "ExecuteTime": {
     "end_time": "2024-12-17T18:46:45.187263Z",
     "start_time": "2024-12-17T18:46:43.482023Z"
    }
   },
   "outputs": [],
   "source": [
    "import requests\n",
    "\n",
    "WANDB_PROJECT_NAME = \"IFT6758.2024-A11\"\n",
    "WANDB_TEAM_NAME = \"youry-macius-universite-de-montreal\"\n",
    "\n",
    "data = {\n",
    "    \"project_name\": WANDB_PROJECT_NAME,\n",
    "    \"entity_name\": WANDB_TEAM_NAME,\n",
    "    \"model_name\": \"LogisticRegression_Distance_Angle\", # valeurs possibles : LogisticRegression_Distance_Angle, LogisticRegression_Distance\n",
    "}\n",
    "\n",
    "r = requests.post(\"http://127.0.0.1:5000/download_registry_model\", json=data)\n",
    "print(r.json())"
   ]
  },
  {
   "cell_type": "code",
   "execution_count": null,
   "id": "42b3c184500e6a0",
   "metadata": {
    "ExecuteTime": {
     "end_time": "2024-12-17T18:48:14.332390Z",
     "start_time": "2024-12-17T18:48:14.324128Z"
    }
   },
   "outputs": [],
   "source": [
    "data = {\n",
    "    \"distance\": [8, 40],\n",
    "    \"angle\": [20, 80],\n",
    "}\n",
    "\n",
    "r = requests.post(\"http://127.0.0.1:5000/predict\", json=data)\n",
    "print(r.json())"
   ]
  },
  {
   "cell_type": "code",
   "execution_count": null,
   "id": "f29b40126329bf28",
   "metadata": {},
   "outputs": [],
   "source": []
  }
 ],
 "metadata": {
  "kernelspec": {
   "display_name": "Python 3 (ipykernel)",
   "language": "python",
   "name": "python3"
  },
  "language_info": {
   "codemirror_mode": {
    "name": "ipython",
    "version": 3
   },
   "file_extension": ".py",
   "mimetype": "text/x-python",
   "name": "python",
   "nbconvert_exporter": "python",
   "pygments_lexer": "ipython3",
   "version": "3.12.3"
  }
 },
 "nbformat": 4,
 "nbformat_minor": 5
}
