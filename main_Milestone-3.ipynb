{
 "cells": [
  {
   "cell_type": "code",
   "id": "initial_id",
   "metadata": {
    "collapsed": true,
    "ExecuteTime": {
     "end_time": "2024-12-17T18:46:45.187263Z",
     "start_time": "2024-12-17T18:46:43.482023Z"
    }
   },
   "source": [
    "import requests\n",
    "\n",
    "WANDB_PROJECT_NAME = \"IFT6758.2024-A11\"\n",
    "WANDB_TEAM_NAME = \"youry-macius-universite-de-montreal\"\n",
    "\n",
    "data = {\n",
    "    \"project_name\": WANDB_PROJECT_NAME,\n",
    "    \"entity_name\": WANDB_TEAM_NAME,\n",
    "    \"model_name\": \"LogisticRegression_Distance_Angle\", # valeurs possibles : LogisticRegression_Distance_Angle, LogisticRegression_Distance\n",
    "}\n",
    "\n",
    "r = requests.post(\"http://127.0.0.1:5000/download_registry_model\", json=data)"
   ],
   "outputs": [],
   "execution_count": 1
  },
  {
   "metadata": {
    "ExecuteTime": {
     "end_time": "2024-12-17T18:48:14.332390Z",
     "start_time": "2024-12-17T18:48:14.324128Z"
    }
   },
   "cell_type": "code",
   "source": [
    "data = {\n",
    "    \"distance\": [8, 40],\n",
    "    \"angle\": [20, 80],\n",
    "}\n",
    "\n",
    "r = requests.post(\"http://127.0.0.1:5000/predict\", json=data)"
   ],
   "id": "42b3c184500e6a0",
   "outputs": [],
   "execution_count": 5
  },
  {
   "metadata": {},
   "cell_type": "code",
   "outputs": [],
   "execution_count": null,
   "source": "",
   "id": "f29b40126329bf28"
  }
 ],
 "metadata": {
  "kernelspec": {
   "display_name": "Python 3",
   "language": "python",
   "name": "python3"
  },
  "language_info": {
   "codemirror_mode": {
    "name": "ipython",
    "version": 2
   },
   "file_extension": ".py",
   "mimetype": "text/x-python",
   "name": "python",
   "nbconvert_exporter": "python",
   "pygments_lexer": "ipython2",
   "version": "2.7.6"
  }
 },
 "nbformat": 4,
 "nbformat_minor": 5
}
