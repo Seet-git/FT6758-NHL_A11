{
 "cells": [
  {
   "cell_type": "code",
   "id": "f29b40126329bf28",
   "metadata": {},
   "source": [
    "import pandas as pd\n",
    "\n",
    "from milestone3.ift6758.ift6758.client import *\n",
    "\n",
    "WANDB_PROJECT_NAME = \"IFT6758.2024-A11\"\n",
    "WANDB_TEAM_NAME = \"youry-macius-universite-de-montreal\"\n",
    "\n",
    "\n",
    "def main():\n",
    "    # Init\n",
    "    client = ServingClient(ip=\"127.0.0.1\", port=5000)\n",
    "\n",
    "    # Predictions\n",
    "    print(\"\\nTesting Predict\")\n",
    "    df = pd.DataFrame({\n",
    "        \"distance\": [10, 20, 30],\n",
    "        \"angle\": [45, 60, 90]\n",
    "    })\n",
    "\n",
    "    try:\n",
    "        predictions = client.predict(df)\n",
    "        print(\"Predictions:\")\n",
    "        print(predictions)\n",
    "    except Exception as e:\n",
    "        print(f\"Error prediction: {e}\")\n",
    "\n",
    "    # Logs\n",
    "    print(\"\\nTesting Logs\")\n",
    "    try:\n",
    "        logs = client.logs()\n",
    "        print(\"Logs:\", logs)\n",
    "    except Exception as e:\n",
    "        print(f\"Error logs: {e}\")\n",
    "\n",
    "    # Download model\n",
    "    print(\"\\n Testing download model\")\n",
    "    workspace = WANDB_PROJECT_NAME + \"/\" + WANDB_TEAM_NAME\n",
    "    model = \"LogisticRegression_Distance_Angle\"\n",
    "    version = \"latest\"\n",
    "\n",
    "    try:\n",
    "        result = client.download_registry_model(workspace=workspace, model=model, version=version)\n",
    "        print(\"Model Download Result:\")\n",
    "        print(result)\n",
    "    except Exception as e:\n",
    "        print(f\"Error downloading model: {e}\")\n",
    "\n",
    "\n",
    "if __name__ == \"__main__\":\n",
    "    main()\n"
   ],
   "outputs": [],
   "execution_count": null
  }
 ],
 "metadata": {
  "kernelspec": {
   "display_name": "Python 3 (ipykernel)",
   "language": "python",
   "name": "python3"
  },
  "language_info": {
   "codemirror_mode": {
    "name": "ipython",
    "version": 3
   },
   "file_extension": ".py",
   "mimetype": "text/x-python",
   "name": "python",
   "nbconvert_exporter": "python",
   "pygments_lexer": "ipython3",
   "version": "3.12.3"
  }
 },
 "nbformat": 4,
 "nbformat_minor": 5
}
