{
 "cells": [
  {
   "cell_type": "code",
   "execution_count": null,
   "id": "04fb01d7",
   "metadata": {},
   "outputs": [],
   "source": [
    "%load_ext autoreload\n",
    "%autoreload 2"
   ]
  },
  {
   "cell_type": "code",
   "execution_count": null,
   "id": "113c15ac4ff9edc2",
   "metadata": {},
   "outputs": [],
   "source": [
    "from src import *"
   ]
  },
  {
   "cell_type": "markdown",
   "id": "e6837297871fd4a",
   "metadata": {},
   "source": [
    "## 1. Data acquisition"
   ]
  },
  {
   "cell_type": "code",
   "execution_count": null,
   "id": "1992a3248f8fcabf",
   "metadata": {},
   "outputs": [],
   "source": [
    "# Get data from 2016 to 2020\n",
    "start_year = 2016\n",
    "end_year = 2022\n",
    "\n",
    "nhl_data_provider = get_data_from(start_year, end_year)"
   ]
  },
  {
   "cell_type": "code",
   "execution_count": null,
   "id": "3a622aa5573d8753",
   "metadata": {
    "scrolled": true
   },
   "outputs": [],
   "source": [
    "# Display the first 5 row of the regular season data for the 123rd game of the 2022 season\n",
    "nhl_data_provider.regular_season[2020][123]['plays'][0:5]"
   ]
  },
  {
   "cell_type": "markdown",
   "id": "5f126a50c2c6fb9d",
   "metadata": {},
   "source": [
    "## 2. Debugging tools"
   ]
  },
  {
   "cell_type": "code",
   "execution_count": null,
   "id": "d538722f9a4e318e",
   "metadata": {},
   "outputs": [],
   "source": [
    "#TODO Remplacer homeTeamDefendingSide\n",
    "season_list = [year for year in range(start_year, end_year + 1)]\n",
    "\n",
    "ipywidgets.interact(plot_nhl_data, nhl_data_provider=ipywidgets.fixed(nhl_data_provider),\n",
    "                    game_type=['regular', 'playoff'], season=season_list)"
   ]
  },
  {
   "cell_type": "markdown",
   "id": "ff84b323cd95cb2d",
   "metadata": {},
   "source": [
    "## 3. Data cleaning"
   ]
  },
  {
   "cell_type": "code",
   "execution_count": null,
   "id": "b5af87ac86f2cf98",
   "metadata": {},
   "outputs": [],
   "source": [
    "# TODO Changer distance et angle en fonction de zoneShoot\n",
    "# Clean the data\n",
    "clean_regular_season, clean_playoff = clean_data(nhl_data_provider)"
   ]
  },
  {
   "cell_type": "code",
   "execution_count": null,
   "id": "d3cdac1673772512",
   "metadata": {},
   "outputs": [],
   "source": [
    "# Display the first 5 rows of the cleaned regular season data for the 123rd game of the 2022 season\n",
    "clean_regular_season[2020][123].head()"
   ]
  },
  {
   "cell_type": "markdown",
   "id": "be1390ec3026b6a4",
   "metadata": {},
   "source": [
    "## 4. Data analysis"
   ]
  },
  {
   "cell_type": "markdown",
   "id": "1b9112e84c8373bd",
   "metadata": {},
   "source": [
    "## Get data for question 1"
   ]
  },
  {
   "cell_type": "code",
   "execution_count": null,
   "id": "1be7051ec048e3b0",
   "metadata": {},
   "outputs": [],
   "source": [
    "# Convert regular season and playoff data to dataframes\n",
    "df_data_2022 = convert_dictionaries_to_dataframes(clean_regular_season, clean_playoff, [2022])\n",
    "df_data_2022.head()"
   ]
  },
  {
   "cell_type": "markdown",
   "id": "3dce45c75548552a",
   "metadata": {},
   "source": [
    "## Correlation entre but et type de tir"
   ]
  },
  {
   "cell_type": "code",
   "execution_count": null,
   "id": "733a52e1ecad742f",
   "metadata": {},
   "outputs": [],
   "source": [
    "# Get the correlation between the goal and the type of shot\n",
    "q = get_correlations_2variables(df_data_2022, 'shotType', 'typeDescKey')\n",
    "q.head()"
   ]
  },
  {
   "cell_type": "markdown",
   "id": "e97a5a5651a896e1",
   "metadata": {},
   "source": [
    "## Plot q1"
   ]
  },
  {
   "cell_type": "code",
   "execution_count": null,
   "id": "7360469b44fbb0da",
   "metadata": {},
   "outputs": [],
   "source": [
    "# Plot the correlation between the goal and the type of shot\n",
    "plot_correlations_2variables(q, 'Total', 'goal')"
   ]
  },
  {
   "cell_type": "markdown",
   "id": "57d503eb110780b8",
   "metadata": {},
   "source": [
    "## Q1.A : Corrélation entre distance de tir, but, et saison"
   ]
  },
  {
   "cell_type": "code",
   "execution_count": null,
   "id": "9b301af67f333fde",
   "metadata": {},
   "outputs": [],
   "source": [
    "# Convert regular season and playoff data to dataframes for the 2018, 2019 and 2020 seasons\n",
    "df_data_2018_2020 = convert_dictionaries_to_dataframes(clean_regular_season,\n",
    "                                                       clean_playoff,\n",
    "                                                       [2018, 2019, 2020])\n",
    "\n",
    "df_data_2018_2020.head()"
   ]
  },
  {
   "cell_type": "code",
   "execution_count": null,
   "id": "f8067428f7c156b2",
   "metadata": {},
   "outputs": [],
   "source": [
    "q1a = df_data_2018_2020\n",
    "print(q1a['shotDistance'].describe())\n",
    "\n",
    "q1a['shotDistance_Group'] = q1a['shotDistance'].apply(lambda x: 'a.Under 7 ft.' if x < 7 else (\n",
    "    'b.7 - 14.9 ft.' if x < 15 else (\n",
    "        'c.15 - 29.9 ft.' if x < 30 else ('d.30 - 44.9 ft.' if x < 45 else 'e.Over 45 ft.'))))\n",
    "\n",
    "print(q1a['shotDistance_Group'].value_counts())"
   ]
  },
  {
   "cell_type": "code",
   "execution_count": null,
   "id": "aaa232045e979407",
   "metadata": {},
   "outputs": [],
   "source": [
    "# Correlation between goal, shot distance, and season\n",
    "q1a_r = get_correlations_3variables(q1a, 'shotDistance_Group', 'Year', 'typeDescKey', 'goal')\n",
    "q1a_r.head()"
   ]
  },
  {
   "cell_type": "markdown",
   "id": "5fc15d7ae8dc0eea",
   "metadata": {},
   "source": [
    "## Plot Question 1 (Q1)"
   ]
  },
  {
   "cell_type": "code",
   "execution_count": null,
   "id": "d591ef91da4d3bb8",
   "metadata": {},
   "outputs": [],
   "source": [
    "# q1a_r\",\n",
    "data_2018 = q1a_r[q1a_r.columns[q1a_r.columns.str.startswith(str(2018))]]\n",
    "\n",
    "# data_2018\n",
    "plot_graph_correlations(q1a_r, 'goal', q1a, 'Year')"
   ]
  },
  {
   "cell_type": "markdown",
   "id": "6432c9be060fec91",
   "metadata": {},
   "source": [
    "## Boxplot q1a"
   ]
  },
  {
   "cell_type": "code",
   "execution_count": null,
   "id": "d8c778a6c34a74a1",
   "metadata": {},
   "outputs": [],
   "source": [
    "q1a.reset_index(drop=True, inplace=True)\n",
    "\n",
    "plot_boxplot_correlations(q1a, 'Year', 'shotDistance', 'typeDescKey')"
   ]
  },
  {
   "cell_type": "markdown",
   "id": "d8d37d1357fd5388",
   "metadata": {},
   "source": [
    "## Q2 : Corrélation entre distance de tir, type de tir, et but"
   ]
  },
  {
   "cell_type": "code",
   "execution_count": null,
   "id": "66c109fbf7558784",
   "metadata": {},
   "outputs": [],
   "source": [
    "# shot types\n",
    "q1a['shotType'].unique()\n",
    "\n",
    "# Données pour 2020\n",
    "q2_2020 = q1a[q1a['Year'] == '2020']\n",
    "q2_2020.head()"
   ]
  },
  {
   "cell_type": "markdown",
   "id": "f5ee09c7486d5357",
   "metadata": {},
   "source": [
    "# Descriptive stat"
   ]
  },
  {
   "cell_type": "code",
   "execution_count": null,
   "id": "f7c01c8c75748a69",
   "metadata": {},
   "outputs": [],
   "source": [
    "# Descriptive statistics for the shot distance\n",
    "get_correlations_3variables(q2_2020, 'shotDistance_Group', 'shotType', 'typeDescKey', 'goal')"
   ]
  },
  {
   "cell_type": "markdown",
   "id": "23b0de52314589",
   "metadata": {},
   "source": [
    "# Boxplot q2"
   ]
  },
  {
   "cell_type": "code",
   "execution_count": null,
   "id": "1a53827a2b6c55b3",
   "metadata": {},
   "outputs": [],
   "source": [
    "# Boxplot for the correlation between the shot distance, the shot type, and the goal\n",
    "plot_boxplot_correlations(q2_2020, 'shotType', 'shotDistance', 'typeDescKey')"
   ]
  },
  {
   "cell_type": "markdown",
   "id": "7c9cbd05",
   "metadata": {},
   "source": [
    "# 5. Visualisation avancée"
   ]
  },
  {
   "cell_type": "code",
   "execution_count": null,
   "id": "78c288bc",
   "metadata": {},
   "outputs": [],
   "source": [
    "years = range(start_year, end_year + 1) # Années à analyser\n",
    "total_games_per_year = [len(clean_regular_season[year])+1 for year in years] # Nombre de parties pour chaque année\n",
    "\n",
    "all_team_shots_coords = {} # Dictionaire contenant les coordonnées de chaque tirs par équipes par saison\n",
    "for year in range(start_year, end_year+1):\n",
    "    all_team_shots_coords[year] = get_team_shots(clean_regular_season,year)"
   ]
  },
  {
   "cell_type": "markdown",
   "id": "36af9639",
   "metadata": {},
   "source": [
    "#### 1. Une rotation de 90 degrée ou de -90 degrées est effectuée sur les coordonnées selon l'emplacement de tireur ainsi que l'emplacement du gardien adverse. Une fois les coodrdonnées transformées, les tirs peuvent être affichés sur la zone offensive et la moitiée de la zone neutre."
   ]
  },
  {
   "cell_type": "code",
   "execution_count": null,
   "id": "d4ff4f59",
   "metadata": {
    "scrolled": false
   },
   "outputs": [],
   "source": [
    "# Example of shots mapping for the Ottawa Senators in 2018\n",
    "plot_team_shots(clean_regular_season, 2018, 'Senators')"
   ]
  },
  {
   "cell_type": "markdown",
   "id": "5be6655d",
   "metadata": {},
   "source": [
    "### 2. Calculer le taux de tir moyen par heure de la ligue par emplacement"
   ]
  },
  {
   "cell_type": "code",
   "execution_count": null,
   "id": "4cf33c05",
   "metadata": {},
   "outputs": [],
   "source": [
    "# Dictionnaire contenant le nombre de tirs par emplacement par partie pour chaque année\n",
    "df_avg_shots_dict = avg_shots_per_game_per_location(years, total_games_per_year)\n",
    "\n",
    "# Exemple d'accès avec l'année 2018\n",
    "df_avg_shots_2018 = df_avg_shots_dict[2018]\n",
    "df_avg_shots_2018.sort_values(by='Average Shots per Game', ascending=False).head(10)"
   ]
  },
  {
   "cell_type": "markdown",
   "id": "b75bb18f",
   "metadata": {},
   "source": [
    "##### Nous pouvons obeserver qu'il y a un surplus de tirs aux coordonnées (0,0). La majorité de ces tirs ne sont pas positionnés correctement dans l'API (données aberrantes). Lors de l'affichage des tirs sur les graphiques, nous allons ignorés les tirs à cette position."
   ]
  },
  {
   "cell_type": "code",
   "execution_count": null,
   "id": "d2d196a02e1c5fcc",
   "metadata": {
    "scrolled": false
   },
   "outputs": [],
   "source": [
    "heatmap(df_avg_shots_2018, bins=51)"
   ]
  },
  {
   "cell_type": "markdown",
   "id": "5b21ccb8",
   "metadata": {},
   "source": [
    "#### 3. Regrouper les tirs par équipe et utiliser les moyennes de ligue du taux de tir moyen par heure par heure pour calculer la différence du taux de tir par heure pour chaque équipe"
   ]
  },
  {
   "cell_type": "markdown",
   "id": "70489907",
   "metadata": {},
   "source": [
    "#### 4. Afficher les données sur la zone offensive à l'aide de lissage par noyau guaussien"
   ]
  },
  {
   "cell_type": "code",
   "execution_count": null,
   "id": "d7b23fad",
   "metadata": {},
   "outputs": [],
   "source": [
    "smooth_heatmap(df_avg_shots_2018, bandwidth=1.0, grid_size=150)"
   ]
  },
  {
   "cell_type": "markdown",
   "id": "1a68347c",
   "metadata": {},
   "source": [
    "#### 5 et 6. Graphique intéractif utilisant plotly. Un graphique pour chaque saison de 2016 à 2020."
   ]
  },
  {
   "cell_type": "code",
   "execution_count": null,
   "id": "736ce81d",
   "metadata": {
    "scrolled": false
   },
   "outputs": [],
   "source": [
    "interactive_smooth_heatmap(year=2016)"
   ]
  },
  {
   "cell_type": "code",
   "execution_count": null,
   "id": "0175f57f",
   "metadata": {},
   "outputs": [],
   "source": [
    "interactive_smooth_heatmap(year=2017)"
   ]
  },
  {
   "cell_type": "code",
   "execution_count": null,
   "id": "4af962b9",
   "metadata": {},
   "outputs": [],
   "source": [
    "interactive_smooth_heatmap(year=2018)"
   ]
  },
  {
   "cell_type": "code",
   "execution_count": null,
   "id": "96ebea6b",
   "metadata": {},
   "outputs": [],
   "source": [
    "interactive_smooth_heatmap(year=2019)"
   ]
  },
  {
   "cell_type": "code",
   "execution_count": null,
   "id": "f2ebe99e",
   "metadata": {},
   "outputs": [],
   "source": [
    "interactive_smooth_heatmap(year=2020)"
   ]
  }
 ],
 "metadata": {
  "kernelspec": {
   "display_name": "Python 3.9",
   "language": "python",
   "name": "python3.9"
  },
  "language_info": {
   "codemirror_mode": {
    "name": "ipython",
    "version": 3
   },
   "file_extension": ".py",
   "mimetype": "text/x-python",
   "name": "python",
   "nbconvert_exporter": "python",
   "pygments_lexer": "ipython3",
   "version": "3.9.20"
  }
 },
 "nbformat": 4,
 "nbformat_minor": 5
}
