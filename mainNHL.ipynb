{
 "cells": [
  {
   "cell_type": "code",
   "id": "113c15ac4ff9edc2",
   "metadata": {},
   "source": [
    "from src import *"
   ],
   "outputs": [],
   "execution_count": null
  },
  {
   "cell_type": "markdown",
   "id": "e6837297871fd4a",
   "metadata": {},
   "source": [
    "## 1. Data acquisition"
   ]
  },
  {
   "cell_type": "code",
   "id": "1992a3248f8fcabf",
   "metadata": {},
   "source": [
    "# Get data from 2022 to 2023\n",
    "start_year = 2018\n",
    "end_year = 2020\n",
    "\n",
    "nhl_data_provider = get_data_from(start_year, end_year)"
   ],
   "outputs": [],
   "execution_count": null
  },
  {
   "cell_type": "code",
   "id": "3a622aa5573d8753",
   "metadata": {},
   "source": [
    "# Display the first 5 row of the regular season data for the 123rd game of the 2022 season\n",
    "nhl_data_provider.regular_season[2020][123]['plays'][0:5]"
   ],
   "outputs": [],
   "execution_count": null
  },
  {
   "cell_type": "markdown",
   "id": "5f126a50c2c6fb9d",
   "metadata": {},
   "source": [
    "## 2. Debugging tools"
   ]
  },
  {
   "cell_type": "code",
   "id": "d538722f9a4e318e",
   "metadata": {},
   "source": [
    "season_list = [year for year in range(start_year, end_year+1)]\n",
    "\n",
    "ipywidgets.interact(plot_nhl_data, nhl_data_provider = ipywidgets.fixed(nhl_data_provider), game_type=['regular', 'playoff'], season=season_list)"
   ],
   "outputs": [],
   "execution_count": null
  },
  {
   "cell_type": "markdown",
   "id": "ff84b323cd95cb2d",
   "metadata": {},
   "source": [
    "## 3. Data cleaning"
   ]
  },
  {
   "cell_type": "code",
   "id": "b5af87ac86f2cf98",
   "metadata": {},
   "source": [
    "# Clean the data\n",
    "clean_regular_season, clean_playoff = clean_data(nhl_data_provider)"
   ],
   "outputs": [],
   "execution_count": null
  },
  {
   "cell_type": "code",
   "id": "d3cdac1673772512",
   "metadata": {},
   "source": [
    "# Display the first 5 rows of the cleaned regular season data for the 123rd game of the 2022 season\n",
    "clean_regular_season[2020][123].head()"
   ],
   "outputs": [],
   "execution_count": null
  },
  {
   "cell_type": "markdown",
   "id": "be1390ec3026b6a4",
   "metadata": {},
   "source": [
    "## 4. Data analysis"
   ]
  },
  {
   "cell_type": "code",
   "id": "1be7051ec048e3b0",
   "metadata": {},
   "source": [
    "# VISUALISATIONS SIMPLES\n",
    "# TODO YOURY: CALL THE FUNCTION HERE"
   ],
   "outputs": [],
   "execution_count": null
  },
  {
   "cell_type": "code",
   "id": "d2d196a02e1c5fcc",
   "metadata": {},
   "source": [
    "#VISUALISATIONS AVANCÉES\n",
    "# Plot the shots of the Senators in the 2022 regular season\n",
    "year = 2020\n",
    "team_name = 'Senators'\n",
    "plot_team_shots(clean_regular_season, year, team_name)"
   ],
   "outputs": [],
   "execution_count": null
  },
  {
   "metadata": {},
   "cell_type": "code",
   "source": "",
   "id": "8fa0a5cb320c594",
   "outputs": [],
   "execution_count": null
  }
 ],
 "metadata": {
  "kernelspec": {
   "display_name": "Python 3 (ipykernel)",
   "language": "python",
   "name": "python3"
  },
  "language_info": {
   "codemirror_mode": {
    "name": "ipython",
    "version": 3
   },
   "file_extension": ".py",
   "mimetype": "text/x-python",
   "name": "python",
   "nbconvert_exporter": "python",
   "pygments_lexer": "ipython3",
   "version": "3.9.13"
  }
 },
 "nbformat": 4,
 "nbformat_minor": 5
}
