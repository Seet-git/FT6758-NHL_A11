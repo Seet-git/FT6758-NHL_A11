{
 "cells": [
  {
   "metadata": {},
   "cell_type": "code",
   "source": "from src import *",
   "id": "113c15ac4ff9edc2",
   "outputs": [],
   "execution_count": null
  },
  {
   "metadata": {},
   "cell_type": "markdown",
   "source": "## 1. Data acquisition",
   "id": "e6837297871fd4a"
  },
  {
   "metadata": {},
   "cell_type": "code",
   "source": [
    "# Get data from 2022 to 2023\n",
    "data_2022_2023 = get_data_from(2022, 2023)"
   ],
   "id": "1992a3248f8fcabf",
   "outputs": [],
   "execution_count": null
  },
  {
   "metadata": {},
   "cell_type": "code",
   "source": [
    "# Display the first 5 row of the regular season data for the 123rd game of the 2022 season\n",
    "data_2022_2023.regular_season[2022][123]['plays'][0:5] "
   ],
   "id": "3a622aa5573d8753",
   "outputs": [],
   "execution_count": null
  },
  {
   "metadata": {},
   "cell_type": "markdown",
   "source": "## 2. Debugging tools",
   "id": "5f126a50c2c6fb9d"
  },
  {
   "metadata": {},
   "cell_type": "code",
   "source": [
    "# TODO FRANCK: CALL THE FUNCTION HERE --> BELOW\n",
    "#plot_nhl_data(data_2022_2023)"
   ],
   "id": "d538722f9a4e318e",
   "outputs": [],
   "execution_count": null
  },
  {
   "metadata": {},
   "cell_type": "markdown",
   "source": "## 3. Data cleaning",
   "id": "ff84b323cd95cb2d"
  },
  {
   "metadata": {},
   "cell_type": "code",
   "source": [
    "# Clean the data\n",
    "clean_regular_season, clean_playoff = clean_data(data_2022_2023)"
   ],
   "id": "b5af87ac86f2cf98",
   "outputs": [],
   "execution_count": null
  },
  {
   "metadata": {},
   "cell_type": "code",
   "source": [
    "# Display the first 5 rows of the cleaned regular season data for the 123rd game of the 2022 season\n",
    "clean_regular_season[2022][123].head()"
   ],
   "id": "d3cdac1673772512",
   "outputs": [],
   "execution_count": null
  },
  {
   "metadata": {},
   "cell_type": "markdown",
   "source": "## 4. Data analysis",
   "id": "be1390ec3026b6a4"
  },
  {
   "metadata": {},
   "cell_type": "code",
   "source": [
    "# VISUALISATIONS SIMPLES\n",
    "# TODO YOURY: CALL THE FUNCTION HERE"
   ],
   "id": "1be7051ec048e3b0",
   "outputs": [],
   "execution_count": null
  },
  {
   "metadata": {},
   "cell_type": "code",
   "source": [
    "#VISUALISATIONS AVANCÉES\n",
    "# Plot the shots of the Senators in the 2022 regular season\n",
    "year = 2022\n",
    "team_name = 'Senators'\n",
    "plot_team_shots(clean_regular_season, year, team_name)"
   ],
   "id": "d2d196a02e1c5fcc",
   "outputs": [],
   "execution_count": null
  }
 ],
 "metadata": {
  "kernelspec": {
   "display_name": "Python 3",
   "language": "python",
   "name": "python3"
  },
  "language_info": {
   "codemirror_mode": {
    "name": "ipython",
    "version": 2
   },
   "file_extension": ".py",
   "mimetype": "text/x-python",
   "name": "python",
   "nbconvert_exporter": "python",
   "pygments_lexer": "ipython2",
   "version": "2.7.6"
  }
 },
 "nbformat": 4,
 "nbformat_minor": 5
}
