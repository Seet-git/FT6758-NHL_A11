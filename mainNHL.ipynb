{
 "cells": [
  {
   "metadata": {},
   "cell_type": "markdown",
   "source": [
    "# Milestone 1\n",
    "\n",
    "**Comprendre les données et les outils de base pour l'analyse de données :**\n",
    "\n",
    "- Data acquisition\n",
    "- Debugging tools\n",
    "- Cleaning data\n",
    "- Visualisations simples\n",
    "- Visualisations avancées\n"
   ],
   "id": "afe7458940dc541c"
  },
  {
   "cell_type": "code",
   "id": "04fb01d7",
   "metadata": {},
   "source": [
    "%load_ext autoreload\n",
    "%autoreload 2"
   ],
   "outputs": [],
   "execution_count": null
  },
  {
   "cell_type": "code",
   "id": "113c15ac4ff9edc2",
   "metadata": {},
   "source": [
    "from src import *"
   ],
   "outputs": [],
   "execution_count": null
  },
  {
   "cell_type": "markdown",
   "id": "e6837297871fd4a",
   "metadata": {},
   "source": [
    "\n",
    "# 1 - Data acquisition\n",
    "---"
   ]
  },
  {
   "cell_type": "code",
   "id": "1992a3248f8fcabf",
   "metadata": {},
   "source": [
    "# Define the start and end years for the data acquisition\n",
    "start_year = 2016\n",
    "end_year = 2022\n",
    "\n",
    "# Get the data from the NHL API\n",
    "nhl_data_provider = get_data_from(start_year, end_year)"
   ],
   "outputs": [],
   "execution_count": null
  },
  {
   "cell_type": "code",
   "id": "3a622aa5573d8753",
   "metadata": {
    "scrolled": true
   },
   "source": [
    "# Display the first 5 rows of the regular season data for the 123rd game of the 2022 season\n",
    "pprint.pprint(nhl_data_provider.regular_season[2020][123]['plays'][0:5])"
   ],
   "outputs": [],
   "execution_count": null
  },
  {
   "cell_type": "markdown",
   "id": "5f126a50c2c6fb9d",
   "metadata": {},
   "source": [
    "\n",
    "# 2 - Debugging tools\n",
    "---"
   ]
  },
  {
   "cell_type": "code",
   "id": "d538722f9a4e318e",
   "metadata": {},
   "source": [
    "# List of seasons\n",
    "season_list = np.arange(start_year, end_year + 1).tolist()\n",
    "\n",
    "# \n",
    "ipywidgets.interact(plot_nhl_data, nhl_data_provider=ipywidgets.fixed(nhl_data_provider),\n",
    "                    game_type=['regular', 'playoff'], season=season_list)"
   ],
   "outputs": [],
   "execution_count": null
  },
  {
   "cell_type": "markdown",
   "id": "ff84b323cd95cb2d",
   "metadata": {},
   "source": [
    "# 3 - Data cleaning\n",
    "---"
   ]
  },
  {
   "metadata": {},
   "cell_type": "code",
   "source": [
    "# Clean the data\n",
    "clean_regular_season, clean_playoff = clean_data(nhl_data_provider)"
   ],
   "id": "b5af87ac86f2cf98",
   "outputs": [],
   "execution_count": null
  },
  {
   "cell_type": "code",
   "id": "d3cdac1673772512",
   "metadata": {},
   "source": [
    "# Display the first 5 rows of the cleaned regular season data for the 123rd game of the 2022 season\n",
    "clean_regular_season[2020][123].head()"
   ],
   "outputs": [],
   "execution_count": null
  },
  {
   "metadata": {},
   "cell_type": "markdown",
   "source": [
    "\n",
    "# 4 - Visualisations simples\n",
    "---"
   ],
   "id": "bc9c84fe16a28368"
  },
  {
   "metadata": {},
   "cell_type": "markdown",
   "source": "## Introduction",
   "id": "e4ea05127dbca641"
  },
  {
   "cell_type": "code",
   "id": "1be7051ec048e3b0",
   "metadata": {},
   "source": [
    "# Convert regular season and playoff data to dataframes for the 2018, 2019 and 2020 seasons\n",
    "df_2018_to_2020 = convert_dictionaries_to_dataframes(clean_regular_season,\n",
    "                                                     clean_playoff,\n",
    "                                                     [2018, 2019, 2020])\n",
    "\n",
    "# Add a column to categorize the shot distance (Under 7 ft., 7-14.9 ft., 15-29.9 ft., 30-44.9 ft., Over 45 ft.)\n",
    "df_2018_to_2020['GroupShotDistance'] = df_2018_to_2020['shotDistance'].apply(lambda x: 'a.Under 7 ft.' if x < 7 else (\n",
    "    'b.7 - 14.9 ft.' if x < 15 else (\n",
    "        'c.15 - 29.9 ft.' if x < 30 else ('d.30 - 44.9 ft.' if x < 45 else 'e.Over 45 ft.'))))\n",
    "\n",
    "# Get the data for the season (2018, 2019, 2020)\n",
    "df_2018 = df_2018_to_2020[df_2018_to_2020['Year'] == \"2018\"].reset_index()\n",
    "df_2019 = df_2018_to_2020[df_2018_to_2020['Year'] == \"2019\"].reset_index()\n",
    "df_2020 = df_2018_to_2020[df_2018_to_2020['Year'] == \"2020\"].reset_index()\n",
    "\n",
    "\n",
    "df_2018_to_2020.head()"
   ],
   "outputs": [],
   "execution_count": null
  },
  {
   "metadata": {},
   "cell_type": "markdown",
   "source": "### Quel tir semble être le plus dangereux ? Le plus fréquent ?",
   "id": "3dce45c75548552a"
  },
  {
   "metadata": {},
   "cell_type": "markdown",
   "source": [
    "**Première observation sur l'année 2022** :\n",
    "- Le tir le plus dangereux devrait le cradle (50% de buts) et le bat (25.59% de buts).\n",
    "- Le tir le plus frequent est le tip-in (N=5726)."
   ],
   "id": "aac42b18e94f039b"
  },
  {
   "cell_type": "code",
   "id": "733a52e1ecad742f",
   "metadata": {},
   "source": [
    "# Get the correlation between the goal and the type of shot\n",
    "df_2022 = convert_dictionaries_to_dataframes(clean_regular_season, clean_playoff, [2022])\n",
    "corr_2022 = get_correlations_2variables(df_2022, 'shotType', 'typeDescKey')\n",
    "corr_2022.head()"
   ],
   "outputs": [],
   "execution_count": null
  },
  {
   "metadata": {},
   "cell_type": "markdown",
   "source": [
    "## Q1 - Corrélation entre la distance de tir et la réussite du but.\n",
    "\n",
    "### Observations des années 2018, 2019 et 2020"
   ],
   "id": "ebd6258905fb24c9"
  },
  {
   "metadata": {},
   "cell_type": "markdown",
   "source": "### Saison 2018",
   "id": "89fcf3c39d83ab13"
  },
  {
   "cell_type": "code",
   "id": "7360469b44fbb0da",
   "metadata": {},
   "source": [
    "# Plot the correlation between the goal and the type of shot\n",
    "corr_2018 = get_correlations_2variables(df_2018, 'shotType', 'typeDescKey')\n",
    "\n",
    "# Plot the correlation between the goal and the type of shot\n",
    "plot_correlations_2variables(corr_2018, 'Total', 'goal')"
   ],
   "outputs": [],
   "execution_count": null
  },
  {
   "metadata": {},
   "cell_type": "markdown",
   "source": "### Saison 2019",
   "id": "9e9f76e2442922c8"
  },
  {
   "metadata": {},
   "cell_type": "code",
   "source": [
    "# Get the correlation between the goal and the type of shot\n",
    "corr_2019 = get_correlations_2variables(df_2019, 'shotType', 'typeDescKey')\n",
    "\n",
    "# Plot the correlation between the goal and the type of shot\n",
    "plot_correlations_2variables(corr_2019, 'Total', 'goal')"
   ],
   "id": "9deee6ee6b24eac3",
   "outputs": [],
   "execution_count": null
  },
  {
   "metadata": {},
   "cell_type": "markdown",
   "source": "### Saison 2020",
   "id": "ec9ae33fe1c8bbdc"
  },
  {
   "metadata": {},
   "cell_type": "code",
   "source": [
    "# Get the correlation between the goal and the type of shot\n",
    "corr_2020 = get_correlations_2variables(df_2020, 'shotType', 'typeDescKey')\n",
    "\n",
    "# Plot the correlation between the goal and the type of shot\n",
    "plot_correlations_2variables(corr_2020, 'Total', 'goal')"
   ],
   "id": "56274bdfdf2180df",
   "outputs": [],
   "execution_count": null
  },
  {
   "metadata": {},
   "cell_type": "markdown",
   "source": "### Observations au fil des années",
   "id": "22c3dcee35f399e6"
  },
  {
   "cell_type": "code",
   "id": "aaa232045e979407",
   "metadata": {},
   "source": [
    "# Correlation between 3 variables: goal, shot distance, and season (2018 to 2020)\n",
    "corr_2018_to_2020 = get_correlations_3variables(df_2018_to_2020, 'GroupShotDistance', 'Year', 'typeDescKey', 'goal')\n",
    "corr_2018_to_2020.head()"
   ],
   "outputs": [],
   "execution_count": null
  },
  {
   "metadata": {},
   "cell_type": "markdown",
   "source": "### Courbe d'évolution",
   "id": "5b8fe7072405f627"
  },
  {
   "cell_type": "code",
   "id": "d591ef91da4d3bb8",
   "metadata": {},
   "source": "plot_graph_correlations(corr_2018_to_2020, 'goal', df_2018_to_2020, 'Year')",
   "outputs": [],
   "execution_count": null
  },
  {
   "cell_type": "markdown",
   "id": "6432c9be060fec91",
   "metadata": {},
   "source": "### Boxplot"
  },
  {
   "metadata": {},
   "cell_type": "code",
   "source": [
    "df_2018_to_2020.drop(\"GroupShotDistance\", axis=1, inplace=True)\n",
    "df_2018_to_2020.reset_index(drop=True, inplace=True)\n",
    "plot_boxplot_correlations(df_2018_to_2020, 'Year', 'shotDistance', 'typeDescKey')"
   ],
   "id": "d8c778a6c34a74a1",
   "outputs": [],
   "execution_count": null
  },
  {
   "cell_type": "markdown",
   "id": "d8d37d1357fd5388",
   "metadata": {},
   "source": "## Q2 - Analyse plus approfondie de la correlation sur l'année 2020."
  },
  {
   "cell_type": "markdown",
   "id": "f5ee09c7486d5357",
   "metadata": {},
   "source": "### Statistiques descriptives pour la distance de tir"
  },
  {
   "cell_type": "code",
   "id": "f7c01c8c75748a69",
   "metadata": {},
   "source": "corr_2020 = get_correlations_3variables(df_2020, 'GroupShotDistance', 'shotType', 'typeDescKey', 'goal')",
   "outputs": [],
   "execution_count": null
  },
  {
   "metadata": {},
   "cell_type": "markdown",
   "source": "### Graphique à barres",
   "id": "7196faa55e2b044a"
  },
  {
   "metadata": {},
   "cell_type": "code",
   "source": "plot_graph_correlations(q=corr_2020, modality='goal', df=df_2020, column='shotType')",
   "id": "b935ea140f30d587",
   "outputs": [],
   "execution_count": null
  },
  {
   "cell_type": "markdown",
   "id": "23b0de52314589",
   "metadata": {},
   "source": "### Boxplot"
  },
  {
   "cell_type": "code",
   "id": "1a53827a2b6c55b3",
   "metadata": {},
   "source": "plot_boxplot_correlations(df_2020, 'shotType', 'shotDistance', 'typeDescKey')",
   "outputs": [],
   "execution_count": null
  },
  {
   "cell_type": "markdown",
   "id": "7c9cbd05",
   "metadata": {},
   "source": [
    "# 5. Visualisation avancée\n",
    "---\n"
   ]
  },
  {
   "cell_type": "code",
   "id": "78c288bc",
   "metadata": {},
   "source": [
    "years = range(start_year, end_year + 1)  # Années à analyser\n",
    "total_games_per_year = [len(clean_regular_season[year]) + 1 for year in years]  # Nombre de parties pour chaque année\n",
    "\n",
    "all_team_shots_coords = {}  # Dictionnaire contenant les coordonnées de chaque tir par équipes par saison\n",
    "for year in range(start_year, end_year + 1):\n",
    "    all_team_shots_coords[year] = get_team_shots(clean_regular_season, clean_playoff,year)"
   ],
   "outputs": [],
   "execution_count": null
  },
  {
   "cell_type": "code",
   "id": "d4ff4f59",
   "metadata": {
    "scrolled": false
   },
   "source": [
    "# Example of shots mapping for the Ottawa Senators in 2018\n",
    "plot_team_shots(clean_regular_season, 2018, 'Senators')"
   ],
   "outputs": [],
   "execution_count": null
  },
  {
   "cell_type": "markdown",
   "id": "5be6655d",
   "metadata": {},
   "source": [
    "### 2. Calculer le taux de tir moyen par heure de la ligue par emplacement"
   ]
  },
  {
   "cell_type": "code",
   "id": "4cf33c05",
   "metadata": {},
   "source": [
    "# Dictionnaire contenant le nombre de tirs par emplacement par partie pour chaque année\n",
    "df_avg_shots_dict = avg_shots_per_game_per_location(years, total_games_per_year)\n",
    "\n",
    "# Exemple d'accès avec l'année 2018\n",
    "df_avg_shots_2018 = df_avg_shots_dict[2018]\n",
    "df_avg_shots_2018.sort_values(by='Average Shots per Game', ascending=False).head(10)"
   ],
   "outputs": [],
   "execution_count": null
  },
  {
   "cell_type": "code",
   "id": "d2d196a02e1c5fcc",
   "metadata": {
    "scrolled": false
   },
   "source": [
    "heatmap(df_avg_shots_2018, bins=51)"
   ],
   "outputs": [],
   "execution_count": null
  },
  {
   "metadata": {},
   "cell_type": "code",
   "source": [
    "# preparation 2016-2017 pour avoir 2016-2020\n",
    "df_data_2016_2017 = convert_dictionaries_to_dataframes(clean_regular_season, clean_playoff, [2016, 2017])\n",
    "# 2016-2020\n",
    "df_data_2016_2020 = pd.concat([df_data_2016_2017, df_2018_to_2020], axis=0, ignore_index=True)\n",
    "# df_data_2016_2020\n",
    "\n",
    "df = df_data_2016_2020\n",
    "df.insert(0, 'idPlay', range(1, len(df) + 1))"
   ],
   "id": "297519986b479caf",
   "outputs": [],
   "execution_count": null
  },
  {
   "metadata": {},
   "cell_type": "markdown",
   "source": "### Taux de tir moyen par heure dans la ligue : 2016-2020",
   "id": "7408df528590aa9a"
  },
  {
   "metadata": {},
   "cell_type": "code",
   "source": [
    "mean_shots_game_ligue = mean_shots_game_ligue(df, 'Year', 'idGame', 'idPlay')\n",
    "mean_shots_game_ligue.head()"
   ],
   "id": "da406379b3ffb0b2",
   "outputs": [],
   "execution_count": null
  },
  {
   "metadata": {},
   "cell_type": "markdown",
   "source": "### Difference taux tir moyen des équipes par rapport à la ligue",
   "id": "1fe21e2d530909fc"
  },
  {
   "metadata": {},
   "cell_type": "code",
   "source": "mean_df = mean_shots_game_team(df, 2017, 'eventOwnerTeam', 'idGame', 'idPlay', mean_shots_game_ligue)",
   "id": "5ccf6cde02eb75b3",
   "outputs": [],
   "execution_count": null
  },
  {
   "metadata": {},
   "cell_type": "markdown",
   "source": "#### Lissage avec KDE par noyau gaussien",
   "id": "ac3097459db91988"
  },
  {
   "metadata": {},
   "cell_type": "code",
   "source": "estimation_kde_noyau_gaussien(2017, mean_df)",
   "id": "9e325610b006f6d1",
   "outputs": [],
   "execution_count": null
  },
  {
   "cell_type": "markdown",
   "id": "70489907",
   "metadata": {},
   "source": "#### 4. Afficher les données sur la zone offensive à l'aide de lissage par noyau gaussien"
  },
  {
   "cell_type": "code",
   "id": "d7b23fad",
   "metadata": {},
   "source": "smooth_heatmap(df_avg_shots_2018, bandwidth=1.0, grid_size=150)",
   "outputs": [],
   "execution_count": null
  },
  {
   "cell_type": "markdown",
   "id": "1a68347c",
   "metadata": {},
   "source": [
    "#### 5 et 6. Graphique intéractif utilisant plotly. Un graphique pour chaque saison de 2016 à 2020."
   ]
  },
  {
   "cell_type": "code",
   "id": "736ce81d",
   "metadata": {
    "scrolled": false
   },
   "source": [
    "interactive_smooth_heatmap(year=2016)"
   ],
   "outputs": [],
   "execution_count": null
  },
  {
   "cell_type": "code",
   "id": "0175f57f",
   "metadata": {},
   "source": [
    "interactive_smooth_heatmap(year=2017)"
   ],
   "outputs": [],
   "execution_count": null
  },
  {
   "cell_type": "code",
   "id": "4af962b9",
   "metadata": {},
   "source": [
    "interactive_smooth_heatmap(year=2018)"
   ],
   "outputs": [],
   "execution_count": null
  },
  {
   "cell_type": "code",
   "id": "96ebea6b",
   "metadata": {},
   "source": [
    "interactive_smooth_heatmap(year=2019)"
   ],
   "outputs": [],
   "execution_count": null
  },
  {
   "cell_type": "code",
   "id": "f2ebe99e",
   "metadata": {},
   "source": [
    "interactive_smooth_heatmap(year=2020)"
   ],
   "outputs": [],
   "execution_count": null
  }
 ],
 "metadata": {
  "kernelspec": {
   "display_name": "Python 3 (ipykernel)",
   "language": "python",
   "name": "python3"
  },
  "language_info": {
   "codemirror_mode": {
    "name": "ipython",
    "version": 3
   },
   "file_extension": ".py",
   "mimetype": "text/x-python",
   "name": "python",
   "nbconvert_exporter": "python",
   "pygments_lexer": "ipython3",
   "version": "3.9.20"
  }
 },
 "nbformat": 4,
 "nbformat_minor": 5
}
