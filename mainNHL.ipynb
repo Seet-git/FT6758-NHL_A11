{
 "cells": [
  {
   "cell_type": "code",
   "id": "113c15ac4ff9edc2",
   "metadata": {},
   "source": [
    "from src import *"
   ],
   "outputs": [],
   "execution_count": null
  },
  {
   "cell_type": "markdown",
   "id": "e6837297871fd4a",
   "metadata": {},
   "source": [
    "## 1. Data acquisition"
   ]
  },
  {
   "cell_type": "code",
   "id": "1992a3248f8fcabf",
   "metadata": {},
   "source": [
    "# Get data from 2022 to 2023\n",
    "start_year = 2018\n",
    "end_year = 2022\n",
    "\n",
    "nhl_data_provider = get_data_from(start_year, end_year)"
   ],
   "outputs": [],
   "execution_count": null
  },
  {
   "cell_type": "code",
   "id": "3a622aa5573d8753",
   "metadata": {},
   "source": [
    "# Display the first 5 row of the regular season data for the 123rd game of the 2022 season\n",
    "nhl_data_provider.regular_season[2020][123]['plays'][0:5]"
   ],
   "outputs": [],
   "execution_count": null
  },
  {
   "cell_type": "markdown",
   "id": "5f126a50c2c6fb9d",
   "metadata": {},
   "source": [
    "## 2. Debugging tools"
   ]
  },
  {
   "cell_type": "code",
   "id": "d538722f9a4e318e",
   "metadata": {},
   "source": [
    "#TODO Remplacer homeTeamDefendingSide\n",
    "season_list = [year for year in range(start_year, end_year + 1)]\n",
    "\n",
    "ipywidgets.interact(plot_nhl_data, nhl_data_provider=ipywidgets.fixed(nhl_data_provider),\n",
    "                    game_type=['regular', 'playoff'], season=season_list)"
   ],
   "outputs": [],
   "execution_count": null
  },
  {
   "cell_type": "markdown",
   "id": "ff84b323cd95cb2d",
   "metadata": {},
   "source": [
    "## 3. Data cleaning"
   ]
  },
  {
   "cell_type": "code",
   "id": "b5af87ac86f2cf98",
   "metadata": {},
   "source": [
    "# TODO Changer distance et angle en fonction de zoneShoot\n",
    "# Clean the data\n",
    "clean_regular_season, clean_playoff = clean_data(nhl_data_provider)"
   ],
   "outputs": [],
   "execution_count": null
  },
  {
   "cell_type": "code",
   "id": "d3cdac1673772512",
   "metadata": {},
   "source": [
    "# Display the first 5 rows of the cleaned regular season data for the 123rd game of the 2022 season\n",
    "clean_regular_season[2020][123].head()"
   ],
   "outputs": [],
   "execution_count": null
  },
  {
   "cell_type": "markdown",
   "id": "be1390ec3026b6a4",
   "metadata": {},
   "source": "## 4. Data analysis"
  },
  {
   "metadata": {},
   "cell_type": "markdown",
   "source": "## Get data for question 1",
   "id": "1b9112e84c8373bd"
  },
  {
   "cell_type": "code",
   "id": "1be7051ec048e3b0",
   "metadata": {},
   "source": [
    "# Convert regular season and playoff data to dataframes\n",
    "df_data_2022 = convert_dictionaries_to_dataframes(clean_regular_season, clean_playoff, [2022])\n",
    "df_data_2022.head()"
   ],
   "outputs": [],
   "execution_count": null
  },
  {
   "metadata": {},
   "cell_type": "markdown",
   "source": "## Correlation entre but et type de tir",
   "id": "3dce45c75548552a"
  },
  {
   "metadata": {},
   "cell_type": "code",
   "source": [
    "# Get the correlation between the goal and the type of shot\n",
    "q = get_correlations_2variables(df_data_2022, 'shotType', 'typeDescKey')\n",
    "q.head()"
   ],
   "id": "733a52e1ecad742f",
   "outputs": [],
   "execution_count": null
  },
  {
   "metadata": {},
   "cell_type": "markdown",
   "source": "## Plot q1",
   "id": "e97a5a5651a896e1"
  },
  {
   "metadata": {},
   "cell_type": "code",
   "source": [
    "# Plot the correlation between the goal and the type of shot\n",
    "plot_correlations_2variables(q, 'Total', 'goal')"
   ],
   "id": "7360469b44fbb0da",
   "outputs": [],
   "execution_count": null
  },
  {
   "metadata": {},
   "cell_type": "markdown",
   "source": "## Q1.A : Corrélation entre distance de tir, but, et saison",
   "id": "57d503eb110780b8"
  },
  {
   "metadata": {},
   "cell_type": "code",
   "source": [
    "# Convert regular season and playoff data to dataframes for the 2018, 2019 and 2020 seasons\n",
    "df_data_2018_2020 = convert_dictionaries_to_dataframes(clean_regular_season,\n",
    "                                                       clean_playoff,\n",
    "                                                       [2018, 2019, 2020])\n",
    "\n",
    "df_data_2018_2020.head()"
   ],
   "id": "9b301af67f333fde",
   "outputs": [],
   "execution_count": null
  },
  {
   "metadata": {},
   "cell_type": "code",
   "source": [
    "q1a = df_data_2018_2020\n",
    "print(q1a['shotDistance'].describe())\n",
    "\n",
    "q1a['shotDistance_Group'] = q1a['shotDistance'].apply(lambda x: 'a.Under 7 ft.' if x < 7 else (\n",
    "    'b.7 - 14.9 ft.' if x < 15 else (\n",
    "        'c.15 - 29.9 ft.' if x < 30 else ('d.30 - 44.9 ft.' if x < 45 else 'e.Over 45 ft.'))))\n",
    "\n",
    "print(q1a['shotDistance_Group'].value_counts())"
   ],
   "id": "f8067428f7c156b2",
   "outputs": [],
   "execution_count": null
  },
  {
   "metadata": {},
   "cell_type": "code",
   "source": [
    "# Correlation between goal, shot distance, and season\n",
    "q1a_r = get_correlations_3variables(q1a, 'shotDistance_Group', 'Year', 'typeDescKey', 'goal')\n",
    "q1a_r.head()"
   ],
   "id": "aaa232045e979407",
   "outputs": [],
   "execution_count": null
  },
  {
   "metadata": {},
   "cell_type": "markdown",
   "source": "## Plot Question 1 (Q1)",
   "id": "5fc15d7ae8dc0eea"
  },
  {
   "metadata": {},
   "cell_type": "code",
   "source": [
    "# q1a_r\",\n",
    "data_2018 = q1a_r[q1a_r.columns[q1a_r.columns.str.startswith(str(2018))]]\n",
    "\n",
    "# data_2018\n",
    "plot_graph_correlations(q1a_r, 'goal', q1a, 'Year')"
   ],
   "id": "d591ef91da4d3bb8",
   "outputs": [],
   "execution_count": null
  },
  {
   "metadata": {},
   "cell_type": "markdown",
   "source": "## Boxplot q1a",
   "id": "6432c9be060fec91"
  },
  {
   "metadata": {},
   "cell_type": "code",
   "source": [
    "q1a.reset_index(drop=True, inplace=True)\n",
    "\n",
    "plot_boxplot_correlations(q1a, 'Year', 'shotDistance', 'typeDescKey')"
   ],
   "id": "d8c778a6c34a74a1",
   "outputs": [],
   "execution_count": null
  },
  {
   "metadata": {},
   "cell_type": "markdown",
   "source": "## Q2 : Corrélation entre distance de tir, type de tir, et but",
   "id": "d8d37d1357fd5388"
  },
  {
   "metadata": {},
   "cell_type": "code",
   "source": [
    "# shot types\n",
    "q1a['shotType'].unique()\n",
    "\n",
    "# Données pour 2020\n",
    "q2_2020 = q1a[q1a['Year'] == '2020']\n",
    "q2_2020.head()"
   ],
   "id": "66c109fbf7558784",
   "outputs": [],
   "execution_count": null
  },
  {
   "metadata": {},
   "cell_type": "markdown",
   "source": "# Descriptive stat",
   "id": "f5ee09c7486d5357"
  },
  {
   "metadata": {},
   "cell_type": "code",
   "source": [
    "# Descriptive statistics for the shot distance\n",
    "get_correlations_3variables(q2_2020, 'shotDistance_Group', 'shotType', 'typeDescKey', 'goal')"
   ],
   "id": "f7c01c8c75748a69",
   "outputs": [],
   "execution_count": null
  },
  {
   "metadata": {},
   "cell_type": "markdown",
   "source": "# Boxplot q2",
   "id": "23b0de52314589"
  },
  {
   "metadata": {},
   "cell_type": "code",
   "source": [
    "# Boxplot for the correlation between the shot distance, the shot type, and the goal\n",
    "plot_boxplot_correlations(q2_2020, 'shotType', 'shotDistance', 'typeDescKey')"
   ],
   "id": "1a53827a2b6c55b3",
   "outputs": [],
   "execution_count": null
  },
  {
   "cell_type": "code",
   "id": "d2d196a02e1c5fcc",
   "metadata": {},
   "source": [
    "# TODO remplacer homeTeamDefendingSide\n",
    "#VISUALISATIONS AVANCÉES\n",
    "# Plot the shots of the Senators in the 2022 regular season\n",
    "year = 2020\n",
    "team_name = 'Senators'\n",
    "plot_team_shots(clean_regular_season, year, team_name)"
   ],
   "outputs": [],
   "execution_count": null
  }
 ],
 "metadata": {
  "kernelspec": {
   "display_name": "Python 3 (ipykernel)",
   "language": "python",
   "name": "python3"
  },
  "language_info": {
   "codemirror_mode": {
    "name": "ipython",
    "version": 3
   },
   "file_extension": ".py",
   "mimetype": "text/x-python",
   "name": "python",
   "nbconvert_exporter": "python",
   "pygments_lexer": "ipython3",
   "version": "3.9.13"
  }
 },
 "nbformat": 4,
 "nbformat_minor": 5
}
