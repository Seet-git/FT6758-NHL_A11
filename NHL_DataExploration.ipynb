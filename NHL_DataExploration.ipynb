{
 "cells": [
  {
   "cell_type": "code",
   "id": "b69354cd",
   "metadata": {
    "ExecuteTime": {
     "end_time": "2024-09-25T04:34:44.361320Z",
     "start_time": "2024-09-25T04:34:44.358189Z"
    }
   },
   "source": [
    "import SeasonData as sdata\n",
    "import pandas as pd\n",
    "import ipywidgets"
   ],
   "outputs": [],
   "execution_count": 25
  },
  {
   "cell_type": "code",
   "id": "f6156ea3",
   "metadata": {
    "ExecuteTime": {
     "end_time": "2024-09-25T04:34:47.827917Z",
     "start_time": "2024-09-25T04:34:44.415851Z"
    }
   },
   "source": [
    "# Generating play-by-play data for year 2022\n",
    "data = sdata.NHLData()  # Object creation\n",
    "data.fetch_regular_season(year=2022)  # Fetching data\n",
    "data_rs = data.regular_season  # Get data in variable"
   ],
   "outputs": [
    {
     "name": "stdout",
     "output_type": "stream",
     "text": [
      "Data imported: 0\n"
     ]
    }
   ],
   "execution_count": 26
  },
  {
   "cell_type": "code",
   "id": "e69d27b9",
   "metadata": {
    "ExecuteTime": {
     "end_time": "2024-09-25T04:34:47.848556Z",
     "start_time": "2024-09-25T04:34:47.845423Z"
    }
   },
   "source": [
    "def minutes_to_seconds(df: pd.DataFrame, column: str) -> pd.DataFrame:\n",
    "    \"\"\"\n",
    "    Processing data and transformation to dataframe\n",
    "    :param df: \n",
    "    :param column: \n",
    "    :return: \n",
    "    \"\"\"\n",
    "    # Split columns into 'minutes' and 'seconds' as integer\n",
    "    df['minutes'] = df[column].str.split(':').str[0].astype(int)\n",
    "    df['seconds'] = df[column].str.split(':').str[1].astype(int)\n",
    "\n",
    "    # Total in seconds\n",
    "    df[column] = df['minutes'] * 60 + df['seconds']\n",
    "\n",
    "    #Drop columns\n",
    "    df.drop(['minutes', 'seconds'], axis=1, inplace=True)\n",
    "\n",
    "    return df"
   ],
   "outputs": [],
   "execution_count": 27
  },
  {
   "cell_type": "code",
   "id": "81c660ac",
   "metadata": {
    "ExecuteTime": {
     "end_time": "2024-09-25T04:34:47.900002Z",
     "start_time": "2024-09-25T04:34:47.889509Z"
    }
   },
   "source": [
    "def convert_event_to_dataframe(game_nhl: dict) -> pd.DataFrame:\n",
    "    \"\"\"\n",
    "    Convert NHL game event data into a clean dataframe  \n",
    "    :param game_nhl: Dictionary containing the data of the NHL game\n",
    "    :return: A Pandas DataFrame containing filtered data\n",
    "    \"\"\"\n",
    "\n",
    "    # Extract the play-by-play data from the game dictionary\n",
    "    df_pbp = pd.DataFrame(game_nhl['plays'])\n",
    "\n",
    "    # Extract player data\n",
    "    df_players = pd.DataFrame(game_nhl['rosterSpots'])[['playerId', 'firstName', 'lastName']]\n",
    "\n",
    "    # Keep the default name for each player (first and last name)\n",
    "    df_players['firstName'] = df_players['firstName'].apply(lambda x: x['default'])\n",
    "    df_players['lastName'] = df_players['lastName'].apply(lambda x: x['default'])\n",
    "\n",
    "    # Extract the 'home' and 'away' teams\n",
    "    home_team = {'teamId': game_nhl['homeTeam']['id'], 'teamName': game_nhl['homeTeam']['name']['default'],\n",
    "                 'teamSide': 'home'}\n",
    "    away_team = {'teamId': game_nhl['awayTeam']['id'], 'teamName': game_nhl['awayTeam']['name']['default'],\n",
    "                 'teamSide': 'away'}\n",
    "    df_team = pd.DataFrame([home_team, away_team])\n",
    "\n",
    "    # Parse the game's start time to UTC\n",
    "    start_time = pd.to_datetime(game_nhl['startTimeUTC'])\n",
    "\n",
    "    # Create a new dataframe for the event data\n",
    "    new_df = pd.DataFrame(df_pbp[['periodDescriptor', 'timeInPeriod', 'situationCode', 'typeDescKey', 'details']])\n",
    "\n",
    "    # Insert the game ID as the first column\n",
    "    new_df.insert(0, 'idGame', game_nhl['id'])\n",
    "\n",
    "    # Filter to keep only events of type 'shot-on-goal' or 'goal'\n",
    "    new_df = new_df[(new_df['typeDescKey'] == 'shot-on-goal') | (new_df['typeDescKey'] == 'goal')].reset_index(\n",
    "        drop=True)\n",
    "\n",
    "    # Convert time in the period to seconds and add it to the game start time\n",
    "    new_df = minutes_to_seconds(new_df, 'timeInPeriod')\n",
    "    new_df['timeInPeriod'] = start_time + pd.to_timedelta(new_df['timeInPeriod'], unit='s')\n",
    "\n",
    "    # Decompose the period descriptor fields\n",
    "    df_period = pd.DataFrame(new_df['periodDescriptor'].tolist())\n",
    "    new_df.drop('periodDescriptor', axis=1, inplace=True)\n",
    "\n",
    "    # Convert 'number' and 'maxRegulationPeriods' columns as strings\n",
    "    df_period[['number', 'maxRegulationPeriods']] = df_period[['number', 'maxRegulationPeriods']].astype(str)\n",
    "\n",
    "    # Add 'periodType' and 'currentPeriod' columns to the new dataframe\n",
    "    new_df.insert(1, 'periodType', df_period['periodType'])\n",
    "    new_df.insert(2, 'currentPeriod', df_period['number'] + '/' + df_period['maxRegulationPeriods'])\n",
    "\n",
    "    # Decompose the details fields\n",
    "    df_details = pd.DataFrame(new_df['details'].tolist())\n",
    "    new_df.drop('details', axis=1, inplace=True)\n",
    "\n",
    "    # Combine the x and y coordinates into a tuple\n",
    "    df_details['iceCoord'] = df_details[['xCoord', 'yCoord']].apply(tuple, axis=1)\n",
    "\n",
    "    # Merge 'shooting' and 'scoring' player, to keep only one column\n",
    "    df_details['shootingPlayerId'] = df_details['shootingPlayerId'].fillna(0) + df_details['scoringPlayerId'].fillna(0)\n",
    "\n",
    "    # Convert 'shootingPlayerId' and 'goalieInNetId' as integer\n",
    "    df_details['shootingPlayerId'] = df_details['shootingPlayerId'].astype(int)\n",
    "    df_details['goalieInNetId'] = df_details['goalieInNetId'].astype('Int64')  # Int64: handling NaN values\n",
    "\n",
    "    # Add the shooter names by merging IDs\n",
    "    df_details = pd.merge(df_players, df_details, left_on='playerId', right_on='shootingPlayerId', how='inner').drop(\n",
    "        columns=['playerId'])\n",
    "\n",
    "    # Keep only full name\n",
    "    df_details['shootingPlayer'] = df_details['firstName'] + ' ' + df_details['lastName']\n",
    "    df_details.drop(['firstName', 'lastName'], axis=1, inplace=True)\n",
    "\n",
    "    # Add the goalies names by merging IDs\n",
    "    df_details = pd.merge(df_players, df_details, left_on='playerId', right_on='goalieInNetId', how='inner').drop(\n",
    "        columns=['playerId'])\n",
    "\n",
    "    # Keep only full name\n",
    "    df_details['goaliePlayer'] = df_details['firstName'] + ' ' + df_details['lastName']\n",
    "    df_details.drop(['firstName', 'lastName'], axis=1, inplace=True)\n",
    "\n",
    "    # Add team data by merging IDs\n",
    "    df_details = pd.merge(df_team, df_details, left_on='teamId', right_on='eventOwnerTeamId', how='inner')\n",
    "\n",
    "    # Add the extracted data to the new dataframe\n",
    "    new_df['iceCoord'] = df_details['iceCoord']\n",
    "    new_df['shootingPlayer'] = df_details['shootingPlayer']\n",
    "    new_df['goaliePlayer'] = df_details['goaliePlayer']\n",
    "    new_df['shotType'] = df_details['shotType']\n",
    "    new_df.insert(5, 'eventOwnerTeam', df_details['teamName'])\n",
    "    new_df['teamSide'] = df_details['teamSide']\n",
    "\n",
    "    # TODO: emptyGoalNet\n",
    "    #df_details['teamSide'] = df_details['teamSide'].apply(lambda event: 0 if event == 'home' else 3)\n",
    "    #new_df['emptyGoalNet'] = new_df['situationCode'].str[0].astype(bool).apply(lambda x: not x)\n",
    "\n",
    "    # TODO: advantage / disadvantage\n",
    "    # Get split information 0 | 65 | 1\n",
    "\n",
    "    return new_df"
   ],
   "outputs": [],
   "execution_count": 28
  },
  {
   "cell_type": "code",
   "id": "645e6acc",
   "metadata": {
    "ExecuteTime": {
     "end_time": "2024-09-25T04:34:51.681081Z",
     "start_time": "2024-09-25T04:34:47.950274Z"
    }
   },
   "source": [
    "# Test on one game (avoid to test on all data)\n",
    "\n",
    "new_data = sdata.NHLData()\n",
    "new_data.fetch_regular_season(year=2022)\n",
    "data_2022 = data.regular_season['2022']\n",
    "game_one_2022 = data_2022[0]\n",
    "df_game_one_2022 = convert_event_to_dataframe(game_one_2022)\n",
    "df_game_one_2022.head()\n"
   ],
   "outputs": [
    {
     "name": "stdout",
     "output_type": "stream",
     "text": [
      "Data imported: 0\n"
     ]
    },
    {
     "data": {
      "text/plain": [
       "       idGame periodType currentPeriod              timeInPeriod  \\\n",
       "0  2022020001        REG           1/3 2022-10-07 18:00:23+00:00   \n",
       "1  2022020001        REG           1/3 2022-10-07 18:00:59+00:00   \n",
       "2  2022020001        REG           1/3 2022-10-07 18:01:01+00:00   \n",
       "3  2022020001        REG           1/3 2022-10-07 18:01:12+00:00   \n",
       "4  2022020001        REG           1/3 2022-10-07 18:02:42+00:00   \n",
       "\n",
       "  situationCode eventOwnerTeam   typeDescKey    iceCoord   shootingPlayer  \\\n",
       "0          1551      Predators  shot-on-goal   (-75, 32)    Ryan McDonagh   \n",
       "1          1551      Predators  shot-on-goal  (-52, -14)       Roman Josi   \n",
       "2          1551      Predators          goal    (45, 10)       Roman Josi   \n",
       "3          1551      Predators  shot-on-goal     (80, 0)       Roman Josi   \n",
       "4          1551      Predators  shot-on-goal   (28, -11)  Mark Borowiecki   \n",
       "\n",
       "   goaliePlayer shotType teamSide  \n",
       "0  James Reimer    wrist     home  \n",
       "1  James Reimer    wrist     home  \n",
       "2  James Reimer    wrist     home  \n",
       "3  James Reimer   tip-in     home  \n",
       "4  James Reimer    wrist     home  "
      ],
      "text/html": [
       "<div>\n",
       "<style scoped>\n",
       "    .dataframe tbody tr th:only-of-type {\n",
       "        vertical-align: middle;\n",
       "    }\n",
       "\n",
       "    .dataframe tbody tr th {\n",
       "        vertical-align: top;\n",
       "    }\n",
       "\n",
       "    .dataframe thead th {\n",
       "        text-align: right;\n",
       "    }\n",
       "</style>\n",
       "<table border=\"1\" class=\"dataframe\">\n",
       "  <thead>\n",
       "    <tr style=\"text-align: right;\">\n",
       "      <th></th>\n",
       "      <th>idGame</th>\n",
       "      <th>periodType</th>\n",
       "      <th>currentPeriod</th>\n",
       "      <th>timeInPeriod</th>\n",
       "      <th>situationCode</th>\n",
       "      <th>eventOwnerTeam</th>\n",
       "      <th>typeDescKey</th>\n",
       "      <th>iceCoord</th>\n",
       "      <th>shootingPlayer</th>\n",
       "      <th>goaliePlayer</th>\n",
       "      <th>shotType</th>\n",
       "      <th>teamSide</th>\n",
       "    </tr>\n",
       "  </thead>\n",
       "  <tbody>\n",
       "    <tr>\n",
       "      <th>0</th>\n",
       "      <td>2022020001</td>\n",
       "      <td>REG</td>\n",
       "      <td>1/3</td>\n",
       "      <td>2022-10-07 18:00:23+00:00</td>\n",
       "      <td>1551</td>\n",
       "      <td>Predators</td>\n",
       "      <td>shot-on-goal</td>\n",
       "      <td>(-75, 32)</td>\n",
       "      <td>Ryan McDonagh</td>\n",
       "      <td>James Reimer</td>\n",
       "      <td>wrist</td>\n",
       "      <td>home</td>\n",
       "    </tr>\n",
       "    <tr>\n",
       "      <th>1</th>\n",
       "      <td>2022020001</td>\n",
       "      <td>REG</td>\n",
       "      <td>1/3</td>\n",
       "      <td>2022-10-07 18:00:59+00:00</td>\n",
       "      <td>1551</td>\n",
       "      <td>Predators</td>\n",
       "      <td>shot-on-goal</td>\n",
       "      <td>(-52, -14)</td>\n",
       "      <td>Roman Josi</td>\n",
       "      <td>James Reimer</td>\n",
       "      <td>wrist</td>\n",
       "      <td>home</td>\n",
       "    </tr>\n",
       "    <tr>\n",
       "      <th>2</th>\n",
       "      <td>2022020001</td>\n",
       "      <td>REG</td>\n",
       "      <td>1/3</td>\n",
       "      <td>2022-10-07 18:01:01+00:00</td>\n",
       "      <td>1551</td>\n",
       "      <td>Predators</td>\n",
       "      <td>goal</td>\n",
       "      <td>(45, 10)</td>\n",
       "      <td>Roman Josi</td>\n",
       "      <td>James Reimer</td>\n",
       "      <td>wrist</td>\n",
       "      <td>home</td>\n",
       "    </tr>\n",
       "    <tr>\n",
       "      <th>3</th>\n",
       "      <td>2022020001</td>\n",
       "      <td>REG</td>\n",
       "      <td>1/3</td>\n",
       "      <td>2022-10-07 18:01:12+00:00</td>\n",
       "      <td>1551</td>\n",
       "      <td>Predators</td>\n",
       "      <td>shot-on-goal</td>\n",
       "      <td>(80, 0)</td>\n",
       "      <td>Roman Josi</td>\n",
       "      <td>James Reimer</td>\n",
       "      <td>tip-in</td>\n",
       "      <td>home</td>\n",
       "    </tr>\n",
       "    <tr>\n",
       "      <th>4</th>\n",
       "      <td>2022020001</td>\n",
       "      <td>REG</td>\n",
       "      <td>1/3</td>\n",
       "      <td>2022-10-07 18:02:42+00:00</td>\n",
       "      <td>1551</td>\n",
       "      <td>Predators</td>\n",
       "      <td>shot-on-goal</td>\n",
       "      <td>(28, -11)</td>\n",
       "      <td>Mark Borowiecki</td>\n",
       "      <td>James Reimer</td>\n",
       "      <td>wrist</td>\n",
       "      <td>home</td>\n",
       "    </tr>\n",
       "  </tbody>\n",
       "</table>\n",
       "</div>"
      ]
     },
     "execution_count": 29,
     "metadata": {},
     "output_type": "execute_result"
    }
   ],
   "execution_count": 29
  },
  {
   "cell_type": "code",
   "id": "13335ef4",
   "metadata": {
    "ExecuteTime": {
     "end_time": "2024-09-25T04:34:51.797298Z",
     "start_time": "2024-09-25T04:34:51.794095Z"
    }
   },
   "source": [
    "# Test on all regular season\n",
    "\"\"\"\n",
    "#Loop on all years in regular season\n",
    "for year in data_rs:\n",
    "    current_year = data_rs[year]  #Get year\n",
    "    sdata_year = len(current_year)  #Get the number of games in the year\n",
    "\n",
    "    #Loop on all game in the year\n",
    "    for game in range(sdata_year):\n",
    "        current_year[game] = convert_event_to_dataframe(game_nhl=current_year[game])  #Processing game data\n",
    "\n",
    "data_rs['2022'][0].head()\n",
    "\"\"\""
   ],
   "outputs": [
    {
     "data": {
      "text/plain": [
       "\"\\n#Loop on all years in regular season\\nfor year in data_rs:\\n    current_year = data_rs[year]  #Get year\\n    sdata_year = len(current_year)  #Get the number of games in the year\\n\\n    #Loop on all game in the year\\n    for game in range(sdata_year):\\n        current_year[game] = convert_event_to_dataframe(game_nhl=current_year[game])  #Processing game data\\n\\ndata_rs['2022'][0].head()\\n\""
      ]
     },
     "execution_count": 30,
     "metadata": {},
     "output_type": "execute_result"
    }
   ],
   "execution_count": 30
  },
  {
   "cell_type": "code",
   "id": "0214bb32",
   "metadata": {
    "ExecuteTime": {
     "end_time": "2024-09-25T04:34:51.906437Z",
     "start_time": "2024-09-25T04:34:51.899171Z"
    }
   },
   "source": [
    "# Fetching teams abbreviation\n",
    "print('game id')\n",
    "print(data.regular_season['2022'][0]['id'])\n",
    "print('away team abbrev')\n",
    "print(data.regular_season['2022'][0]['awayTeam']['abbrev'])\n",
    "print('home team abbrev')\n",
    "print(data.regular_season['2022'][0]['homeTeam']['abbrev'])\n",
    "print('away team score')\n",
    "print(data.regular_season['2022'][0]['awayTeam']['score'])\n",
    "print('home team score')\n",
    "print(data.regular_season['2022'][0]['homeTeam']['score'])\n",
    "print('away team shoot on goal')\n",
    "print(data.regular_season['2022'][0]['awayTeam']['sog'])\n",
    "print('home team shoot on goal')\n",
    "print(data.regular_season['2022'][0]['homeTeam']['sog'])\n"
   ],
   "outputs": [
    {
     "name": "stdout",
     "output_type": "stream",
     "text": [
      "game id\n",
      "2022020001\n",
      "away team abbrev\n",
      "SJS\n",
      "home team abbrev\n",
      "NSH\n",
      "away team score\n",
      "1\n",
      "home team score\n",
      "4\n",
      "away team shoot on goal\n",
      "31\n",
      "home team shoot on goal\n",
      "32\n"
     ]
    }
   ],
   "execution_count": 31
  },
  {
   "cell_type": "code",
   "id": "6121709a",
   "metadata": {
    "ExecuteTime": {
     "end_time": "2024-09-25T04:34:54.392805Z",
     "start_time": "2024-09-25T04:34:52.009411Z"
    }
   },
   "source": [
    "# we assume it is a regular season\n",
    "\n",
    "season = '2022'\n",
    "rs_data = sdata.NHLData()\n",
    "rs_data.fetch_regular_season(year=season)\n",
    "\n",
    "\n",
    "def plot_game(game_number):\n",
    "    game_id = int(f\"{season}{sdata.GameType.REGULAR_SEASON.value}{game_number:04d}\")\n",
    "\n",
    "    # to improve\n",
    "    game_data = next((item for item in rs_data.regular_season[season] if item[\"id\"] == game_id), None)\n",
    "\n",
    "    print(game_data['startTimeUTC'])\n",
    "    print(\n",
    "        f\"Game ID: {game_number}; {game_data['homeTeam']['abbrev']} (home) vs {game_data['awayTeam']['abbrev']} (away)\")\n",
    "\n",
    "    col1 = ['', 'Teams', 'Goals', 'SoG']\n",
    "    col2 = [\"Home\", f\"{game_data['homeTeam']['abbrev']}\", f\"{game_data['homeTeam']['score']}\",\n",
    "            f\"{game_data['homeTeam']['sog']}\"]\n",
    "    col3 = [\"Away\", f\"{game_data['awayTeam']['abbrev']}\", f\"{game_data['awayTeam']['score']}\",\n",
    "            f\"{game_data['awayTeam']['sog']}\"]\n",
    "    print('')\n",
    "    for c1, c2, c3 in zip(col1, col2, col3):\n",
    "        print(f'{c1:<18} {c2:<18} {c3:<18}')\n",
    "\n",
    "\n",
    "ipywidgets.interact(plot_game, game_number=(1, len(rs_data.regular_season[season]), 1))"
   ],
   "outputs": [
    {
     "name": "stdout",
     "output_type": "stream",
     "text": [
      "Data imported: 0\n"
     ]
    },
    {
     "data": {
      "text/plain": [
       "interactive(children=(IntSlider(value=656, description='game_number', max=1312, min=1), Output()), _dom_classe…"
      ],
      "application/vnd.jupyter.widget-view+json": {
       "version_major": 2,
       "version_minor": 0,
       "model_id": "dff31fca86c04c4c8e0caff31de5abfe"
      }
     },
     "metadata": {},
     "output_type": "display_data"
    },
    {
     "data": {
      "text/plain": [
       "<function __main__.plot_game(game_number)>"
      ]
     },
     "execution_count": 32,
     "metadata": {},
     "output_type": "execute_result"
    }
   ],
   "execution_count": 32
  }
 ],
 "metadata": {
  "kernelspec": {
   "display_name": "Python 3 (ipykernel)",
   "language": "python",
   "name": "python3"
  },
  "language_info": {
   "codemirror_mode": {
    "name": "ipython",
    "version": 3
   },
   "file_extension": ".py",
   "mimetype": "text/x-python",
   "name": "python",
   "nbconvert_exporter": "python",
   "pygments_lexer": "ipython3",
   "version": "3.9.13"
  }
 },
 "nbformat": 4,
 "nbformat_minor": 5
}
