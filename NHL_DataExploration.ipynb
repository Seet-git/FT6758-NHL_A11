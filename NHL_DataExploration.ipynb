{
 "cells": [
  {
   "cell_type": "code",
   "id": "8d67a944574fc258",
   "metadata": {
    "ExecuteTime": {
     "end_time": "2024-10-09T18:19:42.168173Z",
     "start_time": "2024-10-09T18:19:42.165081Z"
    }
   },
   "source": [
    "import numpy as np\n",
    "import pandas as pd\n",
    "import seaborn as sns\n",
    "import matplotlib.pyplot as plt\n",
    "\n",
    "import SeasonData as sdata"
   ],
   "outputs": [],
   "execution_count": 479
  },
  {
   "cell_type": "markdown",
   "id": "2b2afe2c",
   "metadata": {},
   "source": [
    "## 3. Nettoyage des données"
   ]
  },
  {
   "metadata": {
    "ExecuteTime": {
     "end_time": "2024-10-09T18:19:42.217564Z",
     "start_time": "2024-10-09T18:19:42.213745Z"
    }
   },
   "cell_type": "code",
   "source": [
    "def angle_between_vectors(v1: np.array, v2: np.array) -> float:\n",
    "    \"\"\"\n",
    "    Calculate the angle in degrees between two 2D vectors.\n",
    "    \"\"\"\n",
    "    # Dot product\n",
    "    dot_product = np.dot(v1, v2)\n",
    "\n",
    "    # norms of the vectors\n",
    "    norm_v1 = np.linalg.norm(v1)\n",
    "    norm_v2 = np.linalg.norm(v2)\n",
    "\n",
    "    # Avoid division by zero\n",
    "    if norm_v1 == 0 or norm_v2 == 0:\n",
    "        return 0.0\n",
    "\n",
    "    # cosine of the angle\n",
    "    cos_angle = dot_product / (norm_v1 * norm_v2)\n",
    "\n",
    "    # Clip the value to avoid numerical errors\n",
    "    cos_angle = np.clip(cos_angle, -1.0, 1.0)\n",
    "\n",
    "    # Angle in radians\n",
    "    angle_radians = np.arccos(cos_angle)\n",
    "\n",
    "    # Convert the angle to degrees\n",
    "    angle_degrees = np.degrees(angle_radians)\n",
    "    return angle_degrees"
   ],
   "id": "1408b26fa7c2024c",
   "outputs": [],
   "execution_count": 480
  },
  {
   "cell_type": "code",
   "id": "da17e105fd5b384",
   "metadata": {
    "ExecuteTime": {
     "end_time": "2024-10-09T18:19:42.266355Z",
     "start_time": "2024-10-09T18:19:42.261854Z"
    }
   },
   "source": [
    "def additional_features(clean_df: pd.DataFrame) -> pd.DataFrame:\n",
    "    \"\"\"Add additional features to the dataframe\"\"\"\n",
    "\n",
    "    # Add shot distance\n",
    "    \n",
    "    # Define the Euclidian distance function\n",
    "    dist_euclidian = lambda x1, x2: np.round(np.linalg.norm(np.array(x1 - x2)), decimals=1)\n",
    "\n",
    "    # Add shot distance based on the ice coordinates\n",
    "    clean_df['shotDistance'] = clean_df.apply(\n",
    "        lambda x: dist_euclidian(x['iceCoord'], np.array([-89, 0])) if x['iceCoord'][0] <= 0\n",
    "        else dist_euclidian(x['iceCoord'], np.array([89, 0])), axis=1)\n",
    "\n",
    "    # Add shot angle based on the ice coordinates\n",
    "    clean_df['shotAngle'] = clean_df.apply(\n",
    "        lambda x: angle_between_vectors(x['iceCoord'], np.array([-89, 0])) if x['iceCoord'][0] <= 0\n",
    "        else angle_between_vectors(x['iceCoord'], np.array([89, 0])), axis=1)\n",
    "\n",
    "    return clean_df"
   ],
   "outputs": [],
   "execution_count": 481
  },
  {
   "cell_type": "code",
   "id": "ac85106b1a1dc21e",
   "metadata": {
    "ExecuteTime": {
     "end_time": "2024-10-09T18:19:42.313812Z",
     "start_time": "2024-10-09T18:19:42.309531Z"
    }
   },
   "source": [
    "def minutes_to_seconds(df: pd.DataFrame, column: str) -> pd.Series:\n",
    "    \"\"\"\n",
    "    Convert dataframe column from 'minutes:seconds' to 'seconds' and add the number of period\n",
    "    \"\"\"\n",
    "    # Split columns into 'minutes' and 'seconds' and 'number of period' as integer\n",
    "    df['minutes'] = df[column].str.split(':').str[0].astype(int)\n",
    "    df['seconds'] = df[column].str.split(':').str[1].astype(int)\n",
    "    df['numberPeriod'] = df['currentPeriod'].str.split(\"/\").str[0].astype(int)\n",
    "\n",
    "    # Total in seconds\n",
    "    df[column] = df['minutes'] * 60 + df['seconds'] + 20 * 60 * (df['numberPeriod'] - 1)\n",
    "\n",
    "    #Drop columns\n",
    "    df.drop(['minutes', 'seconds', 'numberPeriod'], axis=1, inplace=True)\n",
    "\n",
    "    return df[column]"
   ],
   "outputs": [],
   "execution_count": 482
  },
  {
   "cell_type": "code",
   "id": "3511273f4153e81b",
   "metadata": {
    "ExecuteTime": {
     "end_time": "2024-10-09T18:19:42.361479Z",
     "start_time": "2024-10-09T18:19:42.357650Z"
    }
   },
   "source": [
    "def extract_players(game_nhl: dict) -> pd.DataFrame:\n",
    "    \"\"\"Extract the play-by-play data from the game dictionary\"\"\"\n",
    "\n",
    "    # Extract player data\n",
    "    df_players = pd.DataFrame(game_nhl['rosterSpots'])[['playerId', 'firstName', 'lastName']]\n",
    "\n",
    "    # Keep the default name for each player (first and last name)\n",
    "    df_players['firstName'] = df_players['firstName'].apply(lambda x: x['default'])\n",
    "    df_players['lastName'] = df_players['lastName'].apply(lambda x: x['default'])\n",
    "    return df_players"
   ],
   "outputs": [],
   "execution_count": 483
  },
  {
   "cell_type": "code",
   "id": "5ea05fc84089b73b",
   "metadata": {
    "ExecuteTime": {
     "end_time": "2024-10-09T18:19:42.412601Z",
     "start_time": "2024-10-09T18:19:42.409478Z"
    }
   },
   "source": [
    "def extract_teams(game_nhl: dict) -> pd.DataFrame:\n",
    "    \"\"\"Extract 'home' and 'away' teams\"\"\"\n",
    "    home_team = {'teamId': game_nhl['homeTeam']['id'], 'teamName': game_nhl['homeTeam']['name']['default'],\n",
    "                 'teamSide': 'home'}\n",
    "    away_team = {'teamId': game_nhl['awayTeam']['id'], 'teamName': game_nhl['awayTeam']['name']['default'],\n",
    "                 'teamSide': 'away'}\n",
    "    return pd.DataFrame([home_team, away_team])"
   ],
   "outputs": [],
   "execution_count": 484
  },
  {
   "cell_type": "code",
   "id": "6b97b9e57bceda45",
   "metadata": {
    "ExecuteTime": {
     "end_time": "2024-10-09T18:19:42.462355Z",
     "start_time": "2024-10-09T18:19:42.457679Z"
    }
   },
   "source": [
    "def process_period_data(df: pd.DataFrame) -> pd.DataFrame:\n",
    "    \"\"\"Decompose periodDescriptor and return processed dataframe.\"\"\"\n",
    "\n",
    "    # Split 'periodDescriptor' into 'periodType', 'number', and 'maxRegulationPeriods'\n",
    "    df_period = pd.DataFrame(df['periodDescriptor'].tolist())\n",
    "\n",
    "    # Convert 'number' and 'maxRegulationPeriods' columns as strings\n",
    "    df_period[['number', 'maxRegulationPeriods']] = df_period[['number', 'maxRegulationPeriods']].astype(str)\n",
    "\n",
    "    # Add 'currentPeriod' column\n",
    "    df_period['currentPeriod'] = df_period['number'] + '/' + df_period['maxRegulationPeriods']\n",
    "\n",
    "    return df_period"
   ],
   "outputs": [],
   "execution_count": 485
  },
  {
   "cell_type": "code",
   "id": "b8c7efdad07d567c",
   "metadata": {
    "ExecuteTime": {
     "end_time": "2024-10-09T18:19:42.519726Z",
     "start_time": "2024-10-09T18:19:42.512709Z"
    }
   },
   "source": [
    "def process_event_details(df: pd.DataFrame, df_players: pd.DataFrame) -> pd.DataFrame:\n",
    "    \"\"\"Process event details and merge with player information.\"\"\"\n",
    "    df_details = pd.DataFrame(df['details'].tolist())\n",
    "\n",
    "    # Combine x and y coordinates into a tuple\n",
    "    df_details['iceCoord'] = df_details[['xCoord', 'yCoord']].apply(tuple, axis=1)\n",
    "\n",
    "    # Merge 'shooting' and 'scoring' player, to keep only one column\n",
    "    df_details['shootingPlayerId'] = df_details['shootingPlayerId'].fillna(0) + df_details['scoringPlayerId'].fillna(0)\n",
    "\n",
    "    # Fill missing 'goalieInNetId' values with 0\n",
    "    df_details['goalieInNetId'] = df_details['goalieInNetId'].fillna(0)\n",
    "\n",
    "    # Convert 'shootingPlayerId' and 'goalieInNetId' as integer\n",
    "    df_details['shootingPlayerId'] = df_details['shootingPlayerId'].astype(int)\n",
    "    df_details['goalieInNetId'] = df_details['goalieInNetId'].astype('Int64')  # Int64: handling NaN values\n",
    "\n",
    "    # Add the shooter names by merging IDs\n",
    "    df_details = pd.merge(df_players, df_details, left_on='playerId', right_on='shootingPlayerId', how='right').drop(\n",
    "        columns=['playerId'])\n",
    "\n",
    "    # Keep only full name\n",
    "    df_details['shootingPlayer'] = df_details['firstName'] + ' ' + df_details['lastName']\n",
    "    df_details.drop(['firstName', 'lastName'], axis=1, inplace=True)\n",
    "\n",
    "    # Add the goalies names by merging IDs \n",
    "    df_details = pd.merge(df_players, df_details, left_on='playerId', right_on='goalieInNetId', how='right').drop(\n",
    "        columns=['playerId'])\n",
    "\n",
    "    # Keep only full name\n",
    "    df_details['goaliePlayer'] = df_details['firstName'] + ' ' + df_details['lastName']\n",
    "    df_details.drop(['firstName', 'lastName'], axis=1, inplace=True)\n",
    "\n",
    "    return df_details"
   ],
   "outputs": [],
   "execution_count": 486
  },
  {
   "cell_type": "code",
   "id": "d37d1bb74d29c347",
   "metadata": {
    "ExecuteTime": {
     "end_time": "2024-10-09T18:19:42.565331Z",
     "start_time": "2024-10-09T18:19:42.562197Z"
    }
   },
   "source": [
    "def calculate_empty_goal_net(df: pd.DataFrame) -> pd.Series:\n",
    "    \"\"\"Determine if the goal net is empty\"\"\"\n",
    "    return df.apply(lambda x: x['situationCode'][3] if x['teamSide'] == 'away' else x['situationCode'][0], axis=1).map(\n",
    "        {'0': True, '1': False})"
   ],
   "outputs": [],
   "execution_count": 487
  },
  {
   "cell_type": "code",
   "id": "acc2e5e0b0a79885",
   "metadata": {
    "ExecuteTime": {
     "end_time": "2024-10-09T18:19:42.617652Z",
     "start_time": "2024-10-09T18:19:42.613624Z"
    }
   },
   "source": [
    "def determine_goal_advantage(df: pd.DataFrame) -> pd.Series:\n",
    "    \"\"\"Determine if the event team is in advantage, disadvantage, or neutral situation\"\"\"\n",
    "    return df.apply(lambda x: \"Advantage\" if (int(x['situationCode'][1]) > int(x['situationCode'][2]) and x[\n",
    "        'teamSide'] == 'away') or (int(x['situationCode'][2]) > int(x['situationCode'][1]) and x[\n",
    "        'teamSide'] == 'home')\n",
    "    else \"Disadvantage\" if (int(x['situationCode'][1]) < int(x['situationCode'][2]) and x['teamSide'] == 'away') or\n",
    "                           (int(x['situationCode'][2]) < int(x['situationCode'][1]) and x['teamSide'] == 'home')\n",
    "    else 'Neutral', axis=1)"
   ],
   "outputs": [],
   "execution_count": 488
  },
  {
   "cell_type": "code",
   "id": "e8fa9653b8976de2",
   "metadata": {
    "ExecuteTime": {
     "end_time": "2024-10-09T18:19:42.670420Z",
     "start_time": "2024-10-09T18:19:42.661578Z"
    }
   },
   "source": [
    "def convert_event_to_dataframe(game_nhl: dict) -> pd.DataFrame:\n",
    "    \"\"\"\n",
    "    Convert NHL game event data into a clean dataframe  \n",
    "    :param game_nhl: Dictionary containing the data of the NHL game\n",
    "    :return: A Pandas DataFrame containing filtered data\n",
    "    \"\"\"\n",
    "    # Extract play-by-play data\n",
    "    df_pbp = pd.DataFrame(game_nhl['plays'])\n",
    "\n",
    "    # Extract player and team data\n",
    "    df_players = extract_players(game_nhl)\n",
    "    df_teams = extract_teams(game_nhl)\n",
    "\n",
    "    # Create a new dataframe for the event data\n",
    "    clean_df = pd.DataFrame(df_pbp[['periodDescriptor', 'timeInPeriod', 'situationCode', 'typeDescKey', 'details']])\n",
    "\n",
    "    #PERIOD DESCRIPTOR\n",
    "    # Create a dataframe to decompose the period descriptor fields\n",
    "    df_period = process_period_data(clean_df)\n",
    "    clean_df.drop('periodDescriptor', axis=1, inplace=True)\n",
    "\n",
    "    # Add 'gameID', 'periodType' and 'currentPeriod' columns to the new dataframe\n",
    "    clean_df.insert(0, 'idGame', game_nhl['id'])\n",
    "    clean_df.insert(1, 'periodType', df_period['periodType'])\n",
    "    clean_df.insert(2, 'currentPeriod', df_period['currentPeriod'])\n",
    "\n",
    "    # TIME IN PERIOD\n",
    "    # Parse the game's start time to UTC\n",
    "    start_time = pd.to_datetime(game_nhl['startTimeUTC'])\n",
    "\n",
    "    # Convert time in the period to seconds\n",
    "    time_series = start_time + pd.to_timedelta(minutes_to_seconds(clean_df, 'timeInPeriod'), unit='s')\n",
    "\n",
    "    # add it to the game start time\n",
    "    clean_df['timeInPeriod'] = time_series\n",
    "\n",
    "    # Filter to keep only events of type 'shot-on-goal' or 'goal'\n",
    "    clean_df = clean_df[(clean_df['typeDescKey'] == 'shot-on-goal') | (clean_df['typeDescKey'] == 'goal')].reset_index(\n",
    "        drop=True)\n",
    "\n",
    "    # DETAILS\n",
    "    # Process event details and merge player information\n",
    "    df_details = process_event_details(clean_df, df_players)\n",
    "    clean_df.drop('details', axis=1, inplace=True)\n",
    "\n",
    "    # Add team data by merging IDs\n",
    "    df_details = pd.merge(df_teams, df_details, left_on='teamId', right_on='eventOwnerTeamId', how='right')\n",
    "\n",
    "    # Add the extracted data to the new dataframe\n",
    "    clean_df['iceCoord'] = df_details['iceCoord']\n",
    "    clean_df['shootingPlayer'] = df_details['shootingPlayer']\n",
    "    clean_df['goaliePlayer'] = df_details['goaliePlayer']\n",
    "    clean_df['shotType'] = df_details['shotType']\n",
    "    clean_df.insert(5, 'eventOwnerTeam', df_details['teamName'])\n",
    "    clean_df['teamSide'] = df_details['teamSide']\n",
    "\n",
    "    # Calculate emptyGoalNet and goal advantage\n",
    "    clean_df['emptyGoalNet'] = calculate_empty_goal_net(clean_df)\n",
    "    clean_df['isGoalAdvantage'] = determine_goal_advantage(clean_df)\n",
    "\n",
    "    # Add shot distance\n",
    "    clean_df = additional_features(clean_df)\n",
    "\n",
    "    return clean_df"
   ],
   "outputs": [],
   "execution_count": 489
  },
  {
   "cell_type": "code",
   "id": "77e51ab2",
   "metadata": {
    "ExecuteTime": {
     "end_time": "2024-10-09T18:19:42.725905Z",
     "start_time": "2024-10-09T18:19:42.721823Z"
    }
   },
   "source": [
    "def get_data_from(first_year: int, last_year: int) -> dict:\n",
    "    \n",
    "    '''\n",
    "    Retrieves game data for each season within the specified range of years, processes the events of each game\n",
    "    (focusing on shots), and organizes the information into a dictionary. The dictionary's keys are the years,\n",
    "    and the corresponding values are lists of DataFrames, where each DataFrame represents all the shots taken \n",
    "    in a particular game during that year.\n",
    "\n",
    "    Parameters:\n",
    "    - first (int): The first year (inclusive) from which to retrieve data.\n",
    "    - last (int): The last year (inclusive) from which to retrieve data.\n",
    "\n",
    "    Returns:\n",
    "    - dict: A dictionary where the keys are years, and the values are lists of DataFrames. Each DataFrame corresponds\n",
    "    to a single game in the specified year and contains information about the shots taken during that game.\n",
    "    \n",
    "    '''\n",
    "    \n",
    "    all_games_dictionary = {} # Initialize the return dictionary\n",
    "    data = sdata.NHLData() # Initialize the data object\n",
    "    \n",
    "    # Loop over all years\n",
    "    for year in range(first_year, last_year+1):\n",
    "        \n",
    "        # Generate the data from API or local if available\n",
    "        data.fetch_regular_season(year=year)\n",
    "        data.fetch_playoffs(year=year)\n",
    "        yearly_data = data.regular_season[year] + data.playoffs[year] # List with all the games in a year\n",
    "        \n",
    "        # Add all the cleaned dataframes (shots per game) for a year to the dictionary\n",
    "        all_games_dictionary[year] = [convert_event_to_dataframe(game) for game in yearly_data]\n",
    "    \n",
    "    return all_games_dictionary"
   ],
   "outputs": [],
   "execution_count": 490
  },
  {
   "cell_type": "markdown",
   "id": "966a4347",
   "metadata": {},
   "source": [
    "Cette ligne de code est un exemple d'utilisation de la fonction get_data_from()"
   ]
  },
  {
   "cell_type": "code",
   "id": "42b484a0",
   "metadata": {
    "ExecuteTime": {
     "end_time": "2024-10-09T18:20:50.101328Z",
     "start_time": "2024-10-09T18:19:42.776191Z"
    }
   },
   "source": [
    "# This gets all the cleaned data from 2022 to 2023 (inclusive) in a dictionary (key: year)\n",
    "data_2017_2023 = get_data_from(2022,2023)\n",
    "data_2017_2023[2022][123].head() # Année 2022, 124eme partie, 5 premières ligne"
   ],
   "outputs": [
    {
     "name": "stdout",
     "output_type": "stream",
     "text": [
      "Data imported: 1312\n",
      "Data imported: 88\n",
      "Data imported: 1312\n",
      "Data imported: 88\n"
     ]
    },
    {
     "data": {
      "text/plain": [
       "       idGame periodType currentPeriod              timeInPeriod  \\\n",
       "0  2022020124        REG           1/3 2022-10-28 23:02:45+00:00   \n",
       "1  2022020124        REG           1/3 2022-10-28 23:03:42+00:00   \n",
       "2  2022020124        REG           1/3 2022-10-28 23:04:53+00:00   \n",
       "3  2022020124        REG           1/3 2022-10-28 23:04:57+00:00   \n",
       "4  2022020124        REG           1/3 2022-10-28 23:07:30+00:00   \n",
       "\n",
       "  situationCode eventOwnerTeam   typeDescKey    iceCoord       shootingPlayer  \\\n",
       "0          1551      Islanders  shot-on-goal    (34, 31)        Sebastian Aho   \n",
       "1          1551      Islanders  shot-on-goal   (78, -16)  Jean-Gabriel Pageau   \n",
       "2          1551     Hurricanes  shot-on-goal   (-45, 34)          Brett Pesce   \n",
       "3          1551     Hurricanes  shot-on-goal    (-74, 7)          Jesper Fast   \n",
       "4          1551     Hurricanes  shot-on-goal  (-13, -30)    Andrei Svechnikov   \n",
       "\n",
       "        goaliePlayer   shotType teamSide  emptyGoalNet isGoalAdvantage  \\\n",
       "0  Frederik Andersen       slap     away         False         Neutral   \n",
       "1  Frederik Andersen  deflected     away         False         Neutral   \n",
       "2       Ilya Sorokin       slap     home         False         Neutral   \n",
       "3       Ilya Sorokin      wrist     home         False         Neutral   \n",
       "4       Ilya Sorokin      wrist     home         False         Neutral   \n",
       "\n",
       "   shotDistance  shotAngle  \n",
       "0          63.1  42.357455  \n",
       "1          19.4  11.592175  \n",
       "2          55.6  37.073073  \n",
       "3          16.6   5.403791  \n",
       "4          81.7  66.571307  "
      ],
      "text/html": [
       "<div>\n",
       "<style scoped>\n",
       "    .dataframe tbody tr th:only-of-type {\n",
       "        vertical-align: middle;\n",
       "    }\n",
       "\n",
       "    .dataframe tbody tr th {\n",
       "        vertical-align: top;\n",
       "    }\n",
       "\n",
       "    .dataframe thead th {\n",
       "        text-align: right;\n",
       "    }\n",
       "</style>\n",
       "<table border=\"1\" class=\"dataframe\">\n",
       "  <thead>\n",
       "    <tr style=\"text-align: right;\">\n",
       "      <th></th>\n",
       "      <th>idGame</th>\n",
       "      <th>periodType</th>\n",
       "      <th>currentPeriod</th>\n",
       "      <th>timeInPeriod</th>\n",
       "      <th>situationCode</th>\n",
       "      <th>eventOwnerTeam</th>\n",
       "      <th>typeDescKey</th>\n",
       "      <th>iceCoord</th>\n",
       "      <th>shootingPlayer</th>\n",
       "      <th>goaliePlayer</th>\n",
       "      <th>shotType</th>\n",
       "      <th>teamSide</th>\n",
       "      <th>emptyGoalNet</th>\n",
       "      <th>isGoalAdvantage</th>\n",
       "      <th>shotDistance</th>\n",
       "      <th>shotAngle</th>\n",
       "    </tr>\n",
       "  </thead>\n",
       "  <tbody>\n",
       "    <tr>\n",
       "      <th>0</th>\n",
       "      <td>2022020124</td>\n",
       "      <td>REG</td>\n",
       "      <td>1/3</td>\n",
       "      <td>2022-10-28 23:02:45+00:00</td>\n",
       "      <td>1551</td>\n",
       "      <td>Islanders</td>\n",
       "      <td>shot-on-goal</td>\n",
       "      <td>(34, 31)</td>\n",
       "      <td>Sebastian Aho</td>\n",
       "      <td>Frederik Andersen</td>\n",
       "      <td>slap</td>\n",
       "      <td>away</td>\n",
       "      <td>False</td>\n",
       "      <td>Neutral</td>\n",
       "      <td>63.1</td>\n",
       "      <td>42.357455</td>\n",
       "    </tr>\n",
       "    <tr>\n",
       "      <th>1</th>\n",
       "      <td>2022020124</td>\n",
       "      <td>REG</td>\n",
       "      <td>1/3</td>\n",
       "      <td>2022-10-28 23:03:42+00:00</td>\n",
       "      <td>1551</td>\n",
       "      <td>Islanders</td>\n",
       "      <td>shot-on-goal</td>\n",
       "      <td>(78, -16)</td>\n",
       "      <td>Jean-Gabriel Pageau</td>\n",
       "      <td>Frederik Andersen</td>\n",
       "      <td>deflected</td>\n",
       "      <td>away</td>\n",
       "      <td>False</td>\n",
       "      <td>Neutral</td>\n",
       "      <td>19.4</td>\n",
       "      <td>11.592175</td>\n",
       "    </tr>\n",
       "    <tr>\n",
       "      <th>2</th>\n",
       "      <td>2022020124</td>\n",
       "      <td>REG</td>\n",
       "      <td>1/3</td>\n",
       "      <td>2022-10-28 23:04:53+00:00</td>\n",
       "      <td>1551</td>\n",
       "      <td>Hurricanes</td>\n",
       "      <td>shot-on-goal</td>\n",
       "      <td>(-45, 34)</td>\n",
       "      <td>Brett Pesce</td>\n",
       "      <td>Ilya Sorokin</td>\n",
       "      <td>slap</td>\n",
       "      <td>home</td>\n",
       "      <td>False</td>\n",
       "      <td>Neutral</td>\n",
       "      <td>55.6</td>\n",
       "      <td>37.073073</td>\n",
       "    </tr>\n",
       "    <tr>\n",
       "      <th>3</th>\n",
       "      <td>2022020124</td>\n",
       "      <td>REG</td>\n",
       "      <td>1/3</td>\n",
       "      <td>2022-10-28 23:04:57+00:00</td>\n",
       "      <td>1551</td>\n",
       "      <td>Hurricanes</td>\n",
       "      <td>shot-on-goal</td>\n",
       "      <td>(-74, 7)</td>\n",
       "      <td>Jesper Fast</td>\n",
       "      <td>Ilya Sorokin</td>\n",
       "      <td>wrist</td>\n",
       "      <td>home</td>\n",
       "      <td>False</td>\n",
       "      <td>Neutral</td>\n",
       "      <td>16.6</td>\n",
       "      <td>5.403791</td>\n",
       "    </tr>\n",
       "    <tr>\n",
       "      <th>4</th>\n",
       "      <td>2022020124</td>\n",
       "      <td>REG</td>\n",
       "      <td>1/3</td>\n",
       "      <td>2022-10-28 23:07:30+00:00</td>\n",
       "      <td>1551</td>\n",
       "      <td>Hurricanes</td>\n",
       "      <td>shot-on-goal</td>\n",
       "      <td>(-13, -30)</td>\n",
       "      <td>Andrei Svechnikov</td>\n",
       "      <td>Ilya Sorokin</td>\n",
       "      <td>wrist</td>\n",
       "      <td>home</td>\n",
       "      <td>False</td>\n",
       "      <td>Neutral</td>\n",
       "      <td>81.7</td>\n",
       "      <td>66.571307</td>\n",
       "    </tr>\n",
       "  </tbody>\n",
       "</table>\n",
       "</div>"
      ]
     },
     "execution_count": 491,
     "metadata": {},
     "output_type": "execute_result"
    }
   ],
   "execution_count": 491
  },
  {
   "cell_type": "markdown",
   "id": "ebca9b32",
   "metadata": {},
   "source": [
    "## 5. Visualisation avancée"
   ]
  },
  {
   "cell_type": "code",
   "id": "edd0c0e2",
   "metadata": {
    "ExecuteTime": {
     "end_time": "2024-10-09T18:21:22.673748Z",
     "start_time": "2024-10-09T18:20:50.183709Z"
    }
   },
   "source": [
    "# Récupérer tous les données de 2022\n",
    "data_2022 = get_data_from(2022,2022)"
   ],
   "outputs": [
    {
     "name": "stdout",
     "output_type": "stream",
     "text": [
      "Data imported: 1312\n",
      "Data imported: 88\n"
     ]
    }
   ],
   "execution_count": 492
  },
  {
   "cell_type": "code",
   "id": "ef0a2c9c",
   "metadata": {
    "scrolled": true,
    "ExecuteTime": {
     "end_time": "2024-10-09T18:21:22.787401Z",
     "start_time": "2024-10-09T18:21:22.727339Z"
    }
   },
   "source": [
    "# Récupérer le nom de chaque équipe de l'année 2022\n",
    "teams = pd.concat([df['eventOwnerTeam'] for df in data_2022[2022]])\n",
    "unique_teams = teams.unique()\n",
    "print(unique_teams)"
   ],
   "outputs": [
    {
     "name": "stdout",
     "output_type": "stream",
     "text": [
      "['Sharks' 'Predators' 'Lightning' 'Rangers' 'Golden Knights' 'Kings'\n",
      " 'Capitals' 'Bruins' 'Hurricanes' 'Blue Jackets' 'Maple Leafs' 'Canadiens'\n",
      " 'Avalanche' 'Blackhawks' 'Ducks' 'Kraken' 'Canucks' 'Oilers' 'Penguins'\n",
      " 'Coyotes' 'Flyers' 'Devils' 'Senators' 'Sabres' 'Panthers' 'Islanders'\n",
      " 'Stars' 'Wild' 'Flames' 'Red Wings' 'Jets' 'Blues']\n"
     ]
    }
   ],
   "execution_count": 493
  },
  {
   "cell_type": "markdown",
   "id": "da55e81d",
   "metadata": {},
   "source": [
    "#### Here I need to create a dictionary with a DataFrame for each team. Those DataFrames will contain all the shots made by each teams for the season 2022, including playoffs."
   ]
  },
  {
   "cell_type": "code",
   "id": "a040f5c3",
   "metadata": {
    "ExecuteTime": {
     "end_time": "2024-10-09T18:21:47.831671Z",
     "start_time": "2024-10-09T18:21:22.871108Z"
    }
   },
   "source": [
    "# Dictionary that will have one DataFrame per team, where the team's name is the key\n",
    "team_shots_dfs = {}\n",
    "dfs_list = data_2022[2022] # Simplify\n",
    "\n",
    "# Loop over each team and filter rows accordingly\n",
    "for team in unique_teams:\n",
    "    \n",
    "    # Creates a DataFrame with only the shots made by a specific team\n",
    "    team_df = pd.concat([df[df['eventOwnerTeam'] == team] for df in dfs_list])\n",
    "    \n",
    "    # Add the new DataFrame to the team_shots_dfs dictionary\n",
    "    team_shots_dfs[team] = team_df"
   ],
   "outputs": [],
   "execution_count": 494
  },
  {
   "cell_type": "code",
   "id": "8781b6a3",
   "metadata": {
    "ExecuteTime": {
     "end_time": "2024-10-09T18:21:47.892347Z",
     "start_time": "2024-10-09T18:21:47.881598Z"
    }
   },
   "source": [
    "# Example of teams shots by the San Jose Sharks\n",
    "team_shots_dfs['Sharks'].head()"
   ],
   "outputs": [
    {
     "data": {
      "text/plain": [
       "        idGame periodType currentPeriod              timeInPeriod  \\\n",
       "0   2022020001        REG           1/3 2022-10-07 18:00:23+00:00   \n",
       "4   2022020001        REG           1/3 2022-10-07 18:02:42+00:00   \n",
       "6   2022020001        REG           1/3 2022-10-07 18:04:19+00:00   \n",
       "7   2022020001        REG           1/3 2022-10-07 18:04:44+00:00   \n",
       "10  2022020001        REG           1/3 2022-10-07 18:08:08+00:00   \n",
       "\n",
       "   situationCode eventOwnerTeam   typeDescKey  iceCoord  shootingPlayer  \\\n",
       "0           1551         Sharks  shot-on-goal   (44, 8)      Timo Meier   \n",
       "4           1551         Sharks  shot-on-goal   (72, 2)  Steven Lorentz   \n",
       "6           1551         Sharks  shot-on-goal  (49, 12)  Oskar Lindblom   \n",
       "7           1551         Sharks  shot-on-goal  (46, 18)    Kevin Labanc   \n",
       "10          1541         Sharks  shot-on-goal  (60, 17)    Kevin Labanc   \n",
       "\n",
       "   goaliePlayer shotType teamSide  emptyGoalNet isGoalAdvantage  shotDistance  \\\n",
       "0   Juuse Saros    wrist     away         False         Neutral          45.7   \n",
       "4   Juuse Saros   tip-in     away         False         Neutral          17.1   \n",
       "6   Juuse Saros    wrist     away         False         Neutral          41.8   \n",
       "7   Juuse Saros     slap     away         False         Neutral          46.6   \n",
       "10  Juuse Saros    wrist     away         False       Advantage          33.6   \n",
       "\n",
       "    shotAngle  \n",
       "0   10.304846  \n",
       "4    1.591140  \n",
       "6   13.760785  \n",
       "7   21.370622  \n",
       "10  15.819194  "
      ],
      "text/html": [
       "<div>\n",
       "<style scoped>\n",
       "    .dataframe tbody tr th:only-of-type {\n",
       "        vertical-align: middle;\n",
       "    }\n",
       "\n",
       "    .dataframe tbody tr th {\n",
       "        vertical-align: top;\n",
       "    }\n",
       "\n",
       "    .dataframe thead th {\n",
       "        text-align: right;\n",
       "    }\n",
       "</style>\n",
       "<table border=\"1\" class=\"dataframe\">\n",
       "  <thead>\n",
       "    <tr style=\"text-align: right;\">\n",
       "      <th></th>\n",
       "      <th>idGame</th>\n",
       "      <th>periodType</th>\n",
       "      <th>currentPeriod</th>\n",
       "      <th>timeInPeriod</th>\n",
       "      <th>situationCode</th>\n",
       "      <th>eventOwnerTeam</th>\n",
       "      <th>typeDescKey</th>\n",
       "      <th>iceCoord</th>\n",
       "      <th>shootingPlayer</th>\n",
       "      <th>goaliePlayer</th>\n",
       "      <th>shotType</th>\n",
       "      <th>teamSide</th>\n",
       "      <th>emptyGoalNet</th>\n",
       "      <th>isGoalAdvantage</th>\n",
       "      <th>shotDistance</th>\n",
       "      <th>shotAngle</th>\n",
       "    </tr>\n",
       "  </thead>\n",
       "  <tbody>\n",
       "    <tr>\n",
       "      <th>0</th>\n",
       "      <td>2022020001</td>\n",
       "      <td>REG</td>\n",
       "      <td>1/3</td>\n",
       "      <td>2022-10-07 18:00:23+00:00</td>\n",
       "      <td>1551</td>\n",
       "      <td>Sharks</td>\n",
       "      <td>shot-on-goal</td>\n",
       "      <td>(44, 8)</td>\n",
       "      <td>Timo Meier</td>\n",
       "      <td>Juuse Saros</td>\n",
       "      <td>wrist</td>\n",
       "      <td>away</td>\n",
       "      <td>False</td>\n",
       "      <td>Neutral</td>\n",
       "      <td>45.7</td>\n",
       "      <td>10.304846</td>\n",
       "    </tr>\n",
       "    <tr>\n",
       "      <th>4</th>\n",
       "      <td>2022020001</td>\n",
       "      <td>REG</td>\n",
       "      <td>1/3</td>\n",
       "      <td>2022-10-07 18:02:42+00:00</td>\n",
       "      <td>1551</td>\n",
       "      <td>Sharks</td>\n",
       "      <td>shot-on-goal</td>\n",
       "      <td>(72, 2)</td>\n",
       "      <td>Steven Lorentz</td>\n",
       "      <td>Juuse Saros</td>\n",
       "      <td>tip-in</td>\n",
       "      <td>away</td>\n",
       "      <td>False</td>\n",
       "      <td>Neutral</td>\n",
       "      <td>17.1</td>\n",
       "      <td>1.591140</td>\n",
       "    </tr>\n",
       "    <tr>\n",
       "      <th>6</th>\n",
       "      <td>2022020001</td>\n",
       "      <td>REG</td>\n",
       "      <td>1/3</td>\n",
       "      <td>2022-10-07 18:04:19+00:00</td>\n",
       "      <td>1551</td>\n",
       "      <td>Sharks</td>\n",
       "      <td>shot-on-goal</td>\n",
       "      <td>(49, 12)</td>\n",
       "      <td>Oskar Lindblom</td>\n",
       "      <td>Juuse Saros</td>\n",
       "      <td>wrist</td>\n",
       "      <td>away</td>\n",
       "      <td>False</td>\n",
       "      <td>Neutral</td>\n",
       "      <td>41.8</td>\n",
       "      <td>13.760785</td>\n",
       "    </tr>\n",
       "    <tr>\n",
       "      <th>7</th>\n",
       "      <td>2022020001</td>\n",
       "      <td>REG</td>\n",
       "      <td>1/3</td>\n",
       "      <td>2022-10-07 18:04:44+00:00</td>\n",
       "      <td>1551</td>\n",
       "      <td>Sharks</td>\n",
       "      <td>shot-on-goal</td>\n",
       "      <td>(46, 18)</td>\n",
       "      <td>Kevin Labanc</td>\n",
       "      <td>Juuse Saros</td>\n",
       "      <td>slap</td>\n",
       "      <td>away</td>\n",
       "      <td>False</td>\n",
       "      <td>Neutral</td>\n",
       "      <td>46.6</td>\n",
       "      <td>21.370622</td>\n",
       "    </tr>\n",
       "    <tr>\n",
       "      <th>10</th>\n",
       "      <td>2022020001</td>\n",
       "      <td>REG</td>\n",
       "      <td>1/3</td>\n",
       "      <td>2022-10-07 18:08:08+00:00</td>\n",
       "      <td>1541</td>\n",
       "      <td>Sharks</td>\n",
       "      <td>shot-on-goal</td>\n",
       "      <td>(60, 17)</td>\n",
       "      <td>Kevin Labanc</td>\n",
       "      <td>Juuse Saros</td>\n",
       "      <td>wrist</td>\n",
       "      <td>away</td>\n",
       "      <td>False</td>\n",
       "      <td>Advantage</td>\n",
       "      <td>33.6</td>\n",
       "      <td>15.819194</td>\n",
       "    </tr>\n",
       "  </tbody>\n",
       "</table>\n",
       "</div>"
      ]
     },
     "execution_count": 495,
     "metadata": {},
     "output_type": "execute_result"
    }
   ],
   "execution_count": 495
  },
  {
   "cell_type": "code",
   "id": "eaf43cba",
   "metadata": {
    "ExecuteTime": {
     "end_time": "2024-10-09T18:21:48.142155Z",
     "start_time": "2024-10-09T18:21:47.962885Z"
    }
   },
   "source": [
    "# Create a new column for goal (1) and non-goal (0)\n",
    "df = team_shots_dfs['Bruins'].copy()\n",
    "df['isGoal'] = np.where(df['typeDescKey'] == 'shot-on-goal', 0, 1)\n",
    "\n",
    "# Set up the figure\n",
    "plt.figure(figsize=(10, 6))\n",
    "\n",
    "# Plot KDEs for goals and non-goals\n",
    "sns.kdeplot(df[df['isGoal'] == 1]['shotDistance'], label='Goal', fill=True)\n",
    "sns.kdeplot(df[df['isGoal'] == 0]['shotDistance'], label='No Goal', fill=True)\n",
    "\n",
    "# Label the plot\n",
    "plt.title('Density Distribution of Shot Distances for the Boston Bruins')\n",
    "plt.xlabel('Shot Distance')\n",
    "plt.ylabel('Density')\n",
    "plt.legend()\n",
    "\n",
    "# Show plot\n",
    "plt.show()"
   ],
   "outputs": [
    {
     "data": {
      "text/plain": [
       "<Figure size 1000x600 with 1 Axes>"
      ],
      "image/png": "[encoded data removed]"
     },
     "metadata": {},
     "output_type": "display_data"
    }
   ],
   "execution_count": 496
  },
  {
   "cell_type": "code",
   "id": "e8d0b8e1",
   "metadata": {
    "ExecuteTime": {
     "end_time": "2024-10-09T18:21:48.396454Z",
     "start_time": "2024-10-09T18:21:48.190133Z"
    }
   },
   "source": [
    "# Create a new column for goal (1) and non-goal (0)\n",
    "df = team_shots_dfs['Canadiens'].copy()\n",
    "df['isGoal'] = np.where(df['typeDescKey'] == 'shot-on-goal', 0, 1)\n",
    "\n",
    "# Set up the figure\n",
    "plt.figure(figsize=(10, 6))\n",
    "\n",
    "# Plot KDEs for goals and non-goals\n",
    "sns.kdeplot(df[df['isGoal'] == 1]['shotDistance'], label='Goal', fill=True)\n",
    "sns.kdeplot(df[df['isGoal'] == 0]['shotDistance'], label='No Goal', fill=True)\n",
    "\n",
    "# Label the plot\n",
    "plt.title('Density Distribution of Shot Distances for the Montreal Canadiens')\n",
    "plt.xlabel('Shot Distance')\n",
    "plt.ylabel('Density')\n",
    "plt.legend()\n",
    "\n",
    "# Show plot\n",
    "plt.show()"
   ],
   "outputs": [
    {
     "data": {
      "text/plain": [
       "<Figure size 1000x600 with 1 Axes>"
      ],
      "image/png": "[encoded data removed]"
     },
     "metadata": {},
     "output_type": "display_data"
    }
   ],
   "execution_count": 497
  }
 ],
 "metadata": {
  "kernelspec": {
   "display_name": "Python 3 (ipykernel)",
   "language": "python",
   "name": "python3"
  },
  "language_info": {
   "codemirror_mode": {
    "name": "ipython",
    "version": 3
   },
   "file_extension": ".py",
   "mimetype": "text/x-python",
   "name": "python",
   "nbconvert_exporter": "python",
   "pygments_lexer": "ipython3",
   "version": "3.7.7"
  }
 },
 "nbformat": 4,
 "nbformat_minor": 5
}
