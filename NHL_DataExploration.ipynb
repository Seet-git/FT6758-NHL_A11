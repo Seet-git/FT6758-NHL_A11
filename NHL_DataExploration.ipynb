{
 "cells": [
  {
   "cell_type": "code",
   "execution_count": 39,
   "id": "b69354cd",
   "metadata": {},
   "outputs": [],
   "source": [
    "import SeasonData as sdata\n",
    "import pandas as pd"
   ]
  },
  {
   "cell_type": "code",
   "execution_count": 19,
   "id": "f6156ea3",
   "metadata": {},
   "outputs": [
    {
     "name": "stdout",
     "output_type": "stream",
     "text": [
      "Data imported: 0\n"
     ]
    }
   ],
   "source": [
    "# Generating play-by-play data for year 2022\n",
    "rs_data = sdata.NHLData()\n",
    "rs_data.fetch_regular_season(year = 2022)\n",
    "pbp_data = [pd.DataFrame(game['plays']) for game in rs_data.regular_season['2022']]"
   ]
  },
  {
   "cell_type": "code",
   "execution_count": 42,
   "id": "e69d27b9",
   "metadata": {},
   "outputs": [
    {
     "data": {
      "text/html": [
       "<div>\n",
       "<style scoped>\n",
       "    .dataframe tbody tr th:only-of-type {\n",
       "        vertical-align: middle;\n",
       "    }\n",
       "\n",
       "    .dataframe tbody tr th {\n",
       "        vertical-align: top;\n",
       "    }\n",
       "\n",
       "    .dataframe thead th {\n",
       "        text-align: right;\n",
       "    }\n",
       "</style>\n",
       "<table border=\"1\" class=\"dataframe\">\n",
       "  <thead>\n",
       "    <tr style=\"text-align: right;\">\n",
       "      <th></th>\n",
       "      <th>eventId</th>\n",
       "      <th>periodDescriptor</th>\n",
       "      <th>timeInPeriod</th>\n",
       "      <th>timeRemaining</th>\n",
       "      <th>situationCode</th>\n",
       "      <th>homeTeamDefendingSide</th>\n",
       "      <th>typeCode</th>\n",
       "      <th>typeDescKey</th>\n",
       "      <th>sortOrder</th>\n",
       "      <th>details</th>\n",
       "    </tr>\n",
       "  </thead>\n",
       "  <tbody>\n",
       "    <tr>\n",
       "      <th>0</th>\n",
       "      <td>8</td>\n",
       "      <td>{'number': 1, 'periodType': 'REG', 'maxRegulat...</td>\n",
       "      <td>00:00</td>\n",
       "      <td>20:00</td>\n",
       "      <td>1551</td>\n",
       "      <td>right</td>\n",
       "      <td>520</td>\n",
       "      <td>period-start</td>\n",
       "      <td>8</td>\n",
       "      <td>NaN</td>\n",
       "    </tr>\n",
       "    <tr>\n",
       "      <th>1</th>\n",
       "      <td>9</td>\n",
       "      <td>{'number': 1, 'periodType': 'REG', 'maxRegulat...</td>\n",
       "      <td>00:00</td>\n",
       "      <td>20:00</td>\n",
       "      <td>1551</td>\n",
       "      <td>right</td>\n",
       "      <td>502</td>\n",
       "      <td>faceoff</td>\n",
       "      <td>9</td>\n",
       "      <td>{'eventOwnerTeamId': 18, 'losingPlayerId': 847...</td>\n",
       "    </tr>\n",
       "    <tr>\n",
       "      <th>2</th>\n",
       "      <td>51</td>\n",
       "      <td>{'number': 1, 'periodType': 'REG', 'maxRegulat...</td>\n",
       "      <td>00:11</td>\n",
       "      <td>19:49</td>\n",
       "      <td>1551</td>\n",
       "      <td>right</td>\n",
       "      <td>503</td>\n",
       "      <td>hit</td>\n",
       "      <td>10</td>\n",
       "      <td>{'xCoord': -31, 'yCoord': -36, 'zoneCode': 'D'...</td>\n",
       "    </tr>\n",
       "    <tr>\n",
       "      <th>3</th>\n",
       "      <td>52</td>\n",
       "      <td>{'number': 1, 'periodType': 'REG', 'maxRegulat...</td>\n",
       "      <td>00:17</td>\n",
       "      <td>19:43</td>\n",
       "      <td>1551</td>\n",
       "      <td>right</td>\n",
       "      <td>503</td>\n",
       "      <td>hit</td>\n",
       "      <td>11</td>\n",
       "      <td>{'xCoord': -80, 'yCoord': 37, 'zoneCode': 'D',...</td>\n",
       "    </tr>\n",
       "    <tr>\n",
       "      <th>4</th>\n",
       "      <td>10</td>\n",
       "      <td>{'number': 1, 'periodType': 'REG', 'maxRegulat...</td>\n",
       "      <td>00:23</td>\n",
       "      <td>19:37</td>\n",
       "      <td>1551</td>\n",
       "      <td>right</td>\n",
       "      <td>506</td>\n",
       "      <td>shot-on-goal</td>\n",
       "      <td>12</td>\n",
       "      <td>{'xCoord': 44, 'yCoord': 8, 'zoneCode': 'O', '...</td>\n",
       "    </tr>\n",
       "  </tbody>\n",
       "</table>\n",
       "</div>"
      ],
      "text/plain": [
       "   eventId                                   periodDescriptor timeInPeriod  \\\n",
       "0        8  {'number': 1, 'periodType': 'REG', 'maxRegulat...        00:00   \n",
       "1        9  {'number': 1, 'periodType': 'REG', 'maxRegulat...        00:00   \n",
       "2       51  {'number': 1, 'periodType': 'REG', 'maxRegulat...        00:11   \n",
       "3       52  {'number': 1, 'periodType': 'REG', 'maxRegulat...        00:17   \n",
       "4       10  {'number': 1, 'periodType': 'REG', 'maxRegulat...        00:23   \n",
       "\n",
       "  timeRemaining situationCode homeTeamDefendingSide  typeCode   typeDescKey  \\\n",
       "0         20:00          1551                 right       520  period-start   \n",
       "1         20:00          1551                 right       502       faceoff   \n",
       "2         19:49          1551                 right       503           hit   \n",
       "3         19:43          1551                 right       503           hit   \n",
       "4         19:37          1551                 right       506  shot-on-goal   \n",
       "\n",
       "   sortOrder                                            details  \n",
       "0          8                                                NaN  \n",
       "1          9  {'eventOwnerTeamId': 18, 'losingPlayerId': 847...  \n",
       "2         10  {'xCoord': -31, 'yCoord': -36, 'zoneCode': 'D'...  \n",
       "3         11  {'xCoord': -80, 'yCoord': 37, 'zoneCode': 'D',...  \n",
       "4         12  {'xCoord': 44, 'yCoord': 8, 'zoneCode': 'O', '...  "
      ]
     },
     "execution_count": 42,
     "metadata": {},
     "output_type": "execute_result"
    }
   ],
   "source": [
    "pbp_data[0].head()"
   ]
  },
  {
   "cell_type": "code",
   "execution_count": 44,
   "id": "645e6acc",
   "metadata": {},
   "outputs": [
    {
     "name": "stdout",
     "output_type": "stream",
     "text": [
      "<class 'pandas.core.frame.DataFrame'>\n",
      "RangeIndex: 323 entries, 0 to 322\n",
      "Data columns (total 10 columns):\n",
      " #   Column                 Non-Null Count  Dtype \n",
      "---  ------                 --------------  ----- \n",
      " 0   eventId                323 non-null    int64 \n",
      " 1   periodDescriptor       323 non-null    object\n",
      " 2   timeInPeriod           323 non-null    object\n",
      " 3   timeRemaining          323 non-null    object\n",
      " 4   situationCode          322 non-null    object\n",
      " 5   homeTeamDefendingSide  323 non-null    object\n",
      " 6   typeCode               323 non-null    int64 \n",
      " 7   typeDescKey            323 non-null    object\n",
      " 8   sortOrder              323 non-null    int64 \n",
      " 9   details                316 non-null    object\n",
      "dtypes: int64(3), object(7)\n",
      "memory usage: 25.4+ KB\n"
     ]
    }
   ],
   "source": [
    "pbp_data[0].info()"
   ]
  },
  {
   "cell_type": "code",
   "execution_count": 40,
   "id": "0214bb32",
   "metadata": {},
   "outputs": [
    {
     "data": {
      "text/plain": [
       "('SJS', 'NSH')"
      ]
     },
     "execution_count": 40,
     "metadata": {},
     "output_type": "execute_result"
    }
   ],
   "source": [
    "# Fetching teams abbreviation\n",
    "(rs_data.regular_season['2022'][0]['awayTeam']['abbrev'], rs_data.regular_season['2022'][0]['homeTeam']['abbrev'])"
   ]
  },
  {
   "cell_type": "code",
   "execution_count": 45,
   "id": "a62e759b",
   "metadata": {},
   "outputs": [
    {
     "data": {
      "text/plain": [
       "2022020001"
      ]
     },
     "execution_count": 45,
     "metadata": {},
     "output_type": "execute_result"
    }
   ],
   "source": [
    "# Fetching a game id\n",
    "rs_data.regular_season['2022'][0]['id']"
   ]
  },
  {
   "cell_type": "code",
   "execution_count": null,
   "id": "c020596f",
   "metadata": {},
   "outputs": [],
   "source": []
  }
 ],
 "metadata": {
  "kernelspec": {
   "display_name": "Python 3 (ipykernel)",
   "language": "python",
   "name": "python3"
  },
  "language_info": {
   "codemirror_mode": {
    "name": "ipython",
    "version": 3
   },
   "file_extension": ".py",
   "mimetype": "text/x-python",
   "name": "python",
   "nbconvert_exporter": "python",
   "pygments_lexer": "ipython3",
   "version": "3.9.13"
  }
 },
 "nbformat": 4,
 "nbformat_minor": 5
}
