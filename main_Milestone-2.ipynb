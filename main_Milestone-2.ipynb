{
 "cells": [
  {
   "cell_type": "markdown",
   "id": "c80872dc-29ae-49ff-b9bc-fe5d93e2e735",
   "metadata": {},
   "source": [
    "# Milestone 2"
   ]
  },
  {
   "cell_type": "code",
   "id": "b003ab98-0656-4769-a091-34c2d40270b8",
   "metadata": {},
   "source": [
    "from cProfile import label\n",
    "\n",
    "from altair import XOffset\n",
    "from matplotlib.pyplot import ylabel, title\n",
    "from networkx.algorithms.bipartite.basic import color\n",
    "from scipy.stats import binned_statistic\n",
    "from streamlit import columns\n",
    "%load_ext autoreload\n",
    "%autoreload 2"
   ],
   "outputs": [],
   "execution_count": null
  },
  {
   "cell_type": "code",
   "id": "935a0893-61e9-45a2-8c74-83de62ee46a9",
   "metadata": {},
   "source": [
    "# all imports\n",
    "from src import *\n",
    "import pandas as pd\n",
    "import os.path"
   ],
   "outputs": [],
   "execution_count": null
  },
  {
   "cell_type": "markdown",
   "id": "81d3f10fb1207ecd",
   "metadata": {},
   "source": [
    "## Data acquisition"
   ]
  },
  {
   "cell_type": "code",
   "id": "ba8e508b87e75d",
   "metadata": {},
   "source": [
    "filename = './data/dataframe_2016_to_2019.csv'\n",
    "start_year = 2016\n",
    "end_year = 2019\n",
    "\n",
    "if not os.path.isfile(filename):\n",
    "    # Get the data from the NHL API (2016 - 2019)\n",
    "    nhl_data_provider = get_data_from(start_year, end_year)\n",
    "\n",
    "    # Clean the data\n",
    "    clean_regular_season, clean_playoff = clean_data(nhl_data_provider)\n",
    "\n",
    "    # Transform data into dataframe\n",
    "    df_2016_to_2019 = convert_dictionaries_to_dataframes(clean_regular_season,\n",
    "                                                         clean_playoff,\n",
    "                                                         np.arange(start_year, end_year + 1).tolist())\n",
    "    df_2016_to_2019.to_csv(filename, index=False)"
   ],
   "outputs": [],
   "execution_count": null
  },
  {
   "cell_type": "code",
   "id": "30d106063dac160f",
   "metadata": {},
   "source": [
    "train_data = pd.read_csv(filename)"
   ],
   "outputs": [],
   "execution_count": null
  },
  {
   "cell_type": "markdown",
   "id": "cd50c0cb-ba97-4145-a1c4-d16520a245ee",
   "metadata": {},
   "source": [
    "# Ingénierie des caractéristiques"
   ]
  },
  {
   "cell_type": "markdown",
   "id": "b923fde4-63fd-4665-af96-3f39f2428823",
   "metadata": {},
   "source": [
    "## Question 1"
   ]
  },
  {
   "cell_type": "code",
   "id": "b0fab71b229810cc",
   "metadata": {},
   "source": [
    "train_data['isGoal'] = train_data['typeDescKey'].apply(lambda x: 1 if x == 'goal' else 0)\n",
    "train_data['emptyGoalNet'] = train_data['emptyGoalNet'].astype(int)"
   ],
   "outputs": [],
   "execution_count": null
  },
  {
   "cell_type": "code",
   "id": "823381d6fa2ec155",
   "metadata": {},
   "source": [
    "count_table = pd.crosstab(train_data['isGoal'], train_data['typeDescKey'])\n",
    "# count_table2 = pd.crosstab(train_data['emptyGoalNet_0_1'],train_data['emptyGoalNet'])\n",
    "\n",
    "count_table\n",
    "# count_table2"
   ],
   "outputs": [],
   "execution_count": null
  },
  {
   "cell_type": "markdown",
   "id": "a74a58e4d007a935",
   "metadata": {},
   "source": [
    "#### Histogramme du nombre de tirs (buts et non-buts séparés), regroupés par distance"
   ]
  },
  {
   "cell_type": "code",
   "id": "69b746540f59f542",
   "metadata": {},
   "source": [
    "## Add in advancedVisualisation (by Youry)\n",
    "def histogram_2_variables(df, x, hue, bins, xlabel, ylabel, title, legendTitle, legendLabels):\n",
    "    plt.figure(figsize=(10, 6))\n",
    "    sns.histplot(data=df, x=x, hue=hue, bins=bins, multiple='dodge')\n",
    "    plt.xlabel(xlabel)\n",
    "    plt.ylabel(ylabel)\n",
    "    plt.title(title)\n",
    "    plt.legend(title=legendTitle, labels=legendLabels)\n",
    "    plt.show()\n",
    "\n",
    "\n",
    "histogram_2_variables(df=train_data, x='shotDistance', hue='isGoal', bins=20, xlabel='Distance du tir',\n",
    "                      ylabel='Nombre de tirs', title='Histogramme du nombre de tirs par distance (buts et non-buts)',\n",
    "                      legendTitle='Est-ce un but?', legendLabels=['But', 'Non-but'])"
   ],
   "outputs": [],
   "execution_count": null
  },
  {
   "cell_type": "markdown",
   "id": "dada7e9ffe260df6",
   "metadata": {},
   "source": [
    "#### Histogramme du nombre de tirs (buts et non-buts séparés), regroupés par angle"
   ]
  },
  {
   "cell_type": "code",
   "id": "82c884801d8862b3",
   "metadata": {},
   "source": [
    "histogram_2_variables(train_data, x='shotAngle', hue='isGoal', bins=20, xlabel='Angle du tir', ylabel='Nombre de tirs',\n",
    "                      title='Histogramme du nombre de tirs par angle (buts et non-buts)', legendTitle='Est-ce un but?',\n",
    "                      legendLabels=['But', 'Non-but'])"
   ],
   "outputs": [],
   "execution_count": null
  },
  {
   "cell_type": "markdown",
   "id": "e7ab91aa648af712",
   "metadata": {},
   "source": [
    "#### Histogramme 2D où un axe est la distance et l'autre est l'angle (sans distinction entre buts et non-buts)"
   ]
  },
  {
   "cell_type": "code",
   "id": "8ffc00609d6ad278",
   "metadata": {},
   "source": [
    "def histogram2D_2_variables(df, x, y, bins, label, xlabel, ylabel, title):\n",
    "    # Remove rows with NaN values\n",
    "    df = df.dropna(subset=[x, y])\n",
    "    # Plot the histogram with hue for 'is_goal'\n",
    "    plt.figure(figsize=(10, 6))\n",
    "    plt.hist2d(df[x], df[y], bins=bins, cmap='Blues')\n",
    "    # Customize legend labels for hue values\n",
    "    plt.colorbar(label=label)\n",
    "    plt.xlabel(xlabel)\n",
    "    plt.ylabel(ylabel)\n",
    "    plt.title(title)\n",
    "    plt.show()\n",
    "\n",
    "\n",
    "histogram2D_2_variables(train_data, x='shotDistance', y='shotAngle', bins=20, label='Nombre de tirs',\n",
    "                        xlabel='Distance du tir', ylabel='Angle du tir',\n",
    "                        title='Histogramme 2D du nombre de tirs par distance et angle')"
   ],
   "outputs": [],
   "execution_count": null
  },
  {
   "cell_type": "markdown",
   "id": "3987e0936629d0b3",
   "metadata": {},
   "source": []
  },
  {
   "cell_type": "code",
   "id": "8ed7c90cde829916",
   "metadata": {},
   "source": [
    "def histogram2D_2_variables_seaborn(df, x, y, kind, title, xlabel, ylabel):\n",
    "    # Remove rows with NaN values\n",
    "    df = df.dropna(subset=[x, y])\n",
    "    # Jointplot to visualize the 2D histogram\n",
    "    sns.jointplot(data=df, x=x, y=y, kind=kind, cmap='Blues')\n",
    "    # Add title and labels\n",
    "    plt.suptitle(title, fontsize=16)\n",
    "    plt.xlabel(xlabel)\n",
    "    plt.ylabel(ylabel)\n",
    "    # Show the plot\n",
    "    plt.show()\n",
    "\n",
    "\n",
    "histogram2D_2_variables_seaborn(train_data, x='shotDistance', y='shotAngle', kind='hist',\n",
    "                                title=\"Histogramme 2D de la Distance et de l'Angle\", xlabel='Distance du tir',\n",
    "                                ylabel='Angle du tir')"
   ],
   "outputs": [],
   "execution_count": null
  },
  {
   "cell_type": "markdown",
   "id": "b3c1b9bd-42be-41a6-8a92-6fc22f391f93",
   "metadata": {},
   "source": [
    "## Question 2"
   ]
  },
  {
   "cell_type": "markdown",
   "id": "be3fc60cbac49078",
   "metadata": {},
   "source": [
    "#### Le taux de but (buts / (buts + non-buts)) par distance"
   ]
  },
  {
   "cell_type": "code",
   "id": "354536725e03ce07",
   "metadata": {},
   "source": [
    "df_distance_goal_rate = train_data.groupby('shotDistance')['isGoal'].mean().reset_index()\n",
    "df_distance_goal_rate.columns = ['shotDistance', 'goalRate']\n",
    "\n",
    "df_distance_goal_rate\n"
   ],
   "outputs": [],
   "execution_count": null
  },
  {
   "cell_type": "code",
   "id": "e1dbfcf0bfaa643a",
   "metadata": {},
   "source": [
    "def lineplot_2_variables(df, x, y, title, xlabel, ylabel):\n",
    "    plt.figure(figsize=(10, 6))\n",
    "    sns.lineplot(data=df, x=x, y=y, marker='o')\n",
    "    plt.xlabel(xlabel)\n",
    "    plt.ylabel(ylabel)\n",
    "    plt.title(title)\n",
    "    plt.grid(True)\n",
    "    plt.show()\n",
    "\n",
    "\n",
    "lineplot_2_variables(df=df_distance_goal_rate, x='shotDistance', y='goalRate',\n",
    "                     title='Taux de but en fonction de la distance', xlabel='Distance du tir', ylabel='Taux de but')"
   ],
   "outputs": [],
   "execution_count": null
  },
  {
   "cell_type": "code",
   "id": "28f06856f5182f64",
   "metadata": {},
   "source": [
    "def scatterplot_2_variables(df, x, y, color, s, title, xlabel, ylabel):\n",
    "    plt.figure(figsize=(10, 6))\n",
    "    sns.scatterplot(data=df, x=x, y=y, color=color, s=s, marker='o')\n",
    "    plt.xlabel(xlabel)\n",
    "    plt.ylabel(ylabel)\n",
    "    plt.title(title)\n",
    "    plt.grid(True)\n",
    "    plt.show()\n",
    "\n",
    "\n",
    "scatterplot_2_variables(df=df_distance_goal_rate, x='shotDistance', y='goalRate', color='green', s=20,\n",
    "                        title='Taux de but en fonction de la distance', xlabel='Distance du tir', ylabel='Taux de but')"
   ],
   "outputs": [],
   "execution_count": null
  },
  {
   "cell_type": "markdown",
   "id": "ff01635877df8a39",
   "metadata": {},
   "source": [
    "#### Le taux de but (buts / (buts + non-buts)) par angle"
   ]
  },
  {
   "cell_type": "code",
   "id": "9d73a978a9e107e3",
   "metadata": {},
   "source": [
    "df_angle_goal_rate = train_data.groupby('shotAngle')['isGoal'].mean().reset_index()\n",
    "df_angle_goal_rate.columns = ['shotAngle', 'goalRate']\n",
    "\n",
    "df_angle_goal_rate\n"
   ],
   "outputs": [],
   "execution_count": null
  },
  {
   "cell_type": "code",
   "id": "9377ab40ff1e27b7",
   "metadata": {},
   "source": [
    "scatterplot_2_variables(df=df_angle_goal_rate, x='shotAngle', y='goalRate', color='green', s=20,\n",
    "                        title='Taux de but en fonction de l\\'angle', xlabel='Angle du tir', ylabel='Taux de but')"
   ],
   "outputs": [],
   "execution_count": null
  },
  {
   "cell_type": "markdown",
   "id": "50f0252c-a0f5-49d2-94d8-122c0a0d4f44",
   "metadata": {},
   "source": [
    "## Question 3"
   ]
  },
  {
   "cell_type": "markdown",
   "id": "d78a3f7c21677928",
   "metadata": {},
   "source": [
    "#### Verifier but net non vide sur l'équipe adverse depuis l'intérieur de votre zone défensive"
   ]
  },
  {
   "cell_type": "code",
   "id": "4884c4ad-24c0-48df-97b4-e94c01d6764f",
   "metadata": {},
   "source": [
    "plot_goals_by_distance(train_data)"
   ],
   "outputs": [],
   "execution_count": null
  },
  {
   "cell_type": "code",
   "id": "04289de7-98b7-41c2-aca7-47968e917dc8",
   "metadata": {},
   "source": [
    "faraway_goals = train_data[(train_data['shotDistance'] > 30) & (train_data['typeDescKey'] == 'goal')]\n",
    "\n",
    "grouped_df = faraway_goals.groupby(['shotType']).count()\n",
    "\n",
    "print(grouped_df['idGame'])"
   ],
   "outputs": [],
   "execution_count": null
  },
  {
   "cell_type": "code",
   "id": "bd69babd-479b-43f5-8e7c-6d585aa28dd4",
   "metadata": {},
   "source": [
    "faraway_goals[faraway_goals['shotType'] == 'wrap-around']"
   ],
   "outputs": [],
   "execution_count": null
  },
  {
   "cell_type": "code",
   "id": "897b8bd3-5c5e-4929-9bce-6c80c9f07058",
   "metadata": {},
   "source": [
    "# pour l'evenement 47255 du match 2016020779, le type de tir n'est pas correct car un wrap-around ne peut pas se faire aussi loin\n",
    "# voir: https://www.nhl.com/gamecenter/pit-vs-stl/2017/02/04/2016020779/playbyplay\n",
    "# pour l'evenement 135239 du match 2017020853, le type de tir n'est pas correct car un wrap-around ne peut pas se faire aussi loin\n",
    "# voir: https://www.nhl.com/gamecenter/pit-vs-stl/2018/02/11/2017020853/playbyplay\n",
    "\n",
    "# video wrap-around: https://www.youtube.com/watch?v=tmRibUXW8RE"
   ],
   "outputs": [],
   "execution_count": null
  },
  {
   "cell_type": "code",
   "id": "70430dae-7cfd-4313-a93a-bb4b9e957602",
   "metadata": {},
   "source": [
    "defensive_zone_goals = train_data[(train_data['shotDistance'] > 80) & (train_data['typeDescKey'] == 'goal')]\n",
    "\n",
    "grouped_df = defensive_zone_goals.groupby(['shotType', 'emptyGoalNet']).count()\n",
    "\n",
    "print(grouped_df['idGame'])"
   ],
   "outputs": [],
   "execution_count": null
  },
  {
   "cell_type": "code",
   "id": "5153c52a-f03a-4929-b055-979d2d33014f",
   "metadata": {},
   "source": [
    "defensive_zone_goals[(defensive_zone_goals['shotType'] == 'backhand') & (defensive_zone_goals['emptyGoalNet'] == False)]"
   ],
   "outputs": [],
   "execution_count": null
  },
  {
   "cell_type": "code",
   "id": "46420dc1-035d-451c-90d8-a0ca65527ac5",
   "metadata": {},
   "source": [
    "# l'venement 54362 du match 2016020894 n'a pas les bonnes coordonées. \n",
    "# voir la vidéo: https://www.youtube.com/watch?v=lM6JXVW0-YY du match. le but de Mats Zuccarello en période de shoot-out\n",
    "# est fait du coté droit, non du coté gauche\n",
    "\n",
    "# l'evenemnt 80622 du match 2017020004 n'a pas les bonnes coordonées.\n",
    "# voir la vidéo: https://www.youtube.com/watch?v=WpIGr7srlLY. le but de Kevin Labanc est du mauvais coté"
   ],
   "outputs": [],
   "execution_count": null
  },
  {
   "cell_type": "code",
   "id": "614c5347-d34b-4b9a-8f49-5d96230d3e3d",
   "metadata": {},
   "source": [
    "defensive_zone_goals[(defensive_zone_goals['emptyGoalNet'] == False) & (defensive_zone_goals['shotDistance'] > 110)]"
   ],
   "outputs": [],
   "execution_count": null
  },
  {
   "cell_type": "code",
   "id": "157aed92-34a5-40bb-8c0c-fdc7046d7e1f",
   "metadata": {},
   "source": [
    "# l'evenemnet 1806 n,est pas le bon zoneShoot/zoneCode. il a comme zoneShoot D (defensive) alors que quand on regarde le but de\n",
    "# John Tavares, il le marque bien dans la zone offensive https://www.youtube.com/watch?v=MO7vAygX2_c"
   ],
   "outputs": [],
   "execution_count": null
  },
  {
   "cell_type": "markdown",
   "id": "ad96b03ba9792ed",
   "metadata": {},
   "source": [
    "# Modèles de base"
   ]
  },
  {
   "cell_type": "code",
   "id": "626eff9f8b26b291",
   "metadata": {},
   "source": [
    "from sklearn.linear_model import LogisticRegression\n",
    "from sklearn.model_selection import train_test_split\n",
    "from sklearn.metrics import accuracy_score"
   ],
   "outputs": [],
   "execution_count": null
  },
  {
   "cell_type": "markdown",
   "id": "d21ecfbcf28f7733",
   "metadata": {},
   "source": [
    "#### Préparation de la caractéristique et de la cible"
   ]
  },
  {
   "cell_type": "code",
   "id": "657b093261e8e471",
   "metadata": {},
   "source": [
    "# Préparation de la caractéristique et de la cible\n",
    "X = train_data[['shotDistance']].dropna()\n",
    "y = train_data['isGoal'][X.index]"
   ],
   "outputs": [],
   "execution_count": null
  },
  {
   "cell_type": "code",
   "id": "74e8a02980cd3dee",
   "metadata": {},
   "source": [
    "# Division des données en ensembles d'entraînement et de validation\n",
    "X_train, X_val, y_train, y_val = train_test_split(X, y)"
   ],
   "outputs": [],
   "execution_count": null
  },
  {
   "cell_type": "code",
   "id": "664cc2a5b3000006",
   "metadata": {},
   "source": [
    "# # Vérification des types et absence de NaN\n",
    "# print(\"Type de X_train:\", type(X_train))\n",
    "# print(\"Type de y_train:\", type(y_train))\n",
    "# print(\"Valeurs manquantes dans X_train:\", X_train.isnull().sum().sum())\n",
    "# print(\"Valeurs manquantes dans y_train:\", y_train.isnull().sum())"
   ],
   "outputs": [],
   "execution_count": null
  },
  {
   "cell_type": "markdown",
   "id": "79ccda742e46aed7",
   "metadata": {},
   "source": [
    "#### Entraîner le modèle"
   ]
  },
  {
   "cell_type": "code",
   "id": "17ac8579f726925",
   "metadata": {},
   "source": [
    "clf = LogisticRegression()\n",
    "clf.fit(X_train, y_train)"
   ],
   "outputs": [],
   "execution_count": null
  },
  {
   "cell_type": "markdown",
   "id": "c3eb524c7482bddf",
   "metadata": {},
   "source": [
    "#### Prédiction et évaluation"
   ]
  },
  {
   "cell_type": "code",
   "id": "542df2e5872b7863",
   "metadata": {},
   "source": [
    "# Prédiction et évaluation\n",
    "y_pred = clf.predict(X_val)\n",
    "accuracy = accuracy_score(y_val, y_pred)\n",
    "print(f\"Précision du modèle sur l'ensemble de validation: {accuracy:.2f}\")"
   ],
   "outputs": [],
   "execution_count": null
  },
  {
   "metadata": {},
   "cell_type": "markdown",
   "source": [
    "## Question 5\n",
    "\n",
    "### Ajout de l'artefact sur Wandb"
   ],
   "id": "db0224009dcc7d52"
  },
  {
   "metadata": {},
   "cell_type": "code",
   "source": [
    "import wandb\n",
    "\n",
    "# Connect to the Wandb API\n",
    "api = wandb.Api()\n",
    "\n",
    "# Spécifiez votre projet\n",
    "project_name = \"IFT6758.2024-A11\" \n",
    "entity = \"youry-macius-universite-de-montreal\"  \n",
    "\n",
    "try:\n",
    "    artifact = api.artifact(f'{entity}/{project_name}/wpg_v_wsh_2017021065:latest')\n",
    "    print(\"L'artefact existe déjà.\")\n",
    "except wandb.errors.CommError as e:\n",
    "    run = wandb.init(project=\"IFT6758.2024-A11\")\n",
    "    \n",
    "    # Create artefact\n",
    "    artifact = wandb.Artifact(\n",
    "        \"wpg_v_wsh_2017021065\",\n",
    "        type=\"dataset\"\n",
    "    )\n",
    "    \n",
    "    # add data\n",
    "    my_table = wandb.Table(dataframe=train_data[train_data['idGame'] == 2017021065])\n",
    "    artifact.add(my_table, \"wpg_v_wsh_2017021065\")\n",
    "    run.log_artifact(artifact)\n"
   ],
   "id": "d7f485859221d38d",
   "outputs": [],
   "execution_count": null
  },
  {
   "metadata": {},
   "cell_type": "code",
   "source": "",
   "id": "f7be9c6cd03aff4f",
   "outputs": [],
   "execution_count": null
  }
 ],
 "metadata": {
  "kernelspec": {
   "display_name": "Python 3 (ipykernel)",
   "language": "python",
   "name": "python3"
  },
  "language_info": {
   "codemirror_mode": {
    "name": "ipython",
    "version": 3
   },
   "file_extension": ".py",
   "mimetype": "text/x-python",
   "name": "python",
   "nbconvert_exporter": "python",
   "pygments_lexer": "ipython3",
   "version": "3.9.20"
  }
 },
 "nbformat": 4,
 "nbformat_minor": 5
}
