{
 "cells": [
  {
   "cell_type": "markdown",
   "id": "c80872dc-29ae-49ff-b9bc-fe5d93e2e735",
   "metadata": {},
   "source": [
    "# Milestone 2"
   ]
  },
  {
   "cell_type": "code",
   "id": "b003ab98-0656-4769-a091-34c2d40270b8",
   "metadata": {
    "ExecuteTime": {
     "end_time": "2024-11-08T22:18:59.681126Z",
     "start_time": "2024-11-08T22:18:59.664651Z"
    }
   },
   "source": [
    "%load_ext autoreload\n",
    "%autoreload 2"
   ],
   "outputs": [
    {
     "name": "stdout",
     "output_type": "stream",
     "text": [
      "The autoreload extension is already loaded. To reload it, use:\n",
      "  %reload_ext autoreload\n"
     ]
    }
   ],
   "execution_count": 4
  },
  {
   "cell_type": "code",
   "id": "935a0893-61e9-45a2-8c74-83de62ee46a9",
   "metadata": {
    "ExecuteTime": {
     "end_time": "2024-11-08T22:18:59.708347Z",
     "start_time": "2024-11-08T22:18:59.693396Z"
    }
   },
   "source": [
    "# all imports\n",
    "from src import *\n",
    "import pandas as pd\n",
    "import os.path"
   ],
   "outputs": [],
   "execution_count": 5
  },
  {
   "metadata": {},
   "cell_type": "markdown",
   "source": "## Data acquisition",
   "id": "81d3f10fb1207ecd"
  },
  {
   "metadata": {
    "jupyter": {
     "is_executing": true
    },
    "ExecuteTime": {
     "start_time": "2024-11-08T22:18:59.743312Z"
    }
   },
   "cell_type": "code",
   "source": [
    "filename = './data/dataframe_2016_to_2019.csv'\n",
    "start_year = 2016\n",
    "end_year = 2019\n",
    "\n",
    "if not os.path.isfile(filename):\n",
    "    # Get the data from the NHL API (2016 - 2019)\n",
    "    nhl_data_provider = get_data_from(start_year, end_year)\n",
    "\n",
    "    # Clean the data\n",
    "    clean_regular_season, clean_playoff = clean_data(nhl_data_provider)\n",
    "\n",
    "    # Transform data into dataframe\n",
    "    df_2016_to_2019 = convert_dictionaries_to_dataframes(clean_regular_season,\n",
    "                                                     clean_playoff,\n",
    "                                                     np.arange(start_year, end_year + 1).tolist())\n",
    "    df_2016_to_2019.to_csv(filename, index=False)"
   ],
   "id": "ba8e508b87e75d",
   "outputs": [
    {
     "name": "stdout",
     "output_type": "stream",
     "text": [
      "Successfully imported NHL data for the 2016 season.\n",
      "Successfully imported NHL data for the 2017 season.\n",
      "Successfully imported NHL data for the 2018 season.\n",
      "Successfully imported NHL data for the 2019 season.\n"
     ]
    }
   ],
   "execution_count": null
  },
  {
   "metadata": {},
   "cell_type": "code",
   "outputs": [],
   "execution_count": null,
   "source": "train_data = pd.read_csv(filename)",
   "id": "30d106063dac160f"
  },
  {
   "cell_type": "markdown",
   "id": "cd50c0cb-ba97-4145-a1c4-d16520a245ee",
   "metadata": {},
   "source": "# Ingénierie des caractéristiques"
  },
  {
   "cell_type": "markdown",
   "id": "b923fde4-63fd-4665-af96-3f39f2428823",
   "metadata": {},
   "source": "## Question 1"
  },
  {
   "cell_type": "markdown",
   "id": "b3c1b9bd-42be-41a6-8a92-6fc22f391f93",
   "metadata": {},
   "source": "## Question 2"
  },
  {
   "cell_type": "markdown",
   "id": "50f0252c-a0f5-49d2-94d8-122c0a0d4f44",
   "metadata": {},
   "source": "## Question 3"
  },
  {
   "cell_type": "code",
   "execution_count": null,
   "id": "b3826f3b-c7dd-46ca-a332-85a95ddc528e",
   "metadata": {},
   "outputs": [],
   "source": [
    "plot_goals_by_distance(train_data)"
   ]
  }
 ],
 "metadata": {
  "kernelspec": {
   "display_name": "Python 3 (ipykernel)",
   "language": "python",
   "name": "python3"
  },
  "language_info": {
   "codemirror_mode": {
    "name": "ipython",
    "version": 3
   },
   "file_extension": ".py",
   "mimetype": "text/x-python",
   "name": "python",
   "nbconvert_exporter": "python",
   "pygments_lexer": "ipython3",
   "version": "3.9.20"
  }
 },
 "nbformat": 4,
 "nbformat_minor": 5
}
