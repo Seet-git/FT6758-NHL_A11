{
 "cells": [
  {
   "cell_type": "markdown",
   "id": "c80872dc-29ae-49ff-b9bc-fe5d93e2e735",
   "metadata": {},
   "source": [
    "# Milestone 2\n",
    "\n",
    "### Avant de commencer. Merci de lire bien attentivement le README.md pour cette seconde partie."
   ]
  },
  {
   "cell_type": "code",
   "id": "b003ab98-0656-4769-a091-34c2d40270b8",
   "metadata": {
    "ExecuteTime": {
     "end_time": "2024-11-22T22:07:44.679597Z",
     "start_time": "2024-11-22T22:07:44.626476Z"
    }
   },
   "source": [
    "%load_ext autoreload\n",
    "%autoreload 2"
   ],
   "outputs": [],
   "execution_count": 2
  },
  {
   "cell_type": "code",
   "id": "935a0893-61e9-45a2-8c74-83de62ee46a9",
   "metadata": {
    "ExecuteTime": {
     "end_time": "2024-11-22T22:07:55.689435Z",
     "start_time": "2024-11-22T22:07:44.685856Z"
    }
   },
   "source": [
    "# all imports\n",
    "from src import *\n",
    "import pandas as pd\n",
    "import os.path\n",
    "from sklearn.model_selection import GridSearchCV, StratifiedKFold\n",
    "import wandb\n",
    "import pickle\n",
    "from sklearn.metrics import roc_auc_score\n",
    "from xgboost import XGBClassifier\n",
    "import config\n",
    "from sklearn.metrics import roc_curve, auc, RocCurveDisplay\n",
    "from sklearn.calibration import CalibrationDisplay\n",
    "from sklearn.linear_model import LogisticRegression\n",
    "from sklearn.model_selection import train_test_split\n",
    "from sklearn.metrics import accuracy_score, f1_score\n",
    "from sklearn.compose import ColumnTransformer\n",
    "from sklearn.preprocessing import OneHotEncoder\n",
    "# commenté car j'ai des érreurs liées au package torch qui est assez complique a installer windows\n",
    "#from src.models import model_start"
   ],
   "outputs": [],
   "execution_count": 3
  },
  {
   "cell_type": "markdown",
   "id": "81d3f10fb1207ecd",
   "metadata": {},
   "source": [
    "## Data acquisition"
   ]
  },
  {
   "cell_type": "code",
   "id": "ba8e508b87e75d",
   "metadata": {
    "jupyter": {
     "is_executing": true
    },
    "ExecuteTime": {
     "start_time": "2024-11-22T22:07:55.743979Z"
    }
   },
   "source": [
    "filename = './data/dataframe_2016_to_2019.csv'\n",
    "start_year = 2016\n",
    "end_year = 2019\n",
    "\n",
    "if not os.path.isfile(filename):\n",
    "    # Get the data from the NHL API (2016 - 2019)\n",
    "    nhl_data_provider = get_data_from(start_year, end_year)\n",
    "\n",
    "    # Clean the data\n",
    "    clean_regular_season, clean_playoff = clean_data(nhl_data_provider)\n",
    "\n",
    "    # Transform data into dataframe\n",
    "    df_2016_to_2019 = convert_dictionaries_to_dataframes(clean_regular_season,\n",
    "                                                         clean_playoff,\n",
    "                                                         np.arange(start_year, end_year + 1).tolist())\n",
    "    df_2016_to_2019.to_csv(filename, index=False)"
   ],
   "outputs": [
    {
     "name": "stdout",
     "output_type": "stream",
     "text": [
      "Data was successfully imported: data/regular_season/2016\\2016_0001.json\n",
      "Data was successfully imported: data/regular_season/2016\\2016_0002.json\n",
      "Data was successfully imported: data/regular_season/2016\\2016_0003.json\n",
      "Data was successfully imported: data/regular_season/2016\\2016_0004.json\n",
      "Data was successfully imported: data/regular_season/2016\\2016_0005.json\n",
      "Data was successfully imported: data/regular_season/2016\\2016_0006.json\n",
      "Data was successfully imported: data/regular_season/2016\\2016_0007.json\n",
      "Data was successfully imported: data/regular_season/2016\\2016_0008.json\n",
      "Data was successfully imported: data/regular_season/2016\\2016_0009.json\n",
      "Data was successfully imported: data/regular_season/2016\\2016_0010.json\n",
      "Data was successfully imported: data/regular_season/2016\\2016_0011.json\n",
      "Data was successfully imported: data/regular_season/2016\\2016_0012.json\n",
      "Data was successfully imported: data/regular_season/2016\\2016_0013.json\n",
      "Data was successfully imported: data/regular_season/2016\\2016_0014.json\n",
      "Data was successfully imported: data/regular_season/2016\\2016_0015.json\n",
      "Data was successfully imported: data/regular_season/2016\\2016_0016.json\n",
      "Data was successfully imported: data/regular_season/2016\\2016_0017.json\n",
      "Data was successfully imported: data/regular_season/2016\\2016_0018.json\n",
      "Data was successfully imported: data/regular_season/2016\\2016_0019.json\n",
      "Data was successfully imported: data/regular_season/2016\\2016_0020.json\n",
      "Data was successfully imported: data/regular_season/2016\\2016_0021.json\n",
      "Data was successfully imported: data/regular_season/2016\\2016_0022.json\n",
      "Data was successfully imported: data/regular_season/2016\\2016_0023.json\n",
      "Data was successfully imported: data/regular_season/2016\\2016_0024.json\n",
      "Data was successfully imported: data/regular_season/2016\\2016_0025.json\n",
      "Data was successfully imported: data/regular_season/2016\\2016_0026.json\n",
      "Data was successfully imported: data/regular_season/2016\\2016_0027.json\n",
      "Data was successfully imported: data/regular_season/2016\\2016_0028.json\n",
      "Data was successfully imported: data/regular_season/2016\\2016_0029.json\n",
      "Data was successfully imported: data/regular_season/2016\\2016_0030.json\n",
      "Data was successfully imported: data/regular_season/2016\\2016_0031.json\n",
      "Data was successfully imported: data/regular_season/2016\\2016_0032.json\n",
      "Data was successfully imported: data/regular_season/2016\\2016_0033.json\n",
      "Data was successfully imported: data/regular_season/2016\\2016_0034.json\n",
      "Data was successfully imported: data/regular_season/2016\\2016_0035.json\n",
      "Data was successfully imported: data/regular_season/2016\\2016_0036.json\n",
      "Data was successfully imported: data/regular_season/2016\\2016_0037.json\n",
      "Data was successfully imported: data/regular_season/2016\\2016_0038.json\n",
      "Data was successfully imported: data/regular_season/2016\\2016_0039.json\n",
      "Data was successfully imported: data/regular_season/2016\\2016_0040.json\n",
      "Data was successfully imported: data/regular_season/2016\\2016_0041.json\n",
      "Data was successfully imported: data/regular_season/2016\\2016_0042.json\n",
      "Data was successfully imported: data/regular_season/2016\\2016_0043.json\n",
      "Data was successfully imported: data/regular_season/2016\\2016_0044.json\n",
      "Data was successfully imported: data/regular_season/2016\\2016_0045.json\n",
      "Data was successfully imported: data/regular_season/2016\\2016_0046.json\n",
      "Data was successfully imported: data/regular_season/2016\\2016_0047.json\n",
      "Data was successfully imported: data/regular_season/2016\\2016_0048.json\n",
      "Data was successfully imported: data/regular_season/2016\\2016_0049.json\n",
      "Data was successfully imported: data/regular_season/2016\\2016_0050.json\n",
      "Data was successfully imported: data/regular_season/2016\\2016_0051.json\n",
      "Data was successfully imported: data/regular_season/2016\\2016_0052.json\n",
      "Data was successfully imported: data/regular_season/2016\\2016_0053.json\n",
      "Data was successfully imported: data/regular_season/2016\\2016_0054.json\n",
      "Data was successfully imported: data/regular_season/2016\\2016_0055.json\n",
      "Data was successfully imported: data/regular_season/2016\\2016_0056.json\n",
      "Data was successfully imported: data/regular_season/2016\\2016_0057.json\n",
      "Data was successfully imported: data/regular_season/2016\\2016_0058.json\n",
      "Data was successfully imported: data/regular_season/2016\\2016_0059.json\n",
      "Data was successfully imported: data/regular_season/2016\\2016_0060.json\n",
      "Data was successfully imported: data/regular_season/2016\\2016_0061.json\n",
      "Data was successfully imported: data/regular_season/2016\\2016_0062.json\n",
      "Data was successfully imported: data/regular_season/2016\\2016_0063.json\n",
      "Data was successfully imported: data/regular_season/2016\\2016_0064.json\n",
      "Data was successfully imported: data/regular_season/2016\\2016_0065.json\n",
      "Data was successfully imported: data/regular_season/2016\\2016_0066.json\n",
      "Data was successfully imported: data/regular_season/2016\\2016_0067.json\n",
      "Data was successfully imported: data/regular_season/2016\\2016_0068.json\n",
      "Data was successfully imported: data/regular_season/2016\\2016_0069.json\n",
      "Data was successfully imported: data/regular_season/2016\\2016_0070.json\n",
      "Data was successfully imported: data/regular_season/2016\\2016_0071.json\n",
      "Data was successfully imported: data/regular_season/2016\\2016_0072.json\n",
      "Data was successfully imported: data/regular_season/2016\\2016_0073.json\n",
      "Data was successfully imported: data/regular_season/2016\\2016_0074.json\n",
      "Data was successfully imported: data/regular_season/2016\\2016_0075.json\n",
      "Data was successfully imported: data/regular_season/2016\\2016_0076.json\n",
      "Data was successfully imported: data/regular_season/2016\\2016_0077.json\n",
      "Data was successfully imported: data/regular_season/2016\\2016_0078.json\n",
      "Data was successfully imported: data/regular_season/2016\\2016_0079.json\n",
      "Data was successfully imported: data/regular_season/2016\\2016_0080.json\n",
      "Data was successfully imported: data/regular_season/2016\\2016_0081.json\n",
      "Data was successfully imported: data/regular_season/2016\\2016_0082.json\n",
      "Data was successfully imported: data/regular_season/2016\\2016_0083.json\n",
      "Data was successfully imported: data/regular_season/2016\\2016_0084.json\n",
      "Data was successfully imported: data/regular_season/2016\\2016_0085.json\n",
      "Data was successfully imported: data/regular_season/2016\\2016_0086.json\n",
      "Data was successfully imported: data/regular_season/2016\\2016_0087.json\n",
      "Data was successfully imported: data/regular_season/2016\\2016_0088.json\n",
      "Data was successfully imported: data/regular_season/2016\\2016_0089.json\n",
      "Data was successfully imported: data/regular_season/2016\\2016_0090.json\n",
      "Data was successfully imported: data/regular_season/2016\\2016_0091.json\n",
      "Data was successfully imported: data/regular_season/2016\\2016_0092.json\n",
      "Data was successfully imported: data/regular_season/2016\\2016_0093.json\n",
      "Data was successfully imported: data/regular_season/2016\\2016_0094.json\n",
      "Data was successfully imported: data/regular_season/2016\\2016_0095.json\n",
      "Data was successfully imported: data/regular_season/2016\\2016_0096.json\n",
      "Data was successfully imported: data/regular_season/2016\\2016_0097.json\n",
      "Data was successfully imported: data/regular_season/2016\\2016_0098.json\n",
      "Data was successfully imported: data/regular_season/2016\\2016_0099.json\n",
      "Data was successfully imported: data/regular_season/2016\\2016_0100.json\n",
      "Data was successfully imported: data/regular_season/2016\\2016_0101.json\n",
      "Data was successfully imported: data/regular_season/2016\\2016_0102.json\n",
      "Data was successfully imported: data/regular_season/2016\\2016_0103.json\n",
      "Data was successfully imported: data/regular_season/2016\\2016_0104.json\n",
      "Data was successfully imported: data/regular_season/2016\\2016_0105.json\n",
      "Data was successfully imported: data/regular_season/2016\\2016_0106.json\n",
      "Data was successfully imported: data/regular_season/2016\\2016_0107.json\n",
      "Data was successfully imported: data/regular_season/2016\\2016_0108.json\n",
      "Data was successfully imported: data/regular_season/2016\\2016_0109.json\n",
      "Data was successfully imported: data/regular_season/2016\\2016_0110.json\n",
      "Data was successfully imported: data/regular_season/2016\\2016_0111.json\n",
      "Data was successfully imported: data/regular_season/2016\\2016_0112.json\n",
      "Data was successfully imported: data/regular_season/2016\\2016_0113.json\n",
      "Data was successfully imported: data/regular_season/2016\\2016_0114.json\n",
      "Data was successfully imported: data/regular_season/2016\\2016_0115.json\n",
      "Data was successfully imported: data/regular_season/2016\\2016_0116.json\n",
      "Data was successfully imported: data/regular_season/2016\\2016_0117.json\n",
      "Data was successfully imported: data/regular_season/2016\\2016_0118.json\n",
      "Data was successfully imported: data/regular_season/2016\\2016_0119.json\n",
      "Data was successfully imported: data/regular_season/2016\\2016_0120.json\n",
      "Data was successfully imported: data/regular_season/2016\\2016_0121.json\n",
      "Data was successfully imported: data/regular_season/2016\\2016_0122.json\n",
      "Data was successfully imported: data/regular_season/2016\\2016_0123.json\n",
      "Data was successfully imported: data/regular_season/2016\\2016_0124.json\n",
      "Data was successfully imported: data/regular_season/2016\\2016_0125.json\n",
      "Data was successfully imported: data/regular_season/2016\\2016_0126.json\n",
      "Data was successfully imported: data/regular_season/2016\\2016_0127.json\n",
      "Data was successfully imported: data/regular_season/2016\\2016_0128.json\n",
      "Data was successfully imported: data/regular_season/2016\\2016_0129.json\n",
      "Data was successfully imported: data/regular_season/2016\\2016_0130.json\n",
      "Data was successfully imported: data/regular_season/2016\\2016_0131.json\n",
      "Data was successfully imported: data/regular_season/2016\\2016_0132.json\n",
      "Data was successfully imported: data/regular_season/2016\\2016_0133.json\n",
      "Data was successfully imported: data/regular_season/2016\\2016_0134.json\n",
      "Data was successfully imported: data/regular_season/2016\\2016_0135.json\n",
      "Data was successfully imported: data/regular_season/2016\\2016_0136.json\n",
      "Data was successfully imported: data/regular_season/2016\\2016_0137.json\n",
      "Data was successfully imported: data/regular_season/2016\\2016_0138.json\n",
      "Data was successfully imported: data/regular_season/2016\\2016_0139.json\n",
      "Data was successfully imported: data/regular_season/2016\\2016_0140.json\n",
      "Data was successfully imported: data/regular_season/2016\\2016_0141.json\n",
      "Data was successfully imported: data/regular_season/2016\\2016_0142.json\n",
      "Data was successfully imported: data/regular_season/2016\\2016_0143.json\n",
      "Data was successfully imported: data/regular_season/2016\\2016_0144.json\n",
      "Data was successfully imported: data/regular_season/2016\\2016_0145.json\n",
      "Data was successfully imported: data/regular_season/2016\\2016_0146.json\n",
      "Data was successfully imported: data/regular_season/2016\\2016_0147.json\n",
      "Data was successfully imported: data/regular_season/2016\\2016_0148.json\n",
      "Data was successfully imported: data/regular_season/2016\\2016_0149.json\n",
      "Data was successfully imported: data/regular_season/2016\\2016_0150.json\n",
      "Data was successfully imported: data/regular_season/2016\\2016_0151.json\n",
      "Data was successfully imported: data/regular_season/2016\\2016_0152.json\n",
      "Data was successfully imported: data/regular_season/2016\\2016_0153.json\n",
      "Data was successfully imported: data/regular_season/2016\\2016_0154.json\n",
      "Data was successfully imported: data/regular_season/2016\\2016_0155.json\n",
      "Data was successfully imported: data/regular_season/2016\\2016_0156.json\n",
      "Data was successfully imported: data/regular_season/2016\\2016_0157.json\n",
      "Data was successfully imported: data/regular_season/2016\\2016_0158.json\n",
      "Data was successfully imported: data/regular_season/2016\\2016_0159.json\n",
      "Data was successfully imported: data/regular_season/2016\\2016_0160.json\n",
      "Data was successfully imported: data/regular_season/2016\\2016_0161.json\n",
      "Data was successfully imported: data/regular_season/2016\\2016_0162.json\n",
      "Data was successfully imported: data/regular_season/2016\\2016_0163.json\n",
      "Data was successfully imported: data/regular_season/2016\\2016_0164.json\n",
      "Data was successfully imported: data/regular_season/2016\\2016_0165.json\n",
      "Data was successfully imported: data/regular_season/2016\\2016_0166.json\n",
      "Data was successfully imported: data/regular_season/2016\\2016_0167.json\n",
      "Data was successfully imported: data/regular_season/2016\\2016_0168.json\n",
      "Data was successfully imported: data/regular_season/2016\\2016_0169.json\n",
      "Data was successfully imported: data/regular_season/2016\\2016_0170.json\n",
      "Data was successfully imported: data/regular_season/2016\\2016_0171.json\n",
      "Data was successfully imported: data/regular_season/2016\\2016_0172.json\n",
      "Data was successfully imported: data/regular_season/2016\\2016_0173.json\n",
      "Data was successfully imported: data/regular_season/2016\\2016_0174.json\n",
      "Data was successfully imported: data/regular_season/2016\\2016_0175.json\n",
      "Data was successfully imported: data/regular_season/2016\\2016_0176.json\n",
      "Data was successfully imported: data/regular_season/2016\\2016_0177.json\n",
      "Data was successfully imported: data/regular_season/2016\\2016_0178.json\n",
      "Data was successfully imported: data/regular_season/2016\\2016_0179.json\n",
      "Data was successfully imported: data/regular_season/2016\\2016_0180.json\n",
      "Data was successfully imported: data/regular_season/2016\\2016_0181.json\n",
      "Data was successfully imported: data/regular_season/2016\\2016_0182.json\n",
      "Data was successfully imported: data/regular_season/2016\\2016_0183.json\n",
      "Data was successfully imported: data/regular_season/2016\\2016_0184.json\n",
      "Data was successfully imported: data/regular_season/2016\\2016_0185.json\n",
      "Data was successfully imported: data/regular_season/2016\\2016_0186.json\n",
      "Data was successfully imported: data/regular_season/2016\\2016_0187.json\n",
      "Data was successfully imported: data/regular_season/2016\\2016_0188.json\n",
      "Data was successfully imported: data/regular_season/2016\\2016_0189.json\n",
      "Data was successfully imported: data/regular_season/2016\\2016_0190.json\n",
      "Data was successfully imported: data/regular_season/2016\\2016_0191.json\n",
      "Data was successfully imported: data/regular_season/2016\\2016_0192.json\n",
      "Data was successfully imported: data/regular_season/2016\\2016_0193.json\n",
      "Data was successfully imported: data/regular_season/2016\\2016_0194.json\n",
      "Data was successfully imported: data/regular_season/2016\\2016_0195.json\n",
      "Data was successfully imported: data/regular_season/2016\\2016_0196.json\n",
      "Data was successfully imported: data/regular_season/2016\\2016_0197.json\n",
      "Data was successfully imported: data/regular_season/2016\\2016_0198.json\n",
      "Data was successfully imported: data/regular_season/2016\\2016_0199.json\n",
      "Data was successfully imported: data/regular_season/2016\\2016_0200.json\n",
      "Data was successfully imported: data/regular_season/2016\\2016_0201.json\n",
      "Data was successfully imported: data/regular_season/2016\\2016_0202.json\n",
      "Data was successfully imported: data/regular_season/2016\\2016_0203.json\n",
      "Data was successfully imported: data/regular_season/2016\\2016_0204.json\n",
      "Data was successfully imported: data/regular_season/2016\\2016_0205.json\n",
      "Data was successfully imported: data/regular_season/2016\\2016_0206.json\n",
      "Data was successfully imported: data/regular_season/2016\\2016_0207.json\n",
      "Data was successfully imported: data/regular_season/2016\\2016_0208.json\n",
      "Data was successfully imported: data/regular_season/2016\\2016_0209.json\n",
      "Data was successfully imported: data/regular_season/2016\\2016_0210.json\n",
      "Data was successfully imported: data/regular_season/2016\\2016_0211.json\n",
      "Data was successfully imported: data/regular_season/2016\\2016_0212.json\n",
      "Data was successfully imported: data/regular_season/2016\\2016_0213.json\n",
      "Data was successfully imported: data/regular_season/2016\\2016_0214.json\n",
      "Data was successfully imported: data/regular_season/2016\\2016_0215.json\n",
      "Data was successfully imported: data/regular_season/2016\\2016_0216.json\n",
      "Data was successfully imported: data/regular_season/2016\\2016_0217.json\n",
      "Data was successfully imported: data/regular_season/2016\\2016_0218.json\n",
      "Data was successfully imported: data/regular_season/2016\\2016_0219.json\n",
      "Data was successfully imported: data/regular_season/2016\\2016_0220.json\n",
      "Data was successfully imported: data/regular_season/2016\\2016_0221.json\n",
      "Data was successfully imported: data/regular_season/2016\\2016_0222.json\n",
      "Data was successfully imported: data/regular_season/2016\\2016_0223.json\n",
      "Data was successfully imported: data/regular_season/2016\\2016_0224.json\n",
      "Data was successfully imported: data/regular_season/2016\\2016_0225.json\n",
      "Data was successfully imported: data/regular_season/2016\\2016_0226.json\n",
      "Data was successfully imported: data/regular_season/2016\\2016_0227.json\n",
      "Data was successfully imported: data/regular_season/2016\\2016_0228.json\n",
      "Data was successfully imported: data/regular_season/2016\\2016_0229.json\n",
      "Data was successfully imported: data/regular_season/2016\\2016_0230.json\n",
      "Data was successfully imported: data/regular_season/2016\\2016_0231.json\n",
      "Data was successfully imported: data/regular_season/2016\\2016_0232.json\n",
      "Data was successfully imported: data/regular_season/2016\\2016_0233.json\n",
      "Data was successfully imported: data/regular_season/2016\\2016_0234.json\n",
      "Data was successfully imported: data/regular_season/2016\\2016_0235.json\n",
      "Data was successfully imported: data/regular_season/2016\\2016_0236.json\n",
      "Data was successfully imported: data/regular_season/2016\\2016_0237.json\n",
      "Data was successfully imported: data/regular_season/2016\\2016_0238.json\n",
      "Data was successfully imported: data/regular_season/2016\\2016_0239.json\n",
      "Data was successfully imported: data/regular_season/2016\\2016_0240.json\n",
      "Data was successfully imported: data/regular_season/2016\\2016_0241.json\n",
      "Data was successfully imported: data/regular_season/2016\\2016_0242.json\n",
      "Data was successfully imported: data/regular_season/2016\\2016_0243.json\n",
      "Data was successfully imported: data/regular_season/2016\\2016_0244.json\n",
      "Data was successfully imported: data/regular_season/2016\\2016_0245.json\n",
      "Data was successfully imported: data/regular_season/2016\\2016_0246.json\n",
      "Data was successfully imported: data/regular_season/2016\\2016_0247.json\n",
      "Data was successfully imported: data/regular_season/2016\\2016_0248.json\n",
      "Data was successfully imported: data/regular_season/2016\\2016_0249.json\n",
      "Data was successfully imported: data/regular_season/2016\\2016_0250.json\n",
      "Data was successfully imported: data/regular_season/2016\\2016_0251.json\n",
      "Data was successfully imported: data/regular_season/2016\\2016_0252.json\n",
      "Data was successfully imported: data/regular_season/2016\\2016_0253.json\n",
      "Data was successfully imported: data/regular_season/2016\\2016_0254.json\n",
      "Data was successfully imported: data/regular_season/2016\\2016_0255.json\n",
      "Data was successfully imported: data/regular_season/2016\\2016_0256.json\n",
      "Data was successfully imported: data/regular_season/2016\\2016_0257.json\n",
      "Data was successfully imported: data/regular_season/2016\\2016_0258.json\n",
      "Data was successfully imported: data/regular_season/2016\\2016_0259.json\n",
      "Data was successfully imported: data/regular_season/2016\\2016_0260.json\n",
      "Data was successfully imported: data/regular_season/2016\\2016_0261.json\n",
      "Data was successfully imported: data/regular_season/2016\\2016_0262.json\n",
      "Data was successfully imported: data/regular_season/2016\\2016_0263.json\n",
      "Data was successfully imported: data/regular_season/2016\\2016_0264.json\n",
      "Data was successfully imported: data/regular_season/2016\\2016_0265.json\n",
      "Data was successfully imported: data/regular_season/2016\\2016_0266.json\n",
      "Data was successfully imported: data/regular_season/2016\\2016_0267.json\n",
      "Data was successfully imported: data/regular_season/2016\\2016_0268.json\n",
      "Data was successfully imported: data/regular_season/2016\\2016_0269.json\n",
      "Data was successfully imported: data/regular_season/2016\\2016_0270.json\n",
      "Data was successfully imported: data/regular_season/2016\\2016_0271.json\n",
      "Data was successfully imported: data/regular_season/2016\\2016_0272.json\n",
      "Data was successfully imported: data/regular_season/2016\\2016_0273.json\n",
      "Data was successfully imported: data/regular_season/2016\\2016_0274.json\n",
      "Data was successfully imported: data/regular_season/2016\\2016_0275.json\n",
      "Data was successfully imported: data/regular_season/2016\\2016_0276.json\n",
      "Data was successfully imported: data/regular_season/2016\\2016_0277.json\n",
      "Data was successfully imported: data/regular_season/2016\\2016_0278.json\n",
      "Data was successfully imported: data/regular_season/2016\\2016_0279.json\n",
      "Data was successfully imported: data/regular_season/2016\\2016_0280.json\n",
      "Data was successfully imported: data/regular_season/2016\\2016_0281.json\n",
      "Data was successfully imported: data/regular_season/2016\\2016_0282.json\n",
      "Data was successfully imported: data/regular_season/2016\\2016_0283.json\n",
      "Data was successfully imported: data/regular_season/2016\\2016_0284.json\n",
      "Data was successfully imported: data/regular_season/2016\\2016_0285.json\n",
      "Data was successfully imported: data/regular_season/2016\\2016_0286.json\n",
      "Data was successfully imported: data/regular_season/2016\\2016_0287.json\n",
      "Data was successfully imported: data/regular_season/2016\\2016_0288.json\n",
      "Data was successfully imported: data/regular_season/2016\\2016_0289.json\n",
      "Data was successfully imported: data/regular_season/2016\\2016_0290.json\n",
      "Data was successfully imported: data/regular_season/2016\\2016_0291.json\n",
      "Data was successfully imported: data/regular_season/2016\\2016_0292.json\n",
      "Data was successfully imported: data/regular_season/2016\\2016_0293.json\n",
      "Data was successfully imported: data/regular_season/2016\\2016_0294.json\n",
      "Data was successfully imported: data/regular_season/2016\\2016_0295.json\n",
      "Data was successfully imported: data/regular_season/2016\\2016_0296.json\n",
      "Data was successfully imported: data/regular_season/2016\\2016_0297.json\n",
      "Data was successfully imported: data/regular_season/2016\\2016_0298.json\n",
      "Data was successfully imported: data/regular_season/2016\\2016_0299.json\n",
      "Data was successfully imported: data/regular_season/2016\\2016_0300.json\n",
      "Data was successfully imported: data/regular_season/2016\\2016_0301.json\n",
      "Data was successfully imported: data/regular_season/2016\\2016_0302.json\n",
      "Data was successfully imported: data/regular_season/2016\\2016_0303.json\n",
      "Data was successfully imported: data/regular_season/2016\\2016_0304.json\n",
      "Data was successfully imported: data/regular_season/2016\\2016_0305.json\n",
      "Data was successfully imported: data/regular_season/2016\\2016_0306.json\n",
      "Data was successfully imported: data/regular_season/2016\\2016_0307.json\n",
      "Data was successfully imported: data/regular_season/2016\\2016_0308.json\n",
      "Data was successfully imported: data/regular_season/2016\\2016_0309.json\n",
      "Data was successfully imported: data/regular_season/2016\\2016_0310.json\n",
      "Data was successfully imported: data/regular_season/2016\\2016_0311.json\n",
      "Data was successfully imported: data/regular_season/2016\\2016_0312.json\n",
      "Data was successfully imported: data/regular_season/2016\\2016_0313.json\n",
      "Data was successfully imported: data/regular_season/2016\\2016_0314.json\n",
      "Data was successfully imported: data/regular_season/2016\\2016_0315.json\n",
      "Data was successfully imported: data/regular_season/2016\\2016_0316.json\n",
      "Data was successfully imported: data/regular_season/2016\\2016_0317.json\n",
      "Data was successfully imported: data/regular_season/2016\\2016_0318.json\n",
      "Data was successfully imported: data/regular_season/2016\\2016_0319.json\n",
      "Data was successfully imported: data/regular_season/2016\\2016_0320.json\n",
      "Data was successfully imported: data/regular_season/2016\\2016_0321.json\n",
      "Data was successfully imported: data/regular_season/2016\\2016_0322.json\n",
      "Data was successfully imported: data/regular_season/2016\\2016_0323.json\n",
      "Data was successfully imported: data/regular_season/2016\\2016_0324.json\n",
      "Data was successfully imported: data/regular_season/2016\\2016_0325.json\n",
      "Data was successfully imported: data/regular_season/2016\\2016_0326.json\n",
      "Data was successfully imported: data/regular_season/2016\\2016_0327.json\n",
      "Data was successfully imported: data/regular_season/2016\\2016_0328.json\n",
      "Data was successfully imported: data/regular_season/2016\\2016_0329.json\n",
      "Data was successfully imported: data/regular_season/2016\\2016_0330.json\n",
      "Data was successfully imported: data/regular_season/2016\\2016_0331.json\n",
      "Data was successfully imported: data/regular_season/2016\\2016_0332.json\n",
      "Data was successfully imported: data/regular_season/2016\\2016_0333.json\n",
      "Data was successfully imported: data/regular_season/2016\\2016_0334.json\n",
      "Data was successfully imported: data/regular_season/2016\\2016_0335.json\n",
      "Data was successfully imported: data/regular_season/2016\\2016_0336.json\n",
      "Data was successfully imported: data/regular_season/2016\\2016_0337.json\n",
      "Data was successfully imported: data/regular_season/2016\\2016_0338.json\n",
      "Data was successfully imported: data/regular_season/2016\\2016_0339.json\n",
      "Data was successfully imported: data/regular_season/2016\\2016_0340.json\n",
      "Data was successfully imported: data/regular_season/2016\\2016_0341.json\n",
      "Data was successfully imported: data/regular_season/2016\\2016_0342.json\n",
      "Data was successfully imported: data/regular_season/2016\\2016_0343.json\n",
      "Data was successfully imported: data/regular_season/2016\\2016_0344.json\n",
      "Data was successfully imported: data/regular_season/2016\\2016_0345.json\n",
      "Data was successfully imported: data/regular_season/2016\\2016_0346.json\n",
      "Data was successfully imported: data/regular_season/2016\\2016_0347.json\n",
      "Data was successfully imported: data/regular_season/2016\\2016_0348.json\n",
      "Data was successfully imported: data/regular_season/2016\\2016_0349.json\n",
      "Data was successfully imported: data/regular_season/2016\\2016_0350.json\n",
      "Data was successfully imported: data/regular_season/2016\\2016_0351.json\n",
      "Data was successfully imported: data/regular_season/2016\\2016_0352.json\n",
      "Data was successfully imported: data/regular_season/2016\\2016_0353.json\n",
      "Data was successfully imported: data/regular_season/2016\\2016_0354.json\n",
      "Data was successfully imported: data/regular_season/2016\\2016_0355.json\n",
      "Data was successfully imported: data/regular_season/2016\\2016_0356.json\n",
      "Data was successfully imported: data/regular_season/2016\\2016_0357.json\n",
      "Data was successfully imported: data/regular_season/2016\\2016_0358.json\n",
      "Data was successfully imported: data/regular_season/2016\\2016_0359.json\n",
      "Data was successfully imported: data/regular_season/2016\\2016_0360.json\n",
      "Data was successfully imported: data/regular_season/2016\\2016_0361.json\n",
      "Data was successfully imported: data/regular_season/2016\\2016_0362.json\n",
      "Data was successfully imported: data/regular_season/2016\\2016_0363.json\n",
      "Data was successfully imported: data/regular_season/2016\\2016_0364.json\n",
      "Data was successfully imported: data/regular_season/2016\\2016_0365.json\n",
      "Data was successfully imported: data/regular_season/2016\\2016_0366.json\n",
      "Data was successfully imported: data/regular_season/2016\\2016_0367.json\n",
      "Data was successfully imported: data/regular_season/2016\\2016_0368.json\n",
      "Data was successfully imported: data/regular_season/2016\\2016_0369.json\n",
      "Data was successfully imported: data/regular_season/2016\\2016_0370.json\n",
      "Data was successfully imported: data/regular_season/2016\\2016_0371.json\n",
      "Data was successfully imported: data/regular_season/2016\\2016_0372.json\n",
      "Data was successfully imported: data/regular_season/2016\\2016_0373.json\n",
      "Data was successfully imported: data/regular_season/2016\\2016_0374.json\n",
      "Data was successfully imported: data/regular_season/2016\\2016_0375.json\n",
      "Data was successfully imported: data/regular_season/2016\\2016_0376.json\n",
      "Data was successfully imported: data/regular_season/2016\\2016_0377.json\n",
      "Data was successfully imported: data/regular_season/2016\\2016_0378.json\n",
      "Data was successfully imported: data/regular_season/2016\\2016_0379.json\n",
      "Data was successfully imported: data/regular_season/2016\\2016_0380.json\n",
      "Data was successfully imported: data/regular_season/2016\\2016_0381.json\n",
      "Data was successfully imported: data/regular_season/2016\\2016_0382.json\n",
      "Data was successfully imported: data/regular_season/2016\\2016_0383.json\n",
      "Data was successfully imported: data/regular_season/2016\\2016_0384.json\n",
      "Data was successfully imported: data/regular_season/2016\\2016_0385.json\n",
      "Data was successfully imported: data/regular_season/2016\\2016_0386.json\n",
      "Data was successfully imported: data/regular_season/2016\\2016_0387.json\n",
      "Data was successfully imported: data/regular_season/2016\\2016_0388.json\n",
      "Data was successfully imported: data/regular_season/2016\\2016_0389.json\n",
      "Data was successfully imported: data/regular_season/2016\\2016_0390.json\n",
      "Data was successfully imported: data/regular_season/2016\\2016_0391.json\n",
      "Data was successfully imported: data/regular_season/2016\\2016_0392.json\n",
      "Data was successfully imported: data/regular_season/2016\\2016_0393.json\n",
      "Data was successfully imported: data/regular_season/2016\\2016_0394.json\n",
      "Data was successfully imported: data/regular_season/2016\\2016_0395.json\n",
      "Data was successfully imported: data/regular_season/2016\\2016_0396.json\n",
      "Data was successfully imported: data/regular_season/2016\\2016_0397.json\n",
      "Data was successfully imported: data/regular_season/2016\\2016_0398.json\n",
      "Data was successfully imported: data/regular_season/2016\\2016_0399.json\n",
      "Data was successfully imported: data/regular_season/2016\\2016_0400.json\n",
      "Data was successfully imported: data/regular_season/2016\\2016_0401.json\n",
      "Data was successfully imported: data/regular_season/2016\\2016_0402.json\n",
      "Data was successfully imported: data/regular_season/2016\\2016_0403.json\n",
      "Data was successfully imported: data/regular_season/2016\\2016_0404.json\n",
      "Data was successfully imported: data/regular_season/2016\\2016_0405.json\n",
      "Data was successfully imported: data/regular_season/2016\\2016_0406.json\n",
      "Data was successfully imported: data/regular_season/2016\\2016_0407.json\n",
      "Data was successfully imported: data/regular_season/2016\\2016_0408.json\n",
      "Data was successfully imported: data/regular_season/2016\\2016_0409.json\n",
      "Data was successfully imported: data/regular_season/2016\\2016_0410.json\n",
      "Data was successfully imported: data/regular_season/2016\\2016_0411.json\n",
      "Data was successfully imported: data/regular_season/2016\\2016_0412.json\n",
      "Data was successfully imported: data/regular_season/2016\\2016_0413.json\n",
      "Data was successfully imported: data/regular_season/2016\\2016_0414.json\n",
      "Data was successfully imported: data/regular_season/2016\\2016_0415.json\n",
      "Data was successfully imported: data/regular_season/2016\\2016_0416.json\n",
      "Data was successfully imported: data/regular_season/2016\\2016_0417.json\n",
      "Data was successfully imported: data/regular_season/2016\\2016_0418.json\n",
      "Data was successfully imported: data/regular_season/2016\\2016_0419.json\n",
      "Data was successfully imported: data/regular_season/2016\\2016_0420.json\n",
      "Data was successfully imported: data/regular_season/2016\\2016_0421.json\n",
      "Data was successfully imported: data/regular_season/2016\\2016_0422.json\n",
      "Data was successfully imported: data/regular_season/2016\\2016_0423.json\n",
      "Data was successfully imported: data/regular_season/2016\\2016_0424.json\n",
      "Data was successfully imported: data/regular_season/2016\\2016_0425.json\n",
      "Data was successfully imported: data/regular_season/2016\\2016_0426.json\n",
      "Data was successfully imported: data/regular_season/2016\\2016_0427.json\n",
      "Data was successfully imported: data/regular_season/2016\\2016_0428.json\n",
      "Data was successfully imported: data/regular_season/2016\\2016_0429.json\n",
      "Data was successfully imported: data/regular_season/2016\\2016_0430.json\n",
      "Data was successfully imported: data/regular_season/2016\\2016_0431.json\n",
      "Data was successfully imported: data/regular_season/2016\\2016_0432.json\n",
      "Data was successfully imported: data/regular_season/2016\\2016_0433.json\n",
      "Data was successfully imported: data/regular_season/2016\\2016_0434.json\n",
      "Data was successfully imported: data/regular_season/2016\\2016_0435.json\n",
      "Data was successfully imported: data/regular_season/2016\\2016_0436.json\n",
      "Data was successfully imported: data/regular_season/2016\\2016_0437.json\n",
      "Data was successfully imported: data/regular_season/2016\\2016_0438.json\n",
      "Data was successfully imported: data/regular_season/2016\\2016_0439.json\n",
      "Data was successfully imported: data/regular_season/2016\\2016_0440.json\n",
      "Data was successfully imported: data/regular_season/2016\\2016_0441.json\n",
      "Data was successfully imported: data/regular_season/2016\\2016_0442.json\n",
      "Data was successfully imported: data/regular_season/2016\\2016_0443.json\n",
      "Data was successfully imported: data/regular_season/2016\\2016_0444.json\n",
      "Data was successfully imported: data/regular_season/2016\\2016_0445.json\n",
      "Data was successfully imported: data/regular_season/2016\\2016_0446.json\n",
      "Data was successfully imported: data/regular_season/2016\\2016_0447.json\n",
      "Data was successfully imported: data/regular_season/2016\\2016_0448.json\n",
      "Data was successfully imported: data/regular_season/2016\\2016_0449.json\n",
      "Data was successfully imported: data/regular_season/2016\\2016_0450.json\n",
      "Data was successfully imported: data/regular_season/2016\\2016_0451.json\n",
      "Data was successfully imported: data/regular_season/2016\\2016_0452.json\n",
      "Data was successfully imported: data/regular_season/2016\\2016_0453.json\n",
      "Data was successfully imported: data/regular_season/2016\\2016_0454.json\n",
      "Data was successfully imported: data/regular_season/2016\\2016_0455.json\n",
      "Data was successfully imported: data/regular_season/2016\\2016_0456.json\n",
      "Data was successfully imported: data/regular_season/2016\\2016_0457.json\n",
      "Data was successfully imported: data/regular_season/2016\\2016_0458.json\n",
      "Data was successfully imported: data/regular_season/2016\\2016_0459.json\n",
      "Data was successfully imported: data/regular_season/2016\\2016_0460.json\n",
      "Data was successfully imported: data/regular_season/2016\\2016_0461.json\n",
      "Data was successfully imported: data/regular_season/2016\\2016_0462.json\n",
      "Data was successfully imported: data/regular_season/2016\\2016_0463.json\n",
      "Data was successfully imported: data/regular_season/2016\\2016_0464.json\n",
      "Data was successfully imported: data/regular_season/2016\\2016_0465.json\n",
      "Data was successfully imported: data/regular_season/2016\\2016_0466.json\n",
      "Data was successfully imported: data/regular_season/2016\\2016_0467.json\n",
      "Data was successfully imported: data/regular_season/2016\\2016_0468.json\n",
      "Data was successfully imported: data/regular_season/2016\\2016_0469.json\n",
      "Data was successfully imported: data/regular_season/2016\\2016_0470.json\n",
      "Data was successfully imported: data/regular_season/2016\\2016_0471.json\n",
      "Data was successfully imported: data/regular_season/2016\\2016_0472.json\n",
      "Data was successfully imported: data/regular_season/2016\\2016_0473.json\n",
      "Data was successfully imported: data/regular_season/2016\\2016_0474.json\n",
      "Data was successfully imported: data/regular_season/2016\\2016_0475.json\n",
      "Data was successfully imported: data/regular_season/2016\\2016_0476.json\n",
      "Data was successfully imported: data/regular_season/2016\\2016_0477.json\n",
      "Data was successfully imported: data/regular_season/2016\\2016_0478.json\n",
      "Data was successfully imported: data/regular_season/2016\\2016_0479.json\n",
      "Data was successfully imported: data/regular_season/2016\\2016_0480.json\n",
      "Data was successfully imported: data/regular_season/2016\\2016_0481.json\n",
      "Data was successfully imported: data/regular_season/2016\\2016_0482.json\n",
      "Data was successfully imported: data/regular_season/2016\\2016_0483.json\n",
      "Data was successfully imported: data/regular_season/2016\\2016_0484.json\n",
      "Data was successfully imported: data/regular_season/2016\\2016_0485.json\n",
      "Data was successfully imported: data/regular_season/2016\\2016_0486.json\n",
      "Data was successfully imported: data/regular_season/2016\\2016_0487.json\n",
      "Data was successfully imported: data/regular_season/2016\\2016_0488.json\n",
      "Data was successfully imported: data/regular_season/2016\\2016_0489.json\n",
      "Data was successfully imported: data/regular_season/2016\\2016_0490.json\n",
      "Data was successfully imported: data/regular_season/2016\\2016_0491.json\n",
      "Data was successfully imported: data/regular_season/2016\\2016_0492.json\n",
      "Data was successfully imported: data/regular_season/2016\\2016_0493.json\n",
      "Data was successfully imported: data/regular_season/2016\\2016_0494.json\n",
      "Data was successfully imported: data/regular_season/2016\\2016_0495.json\n",
      "Data was successfully imported: data/regular_season/2016\\2016_0496.json\n",
      "Data was successfully imported: data/regular_season/2016\\2016_0497.json\n",
      "Data was successfully imported: data/regular_season/2016\\2016_0498.json\n",
      "Data was successfully imported: data/regular_season/2016\\2016_0499.json\n",
      "Data was successfully imported: data/regular_season/2016\\2016_0500.json\n",
      "Data was successfully imported: data/regular_season/2016\\2016_0501.json\n",
      "Data was successfully imported: data/regular_season/2016\\2016_0502.json\n",
      "Data was successfully imported: data/regular_season/2016\\2016_0503.json\n",
      "Data was successfully imported: data/regular_season/2016\\2016_0504.json\n",
      "Data was successfully imported: data/regular_season/2016\\2016_0505.json\n",
      "Data was successfully imported: data/regular_season/2016\\2016_0506.json\n",
      "Data was successfully imported: data/regular_season/2016\\2016_0507.json\n",
      "Data was successfully imported: data/regular_season/2016\\2016_0508.json\n",
      "Data was successfully imported: data/regular_season/2016\\2016_0509.json\n",
      "Data was successfully imported: data/regular_season/2016\\2016_0510.json\n",
      "Data was successfully imported: data/regular_season/2016\\2016_0511.json\n",
      "Data was successfully imported: data/regular_season/2016\\2016_0512.json\n",
      "Data was successfully imported: data/regular_season/2016\\2016_0513.json\n",
      "Data was successfully imported: data/regular_season/2016\\2016_0514.json\n",
      "Data was successfully imported: data/regular_season/2016\\2016_0515.json\n",
      "Data was successfully imported: data/regular_season/2016\\2016_0516.json\n",
      "Data was successfully imported: data/regular_season/2016\\2016_0517.json\n",
      "Data was successfully imported: data/regular_season/2016\\2016_0518.json\n",
      "Data was successfully imported: data/regular_season/2016\\2016_0519.json\n",
      "Data was successfully imported: data/regular_season/2016\\2016_0520.json\n",
      "Data was successfully imported: data/regular_season/2016\\2016_0521.json\n",
      "Data was successfully imported: data/regular_season/2016\\2016_0522.json\n",
      "Data was successfully imported: data/regular_season/2016\\2016_0523.json\n",
      "Data was successfully imported: data/regular_season/2016\\2016_0524.json\n",
      "Data was successfully imported: data/regular_season/2016\\2016_0525.json\n",
      "Data was successfully imported: data/regular_season/2016\\2016_0526.json\n",
      "Data was successfully imported: data/regular_season/2016\\2016_0527.json\n",
      "Data was successfully imported: data/regular_season/2016\\2016_0528.json\n",
      "Data was successfully imported: data/regular_season/2016\\2016_0529.json\n",
      "Data was successfully imported: data/regular_season/2016\\2016_0530.json\n",
      "Data was successfully imported: data/regular_season/2016\\2016_0531.json\n",
      "Data was successfully imported: data/regular_season/2016\\2016_0532.json\n",
      "Data was successfully imported: data/regular_season/2016\\2016_0533.json\n",
      "Data was successfully imported: data/regular_season/2016\\2016_0534.json\n",
      "Data was successfully imported: data/regular_season/2016\\2016_0535.json\n",
      "Data was successfully imported: data/regular_season/2016\\2016_0536.json\n",
      "Data was successfully imported: data/regular_season/2016\\2016_0537.json\n",
      "Data was successfully imported: data/regular_season/2016\\2016_0538.json\n",
      "Data was successfully imported: data/regular_season/2016\\2016_0539.json\n",
      "Data was successfully imported: data/regular_season/2016\\2016_0540.json\n",
      "Data was successfully imported: data/regular_season/2016\\2016_0541.json\n",
      "Data was successfully imported: data/regular_season/2016\\2016_0542.json\n",
      "Data was successfully imported: data/regular_season/2016\\2016_0543.json\n",
      "Data was successfully imported: data/regular_season/2016\\2016_0544.json\n",
      "Data was successfully imported: data/regular_season/2016\\2016_0545.json\n",
      "Data was successfully imported: data/regular_season/2016\\2016_0546.json\n",
      "Data was successfully imported: data/regular_season/2016\\2016_0547.json\n",
      "Data was successfully imported: data/regular_season/2016\\2016_0548.json\n",
      "Data was successfully imported: data/regular_season/2016\\2016_0549.json\n",
      "Data was successfully imported: data/regular_season/2016\\2016_0550.json\n",
      "Data was successfully imported: data/regular_season/2016\\2016_0551.json\n",
      "Data was successfully imported: data/regular_season/2016\\2016_0552.json\n",
      "Data was successfully imported: data/regular_season/2016\\2016_0553.json\n",
      "Data was successfully imported: data/regular_season/2016\\2016_0554.json\n",
      "Data was successfully imported: data/regular_season/2016\\2016_0555.json\n",
      "Data was successfully imported: data/regular_season/2016\\2016_0556.json\n",
      "Data was successfully imported: data/regular_season/2016\\2016_0557.json\n",
      "Data was successfully imported: data/regular_season/2016\\2016_0558.json\n",
      "Data was successfully imported: data/regular_season/2016\\2016_0559.json\n",
      "Data was successfully imported: data/regular_season/2016\\2016_0560.json\n",
      "Data was successfully imported: data/regular_season/2016\\2016_0561.json\n",
      "Data was successfully imported: data/regular_season/2016\\2016_0562.json\n",
      "Data was successfully imported: data/regular_season/2016\\2016_0563.json\n",
      "Data was successfully imported: data/regular_season/2016\\2016_0564.json\n",
      "Data was successfully imported: data/regular_season/2016\\2016_0565.json\n",
      "Data was successfully imported: data/regular_season/2016\\2016_0566.json\n",
      "Data was successfully imported: data/regular_season/2016\\2016_0567.json\n",
      "Data was successfully imported: data/regular_season/2016\\2016_0568.json\n",
      "Data was successfully imported: data/regular_season/2016\\2016_0569.json\n",
      "Data was successfully imported: data/regular_season/2016\\2016_0570.json\n",
      "Data was successfully imported: data/regular_season/2016\\2016_0571.json\n",
      "Data was successfully imported: data/regular_season/2016\\2016_0572.json\n",
      "Data was successfully imported: data/regular_season/2016\\2016_0573.json\n",
      "Data was successfully imported: data/regular_season/2016\\2016_0574.json\n",
      "Data was successfully imported: data/regular_season/2016\\2016_0575.json\n",
      "Data was successfully imported: data/regular_season/2016\\2016_0576.json\n",
      "Data was successfully imported: data/regular_season/2016\\2016_0577.json\n",
      "Data was successfully imported: data/regular_season/2016\\2016_0578.json\n",
      "Data was successfully imported: data/regular_season/2016\\2016_0579.json\n",
      "Data was successfully imported: data/regular_season/2016\\2016_0580.json\n",
      "Data was successfully imported: data/regular_season/2016\\2016_0581.json\n",
      "Data was successfully imported: data/regular_season/2016\\2016_0582.json\n",
      "Data was successfully imported: data/regular_season/2016\\2016_0583.json\n",
      "Data was successfully imported: data/regular_season/2016\\2016_0584.json\n",
      "Data was successfully imported: data/regular_season/2016\\2016_0585.json\n",
      "Data was successfully imported: data/regular_season/2016\\2016_0586.json\n",
      "Data was successfully imported: data/regular_season/2016\\2016_0587.json\n",
      "Data was successfully imported: data/regular_season/2016\\2016_0588.json\n",
      "Data was successfully imported: data/regular_season/2016\\2016_0589.json\n",
      "Data was successfully imported: data/regular_season/2016\\2016_0590.json\n",
      "Data was successfully imported: data/regular_season/2016\\2016_0591.json\n",
      "Data was successfully imported: data/regular_season/2016\\2016_0592.json\n",
      "Data was successfully imported: data/regular_season/2016\\2016_0593.json\n",
      "Data was successfully imported: data/regular_season/2016\\2016_0594.json\n",
      "Data was successfully imported: data/regular_season/2016\\2016_0595.json\n",
      "Data was successfully imported: data/regular_season/2016\\2016_0596.json\n",
      "Data was successfully imported: data/regular_season/2016\\2016_0597.json\n",
      "Data was successfully imported: data/regular_season/2016\\2016_0598.json\n",
      "Data was successfully imported: data/regular_season/2016\\2016_0599.json\n",
      "Data was successfully imported: data/regular_season/2016\\2016_0600.json\n",
      "Data was successfully imported: data/regular_season/2016\\2016_0601.json\n",
      "Data was successfully imported: data/regular_season/2016\\2016_0602.json\n",
      "Data was successfully imported: data/regular_season/2016\\2016_0603.json\n",
      "Data was successfully imported: data/regular_season/2016\\2016_0604.json\n",
      "Data was successfully imported: data/regular_season/2016\\2016_0605.json\n",
      "Data was successfully imported: data/regular_season/2016\\2016_0606.json\n",
      "Data was successfully imported: data/regular_season/2016\\2016_0607.json\n",
      "Data was successfully imported: data/regular_season/2016\\2016_0608.json\n",
      "Data was successfully imported: data/regular_season/2016\\2016_0609.json\n",
      "Data was successfully imported: data/regular_season/2016\\2016_0610.json\n",
      "Data was successfully imported: data/regular_season/2016\\2016_0611.json\n",
      "Data was successfully imported: data/regular_season/2016\\2016_0612.json\n",
      "Data was successfully imported: data/regular_season/2016\\2016_0613.json\n",
      "Data was successfully imported: data/regular_season/2016\\2016_0614.json\n",
      "Data was successfully imported: data/regular_season/2016\\2016_0615.json\n",
      "Data was successfully imported: data/regular_season/2016\\2016_0616.json\n",
      "Data was successfully imported: data/regular_season/2016\\2016_0617.json\n",
      "Data was successfully imported: data/regular_season/2016\\2016_0618.json\n",
      "Data was successfully imported: data/regular_season/2016\\2016_0619.json\n",
      "Data was successfully imported: data/regular_season/2016\\2016_0620.json\n",
      "Data was successfully imported: data/regular_season/2016\\2016_0621.json\n",
      "Data was successfully imported: data/regular_season/2016\\2016_0622.json\n",
      "Data was successfully imported: data/regular_season/2016\\2016_0623.json\n",
      "Data was successfully imported: data/regular_season/2016\\2016_0624.json\n",
      "Data was successfully imported: data/regular_season/2016\\2016_0625.json\n",
      "Data was successfully imported: data/regular_season/2016\\2016_0626.json\n",
      "Data was successfully imported: data/regular_season/2016\\2016_0627.json\n",
      "Data was successfully imported: data/regular_season/2016\\2016_0628.json\n",
      "Data was successfully imported: data/regular_season/2016\\2016_0629.json\n",
      "Data was successfully imported: data/regular_season/2016\\2016_0630.json\n",
      "Data was successfully imported: data/regular_season/2016\\2016_0631.json\n",
      "Data was successfully imported: data/regular_season/2016\\2016_0632.json\n",
      "Data was successfully imported: data/regular_season/2016\\2016_0633.json\n",
      "Data was successfully imported: data/regular_season/2016\\2016_0634.json\n",
      "Data was successfully imported: data/regular_season/2016\\2016_0635.json\n",
      "Data was successfully imported: data/regular_season/2016\\2016_0636.json\n",
      "Data was successfully imported: data/regular_season/2016\\2016_0637.json\n",
      "Data was successfully imported: data/regular_season/2016\\2016_0638.json\n",
      "Data was successfully imported: data/regular_season/2016\\2016_0639.json\n",
      "Data was successfully imported: data/regular_season/2016\\2016_0640.json\n",
      "Data was successfully imported: data/regular_season/2016\\2016_0641.json\n",
      "Data was successfully imported: data/regular_season/2016\\2016_0642.json\n",
      "Data was successfully imported: data/regular_season/2016\\2016_0643.json\n",
      "Data was successfully imported: data/regular_season/2016\\2016_0644.json\n",
      "Data was successfully imported: data/regular_season/2016\\2016_0645.json\n",
      "Data was successfully imported: data/regular_season/2016\\2016_0646.json\n",
      "Data was successfully imported: data/regular_season/2016\\2016_0647.json\n",
      "Data was successfully imported: data/regular_season/2016\\2016_0648.json\n",
      "Data was successfully imported: data/regular_season/2016\\2016_0649.json\n",
      "Data was successfully imported: data/regular_season/2016\\2016_0650.json\n",
      "Data was successfully imported: data/regular_season/2016\\2016_0651.json\n",
      "Data was successfully imported: data/regular_season/2016\\2016_0652.json\n",
      "Data was successfully imported: data/regular_season/2016\\2016_0653.json\n",
      "Data was successfully imported: data/regular_season/2016\\2016_0654.json\n",
      "Data was successfully imported: data/regular_season/2016\\2016_0655.json\n",
      "Data was successfully imported: data/regular_season/2016\\2016_0656.json\n",
      "Data was successfully imported: data/regular_season/2016\\2016_0657.json\n",
      "Data was successfully imported: data/regular_season/2016\\2016_0658.json\n",
      "Data was successfully imported: data/regular_season/2016\\2016_0659.json\n",
      "Data was successfully imported: data/regular_season/2016\\2016_0660.json\n",
      "Data was successfully imported: data/regular_season/2016\\2016_0661.json\n",
      "Data was successfully imported: data/regular_season/2016\\2016_0662.json\n",
      "Data was successfully imported: data/regular_season/2016\\2016_0663.json\n",
      "Data was successfully imported: data/regular_season/2016\\2016_0664.json\n",
      "Data was successfully imported: data/regular_season/2016\\2016_0665.json\n",
      "Data was successfully imported: data/regular_season/2016\\2016_0666.json\n",
      "Data was successfully imported: data/regular_season/2016\\2016_0667.json\n",
      "Data was successfully imported: data/regular_season/2016\\2016_0668.json\n",
      "Data was successfully imported: data/regular_season/2016\\2016_0669.json\n",
      "Data was successfully imported: data/regular_season/2016\\2016_0670.json\n",
      "Data was successfully imported: data/regular_season/2016\\2016_0671.json\n",
      "Data was successfully imported: data/regular_season/2016\\2016_0672.json\n",
      "Data was successfully imported: data/regular_season/2016\\2016_0673.json\n",
      "Data was successfully imported: data/regular_season/2016\\2016_0674.json\n",
      "Data was successfully imported: data/regular_season/2016\\2016_0675.json\n",
      "Data was successfully imported: data/regular_season/2016\\2016_0676.json\n",
      "Data was successfully imported: data/regular_season/2016\\2016_0677.json\n",
      "Data was successfully imported: data/regular_season/2016\\2016_0678.json\n",
      "Data was successfully imported: data/regular_season/2016\\2016_0679.json\n",
      "Data was successfully imported: data/regular_season/2016\\2016_0680.json\n",
      "Data was successfully imported: data/regular_season/2016\\2016_0681.json\n",
      "Data was successfully imported: data/regular_season/2016\\2016_0682.json\n",
      "Data was successfully imported: data/regular_season/2016\\2016_0683.json\n",
      "Data was successfully imported: data/regular_season/2016\\2016_0684.json\n",
      "Data was successfully imported: data/regular_season/2016\\2016_0685.json\n",
      "Data was successfully imported: data/regular_season/2016\\2016_0686.json\n",
      "Data was successfully imported: data/regular_season/2016\\2016_0687.json\n",
      "Data was successfully imported: data/regular_season/2016\\2016_0688.json\n",
      "Data was successfully imported: data/regular_season/2016\\2016_0689.json\n",
      "Data was successfully imported: data/regular_season/2016\\2016_0690.json\n",
      "Data was successfully imported: data/regular_season/2016\\2016_0691.json\n",
      "Data was successfully imported: data/regular_season/2016\\2016_0692.json\n",
      "Data was successfully imported: data/regular_season/2016\\2016_0693.json\n",
      "Data was successfully imported: data/regular_season/2016\\2016_0694.json\n",
      "Data was successfully imported: data/regular_season/2016\\2016_0695.json\n",
      "Data was successfully imported: data/regular_season/2016\\2016_0696.json\n",
      "Data was successfully imported: data/regular_season/2016\\2016_0697.json\n",
      "Data was successfully imported: data/regular_season/2016\\2016_0698.json\n",
      "Data was successfully imported: data/regular_season/2016\\2016_0699.json\n",
      "Data was successfully imported: data/regular_season/2016\\2016_0700.json\n",
      "Data was successfully imported: data/regular_season/2016\\2016_0701.json\n",
      "Data was successfully imported: data/regular_season/2016\\2016_0702.json\n",
      "Data was successfully imported: data/regular_season/2016\\2016_0703.json\n",
      "Data was successfully imported: data/regular_season/2016\\2016_0704.json\n",
      "Data was successfully imported: data/regular_season/2016\\2016_0705.json\n",
      "Data was successfully imported: data/regular_season/2016\\2016_0706.json\n",
      "Data was successfully imported: data/regular_season/2016\\2016_0707.json\n",
      "Data was successfully imported: data/regular_season/2016\\2016_0708.json\n",
      "Data was successfully imported: data/regular_season/2016\\2016_0709.json\n",
      "Data was successfully imported: data/regular_season/2016\\2016_0710.json\n",
      "Data was successfully imported: data/regular_season/2016\\2016_0711.json\n",
      "Data was successfully imported: data/regular_season/2016\\2016_0712.json\n",
      "Data was successfully imported: data/regular_season/2016\\2016_0713.json\n",
      "Data was successfully imported: data/regular_season/2016\\2016_0714.json\n",
      "Data was successfully imported: data/regular_season/2016\\2016_0715.json\n",
      "Data was successfully imported: data/regular_season/2016\\2016_0716.json\n",
      "Data was successfully imported: data/regular_season/2016\\2016_0717.json\n",
      "Data was successfully imported: data/regular_season/2016\\2016_0718.json\n",
      "Data was successfully imported: data/regular_season/2016\\2016_0719.json\n",
      "Data was successfully imported: data/regular_season/2016\\2016_0720.json\n",
      "Data was successfully imported: data/regular_season/2016\\2016_0721.json\n",
      "Data was successfully imported: data/regular_season/2016\\2016_0722.json\n",
      "Data was successfully imported: data/regular_season/2016\\2016_0723.json\n",
      "Data was successfully imported: data/regular_season/2016\\2016_0724.json\n",
      "Data was successfully imported: data/regular_season/2016\\2016_0725.json\n",
      "Data was successfully imported: data/regular_season/2016\\2016_0726.json\n",
      "Data was successfully imported: data/regular_season/2016\\2016_0727.json\n",
      "Data was successfully imported: data/regular_season/2016\\2016_0728.json\n",
      "Data was successfully imported: data/regular_season/2016\\2016_0729.json\n",
      "Data was successfully imported: data/regular_season/2016\\2016_0730.json\n",
      "Data was successfully imported: data/regular_season/2016\\2016_0731.json\n",
      "Data was successfully imported: data/regular_season/2016\\2016_0732.json\n",
      "Data was successfully imported: data/regular_season/2016\\2016_0733.json\n",
      "Data was successfully imported: data/regular_season/2016\\2016_0734.json\n",
      "Data was successfully imported: data/regular_season/2016\\2016_0735.json\n",
      "Data was successfully imported: data/regular_season/2016\\2016_0736.json\n",
      "Data was successfully imported: data/regular_season/2016\\2016_0737.json\n",
      "Data was successfully imported: data/regular_season/2016\\2016_0738.json\n",
      "Data was successfully imported: data/regular_season/2016\\2016_0739.json\n",
      "Data was successfully imported: data/regular_season/2016\\2016_0740.json\n",
      "Data was successfully imported: data/regular_season/2016\\2016_0741.json\n",
      "Data was successfully imported: data/regular_season/2016\\2016_0742.json\n",
      "Data was successfully imported: data/regular_season/2016\\2016_0743.json\n",
      "Data was successfully imported: data/regular_season/2016\\2016_0744.json\n",
      "Data was successfully imported: data/regular_season/2016\\2016_0745.json\n",
      "Data was successfully imported: data/regular_season/2016\\2016_0746.json\n",
      "Data was successfully imported: data/regular_season/2016\\2016_0747.json\n",
      "Data was successfully imported: data/regular_season/2016\\2016_0748.json\n",
      "Data was successfully imported: data/regular_season/2016\\2016_0749.json\n",
      "Data was successfully imported: data/regular_season/2016\\2016_0750.json\n",
      "Data was successfully imported: data/regular_season/2016\\2016_0751.json\n",
      "Data was successfully imported: data/regular_season/2016\\2016_0752.json\n",
      "Data was successfully imported: data/regular_season/2016\\2016_0753.json\n",
      "Data was successfully imported: data/regular_season/2016\\2016_0754.json\n",
      "Data was successfully imported: data/regular_season/2016\\2016_0755.json\n",
      "Data was successfully imported: data/regular_season/2016\\2016_0756.json\n",
      "Data was successfully imported: data/regular_season/2016\\2016_0757.json\n",
      "Data was successfully imported: data/regular_season/2016\\2016_0758.json\n",
      "Data was successfully imported: data/regular_season/2016\\2016_0759.json\n",
      "Data was successfully imported: data/regular_season/2016\\2016_0760.json\n",
      "Data was successfully imported: data/regular_season/2016\\2016_0761.json\n",
      "Data was successfully imported: data/regular_season/2016\\2016_0762.json\n",
      "Data was successfully imported: data/regular_season/2016\\2016_0763.json\n",
      "Data was successfully imported: data/regular_season/2016\\2016_0764.json\n",
      "Data was successfully imported: data/regular_season/2016\\2016_0765.json\n",
      "Data was successfully imported: data/regular_season/2016\\2016_0766.json\n",
      "Data was successfully imported: data/regular_season/2016\\2016_0767.json\n",
      "Data was successfully imported: data/regular_season/2016\\2016_0768.json\n",
      "Data was successfully imported: data/regular_season/2016\\2016_0769.json\n",
      "Data was successfully imported: data/regular_season/2016\\2016_0770.json\n",
      "Data was successfully imported: data/regular_season/2016\\2016_0771.json\n",
      "Data was successfully imported: data/regular_season/2016\\2016_0772.json\n",
      "Data was successfully imported: data/regular_season/2016\\2016_0773.json\n",
      "Data was successfully imported: data/regular_season/2016\\2016_0774.json\n",
      "Data was successfully imported: data/regular_season/2016\\2016_0775.json\n",
      "Data was successfully imported: data/regular_season/2016\\2016_0776.json\n",
      "Data was successfully imported: data/regular_season/2016\\2016_0777.json\n",
      "Data was successfully imported: data/regular_season/2016\\2016_0778.json\n",
      "Data was successfully imported: data/regular_season/2016\\2016_0779.json\n",
      "Data was successfully imported: data/regular_season/2016\\2016_0780.json\n",
      "Data was successfully imported: data/regular_season/2016\\2016_0781.json\n",
      "Data was successfully imported: data/regular_season/2016\\2016_0782.json\n",
      "Data was successfully imported: data/regular_season/2016\\2016_0783.json\n",
      "Data was successfully imported: data/regular_season/2016\\2016_0784.json\n",
      "Data was successfully imported: data/regular_season/2016\\2016_0785.json\n",
      "Data was successfully imported: data/regular_season/2016\\2016_0786.json\n",
      "Data was successfully imported: data/regular_season/2016\\2016_0787.json\n",
      "Data was successfully imported: data/regular_season/2016\\2016_0788.json\n",
      "Data was successfully imported: data/regular_season/2016\\2016_0789.json\n",
      "Data was successfully imported: data/regular_season/2016\\2016_0790.json\n",
      "Data was successfully imported: data/regular_season/2016\\2016_0791.json\n",
      "Data was successfully imported: data/regular_season/2016\\2016_0792.json\n",
      "Data was successfully imported: data/regular_season/2016\\2016_0793.json\n",
      "Data was successfully imported: data/regular_season/2016\\2016_0794.json\n",
      "Data was successfully imported: data/regular_season/2016\\2016_0795.json\n",
      "Data was successfully imported: data/regular_season/2016\\2016_0796.json\n",
      "Data was successfully imported: data/regular_season/2016\\2016_0797.json\n",
      "Data was successfully imported: data/regular_season/2016\\2016_0798.json\n",
      "Data was successfully imported: data/regular_season/2016\\2016_0799.json\n",
      "Data was successfully imported: data/regular_season/2016\\2016_0800.json\n",
      "Data was successfully imported: data/regular_season/2016\\2016_0801.json\n",
      "Data was successfully imported: data/regular_season/2016\\2016_0802.json\n",
      "Data was successfully imported: data/regular_season/2016\\2016_0803.json\n",
      "Data was successfully imported: data/regular_season/2016\\2016_0804.json\n",
      "Data was successfully imported: data/regular_season/2016\\2016_0805.json\n",
      "Data was successfully imported: data/regular_season/2016\\2016_0806.json\n",
      "Data was successfully imported: data/regular_season/2016\\2016_0807.json\n",
      "Data was successfully imported: data/regular_season/2016\\2016_0808.json\n",
      "Data was successfully imported: data/regular_season/2016\\2016_0809.json\n",
      "Data was successfully imported: data/regular_season/2016\\2016_0810.json\n",
      "Data was successfully imported: data/regular_season/2016\\2016_0811.json\n",
      "Data was successfully imported: data/regular_season/2016\\2016_0812.json\n",
      "Data was successfully imported: data/regular_season/2016\\2016_0813.json\n",
      "Data was successfully imported: data/regular_season/2016\\2016_0814.json\n",
      "Data was successfully imported: data/regular_season/2016\\2016_0815.json\n",
      "Data was successfully imported: data/regular_season/2016\\2016_0816.json\n",
      "Data was successfully imported: data/regular_season/2016\\2016_0817.json\n",
      "Data was successfully imported: data/regular_season/2016\\2016_0818.json\n",
      "Data was successfully imported: data/regular_season/2016\\2016_0819.json\n",
      "Data was successfully imported: data/regular_season/2016\\2016_0820.json\n",
      "Data was successfully imported: data/regular_season/2016\\2016_0821.json\n",
      "Data was successfully imported: data/regular_season/2016\\2016_0822.json\n",
      "Data was successfully imported: data/regular_season/2016\\2016_0823.json\n",
      "Data was successfully imported: data/regular_season/2016\\2016_0824.json\n",
      "Data was successfully imported: data/regular_season/2016\\2016_0825.json\n",
      "Data was successfully imported: data/regular_season/2016\\2016_0826.json\n",
      "Data was successfully imported: data/regular_season/2016\\2016_0827.json\n",
      "Data was successfully imported: data/regular_season/2016\\2016_0828.json\n",
      "Data was successfully imported: data/regular_season/2016\\2016_0829.json\n",
      "Data was successfully imported: data/regular_season/2016\\2016_0830.json\n",
      "Data was successfully imported: data/regular_season/2016\\2016_0831.json\n",
      "Data was successfully imported: data/regular_season/2016\\2016_0832.json\n",
      "Data was successfully imported: data/regular_season/2016\\2016_0833.json\n",
      "Data was successfully imported: data/regular_season/2016\\2016_0834.json\n",
      "Data was successfully imported: data/regular_season/2016\\2016_0835.json\n",
      "Data was successfully imported: data/regular_season/2016\\2016_0836.json\n",
      "Data was successfully imported: data/regular_season/2016\\2016_0837.json\n",
      "Data was successfully imported: data/regular_season/2016\\2016_0838.json\n",
      "Data was successfully imported: data/regular_season/2016\\2016_0839.json\n",
      "Data was successfully imported: data/regular_season/2016\\2016_0840.json\n",
      "Data was successfully imported: data/regular_season/2016\\2016_0841.json\n",
      "Data was successfully imported: data/regular_season/2016\\2016_0842.json\n",
      "Data was successfully imported: data/regular_season/2016\\2016_0843.json\n",
      "Data was successfully imported: data/regular_season/2016\\2016_0844.json\n",
      "Data was successfully imported: data/regular_season/2016\\2016_0845.json\n",
      "Data was successfully imported: data/regular_season/2016\\2016_0846.json\n",
      "Data was successfully imported: data/regular_season/2016\\2016_0847.json\n",
      "Data was successfully imported: data/regular_season/2016\\2016_0848.json\n",
      "Data was successfully imported: data/regular_season/2016\\2016_0849.json\n",
      "Data was successfully imported: data/regular_season/2016\\2016_0850.json\n",
      "Data was successfully imported: data/regular_season/2016\\2016_0851.json\n",
      "Data was successfully imported: data/regular_season/2016\\2016_0852.json\n",
      "Data was successfully imported: data/regular_season/2016\\2016_0853.json\n",
      "Data was successfully imported: data/regular_season/2016\\2016_0854.json\n",
      "Data was successfully imported: data/regular_season/2016\\2016_0855.json\n",
      "Data was successfully imported: data/regular_season/2016\\2016_0856.json\n",
      "Data was successfully imported: data/regular_season/2016\\2016_0857.json\n",
      "Data was successfully imported: data/regular_season/2016\\2016_0858.json\n",
      "Data was successfully imported: data/regular_season/2016\\2016_0859.json\n",
      "Data was successfully imported: data/regular_season/2016\\2016_0860.json\n",
      "Data was successfully imported: data/regular_season/2016\\2016_0861.json\n",
      "Data was successfully imported: data/regular_season/2016\\2016_0862.json\n",
      "Data was successfully imported: data/regular_season/2016\\2016_0863.json\n",
      "Data was successfully imported: data/regular_season/2016\\2016_0864.json\n",
      "Data was successfully imported: data/regular_season/2016\\2016_0865.json\n",
      "Data was successfully imported: data/regular_season/2016\\2016_0866.json\n",
      "Data was successfully imported: data/regular_season/2016\\2016_0867.json\n",
      "Data was successfully imported: data/regular_season/2016\\2016_0868.json\n",
      "Data was successfully imported: data/regular_season/2016\\2016_0869.json\n",
      "Data was successfully imported: data/regular_season/2016\\2016_0870.json\n",
      "Data was successfully imported: data/regular_season/2016\\2016_0871.json\n",
      "Data was successfully imported: data/regular_season/2016\\2016_0872.json\n",
      "Data was successfully imported: data/regular_season/2016\\2016_0873.json\n",
      "Data was successfully imported: data/regular_season/2016\\2016_0874.json\n",
      "Data was successfully imported: data/regular_season/2016\\2016_0875.json\n",
      "Data was successfully imported: data/regular_season/2016\\2016_0876.json\n",
      "Data was successfully imported: data/regular_season/2016\\2016_0877.json\n",
      "Data was successfully imported: data/regular_season/2016\\2016_0878.json\n",
      "Data was successfully imported: data/regular_season/2016\\2016_0879.json\n",
      "Data was successfully imported: data/regular_season/2016\\2016_0880.json\n",
      "Data was successfully imported: data/regular_season/2016\\2016_0881.json\n",
      "Data was successfully imported: data/regular_season/2016\\2016_0882.json\n",
      "Data was successfully imported: data/regular_season/2016\\2016_0883.json\n",
      "Data was successfully imported: data/regular_season/2016\\2016_0884.json\n",
      "Data was successfully imported: data/regular_season/2016\\2016_0885.json\n",
      "Data was successfully imported: data/regular_season/2016\\2016_0886.json\n",
      "Data was successfully imported: data/regular_season/2016\\2016_0887.json\n",
      "Data was successfully imported: data/regular_season/2016\\2016_0888.json\n",
      "Data was successfully imported: data/regular_season/2016\\2016_0889.json\n",
      "Data was successfully imported: data/regular_season/2016\\2016_0890.json\n",
      "Data was successfully imported: data/regular_season/2016\\2016_0891.json\n",
      "Data was successfully imported: data/regular_season/2016\\2016_0892.json\n",
      "Data was successfully imported: data/regular_season/2016\\2016_0893.json\n",
      "Data was successfully imported: data/regular_season/2016\\2016_0894.json\n",
      "Data was successfully imported: data/regular_season/2016\\2016_0895.json\n",
      "Data was successfully imported: data/regular_season/2016\\2016_0896.json\n",
      "Data was successfully imported: data/regular_season/2016\\2016_0897.json\n",
      "Data was successfully imported: data/regular_season/2016\\2016_0898.json\n",
      "Data was successfully imported: data/regular_season/2016\\2016_0899.json\n",
      "Data was successfully imported: data/regular_season/2016\\2016_0900.json\n",
      "Data was successfully imported: data/regular_season/2016\\2016_0901.json\n",
      "Data was successfully imported: data/regular_season/2016\\2016_0902.json\n",
      "Data was successfully imported: data/regular_season/2016\\2016_0903.json\n",
      "Data was successfully imported: data/regular_season/2016\\2016_0904.json\n",
      "Data was successfully imported: data/regular_season/2016\\2016_0905.json\n",
      "Data was successfully imported: data/regular_season/2016\\2016_0906.json\n",
      "Data was successfully imported: data/regular_season/2016\\2016_0907.json\n",
      "Data was successfully imported: data/regular_season/2016\\2016_0908.json\n",
      "Data was successfully imported: data/regular_season/2016\\2016_0909.json\n",
      "Data was successfully imported: data/regular_season/2016\\2016_0910.json\n",
      "Data was successfully imported: data/regular_season/2016\\2016_0911.json\n",
      "Data was successfully imported: data/regular_season/2016\\2016_0912.json\n",
      "Data was successfully imported: data/regular_season/2016\\2016_0913.json\n",
      "Data was successfully imported: data/regular_season/2016\\2016_0914.json\n",
      "Data was successfully imported: data/regular_season/2016\\2016_0915.json\n",
      "Data was successfully imported: data/regular_season/2016\\2016_0916.json\n",
      "Data was successfully imported: data/regular_season/2016\\2016_0917.json\n",
      "Data was successfully imported: data/regular_season/2016\\2016_0918.json\n",
      "Data was successfully imported: data/regular_season/2016\\2016_0919.json\n",
      "Data was successfully imported: data/regular_season/2016\\2016_0920.json\n",
      "Data was successfully imported: data/regular_season/2016\\2016_0921.json\n",
      "Data was successfully imported: data/regular_season/2016\\2016_0922.json\n",
      "Data was successfully imported: data/regular_season/2016\\2016_0923.json\n",
      "Data was successfully imported: data/regular_season/2016\\2016_0924.json\n",
      "Data was successfully imported: data/regular_season/2016\\2016_0925.json\n",
      "Data was successfully imported: data/regular_season/2016\\2016_0926.json\n",
      "Data was successfully imported: data/regular_season/2016\\2016_0927.json\n",
      "Data was successfully imported: data/regular_season/2016\\2016_0928.json\n",
      "Data was successfully imported: data/regular_season/2016\\2016_0929.json\n",
      "Data was successfully imported: data/regular_season/2016\\2016_0930.json\n",
      "Data was successfully imported: data/regular_season/2016\\2016_0931.json\n",
      "Data was successfully imported: data/regular_season/2016\\2016_0932.json\n",
      "Data was successfully imported: data/regular_season/2016\\2016_0933.json\n",
      "Data was successfully imported: data/regular_season/2016\\2016_0934.json\n",
      "Data was successfully imported: data/regular_season/2016\\2016_0935.json\n",
      "Data was successfully imported: data/regular_season/2016\\2016_0936.json\n",
      "Data was successfully imported: data/regular_season/2016\\2016_0937.json\n",
      "Data was successfully imported: data/regular_season/2016\\2016_0938.json\n",
      "Data was successfully imported: data/regular_season/2016\\2016_0939.json\n",
      "Data was successfully imported: data/regular_season/2016\\2016_0940.json\n",
      "Data was successfully imported: data/regular_season/2016\\2016_0941.json\n",
      "Data was successfully imported: data/regular_season/2016\\2016_0942.json\n",
      "Data was successfully imported: data/regular_season/2016\\2016_0943.json\n",
      "Data was successfully imported: data/regular_season/2016\\2016_0944.json\n",
      "Data was successfully imported: data/regular_season/2016\\2016_0945.json\n",
      "Data was successfully imported: data/regular_season/2016\\2016_0946.json\n",
      "Data was successfully imported: data/regular_season/2016\\2016_0947.json\n",
      "Data was successfully imported: data/regular_season/2016\\2016_0948.json\n",
      "Data was successfully imported: data/regular_season/2016\\2016_0949.json\n",
      "Data was successfully imported: data/regular_season/2016\\2016_0950.json\n",
      "Data was successfully imported: data/regular_season/2016\\2016_0951.json\n",
      "Data was successfully imported: data/regular_season/2016\\2016_0952.json\n",
      "Data was successfully imported: data/regular_season/2016\\2016_0953.json\n",
      "Data was successfully imported: data/regular_season/2016\\2016_0954.json\n",
      "Data was successfully imported: data/regular_season/2016\\2016_0955.json\n",
      "Data was successfully imported: data/regular_season/2016\\2016_0956.json\n",
      "Data was successfully imported: data/regular_season/2016\\2016_0957.json\n",
      "Data was successfully imported: data/regular_season/2016\\2016_0958.json\n",
      "Data was successfully imported: data/regular_season/2016\\2016_0959.json\n",
      "Data was successfully imported: data/regular_season/2016\\2016_0960.json\n",
      "Data was successfully imported: data/regular_season/2016\\2016_0961.json\n",
      "Data was successfully imported: data/regular_season/2016\\2016_0962.json\n",
      "Data was successfully imported: data/regular_season/2016\\2016_0963.json\n",
      "Data was successfully imported: data/regular_season/2016\\2016_0964.json\n",
      "Data was successfully imported: data/regular_season/2016\\2016_0965.json\n",
      "Data was successfully imported: data/regular_season/2016\\2016_0966.json\n",
      "Data was successfully imported: data/regular_season/2016\\2016_0967.json\n",
      "Data was successfully imported: data/regular_season/2016\\2016_0968.json\n",
      "Data was successfully imported: data/regular_season/2016\\2016_0969.json\n",
      "Data was successfully imported: data/regular_season/2016\\2016_0970.json\n",
      "Data was successfully imported: data/regular_season/2016\\2016_0971.json\n",
      "Data was successfully imported: data/regular_season/2016\\2016_0972.json\n",
      "Data was successfully imported: data/regular_season/2016\\2016_0973.json\n",
      "Data was successfully imported: data/regular_season/2016\\2016_0974.json\n",
      "Data was successfully imported: data/regular_season/2016\\2016_0975.json\n",
      "Data was successfully imported: data/regular_season/2016\\2016_0976.json\n",
      "Data was successfully imported: data/regular_season/2016\\2016_0977.json\n",
      "Data was successfully imported: data/regular_season/2016\\2016_0978.json\n",
      "Data was successfully imported: data/regular_season/2016\\2016_0979.json\n",
      "Data was successfully imported: data/regular_season/2016\\2016_0980.json\n",
      "Data was successfully imported: data/regular_season/2016\\2016_0981.json\n",
      "Data was successfully imported: data/regular_season/2016\\2016_0982.json\n",
      "Data was successfully imported: data/regular_season/2016\\2016_0983.json\n",
      "Data was successfully imported: data/regular_season/2016\\2016_0984.json\n",
      "Data was successfully imported: data/regular_season/2016\\2016_0985.json\n",
      "Data was successfully imported: data/regular_season/2016\\2016_0986.json\n",
      "Data was successfully imported: data/regular_season/2016\\2016_0987.json\n",
      "Data was successfully imported: data/regular_season/2016\\2016_0988.json\n",
      "Data was successfully imported: data/regular_season/2016\\2016_0989.json\n",
      "Data was successfully imported: data/regular_season/2016\\2016_0990.json\n",
      "Data was successfully imported: data/regular_season/2016\\2016_0991.json\n",
      "Data was successfully imported: data/regular_season/2016\\2016_0992.json\n",
      "Data was successfully imported: data/regular_season/2016\\2016_0993.json\n",
      "Data was successfully imported: data/regular_season/2016\\2016_0994.json\n",
      "Data was successfully imported: data/regular_season/2016\\2016_0995.json\n",
      "Data was successfully imported: data/regular_season/2016\\2016_0996.json\n",
      "Data was successfully imported: data/regular_season/2016\\2016_0997.json\n",
      "Data was successfully imported: data/regular_season/2016\\2016_0998.json\n",
      "Data was successfully imported: data/regular_season/2016\\2016_0999.json\n",
      "Data was successfully imported: data/regular_season/2016\\2016_1000.json\n",
      "Data was successfully imported: data/regular_season/2016\\2016_1001.json\n",
      "Data was successfully imported: data/regular_season/2016\\2016_1002.json\n",
      "Data was successfully imported: data/regular_season/2016\\2016_1003.json\n",
      "Data was successfully imported: data/regular_season/2016\\2016_1004.json\n",
      "Data was successfully imported: data/regular_season/2016\\2016_1005.json\n",
      "Data was successfully imported: data/regular_season/2016\\2016_1006.json\n",
      "Data was successfully imported: data/regular_season/2016\\2016_1007.json\n",
      "Data was successfully imported: data/regular_season/2016\\2016_1008.json\n",
      "Data was successfully imported: data/regular_season/2016\\2016_1009.json\n",
      "Data was successfully imported: data/regular_season/2016\\2016_1010.json\n",
      "Data was successfully imported: data/regular_season/2016\\2016_1011.json\n",
      "Data was successfully imported: data/regular_season/2016\\2016_1012.json\n",
      "Data was successfully imported: data/regular_season/2016\\2016_1013.json\n",
      "Data was successfully imported: data/regular_season/2016\\2016_1014.json\n",
      "Data was successfully imported: data/regular_season/2016\\2016_1015.json\n",
      "Data was successfully imported: data/regular_season/2016\\2016_1016.json\n",
      "Data was successfully imported: data/regular_season/2016\\2016_1017.json\n",
      "Data was successfully imported: data/regular_season/2016\\2016_1018.json\n",
      "Data was successfully imported: data/regular_season/2016\\2016_1019.json\n",
      "Data was successfully imported: data/regular_season/2016\\2016_1020.json\n",
      "Data was successfully imported: data/regular_season/2016\\2016_1021.json\n",
      "Data was successfully imported: data/regular_season/2016\\2016_1022.json\n",
      "Data was successfully imported: data/regular_season/2016\\2016_1023.json\n",
      "Data was successfully imported: data/regular_season/2016\\2016_1024.json\n",
      "Data was successfully imported: data/regular_season/2016\\2016_1025.json\n",
      "Data was successfully imported: data/regular_season/2016\\2016_1026.json\n",
      "Data was successfully imported: data/regular_season/2016\\2016_1027.json\n",
      "Data was successfully imported: data/regular_season/2016\\2016_1028.json\n",
      "Data was successfully imported: data/regular_season/2016\\2016_1029.json\n",
      "Data was successfully imported: data/regular_season/2016\\2016_1030.json\n",
      "Data was successfully imported: data/regular_season/2016\\2016_1031.json\n",
      "Data was successfully imported: data/regular_season/2016\\2016_1032.json\n",
      "Data was successfully imported: data/regular_season/2016\\2016_1033.json\n",
      "Data was successfully imported: data/regular_season/2016\\2016_1034.json\n",
      "Data was successfully imported: data/regular_season/2016\\2016_1035.json\n",
      "Data was successfully imported: data/regular_season/2016\\2016_1036.json\n"
     ]
    }
   ],
   "execution_count": null
  },
  {
   "cell_type": "markdown",
   "id": "ebed071c016b2b6d",
   "metadata": {},
   "source": [
    "#### Récupération des données d'entraînement"
   ]
  },
  {
   "cell_type": "code",
   "execution_count": null,
   "id": "30d106063dac160f",
   "metadata": {
    "ExecuteTime": {
     "end_time": "2024-11-22T03:25:54.594628Z",
     "start_time": "2024-11-22T03:25:53.536279Z"
    }
   },
   "outputs": [],
   "source": [
    "train_data = pd.read_csv(filename)"
   ]
  },
  {
   "cell_type": "markdown",
   "id": "cd50c0cb-ba97-4145-a1c4-d16520a245ee",
   "metadata": {},
   "source": [
    "# Ingénierie des caractéristiques I"
   ]
  },
  {
   "cell_type": "markdown",
   "id": "b923fde4-63fd-4665-af96-3f39f2428823",
   "metadata": {},
   "source": [
    "## Question 1"
   ]
  },
  {
   "cell_type": "code",
   "execution_count": null,
   "id": "823381d6fa2ec155",
   "metadata": {
    "ExecuteTime": {
     "end_time": "2024-11-22T03:25:54.818433Z",
     "start_time": "2024-11-22T03:25:54.617064Z"
    }
   },
   "outputs": [],
   "source": [
    "count_table = pd.crosstab(train_data['isGoal'], train_data['typeDescKey'])\n",
    "# count_table2 = pd.crosstab(train_data['emptyGoalNet_0_1'],train_data['emptyGoalNet'])\n",
    "\n",
    "count_table\n",
    "# count_table2"
   ]
  },
  {
   "cell_type": "markdown",
   "id": "a74a58e4d007a935",
   "metadata": {},
   "source": [
    "#### Histogramme du nombre de tirs (buts et non-buts séparés), regroupés par distance"
   ]
  },
  {
   "cell_type": "markdown",
   "id": "c7e5c2acb7c1b638",
   "metadata": {},
   "source": [
    "##### Variables distance de tir et angle de tir regroupées"
   ]
  },
  {
   "cell_type": "code",
   "execution_count": null,
   "id": "75df1005dee0dff0",
   "metadata": {
    "ExecuteTime": {
     "end_time": "2024-11-22T03:25:55.105596Z",
     "start_time": "2024-11-22T03:25:54.841966Z"
    }
   },
   "outputs": [],
   "source": [
    "# Binning de la distance en intervalles de 20 pieds\n",
    "train_data.loc[:,'shotDistance_bin'] = pd.cut(train_data['shotDistance'], bins=[0, 20, 40, 60, 80, 100, 120, 140, 160, 180, 200], labels=['0-19', '20-39', '40-59', '60-79', '80-99', '100-119', '120-139', '140-159', '160-179', '180-200'])\n",
    "\n",
    "train_data.loc[:,'shotAngle_bin'] = pd.cut(train_data['shotAngle'], bins=[0, 20, 40, 60, 80, 100, 120, 140, 160, 180], labels=['0-19', '20-39', '40-59', '60-79', '80-99', '100-119', '120-139', '140-159', '160-179'])\n",
    "\n",
    "\n",
    "train_data\n"
   ]
  },
  {
   "cell_type": "code",
   "execution_count": null,
   "id": "69b746540f59f542",
   "metadata": {
    "ExecuteTime": {
     "end_time": "2024-11-22T03:25:55.790807Z",
     "start_time": "2024-11-22T03:25:55.134358Z"
    }
   },
   "outputs": [],
   "source": [
    "## Add in advancedVisualisation (by Youry)\n",
    "def histogram_2_variables_binned(df, x_bin, hue, shrink, xlabel, ylabel, title, legendTitle, legendLabels):\n",
    "    plt.figure(figsize=(10, 6))\n",
    "    sns.histplot(data=df, x=x_bin, hue=hue, multiple='dodge', palette='coolwarm', shrink=shrink)\n",
    "    plt.xlabel(xlabel)\n",
    "    plt.ylabel(ylabel)\n",
    "    plt.ylim(0,100000)\n",
    "    plt.title(title)\n",
    "    plt.legend(title=legendTitle, labels=legendLabels)\n",
    "    plt.grid(axis=\"y\")\n",
    "    plt.show()\n",
    "\n",
    "\n",
    "histogram_2_variables_binned(df=train_data, x_bin='shotDistance_bin', hue='isGoal', shrink=0.8, xlabel='Distance du tir (pieds)', ylabel='Nombre de tirs', title='Histogramme du nombre de tirs par distance', legendTitle='', legendLabels=['But', 'Non-but'])"
   ]
  },
  {
   "cell_type": "markdown",
   "id": "dada7e9ffe260df6",
   "metadata": {},
   "source": [
    "#### Histogramme du nombre de tirs (buts et non-buts séparés), regroupés par angle"
   ]
  },
  {
   "cell_type": "code",
   "execution_count": null,
   "id": "82c884801d8862b3",
   "metadata": {
    "ExecuteTime": {
     "end_time": "2024-11-22T03:25:56.323002Z",
     "start_time": "2024-11-22T03:25:55.804823Z"
    }
   },
   "outputs": [],
   "source": [
    "histogram_2_variables_binned(df=train_data, x_bin='shotAngle_bin', hue='isGoal', shrink=0.8, xlabel='Angle du tir', ylabel='Nombre de tirs', title='Histogramme du nombre de tirs par angle', legendTitle='', legendLabels=['But', 'Non-but'])"
   ]
  },
  {
   "cell_type": "markdown",
   "id": "e7ab91aa648af712",
   "metadata": {},
   "source": [
    "#### Histogramme 2D où un axe est la distance et l'autre est l'angle (sans distinction entre buts et non-buts)"
   ]
  },
  {
   "cell_type": "code",
   "execution_count": null,
   "id": "8ffc00609d6ad278",
   "metadata": {
    "ExecuteTime": {
     "end_time": "2024-11-22T03:25:56.842906Z",
     "start_time": "2024-11-22T03:25:56.355248Z"
    }
   },
   "outputs": [],
   "source": [
    "def histogram2D_2_variables(df, x, y, bins, label, xlabel, ylabel, title):\n",
    "    # Remove rows with NaN values\n",
    "    df = df.dropna(subset=[x, y])\n",
    "    # Plot the histogram with hue for 'is_goal'\n",
    "    plt.figure(figsize=(10, 6))\n",
    "    plt.hist2d(df[x], df[y], bins=bins, cmap='Blues')\n",
    "    # Customize legend labels for hue values\n",
    "    plt.colorbar(label=label)\n",
    "    plt.xlabel(xlabel)\n",
    "    plt.ylabel(ylabel)\n",
    "    plt.title(title)\n",
    "    plt.show()\n",
    "\n",
    "histogram2D_2_variables(train_data, x='shotDistance', y='shotAngle', bins=20, label='Nombre de tirs', xlabel='Distance du tir (pieds)', ylabel='Angle du tir', title='Histogramme 2D du nombre de tirs par distance et angle')"
   ]
  },
  {
   "cell_type": "markdown",
   "id": "3987e0936629d0b3",
   "metadata": {},
   "source": []
  },
  {
   "cell_type": "code",
   "execution_count": null,
   "id": "8ed7c90cde829916",
   "metadata": {
    "ExecuteTime": {
     "end_time": "2024-11-22T03:25:56.990875Z",
     "start_time": "2024-11-22T03:25:56.842906Z"
    }
   },
   "outputs": [],
   "source": [
    "'''\n",
    "def histogram2D_2_variables_seaborn(df, x, y, title, xlabel, ylabel, kind):\n",
    "    # Remove rows with NaN values\n",
    "    df = df.dropna(subset=[x, y])\n",
    "    # Jointplot to visualize the 2D histogram\n",
    "    sns.jointplot(data=df, x=x, y=y, kind=kind, cmap='Blues')\n",
    "    # Add title and labels\n",
    "    plt.suptitle(title, fontsize=16)\n",
    "    plt.xlabel(xlabel)\n",
    "    plt.ylabel(ylabel)\n",
    "    # Show the plot\n",
    "    plt.show()\n",
    "\n",
    "\n",
    "# histogram2D_2_variables_seaborn(train_data, x='shotDistance', y='shotAngle', title=\"Histogramme 2D de la Distance et de l'Angle\", xlabel='Distance du tir (pieds)', ylabel='Angle du tir',\n",
    "#                         kind='kde'\n",
    "#                         # kind='reg'\n",
    "#                         # kind='hist'\n",
    "#                         # kind='hex'\n",
    "# )\n",
    "\n",
    "\n",
    "g = sns.jointplot(data=train_data, x='shotAngle', y='shotDistance')\n",
    "g.plot_joint(sns.kdeplot, color=\"r\", zorder=0, levels=6)\n",
    "g.plot_marginals(sns.rugplot, color=\"r\", height=-.15, clip_on=False)\n",
    "\n",
    "# Ajouter un titre, un xlabel, et un ylabel\n",
    "g.ax_joint.set_title(\"Relation entre la distance et l'angle des tirs\", fontsize=14)\n",
    "g.ax_joint.set_xlabel(\"Angle du tir\", fontsize=12)\n",
    "g.ax_joint.set_ylabel(\"Distance du tir(pieds)\", fontsize=12)\n",
    "\n",
    "# Ajuster l'espacement du titre\n",
    "plt.subplots_adjust(top=0.9)  # Ajuste la position du titre\n",
    "'''"
   ]
  },
  {
   "cell_type": "markdown",
   "id": "b3c1b9bd-42be-41a6-8a92-6fc22f391f93",
   "metadata": {},
   "source": [
    "## Question 2"
   ]
  },
  {
   "cell_type": "markdown",
   "id": "be3fc60cbac49078",
   "metadata": {},
   "source": [
    "#### Le taux de but (buts / (buts + non-buts)) par distance"
   ]
  },
  {
   "cell_type": "code",
   "execution_count": null,
   "id": "354536725e03ce07",
   "metadata": {
    "ExecuteTime": {
     "end_time": "2024-11-22T03:25:57.168911Z",
     "start_time": "2024-11-22T03:25:57.021545Z"
    }
   },
   "outputs": [],
   "source": [
    "df_distance_goal_rate = train_data.groupby('shotDistance')['isGoal'].mean().reset_index()\n",
    "df_distance_goal_rate.columns = ['shotDistance', 'goalRate']\n",
    "\n",
    "df_distance_goal_rate"
   ]
  },
  {
   "cell_type": "code",
   "execution_count": null,
   "id": "28f06856f5182f64",
   "metadata": {
    "ExecuteTime": {
     "end_time": "2024-11-22T03:25:57.559286Z",
     "start_time": "2024-11-22T03:25:57.225841Z"
    }
   },
   "outputs": [],
   "source": [
    "def scatterplot_2_variables(df, x, y, color, s, title, xlabel, ylabel):\n",
    "    plt.figure(figsize=(10, 6))\n",
    "    sns.scatterplot(data=df, x=x, y=y, color=color, s=s, marker='o')\n",
    "    plt.xlabel(xlabel)\n",
    "    plt.ylabel(ylabel)\n",
    "    plt.title(title)\n",
    "    plt.grid(True)\n",
    "    plt.show()\n",
    "\n",
    "scatterplot_2_variables(df=df_distance_goal_rate, x='shotDistance', y='goalRate',color='blue', s=20, title='Taux de but en fonction de la distance', xlabel='Distance du tir', ylabel='Taux de but')"
   ]
  },
  {
   "cell_type": "markdown",
   "id": "ff01635877df8a39",
   "metadata": {},
   "source": [
    "#### Le taux de but (buts / (buts + non-buts)) par angle"
   ]
  },
  {
   "cell_type": "code",
   "execution_count": null,
   "id": "9d73a978a9e107e3",
   "metadata": {
    "ExecuteTime": {
     "end_time": "2024-11-22T03:25:57.702169Z",
     "start_time": "2024-11-22T03:25:57.559286Z"
    }
   },
   "outputs": [],
   "source": [
    "df_angle_goal_rate = train_data.groupby('shotAngle')['isGoal'].mean().reset_index()\n",
    "df_angle_goal_rate.columns = ['shotAngle', 'goalRate']\n",
    "\n",
    "df_angle_goal_rate"
   ]
  },
  {
   "cell_type": "code",
   "execution_count": null,
   "id": "9377ab40ff1e27b7",
   "metadata": {
    "ExecuteTime": {
     "end_time": "2024-11-22T03:25:58.094703Z",
     "start_time": "2024-11-22T03:25:57.761185Z"
    }
   },
   "outputs": [],
   "source": [
    "scatterplot_2_variables(df=df_angle_goal_rate, x='shotAngle', y='goalRate', color='green', s=20,\n",
    "                        title='Taux de but en fonction de l\\'angle', xlabel='Angle du tir', ylabel='Taux de but')"
   ]
  },
  {
   "cell_type": "markdown",
   "id": "23c319211076ad5d",
   "metadata": {},
   "source": [
    "#### Question 2 : vaiables distance et angle binned(s)"
   ]
  },
  {
   "cell_type": "code",
   "execution_count": null,
   "id": "cb95f454149f531e",
   "metadata": {
    "ExecuteTime": {
     "end_time": "2024-11-22T03:25:58.261899Z",
     "start_time": "2024-11-22T03:25:58.103205Z"
    }
   },
   "outputs": [],
   "source": [
    "# Regrouper les tirs par bins de distance\n",
    "goal_stats_by_distance = train_data.groupby('shotDistance_bin', observed=True).agg(\n",
    "    goals=('isGoal', 'sum'),\n",
    "    total_shots=('isGoal', 'count')\n",
    ")\n",
    "\n",
    "# Calculer le taux de but\n",
    "goal_stats_by_distance['goal_rate'] = goal_stats_by_distance['goals'] / goal_stats_by_distance['total_shots']\n",
    "\n",
    "goal_stats_by_distance\n"
   ]
  },
  {
   "cell_type": "code",
   "execution_count": null,
   "id": "837e52cb82d2143c",
   "metadata": {
    "ExecuteTime": {
     "end_time": "2024-11-22T03:25:58.736585Z",
     "start_time": "2024-11-22T03:25:58.326882Z"
    }
   },
   "outputs": [],
   "source": [
    "# Tracer la courbe\n",
    "def plot_goal_rate(df, x, y, rate, rate_min, rate_max, plotTitle, title, fontSize, xlabel, sizeXlabel, ylabel, sizeYlabel):\n",
    "    # Histogramme\n",
    "    plt.figure(figsize=(10, 6))\n",
    "    bars = plt.bar(df.index, df[rate]*100, color='green', label=plotTitle)\n",
    "    # Annoter les ratios sur les barres\n",
    "    for bar, (_, row) in zip(bars, df.iterrows()):\n",
    "        x_i = int(row[x])\n",
    "        y_i = int(row[y])\n",
    "        rate_i = row[rate]\n",
    "        plt.text(\n",
    "            bar.get_x() + bar.get_width() / 2,\n",
    "            bar.get_height(),\n",
    "            f\"{rate_i*100:.1f}%\\n({x_i}/{y_i})\",\n",
    "            ha='center',\n",
    "            va='bottom',\n",
    "            fontsize=9,\n",
    "            color='black'\n",
    "        )\n",
    "    # Affiche le graphique\n",
    "    plt.title(title, fontsize=fontSize)\n",
    "    plt.xlabel(xlabel, fontsize=sizeXlabel)\n",
    "    plt.ylabel(ylabel, fontsize=sizeYlabel)\n",
    "    plt.ylim(rate_min, rate_max)  # Limiter l'axe Y\n",
    "    plt.grid(alpha=0.5)\n",
    "    # plt.legend()\n",
    "    plt.tight_layout()\n",
    "    plt.show()\n",
    "\n",
    "\n",
    "plot_goal_rate(goal_stats_by_distance, 'goals', 'total_shots', 'goal_rate', 0, 20, 'Taux de but', 'Taux de but en fonction de la distance', 14, 'Distance de tir', 12, 'Taux de but (%)', 12)"
   ]
  },
  {
   "cell_type": "code",
   "execution_count": null,
   "id": "fd9879be2b6ba3dc",
   "metadata": {
    "ExecuteTime": {
     "end_time": "2024-11-22T03:25:58.897491Z",
     "start_time": "2024-11-22T03:25:58.741605Z"
    }
   },
   "outputs": [],
   "source": [
    "# Regrouper les tirs par bins d'angle\n",
    "goal_stats_by_angle = train_data.groupby('shotAngle_bin', observed=True).agg(\n",
    "    goals=('isGoal', 'sum'),\n",
    "    total_shots=('isGoal', 'count')\n",
    ")\n",
    "\n",
    "# Calculer le taux de but\n",
    "goal_stats_by_angle['goal_rate'] = goal_stats_by_angle['goals'] / goal_stats_by_angle['total_shots']\n",
    "\n",
    "goal_stats_by_angle"
   ]
  },
  {
   "cell_type": "code",
   "execution_count": null,
   "id": "f8af52da7e7e3998",
   "metadata": {
    "ExecuteTime": {
     "end_time": "2024-11-22T03:25:59.480660Z",
     "start_time": "2024-11-22T03:25:59.125205Z"
    }
   },
   "outputs": [],
   "source": [
    "plot_goal_rate(goal_stats_by_angle, 'goals', 'total_shots','goal_rate', 0, 100, 'Taux de but', 'Taux de but en fonction de l\\'angle', 14, 'Angle de tir', 12, 'Taux de but', 12)"
   ]
  },
  {
   "cell_type": "markdown",
   "id": "50f0252c-a0f5-49d2-94d8-122c0a0d4f44",
   "metadata": {},
   "source": [
    "## Question 3"
   ]
  },
  {
   "cell_type": "code",
   "execution_count": null,
   "id": "3308d338-9f62-469f-90ad-2a1d5806c2e7",
   "metadata": {
    "ExecuteTime": {
     "end_time": "2024-11-22T03:26:00.048722Z",
     "start_time": "2024-11-22T03:25:59.488665Z"
    }
   },
   "outputs": [],
   "source": [
    "plot_goals_by_distance(train_data)"
   ]
  },
  {
   "cell_type": "markdown",
   "id": "dab78bb9-a65a-4a9a-83a4-a19311c0e7a6",
   "metadata": {},
   "source": [
    "### Nombre de buts net non vides marqués depuis l'intérieur de la zone défensive"
   ]
  },
  {
   "cell_type": "code",
   "execution_count": null,
   "id": "1b29a7e8-d323-4297-8886-34deb30773fc",
   "metadata": {
    "ExecuteTime": {
     "end_time": "2024-11-22T03:26:00.237824Z",
     "start_time": "2024-11-22T03:26:00.092172Z"
    }
   },
   "outputs": [],
   "source": [
    "filtered_data = train_data[\n",
    "    (train_data['shotDistance'] > 90) & (train_data['typeDescKey'] == 'goal') & (train_data['emptyGoalNet'] == 0)]\n",
    "len(filtered_data)"
   ]
  },
  {
   "cell_type": "code",
   "execution_count": null,
   "id": "f1c4e345-811f-4578-9a8c-d0d16a9ac23f",
   "metadata": {
    "ExecuteTime": {
     "end_time": "2024-11-22T03:26:00.360568Z",
     "start_time": "2024-11-22T03:26:00.245050Z"
    }
   },
   "outputs": [],
   "source": [
    "filtered_data.loc[54362, :]"
   ]
  },
  {
   "cell_type": "code",
   "execution_count": null,
   "id": "ef8264b5-a914-4c97-829f-8e598f61f571",
   "metadata": {
    "ExecuteTime": {
     "end_time": "2024-11-22T03:26:00.550863Z",
     "start_time": "2024-11-22T03:26:00.426977Z"
    }
   },
   "outputs": [],
   "source": [
    "# l'venement 54362 (filtered_data.loc[54362,:]) du match 2016020894 n'a pas les bonnes coordonées. \n",
    "# voir la vidéo: https://www.youtube.com/watch?v=lM6JXVW0-YY du match. le but de Mats Zuccarello en période de shoot-out\n",
    "# est fait du coté droit, non du coté gauche\n",
    "\n",
    "# l'evenemnt 80622 du match 2017020004 n'a pas les bonnes coordonées.\n",
    "# voir la vidéo: https://www.youtube.com/watch?v=WpIGr7srlLY. le but de Kevin Labanc est du mauvais coté\n",
    "\n",
    "# l'evenemnet 1806 n'a pas le bon zoneShoot/zoneCode. il a comme zoneShoot D (defensive) alors que quand on regarde le but de\n",
    "# John Tavares, il le marque bien dans la zone offensive https://www.youtube.com/watch?v=MO7vAygX2_c"
   ]
  },
  {
   "cell_type": "markdown",
   "id": "a5e0346e-df4d-4c25-bea5-ed7effb1d2c4",
   "metadata": {},
   "source": [
    "### Nombre de buts marqués depuis l'intérieur de la zone défensive"
   ]
  },
  {
   "cell_type": "code",
   "execution_count": null,
   "id": "9d246ecf-bf7e-4917-9ba0-3bdc90b15d94",
   "metadata": {
    "ExecuteTime": {
     "end_time": "2024-11-22T03:26:00.722040Z",
     "start_time": "2024-11-22T03:26:00.585158Z"
    }
   },
   "outputs": [],
   "source": [
    "filtered_data = train_data[(train_data['shotDistance'] > 90) & (train_data['typeDescKey'] == 'goal')]\n",
    "\n",
    "grouped_df = filtered_data.groupby(['shotType']).count()\n",
    "\n",
    "print(grouped_df['idGame'])"
   ]
  },
  {
   "cell_type": "code",
   "execution_count": null,
   "id": "0af22d9e-6002-4dab-9365-2cd7e5ed0b22",
   "metadata": {
    "ExecuteTime": {
     "end_time": "2024-11-22T03:26:00.882448Z",
     "start_time": "2024-11-22T03:26:00.746688Z"
    }
   },
   "outputs": [],
   "source": [
    "filtered_data[filtered_data['shotType'] == 'wrap-around']"
   ]
  },
  {
   "cell_type": "code",
   "execution_count": null,
   "id": "c29f1bbb-d35f-485b-96c1-0fc38a4fa342",
   "metadata": {
    "ExecuteTime": {
     "end_time": "2024-11-22T03:26:01.068418Z",
     "start_time": "2024-11-22T03:26:00.942425Z"
    }
   },
   "outputs": [],
   "source": [
    "# pour l'evenement 47255 du match 2016020779, le type de tir n'est pas correct car un wrap-around ne peut pas se faire aussi loin\n",
    "# voir: https://www.nhl.com/gamecenter/pit-vs-stl/2017/02/04/2016020779/playbyplay\n",
    "# video: https://www.youtube.com/watch?v=CHcbWHyRDbE. Sidney Crosby a bien tiré depuis la position (3,1). donc les coordonées et la distance sont \n",
    "# bonnes. Le type de tir n'est pas le bon. \n",
    "\n",
    "# video wrap-around: https://www.youtube.com/watch?v=tmRibUXW8RE"
   ]
  },
  {
   "cell_type": "markdown",
   "id": "ad96b03ba9792ed",
   "metadata": {},
   "source": [
    "# Modèles de base"
   ]
  },
  {
   "cell_type": "markdown",
   "id": "d21ecfbcf28f7733",
   "metadata": {},
   "source": [
    "#### Préparation de la caractéristique et de la cible"
   ]
  },
  {
   "cell_type": "code",
   "execution_count": null,
   "id": "657b093261e8e471",
   "metadata": {
    "ExecuteTime": {
     "end_time": "2024-11-22T03:26:01.342392Z",
     "start_time": "2024-11-22T03:26:01.199080Z"
    }
   },
   "outputs": [],
   "source": [
    "# Préparation de la caractéristique et de la cible\n",
    "X = train_data[['shotDistance']].dropna()\n",
    "y = train_data['isGoal'][X.index]"
   ]
  },
  {
   "cell_type": "code",
   "execution_count": null,
   "id": "72c479ebdfe445d9",
   "metadata": {
    "ExecuteTime": {
     "end_time": "2024-11-22T03:26:01.514009Z",
     "start_time": "2024-11-22T03:26:01.367463Z"
    }
   },
   "outputs": [],
   "source": [
    "# Vérification des types et absence de NaN\n",
    "print(X.shape)\n",
    "print(y.shape)\n",
    "print(\"Type de X:\", type(X))\n",
    "print(\"Type de y:\", type(y))\n",
    "print(\"Valeurs manquantes dans X:\", X.isnull().sum().sum())\n",
    "print(\"Valeurs manquantes dans y:\", y.isnull().sum())"
   ]
  },
  {
   "cell_type": "code",
   "execution_count": null,
   "id": "74e8a02980cd3dee",
   "metadata": {
    "ExecuteTime": {
     "end_time": "2024-11-22T03:26:01.803890Z",
     "start_time": "2024-11-22T03:26:01.563952Z"
    }
   },
   "outputs": [],
   "source": [
    "# Division des données en ensembles d'entraînement et de validation\n",
    "X_train, X_val, y_train, y_val = train_test_split(X, y, test_size=0.2, random_state=42, stratify=y)\n",
    "\n",
    "print(X_train.shape)\n",
    "print(y_train.shape)\n",
    "print(X_val.shape)\n",
    "print(y_val.shape)"
   ]
  },
  {
   "cell_type": "markdown",
   "id": "42b696e89215b8a5",
   "metadata": {},
   "source": [
    "### Question 1"
   ]
  },
  {
   "cell_type": "markdown",
   "id": "79ccda742e46aed7",
   "metadata": {},
   "source": [
    "#### Entraîner le modèle"
   ]
  },
  {
   "cell_type": "code",
   "execution_count": null,
   "id": "17ac8579f726925",
   "metadata": {
    "ExecuteTime": {
     "end_time": "2024-11-22T03:26:02.185123Z",
     "start_time": "2024-11-22T03:26:01.803890Z"
    }
   },
   "outputs": [],
   "source": [
    "clf = LogisticRegression()\n",
    "clf.fit(X_train, y_train)"
   ]
  },
  {
   "cell_type": "markdown",
   "id": "c3eb524c7482bddf",
   "metadata": {},
   "source": [
    "#### Prédiction et évaluation"
   ]
  },
  {
   "cell_type": "code",
   "id": "542df2e5872b7863",
   "metadata": {
    "ExecuteTime": {
     "end_time": "2024-11-22T22:07:39.095414Z",
     "start_time": "2024-11-22T22:07:38.453484Z"
    }
   },
   "source": [
    "# Prédiction et évaluation\n",
    "y_pred = clf.predict(X_val)\n",
    "accuracy = accuracy_score(y_val, y_pred)\n",
    "f1 = f1_score(y_val, y_pred, average=\"weighted\")\n",
    "print(f\"Précision du modèle sur l'ensemble de validation: {accuracy:.2f}\")\n",
    "print(f\"F1-score du modèle sur l'ensemble de validation: {f1:.2f}\")"
   ],
   "outputs": [
    {
     "ename": "NameError",
     "evalue": "name 'clf' is not defined",
     "output_type": "error",
     "traceback": [
      "\u001B[1;31m---------------------------------------------------------------------------\u001B[0m",
      "\u001B[1;31mNameError\u001B[0m                                 Traceback (most recent call last)",
      "Cell \u001B[1;32mIn[1], line 2\u001B[0m\n\u001B[0;32m      1\u001B[0m \u001B[38;5;66;03m# Prédiction et évaluation\u001B[39;00m\n\u001B[1;32m----> 2\u001B[0m y_pred \u001B[38;5;241m=\u001B[39m clf\u001B[38;5;241m.\u001B[39mpredict(X_val)\n\u001B[0;32m      3\u001B[0m accuracy \u001B[38;5;241m=\u001B[39m accuracy_score(y_val, y_pred)\n\u001B[0;32m      4\u001B[0m f1 \u001B[38;5;241m=\u001B[39m f1_score(y_val, y_pred, average\u001B[38;5;241m=\u001B[39m\u001B[38;5;124m\"\u001B[39m\u001B[38;5;124mweighted\u001B[39m\u001B[38;5;124m\"\u001B[39m)\n",
      "\u001B[1;31mNameError\u001B[0m: name 'clf' is not defined"
     ]
    }
   ],
   "execution_count": 1
  },
  {
   "cell_type": "markdown",
   "id": "9676b4dc2865a51d",
   "metadata": {},
   "source": [
    "##### Analyse des résultats :\n",
    "Précision globale :\n",
    "\n",
    "Une précision élevée ne signifie pas nécessairement que le modèle est performant, surtout si les classes sont déséquilibrées (ex. : beaucoup plus de non-buts que de buts).\n",
    "Problème potentiel :\n",
    "\n",
    "La distance seule peut ne pas capturer suffisamment de complexité dans les données pour prédire efficacement si un tir est un but.\n",
    "Un déséquilibre des classes pourrait conduire à un biais du modèle vers la classe majoritaire."
   ]
  },
  {
   "cell_type": "markdown",
   "id": "6596749ac779242b",
   "metadata": {},
   "source": [
    "### Question 2"
   ]
  },
  {
   "cell_type": "markdown",
   "id": "2aedcaa4ff4be95f",
   "metadata": {},
   "source": [
    "##### La courbe ROC est tracée avec le taux de vrais positifs (TPR) contre le taux de faux positifs (FPR). La métrique AUC (Area Under Curve) représente l’aire sous cette courbe."
   ]
  },
  {
   "cell_type": "code",
   "execution_count": null,
   "id": "2b21ff875e91a612",
   "metadata": {
    "ExecuteTime": {
     "end_time": "2024-11-22T03:26:02.505831Z",
     "start_time": "2024-11-22T03:26:02.382439Z"
    }
   },
   "outputs": [],
   "source": [
    "from sklearn.metrics import roc_curve, auc, RocCurveDisplay\n",
    "from sklearn.calibration import CalibrationDisplay"
   ]
  },
  {
   "cell_type": "code",
   "id": "60137eb0101a7bc4",
   "metadata": {
    "ExecuteTime": {
     "end_time": "2024-11-22T21:57:29.952405Z",
     "start_time": "2024-11-22T21:57:29.923954Z"
    }
   },
   "source": [
    "y_proba = clf.predict_proba(X_val)\n",
    "# Probabilités pour la classe \"but\"\n",
    "y_proba_but = y_proba[:, 1]\n",
    "\n",
    "# Calcul des ROC et AUC\n",
    "fpr, tpr, _ = roc_curve(y_val, y_proba_but)\n",
    "roc_auc = auc(fpr, tpr)"
   ],
   "outputs": [
    {
     "ename": "NameError",
     "evalue": "name 'clf' is not defined",
     "output_type": "error",
     "traceback": [
      "\u001B[1;31m---------------------------------------------------------------------------\u001B[0m",
      "\u001B[1;31mNameError\u001B[0m                                 Traceback (most recent call last)",
      "Cell \u001B[1;32mIn[3], line 1\u001B[0m\n\u001B[1;32m----> 1\u001B[0m y_proba \u001B[38;5;241m=\u001B[39m clf\u001B[38;5;241m.\u001B[39mpredict_proba(X_val)\n\u001B[0;32m      2\u001B[0m \u001B[38;5;66;03m# Probabilités pour la classe \"but\"\u001B[39;00m\n\u001B[0;32m      3\u001B[0m y_proba_but \u001B[38;5;241m=\u001B[39m y_proba[:, \u001B[38;5;241m1\u001B[39m]\n",
      "\u001B[1;31mNameError\u001B[0m: name 'clf' is not defined"
     ]
    }
   ],
   "execution_count": 3
  },
  {
   "cell_type": "code",
   "execution_count": null,
   "id": "6c50c5acf8e53b4a",
   "metadata": {
    "ExecuteTime": {
     "end_time": "2024-11-22T03:26:02.804016Z",
     "start_time": "2024-11-22T03:26:02.692100Z"
    }
   },
   "outputs": [],
   "source": [
    "# def plot_roc_curve_(fpr_, tpr_, roc_auc_, color_, label1, label2#, xmin_, xmax_, ymin_, ymax_\n",
    "#                     ):\n",
    "#     # Tracé de la courbe ROC\n",
    "#     plt.figure(figsize=(8, 6))\n",
    "#     plt.plot(fpr_ * 100, tpr_ * 100, color=color_, label = f\"{label1} (AUC = {roc_auc_:.2f})\")\n",
    "#     plt.plot([0, 100], [0, 100], linestyle=\"--\", color=\"gray\", label=label2) # Ligne de base du classificateur aléatoire\n",
    "#     plt.title(\"Courbe ROC\", fontsize=14)\n",
    "#     plt.xlabel(\"Taux de faux positifs- FPR (%)\", fontsize=12)\n",
    "#     # plt.xlim(xmin_,xmax_)\n",
    "#     # plt.xlim(100,0)\n",
    "#     plt.ylabel(\"Taux de vrais positifs- TPR (%)\", fontsize=12)\n",
    "#     # plt.ylim(ymin_,ymax_)\n",
    "#     plt.legend(fontsize=12)\n",
    "#     plt.grid(alpha=0.3)\n",
    "#     plt.tight_layout()\n",
    "#     plt.show()\n",
    "#\n",
    "# # Appel de la fonction\n",
    "# plot_roc_curve_(fpr_=fpr, tpr_=tpr, roc_auc_=roc_auc, color_=\"blue\", label1=\"Régression logistique\", label2=\"Classificateur aléatoire\"\n",
    "#                 #, xmin_=100, xmax_=0, ymin_=0, ymax_=100\n",
    "#                 )\n"
   ]
  },
  {
   "cell_type": "markdown",
   "id": "4749250e1c06f56e",
   "metadata": {},
   "source": [
    "##### Courbe ROC et AUC : La courbe ROC permet de visualiser le compromis entre les taux de vrais positifs et de faux positifs, et l'AUC fournit une mesure globale de la performance du modèle."
   ]
  },
  {
   "cell_type": "code",
   "execution_count": null,
   "id": "b5500aef709dbb5",
   "metadata": {
    "ExecuteTime": {
     "end_time": "2024-11-22T03:26:03.134726Z",
     "start_time": "2024-11-22T03:26:02.825684Z"
    }
   },
   "outputs": [],
   "source": [
    "# Ligne de base aléatoire\n",
    "y_proba_random = np.random.uniform(0, 1, len(y_val))\n",
    "plt.figure(figsize=(10, 6))\n",
    "# ROC\n",
    "RocCurveDisplay.from_predictions(y_val, y_proba, name=\"Régression logistique\", color=\"blue\", ax=plt.gca())\n",
    "RocCurveDisplay.from_predictions(y_val, y_proba_random, name=\"Classificateur aléatoire\", color=\"gray\", linestyle=\"--\", ax=plt.gca())\n",
    "plt.title(\"ROC Curves for Logistic Regression Models\")\n",
    "plt.grid(True)\n",
    "plt.show()"
   ]
  },
  {
   "cell_type": "markdown",
   "id": "efe97fc2dd041e6f",
   "metadata": {},
   "source": [
    "#### b) Taux de buts par centile de probabilité"
   ]
  },
  {
   "cell_type": "markdown",
   "id": "e074d078094ac0d0",
   "metadata": {},
   "source": [
    "##### Cette courbe montre la capacité du modèle à prédire des buts en fonction de la probabilité qu'il attribue à chaque tir.\n",
    "Pour tracer le taux de buts par centile de probabilité, nous devons analyser la proportion de tirs qui se sont effectivement transformés en buts dans chaque centile des probabilités prédites par le modèle."
   ]
  },
  {
   "cell_type": "code",
   "execution_count": null,
   "id": "5baa7c628ad74f83",
   "metadata": {
    "ExecuteTime": {
     "end_time": "2024-11-22T03:26:03.496585Z",
     "start_time": "2024-11-22T03:26:03.180721Z"
    }
   },
   "outputs": [],
   "source": [
    "percentiles = np.linspace(0, 100, 11)\n",
    "goal_rates = compute_goal_rate_by_percentile(y_val, y_proba, percentiles)\n",
    "\n",
    "plot_line_2_variables(x=percentiles[:-1], y=goal_rates, color='green', label=\"Taux de buts par centile de probabilité\", xinf=100, xsup=0, x_label=\"Centile de probabilité\", y_label=\"Taux de buts (%)\")"
   ]
  },
  {
   "cell_type": "markdown",
   "id": "68add4df2877c0e2",
   "metadata": {},
   "source": [
    "##### Cette courbe montre la capacité du modèle à prédire des buts en fonction de la probabilité qu'il attribue à chaque tir."
   ]
  },
  {
   "cell_type": "markdown",
   "id": "282a0df636206e7d",
   "metadata": {},
   "source": [
    "#### c) La proportion cumulée de buts (pas de tirs) comme une fonction du centile de la probabilité de tir donnée par le modèle"
   ]
  },
  {
   "cell_type": "markdown",
   "id": "161c7c289272a03a",
   "metadata": {},
   "source": [
    "##### Elle montre dans quelle mesure chaque modèle capture les buts les plus probables."
   ]
  },
  {
   "cell_type": "code",
   "id": "217a97428ada7f76",
   "metadata": {
    "ExecuteTime": {
     "end_time": "2024-11-22T21:57:00.524718Z",
     "start_time": "2024-11-22T21:57:00.515798Z"
    }
   },
   "source": [
    "def compute_cumulative_goal_rate_2(y_proba, event):\n",
    "    # Créer un DataFrame pour les probabilités de tir\n",
    "    df_probs = pd.DataFrame(y_proba)\n",
    "\n",
    "    # Combiner la probabilité de but avec la colonne \"isGoal\"\n",
    "    df_probs = pd.concat([df_probs[event].reset_index(drop=True), y_val.reset_index(drop=True)], axis=1)\n",
    "\n",
    "    # Calculer et ajouter une colonne pour les percentiles\n",
    "    percentile_values = df_probs[event].rank(pct=True)\n",
    "    df_probs['Percentile'] = percentile_values * 100\n",
    "    taux_cumul = df_probs.copy()\n",
    "\n",
    "    taux_cumul_but = taux_cumul[taux_cumul['isGoal'] == 1]\n",
    "\n",
    "    return taux_cumul_but\n"
   ],
   "outputs": [],
   "execution_count": 1
  },
  {
   "metadata": {
    "ExecuteTime": {
     "end_time": "2024-11-22T21:57:01.317947Z",
     "start_time": "2024-11-22T21:57:00.586472Z"
    }
   },
   "cell_type": "code",
   "source": [
    "taux_cumul_but = compute_cumulative_goal_rate_2(y_proba, 1)\n",
    "\n",
    "sns.ecdfplot(data=taux_cumul_but, x=100 - taux_cumul_but.Percentile, color='blue', label=\"Regression logistique\")\n",
    "\n",
    "plt.plot([100, 0], [1, 0], linestyle=\"--\", color=\"gray\", label=\"Classificateur aléatoire\") # Ligne de base du Classificateur aléatoire\n",
    "\n",
    "# Personnalisation du graphique\n",
    "ax = plt.gca()\n",
    "ax.grid()\n",
    "ax.set_facecolor('0.95')\n",
    "plt.yticks(np.arange(0, 1.05, 0.1))\n",
    "plt.xticks(np.arange(0, 100 * 1.01, 10))\n",
    "xvals = ax.get_xticks()\n",
    "ax.set_xticklabels(100 - xvals.astype(int), fontsize=16)\n",
    "yvals = ax.get_yticks()\n",
    "ax.set_yticklabels(['{:,.0%}'.format(y) for y in yvals], fontsize=16)\n",
    "ax.set_xlabel('Centile du modèle de probabilité de tir', fontsize=16)\n",
    "ax.set_ylabel('Proportion', fontsize=16)\n",
    "ax.set_title(\"Pourcentage cumulatif de Buts\", fontsize=20)\n",
    "plt.grid(color='gray', linestyle='--', linewidth=0.2)\n",
    "\n",
    "# liste_labels.append('Référence Aléatoire')\n",
    "plt.legend(fontsize=10)\n",
    "plt.tight_layout()\n",
    "# plt.savefig('2-3-3c_proportion_de_buts.png')\n",
    "plt.show()"
   ],
   "id": "ecc897d15e1a6954",
   "outputs": [
    {
     "ename": "NameError",
     "evalue": "name 'y_proba' is not defined",
     "output_type": "error",
     "traceback": [
      "\u001B[1;31m---------------------------------------------------------------------------\u001B[0m",
      "\u001B[1;31mNameError\u001B[0m                                 Traceback (most recent call last)",
      "Cell \u001B[1;32mIn[2], line 1\u001B[0m\n\u001B[1;32m----> 1\u001B[0m taux_cumul_but \u001B[38;5;241m=\u001B[39m compute_cumulative_goal_rate_2(y_proba, \u001B[38;5;241m1\u001B[39m)\n\u001B[0;32m      3\u001B[0m sns\u001B[38;5;241m.\u001B[39mecdfplot(data\u001B[38;5;241m=\u001B[39mtaux_cumul_but, x\u001B[38;5;241m=\u001B[39m\u001B[38;5;241m100\u001B[39m \u001B[38;5;241m-\u001B[39m taux_cumul_but\u001B[38;5;241m.\u001B[39mPercentile, color\u001B[38;5;241m=\u001B[39m\u001B[38;5;124m'\u001B[39m\u001B[38;5;124mblue\u001B[39m\u001B[38;5;124m'\u001B[39m, label\u001B[38;5;241m=\u001B[39m\u001B[38;5;124m\"\u001B[39m\u001B[38;5;124mRegression logistique\u001B[39m\u001B[38;5;124m\"\u001B[39m)\n\u001B[0;32m      5\u001B[0m plt\u001B[38;5;241m.\u001B[39mplot([\u001B[38;5;241m100\u001B[39m, \u001B[38;5;241m0\u001B[39m], [\u001B[38;5;241m1\u001B[39m, \u001B[38;5;241m0\u001B[39m], linestyle\u001B[38;5;241m=\u001B[39m\u001B[38;5;124m\"\u001B[39m\u001B[38;5;124m--\u001B[39m\u001B[38;5;124m\"\u001B[39m, color\u001B[38;5;241m=\u001B[39m\u001B[38;5;124m\"\u001B[39m\u001B[38;5;124mgray\u001B[39m\u001B[38;5;124m\"\u001B[39m, label\u001B[38;5;241m=\u001B[39m\u001B[38;5;124m\"\u001B[39m\u001B[38;5;124mClassificateur aléatoire\u001B[39m\u001B[38;5;124m\"\u001B[39m) \u001B[38;5;66;03m# Ligne de base du Classificateur aléatoire\u001B[39;00m\n",
      "\u001B[1;31mNameError\u001B[0m: name 'y_proba' is not defined"
     ]
    }
   ],
   "execution_count": 2
  },
  {
   "cell_type": "markdown",
   "id": "1c4a7a8ecea0949e",
   "metadata": {},
   "source": [
    "#### d) Le diagramme de fiabilité (courbe de calibration)"
   ]
  },
  {
   "cell_type": "code",
   "execution_count": null,
   "id": "73a2c49dd7beea47",
   "metadata": {
    "ExecuteTime": {
     "end_time": "2024-11-22T03:26:04.125220Z",
     "start_time": "2024-11-22T03:26:03.851210Z"
    }
   },
   "outputs": [],
   "source": [
    "# 4. Diagramme de fiabilité\n",
    "CalibrationDisplay.from_predictions(y_val, y_proba, n_bins=10)\n",
    "plt.title(\"Diagramme de fiabilité\")\n",
    "plt.show()"
   ]
  },
  {
   "cell_type": "code",
   "execution_count": null,
   "id": "846bb20d12f5a98a",
   "metadata": {
    "ExecuteTime": {
     "end_time": "2024-11-22T03:26:04.417267Z",
     "start_time": "2024-11-22T03:26:04.150253Z"
    }
   },
   "outputs": [],
   "source": [
    "CalibrationDisplay.from_estimator(clf, X_val, y_val)\n",
    "plt.title('Courbe de Calibration', fontsize=14)\n",
    "plt.show()"
   ]
  },
  {
   "cell_type": "markdown",
   "id": "b8f82c8082864913",
   "metadata": {},
   "source": [
    "### Question 3 : Entrainement de deux autres classificateurs\n",
    "- Distance seuelement\n",
    "- Angle seulement\n",
    "- Distance et angle"
   ]
  },
  {
   "cell_type": "code",
   "execution_count": null,
   "id": "fa008720632017e4",
   "metadata": {
    "ExecuteTime": {
     "end_time": "2024-11-22T03:26:04.588225Z",
     "start_time": "2024-11-22T03:26:04.440895Z"
    }
   },
   "outputs": [],
   "source": [
    "# Préparation de la caractéristique et de la cible\n",
    "X_2 = train_data[['shotDistance', 'shotAngle']].dropna()\n",
    "y_2 = train_data['isGoal'][X.index]"
   ]
  },
  {
   "cell_type": "code",
   "execution_count": null,
   "id": "c08db232e4e67d45",
   "metadata": {
    "ExecuteTime": {
     "end_time": "2024-11-22T03:26:04.748814Z",
     "start_time": "2024-11-22T03:26:04.616045Z"
    }
   },
   "outputs": [],
   "source": [
    "# Vérification des types et absence de NaN\n",
    "print(\"Type de X:\", type(X_2))\n",
    "print(\"Type de y:\", type(y_2))\n",
    "print(\"Valeurs manquantes dans X:\", X_2.isnull().sum().sum())\n",
    "print(\"Valeurs manquantes dans y:\", y_2.isnull().sum())"
   ]
  },
  {
   "cell_type": "code",
   "execution_count": null,
   "id": "2029eca3aa3a789a",
   "metadata": {
    "ExecuteTime": {
     "end_time": "2024-11-22T03:26:05.008245Z",
     "start_time": "2024-11-22T03:26:04.772647Z"
    }
   },
   "outputs": [],
   "source": [
    "# Division des données en ensembles d'entraînement et de validation\n",
    "X2_train, X2_val, y2_train, y2_val = train_test_split(X_2, y_2, test_size=0.2, random_state=42,stratify=y_2)"
   ]
  },
  {
   "cell_type": "code",
   "execution_count": null,
   "id": "cf22ff03a7ca3f62",
   "metadata": {
    "ExecuteTime": {
     "end_time": "2024-11-22T03:26:05.166968Z",
     "start_time": "2024-11-22T03:26:05.031266Z"
    }
   },
   "outputs": [],
   "source": [
    "# Charger les caractéristiques pour chaque ensemble de données\n",
    "# La distance seulement\n",
    "X2_distance_train = X2_train[['shotDistance']]\n",
    "X2_distance_val = X2_val[['shotDistance']]\n",
    "# L'angle seulement\n",
    "X2_angle_train = X2_train[['shotAngle']]\n",
    "X2_angle_val = X2_val[['shotAngle']]\n",
    "# La distance et l'angle\n",
    "X2_both_train = X2_train[['shotDistance','shotAngle']]\n",
    "X2_both_val = X2_val[['shotDistance','shotAngle']]"
   ]
  },
  {
   "cell_type": "code",
   "execution_count": null,
   "id": "f9c18ecde5537cdf",
   "metadata": {
    "ExecuteTime": {
     "end_time": "2024-11-22T03:26:05.308957Z",
     "start_time": "2024-11-22T03:26:05.189242Z"
    }
   },
   "outputs": [],
   "source": [
    "print(X2_distance_train.shape)\n",
    "print(X2_distance_val.shape)\n",
    "print(X2_angle_train.shape)\n",
    "print(X2_angle_val.shape)"
   ]
  },
  {
   "cell_type": "code",
   "execution_count": null,
   "id": "1a215e1d822cd10f",
   "metadata": {
    "ExecuteTime": {
     "end_time": "2024-11-22T03:26:06.169146Z",
     "start_time": "2024-11-22T03:26:05.330165Z"
    }
   },
   "outputs": [],
   "source": [
    "# Entraînement des modèles\n",
    "clf_distance = LogisticRegression().fit(X2_distance_train, y2_train)\n",
    "clf_angle = LogisticRegression().fit(X2_angle_train, y2_train)\n",
    "clf_both = LogisticRegression().fit(X2_both_train, y2_train)\n",
    "\n",
    "# Probabilités prédites pour chaque modèle\n",
    "y_proba_distance = clf_distance.predict_proba(X2_distance_val)\n",
    "y_proba_angle = clf_angle.predict_proba(X2_angle_val)\n",
    "y_proba_both = clf_both.predict_proba(X2_both_val)\n",
    "\n",
    "y_proba_but_distance = y_proba_distance[:, 1]\n",
    "y_proba_but_angle = y_proba_angle[:, 1]\n",
    "y_proba_but_both = y_proba_both[:, 1]\n",
    "\n",
    "# Ligne de base aléatoire\n",
    "y2_proba_random = np.random.uniform(0, 1, len(y2_val))"
   ]
  },
  {
   "cell_type": "markdown",
   "id": "b3a748050bb07e4",
   "metadata": {},
   "source": [
    "#### a) Courbe ROC avec AUC"
   ]
  },
  {
   "cell_type": "code",
   "execution_count": null,
   "id": "9a1781c922fb19aa",
   "metadata": {
    "ExecuteTime": {
     "end_time": "2024-11-22T03:26:06.536374Z",
     "start_time": "2024-11-22T03:26:06.191771Z"
    }
   },
   "outputs": [],
   "source": [
    "# Tracer les courbes ROC\n",
    "plt.figure(figsize=(10, 6))\n",
    "RocCurveDisplay.from_predictions(y2_val, y_proba_distance, name=\"Distance\", color=\"blue\", ax=plt.gca())\n",
    "RocCurveDisplay.from_predictions(y2_val, y_proba_angle, name=\"Angle\", color=\"green\", ax=plt.gca())\n",
    "RocCurveDisplay.from_predictions(y2_val, y_proba_both, name=\"Distance + Angle\", color=\"red\", ax=plt.gca())\n",
    "RocCurveDisplay.from_predictions(y2_val, y2_proba_random, name=\"Random Baseline\", color=\"gray\", linestyle=\"--\", ax=plt.gca())\n",
    "\n",
    "plt.title(\"ROC Curves for Logistic Regression Models\")\n",
    "plt.grid(True)\n",
    "plt.show()"
   ]
  },
  {
   "cell_type": "markdown",
   "id": "e2084311c7776bb",
   "metadata": {},
   "source": [
    "#### b) Taux de buts par centile"
   ]
  },
  {
   "cell_type": "code",
   "execution_count": null,
   "id": "3d8af0cda1996c4b",
   "metadata": {
    "ExecuteTime": {
     "end_time": "2024-11-22T04:01:34.309249Z",
     "start_time": "2024-11-22T04:01:33.591026Z"
    }
   },
   "outputs": [],
   "source": [
    "# Calculer les taux pour chaque modèle\n",
    "# centiles = np.linspace(100, 0, 100)  # Centiles décroissants\n",
    "goal_rate_distance = compute_goal_rate_by_percentile(y_val, y_proba_distance, percentiles)\n",
    "goal_rate_angle = compute_goal_rate_by_percentile(y_val, y_proba_angle, percentiles)\n",
    "goal_rate_both = compute_goal_rate_by_percentile(y_val, y_proba_both, percentiles)\n",
    "goal_rate_random = compute_goal_rate_by_percentile(y_val, y_proba_random, percentiles)\n",
    "\n",
    "# Tracer les taux de buts\n",
    "plt.figure(figsize=(10, 6))\n",
    "plt.plot(percentiles[:-1], goal_rate_distance, label=\"Distance\", color=\"blue\")\n",
    "plt.plot(percentiles[:-1], goal_rate_angle, label=\"Angle\", color=\"green\")\n",
    "plt.plot(percentiles[:-1], goal_rate_both, label=\"Distance + Angle\", color=\"red\")\n",
    "plt.plot(percentiles[:-1], goal_rate_random, label=\"Random Baseline\", color=\"black\", linestyle=\"--\")\n",
    "\n",
    "# Personnalisation du graphique\n",
    "ax = plt.gca()\n",
    "ax.grid()\n",
    "ax.set_facecolor('0.95')\n",
    "\n",
    "ax.set_ylim([0, 100])\n",
    "ax.set_xlim([0, 100])\n",
    "ax.invert_xaxis()\n",
    "major_ticks = np.arange(0, 110, 10)\n",
    "ax.set_xticks(major_ticks)\n",
    "ax.set_yticks(major_ticks)\n",
    "\n",
    "plt.title(\"Taux de buts par centile de probabilité\")\n",
    "plt.xlabel(\"Centile de probabilité\")\n",
    "# plt.xlim(100,0)\n",
    "plt.ylabel(\"Taux de buts (%)\")\n",
    "# plt.ylim(0, 100)\n",
    "plt.grid(True)\n",
    "plt.legend()\n",
    "plt.show()\n"
   ]
  },
  {
   "cell_type": "markdown",
   "id": "68247c15043dfac2",
   "metadata": {},
   "source": [
    "#### c) Proportion cumulée des buts par centile"
   ]
  },
  {
   "cell_type": "code",
   "execution_count": null,
   "id": "d8ca56edccf0bc71",
   "metadata": {
    "ExecuteTime": {
     "end_time": "2024-11-22T05:30:45.045001Z",
     "start_time": "2024-11-22T05:30:44.347453Z"
    }
   },
   "outputs": [],
   "source": [
    "# Calculer les proportions cumulées pour chaque modèle\n",
    "cumulative_goals_distance_but = compute_cumulative_goal_rate_2(y_proba_distance, 1)\n",
    "\n",
    "cumulative_goals_angle_but = compute_cumulative_goal_rate_2(y_proba_angle, 1)\n",
    "\n",
    "cumulative_goals_both_but = compute_cumulative_goal_rate_2(y_proba_both, 1)\n",
    "\n",
    "sns.ecdfplot(data=cumulative_goals_distance_but, x=100 - cumulative_goals_distance_but.Percentile, label=\"Distance\", color='blue')\n",
    "\n",
    "sns.ecdfplot(data=cumulative_goals_angle_but, x=100 - cumulative_goals_distance_but.Percentile, label=\"Angle\", color='green')\n",
    "\n",
    "sns.ecdfplot(data=cumulative_goals_both_but, x=100 - cumulative_goals_both_but.Percentile, label=\"Distance + Angle\", color='red')\n",
    "\n",
    "plt.plot([100, 0], [1, 0], linestyle=\"--\", color=\"gray\", label=\"Classificateur aléatoire\") # Ligne de base du Classificateur aléatoire\n",
    "\n",
    "# Personnalisation du graphique\n",
    "ax = plt.gca()\n",
    "ax.grid()\n",
    "ax.set_facecolor('0.95')\n",
    "plt.yticks(np.arange(0, 1.05, 0.1))\n",
    "plt.xticks(np.arange(0, 100 * 1.01, 10))\n",
    "xvals = ax.get_xticks()\n",
    "ax.set_xticklabels(100 - xvals.astype(int), fontsize=16)\n",
    "yvals = ax.get_yticks()\n",
    "ax.set_yticklabels(['{:,.0%}'.format(y) for y in yvals], fontsize=16)\n",
    "ax.set_xlabel('Centile du modèle de probabilité de tir', fontsize=16)\n",
    "ax.set_ylabel('Proportion', fontsize=16)\n",
    "ax.set_title(\"Pourcentage cumulatif de Buts\", fontsize=20)\n",
    "plt.grid(color='gray', linestyle='--', linewidth=0.2)\n",
    "\n",
    "plt.legend(fontsize=12)\n",
    "plt.tight_layout()\n",
    "plt.savefig('2-3-3c_proportion_de_buts.png')\n",
    "plt.show()\n"
   ]
  },
  {
   "cell_type": "markdown",
   "id": "e62c72ad-0afa-41e5-a563-5b095674e41f",
   "metadata": {},
   "source": [
    "#### d) Diagramme de fiabilité"
   ]
  },
  {
   "cell_type": "code",
   "id": "221ef54e-050d-48d7-b8ab-29aa288c82c3",
   "metadata": {
    "ExecuteTime": {
     "end_time": "2024-11-22T21:58:56.577458Z",
     "start_time": "2024-11-22T21:58:56.553896Z"
    }
   },
   "source": [
    "fig, ax = plt.subplots(figsize=(8, 6))\n",
    "\n",
    "CalibrationDisplay.from_predictions(y2_val, y_proba_distance, n_bins=10, ax=ax, name=\"Reg log : distance\")\n",
    "CalibrationDisplay.from_predictions(y2_val, y_proba_angle, n_bins=10, ax=ax, name=\"Reg log : angle\")\n",
    "CalibrationDisplay.from_predictions(y2_val, y_proba_both, n_bins=10, ax=ax, name=\"Reg log : both\")\n",
    "\n",
    "plt.title(\"Diagramme de fiabilité\")\n",
    "plt.show()"
   ],
   "outputs": [
    {
     "ename": "NameError",
     "evalue": "name 'plt' is not defined",
     "output_type": "error",
     "traceback": [
      "\u001B[1;31m---------------------------------------------------------------------------\u001B[0m",
      "\u001B[1;31mNameError\u001B[0m                                 Traceback (most recent call last)",
      "Cell \u001B[1;32mIn[4], line 1\u001B[0m\n\u001B[1;32m----> 1\u001B[0m fig, ax \u001B[38;5;241m=\u001B[39m plt\u001B[38;5;241m.\u001B[39msubplots(figsize\u001B[38;5;241m=\u001B[39m(\u001B[38;5;241m8\u001B[39m, \u001B[38;5;241m6\u001B[39m))\n\u001B[0;32m      3\u001B[0m CalibrationDisplay\u001B[38;5;241m.\u001B[39mfrom_predictions(y2_val, y_proba_distance, n_bins\u001B[38;5;241m=\u001B[39m\u001B[38;5;241m10\u001B[39m, ax\u001B[38;5;241m=\u001B[39max, name\u001B[38;5;241m=\u001B[39m\u001B[38;5;124m\"\u001B[39m\u001B[38;5;124mReg log : distance\u001B[39m\u001B[38;5;124m\"\u001B[39m)\n\u001B[0;32m      4\u001B[0m CalibrationDisplay\u001B[38;5;241m.\u001B[39mfrom_predictions(y2_val, y_proba_angle, n_bins\u001B[38;5;241m=\u001B[39m\u001B[38;5;241m10\u001B[39m, ax\u001B[38;5;241m=\u001B[39max, name\u001B[38;5;241m=\u001B[39m\u001B[38;5;124m\"\u001B[39m\u001B[38;5;124mReg log : angle\u001B[39m\u001B[38;5;124m\"\u001B[39m)\n",
      "\u001B[1;31mNameError\u001B[0m: name 'plt' is not defined"
     ]
    }
   ],
   "execution_count": 4
  },
  {
   "cell_type": "markdown",
   "id": "a5462449e8905100",
   "metadata": {},
   "source": [
    "### Question 4: WandB"
   ]
  },
  {
   "cell_type": "code",
   "execution_count": null,
   "id": "e729d5608c1b1709",
   "metadata": {
    "ExecuteTime": {
     "end_time": "2024-11-22T03:26:07.672647Z",
     "start_time": "2024-11-22T03:26:07.556200Z"
    }
   },
   "outputs": [],
   "source": [
    "import os\n",
    "os.environ[\"WANDB_DIR\"] = \"C:/DS_milestone2_wandb\"\n",
    "os.environ[\"WANDB_NOTEBOOK_NAME\"] = \"main_Milestone-2.ipynb\""
   ]
  },
  {
   "cell_type": "markdown",
   "id": "79ee27011b141ca6",
   "metadata": {},
   "source": [
    "#### wandb pour distance seulement"
   ]
  },
  {
   "cell_type": "code",
   "execution_count": null,
   "id": "8edc93b433274bb9",
   "metadata": {
    "ExecuteTime": {
     "end_time": "2024-11-22T03:26:09.136734Z",
     "start_time": "2024-11-22T03:26:07.695409Z"
    }
   },
   "outputs": [],
   "source": [
    "# Initialiser Wandb pour distance\n",
    "run = wandb.init(\n",
    "    project=config.WANDB_PROJECT_NAME,  # Nom du projet\n",
    "    name=\"LogisticRegression_Distance\",  # Nom de l'expérience\n",
    "    group=\"logistic_regression\",\n",
    "    tags=[\"logistic_regression\", \"distance_only\"],  # Tags pour cette expérience\n",
    "    entity=config.WANDB_TEAM_NAME\n",
    ")\n",
    "\n",
    "# Exemple : Entraîner le modèle\n",
    "clf1 = LogisticRegression()\n",
    "clf1.fit(X2_distance_train, y2_train)\n",
    "\n",
    "# Évaluer le modèle (exemple avec AUC ROC)\n",
    "y_proba1 = clf1.predict_proba(X2_distance_val)[:, 1]\n",
    "auc_roc1 = roc_auc_score(y2_val, y_proba1)\n",
    "\n",
    "y_predict1 = clf1.predict(X2_distance_val)\n",
    "\n",
    "auc_roc = roc_auc_score(y_val_advanced_2, y_predicted_prob_advanced_2)\n",
    "f1 = f1_score(y_predicted_advanced_2, y_val_advanced_2, average=\"weighted\")\n",
    "ece = compute_ece(y_val_advanced_2, y_predicted_prob_advanced_2)\n",
    "\n",
    "# Enregistrer les métriques dans Wandb\n",
    "wandb.log({\"val_roc_auc\": auc_roc, \"val_f1_score_weighted\": f1, \"val_expected_calibration_error\": ece })\n",
    "\n",
    "model_path = \"LogisticRegression_Distance.pkl\"\n",
    "with open(model_path, \"wb\") as f:\n",
    "    pickle.dump(clf1, f)\n",
    "\n",
    "# Enregistrer le modèle avec WandB\n",
    "run.log_model(path=\"LogisticRegression_Distance.pkl\", name=\"LogisticRegression_Distance\")\n",
    "\n",
    "# Terminer l'expérience\n",
    "wandb.finish()"
   ]
  },
  {
   "metadata": {},
   "cell_type": "code",
   "outputs": [],
   "source": "",
   "id": "4edf2514d2c253b",
   "execution_count": null
  },
  {
   "cell_type": "markdown",
   "id": "ae82bb666f8b1fbc",
   "metadata": {},
   "source": [
    "#### wandb pour angle seulement"
   ]
  },
  {
   "cell_type": "code",
   "execution_count": null,
   "id": "4024d7917ffcee13",
   "metadata": {
    "ExecuteTime": {
     "end_time": "2024-11-22T03:26:09.144274700Z",
     "start_time": "2024-11-19T01:14:05.467786Z"
    }
   },
   "outputs": [],
   "source": [
    "# Initialiser Wandb\n",
    "wandb.init(\n",
    "    project=config.WANDB_PROJECT_NAME,\n",
    "    dir=\"C:/DS_milestone2_wandb\",\n",
    "    name=\"LogisticRegression_Angle\",  # Nom de l'expérience\n",
    "    group=\"logistic_regression\",\n",
    "    tags=[\"logistic_regression\", \"angle_only\"],  # Tags pour cette expérience\n",
    "    entity=config.WANDB_TEAM_NAME\n",
    ")\n",
    "\n",
    "# Exemple : Entraîner le modèle\n",
    "clf2 = LogisticRegression()\n",
    "clf2.fit(X2_angle_train, y2_train)\n",
    "\n",
    "# Évaluer le modèle (exemple avec AUC ROC)\n",
    "y_proba2 = clf2.predict_proba(X2_angle_val)[:, 1]\n",
    "auc_roc2 = roc_auc_score(y2_val, y_proba2)\n",
    "\n",
    "# Enregistrer les métriques dans Wandb\n",
    "wandb.log({\"val_roc_auc\": auc_roc2})\n",
    "\n",
    "# Sauvegarder le modèle\n",
    "model_path2 = \"logistic_regression_angle.pkl\"\n",
    "with open(model_path2, \"wb\") as f2:\n",
    "    pickle.dump(clf2, f2)\n",
    "\n",
    "# Enregistrer le modèle dans Wandb\n",
    "wandb.save(model_path2)\n",
    "\n",
    "# Terminer l'expérience\n",
    "wandb.finish()"
   ]
  },
  {
   "cell_type": "markdown",
   "id": "f6ab9cf08437f886",
   "metadata": {},
   "source": [
    "#### wandb: Distance et angle"
   ]
  },
  {
   "cell_type": "code",
   "execution_count": null,
   "id": "602b7eaf87f5fe44",
   "metadata": {
    "ExecuteTime": {
     "end_time": "2024-11-22T03:26:09.155291400Z",
     "start_time": "2024-11-19T01:23:48.204735Z"
    }
   },
   "outputs": [],
   "source": [
    "# Initialiser Wandb\n",
    "wandb.init(\n",
    "    project=config.WANDB_PROJECT_NAME,\n",
    "    dir=\"C:/DS_milestone2_wandb\",\n",
    "    name=\"LogisticRegression_Distance_Angle\",  # Nom de l'expérience\n",
    "    group=\"logistic_regression\",\n",
    "    tags=[\"logistic_regression\", \"distance et angle\"],  # Tags pour cette expérience\n",
    "    entity=config.WANDB_TEAM_NAME\n",
    ")\n",
    "\n",
    "# Exemple : Entraîner le modèle\n",
    "clf3 = LogisticRegression()\n",
    "clf3.fit(X2_both_train, y2_train)\n",
    "\n",
    "# Évaluer le modèle (exemple avec AUC ROC)\n",
    "y_proba3 = clf3.predict_proba(X2_both_val)[:, 1]\n",
    "auc_roc3 = roc_auc_score(y2_val, y_proba3)\n",
    "\n",
    "# Enregistrer les métriques dans Wandb\n",
    "wandb.log({\"val_roc_auc\": auc_roc3})\n",
    "\n",
    "# Sauvegarder le modèle\n",
    "model_path3 = \"logistic_regression_distance_and_angle.pkl\"\n",
    "with open(model_path3, \"wb\") as f3:\n",
    "    pickle.dump(clf3, f3)\n",
    "\n",
    "# Enregistrer le modèle dans Wandb\n",
    "wandb.save(model_path3)\n",
    "\n",
    "# Terminer l'expérience\n",
    "wandb.finish()"
   ]
  },
  {
   "cell_type": "markdown",
   "id": "db0224009dcc7d52",
   "metadata": {},
   "source": [
    "# Ingénierie des caractéristiques II\n",
    "\n",
    "### Ajout de l'artefact sur Wandb"
   ]
  },
  {
   "cell_type": "code",
   "execution_count": null,
   "id": "d7f485859221d38d",
   "metadata": {},
   "outputs": [],
   "source": [
    "# Connect to the Wandb API\n",
    "api = wandb.Api()\n",
    "\n",
    "# Spécifiez votre projet\n",
    "project_name = config.WANDB_PROJECT_NAME\n",
    "entity = config.WANDB_TEAM_NAME\n",
    "\n",
    "try:\n",
    "    artifact = api.artifact(f'{entity}/{project_name}/wpg_v_wsh_2017021065:latest')\n",
    "    print(\"L'artefact existe déjà.\")\n",
    "except wandb.errors.CommError as e:\n",
    "    run = wandb.init(project=\"IFT6758.2024-A11\")\n",
    "\n",
    "    # Create artefact\n",
    "    artifact = wandb.Artifact(\n",
    "        \"wpg_v_wsh_2017021065\",\n",
    "        type=\"dataset\"\n",
    "    )\n",
    "\n",
    "    # add data\n",
    "    my_table = wandb.Table(dataframe=train_data[train_data['idGame'] == 2017021065])\n",
    "    artifact.add(my_table, \"wpg_v_wsh_2017021065\")\n",
    "    run.log_artifact(artifact)\n"
   ]
  },
  {
   "cell_type": "markdown",
   "id": "4b712e75-ae96-4a65-b62f-1081533c2e12",
   "metadata": {},
   "source": [
    "# Modèles avancés "
   ]
  },
  {
   "cell_type": "markdown",
   "id": "7bad4e13-94a4-475a-9272-f937009362ca",
   "metadata": {},
   "source": [
    "## Question 1"
   ]
  },
  {
   "cell_type": "markdown",
   "id": "2f5c6fdf-e731-47ba-a459-d3470f56a3e1",
   "metadata": {},
   "source": [
    "### Entrainement du modèle"
   ]
  },
  {
   "cell_type": "code",
   "execution_count": null,
   "id": "1cfd70f8-923e-4980-8d78-470b0c2a01a8",
   "metadata": {},
   "outputs": [],
   "source": [
    "# Sélection des caractéristiques\n",
    "xgb_basic_characteristics = ['shotDistance', 'shotAngle']\n",
    "\n",
    "x = train_data[xgb_basic_characteristics].dropna()\n",
    "y = train_data['isGoal'][x.index]"
   ]
  },
  {
   "cell_type": "code",
   "execution_count": null,
   "id": "e507fc56-b6c2-45d0-9b3b-7a47e3955a9f",
   "metadata": {},
   "outputs": [],
   "source": [
    "x_train_basic, x_val_basic, y_train_basic, y_val_basic = train_test_split(x, y, test_size=0.2, random_state=42, stratify=y)"
   ]
  },
  {
   "cell_type": "code",
   "execution_count": null,
   "id": "714cb9ca-ba9a-45d7-b826-81225f1d547f",
   "metadata": {},
   "outputs": [],
   "source": [
    "xgb = XGBClassifier(objective='binary:logistic')\n",
    "xgb.fit(x_train_basic, y_train_basic)"
   ]
  },
  {
   "cell_type": "markdown",
   "id": "39e350b6-a139-4422-bb53-1c6998064148",
   "metadata": {},
   "source": [
    "### Courbes"
   ]
  },
  {
   "cell_type": "markdown",
   "id": "646d7dca-4956-424c-9ffa-ea003d667c7f",
   "metadata": {},
   "source": [
    "#### ROC/AUC"
   ]
  },
  {
   "cell_type": "code",
   "execution_count": null,
   "id": "27185ebc-1b85-4992-8c47-f125fa4690ae",
   "metadata": {},
   "outputs": [],
   "source": [
    "# Probabilités pour la classe \"but\"\n",
    "y_predicted_prob_basic = xgb.predict_proba(x_val_basic)[:, 1]"
   ]
  },
  {
   "cell_type": "code",
   "execution_count": null,
   "id": "13736dcb-6917-4f13-92de-3033ff8411b6",
   "metadata": {},
   "outputs": [],
   "source": [
    "# Ligne de base aléatoire\n",
    "y_proba_random = np.random.uniform(0, 1, len(y_val_basic))\n",
    "plt.figure(figsize=(10, 6))\n",
    "# ROC\n",
    "RocCurveDisplay.from_predictions(y_val_basic, y_predicted_prob_basic, name=\"XGBoost\", color=\"blue\", ax=plt.gca())\n",
    "RocCurveDisplay.from_predictions(y_val_basic, y_proba_random, name=\"Classificateur aléatoire\", color=\"gray\", linestyle=\"--\", ax=plt.gca())\n",
    "plt.title(\"ROC Curve for XGBoost Model\")\n",
    "plt.grid(True)\n",
    "plt.show()\n",
    "# plt.savefig('modele_avance_q1_roc.png', dpi=300)"
   ]
  },
  {
   "cell_type": "code",
   "execution_count": null,
   "id": "25e47ebc-7271-429f-9405-5a42328dcc6a",
   "metadata": {},
   "outputs": [],
   "source": [
    "# le XGBoost a un AUC similaire a celui de la regression logistique (entrainée avec l'angle et la distance) "
   ]
  },
  {
   "cell_type": "markdown",
   "id": "d07a3656-0198-44b2-bc3c-6eafeef06e3e",
   "metadata": {},
   "source": [
    "#### Taux de buts vs percentile de probabilité "
   ]
  },
  {
   "cell_type": "code",
   "execution_count": null,
   "id": "a4b295d2-620e-4f49-9863-43aea31c6291",
   "metadata": {},
   "outputs": [],
   "source": [
    "percentiles = np.linspace(0, 100, 11)\n",
    "goal_rates = compute_goal_rate_by_percentile(y_val_basic, y_predicted_prob_basic, percentiles)\n",
    "\n",
    "plot_line_2_variables(x=percentiles[:-1], y=goal_rates, color='green', label=\"Taux de buts par centile des probabilités prédites\", xinf=100, xsup=0, x_label=\"Centiles des probabilités prédites\", y_label=\"Taux de buts (%)\")"
   ]
  },
  {
   "cell_type": "code",
   "execution_count": null,
   "id": "c2bc65e2-01de-4ba3-8c86-b37f9729ccfa",
   "metadata": {},
   "outputs": [],
   "source": [
    "# il s'agit d'une courbe de calibrage personnalisé. la courbe monte régulièrement, cela signifie  cela signifie que les probabilités prédites \n",
    "# par le modèle sont cohérentes avec les fréquences observées\n",
    "# La courbe est similaire a celle de la reg logistique distance + angle"
   ]
  },
  {
   "cell_type": "markdown",
   "id": "363e0dd7-786e-445d-aff2-8e023c56d8a6",
   "metadata": {},
   "source": [
    "#### Proportion cumulée de buts vs percentile de probabilité"
   ]
  },
  {
   "cell_type": "markdown",
   "id": "099d1b0c-b2d6-4b20-9772-914096e0685c",
   "metadata": {},
   "source": [
    "#### Le diagramme de fiabilité (courbe de calibration)"
   ]
  },
  {
   "cell_type": "code",
   "execution_count": null,
   "id": "ca1b7ebd-acc2-4c15-b66e-d2806c164cd9",
   "metadata": {},
   "outputs": [],
   "source": [
    "CalibrationDisplay.from_predictions(y_val_basic, y_predicted_prob_basic, n_bins=10, name=\"XGBoost basique\")\n",
    "plt.title(\"Diagramme de fiabilité\")\n",
    "plt.show()"
   ]
  },
  {
   "cell_type": "code",
   "execution_count": null,
   "id": "f4774164-1ea2-472d-9287-930390c0e055",
   "metadata": {},
   "outputs": [],
   "source": [
    "# la courbe passe en dessous de la diagonale a partir de 0.4 environ, \n",
    "# ainsi, cette figure pourrait impliquerait que le modèle sur-prédit les probabilités. cependant, sachant qu'il n,ya pas peu\n",
    "#etre pas assez de données dans les bins, on est mieux de se fier a la courbe de buts par percentile qu'on a faite qui a aplus de données\n",
    "#par bin (la fraction de valeurs positive dans chaque bin est donc plus representative )\n",
    "\n",
    "#La courbe est cohérente au début (où il y a beaucoup d'exemples) mais devient incohérente aux extrémités (où les bins sont sous-représentés)\n",
    "# ici le modele surprédit, alors que dans le cas de la regression logistique, le modèle sous-predit"
   ]
  },
  {
   "cell_type": "markdown",
   "id": "8070c637-f5b6-46c5-b06e-e4a8a2dd14cc",
   "metadata": {},
   "source": [
    "### Wandb"
   ]
  },
  {
   "cell_type": "code",
   "execution_count": null,
   "id": "01263f51-deca-4205-8c16-c1ce3cd62920",
   "metadata": {},
   "outputs": [],
   "source": [
    "# Initialiser Wandb pour distance\n",
    "wandb.init(\n",
    "    project=config.WANDB_PROJECT_NAME,  # Nom du projet\n",
    "    name=\"XGBoost par défaut : distance et angle\",  # Nom de l'expérience\n",
    "    group=\"XGBoost\",\n",
    "    tags=[\"XGBoost\", \"distance_and_angle\"],  # Tags pour cette expérience\n",
    "    entity=config.WANDB_TEAM_NAME\n",
    ")\n",
    "\n",
    "xgb_params = {\n",
    "    \"learning_rate\": 0.3,\n",
    "    \"max_depth\": 6,\n",
    "    \"n_estimators\": 100,\n",
    "    \"subsample\": 1.0\n",
    "}\n",
    "\n",
    "# Logger les hyperparamètres dans wandb\n",
    "wandb.config.update(xgb_params)\n",
    "\n",
    "y_predicted_basic = xgb.predict(x_val_basic)\n",
    "\n",
    "auc_roc = roc_auc_score(y_val_basic, y_predicted_prob_basic)\n",
    "f1 = f1_score(y_predicted, y_val_basic, average=\"weighted\")\n",
    "ece = compute_ece(y_val_basic, y_predicted_prob_basic)\n",
    "\n",
    "# Enregistrer les métriques dans Wandb\n",
    "wandb.log({\"val_roc_auc\": auc_roc, \"val_f1_score_weighted\": f1, \"val_expected_calibration_error\": ece })\n",
    "\n",
    "# Terminer l'expérience\n",
    "wandb.finish()"
   ]
  },
  {
   "cell_type": "markdown",
   "id": "cb16cc9d-d9d0-46fe-8d27-8ec079868c89",
   "metadata": {},
   "source": [
    "## Question 2"
   ]
  },
  {
   "cell_type": "code",
   "execution_count": null,
   "id": "1abbe852-3910-40a4-a8b4-be9ec0ccd4f6",
   "metadata": {},
   "outputs": [],
   "source": [
    "xgb_categorial_characteristics = [\n",
    "    'shotType',\n",
    "    'previousEventType',\n",
    "    'rebound'\n",
    "]\n",
    "\n",
    "xgb_num_characteristics = ['shotDistance', \n",
    "                   'shotAngle', \n",
    "                   'numberPeriod', \n",
    "                   'gameSeconds',\n",
    "                   'xCoord',\n",
    "                   'yCoord',\n",
    "                   'previousXCoord',\n",
    "                   'previousYCoord',\n",
    "                   'timeSinceLastEvent',\n",
    "                   'distanceFromLastEvent',\n",
    "                   'speedFromLastEvent',\n",
    "                  'reboundAngleShot' # changement angle de tir\n",
    "                  ]\n",
    "\n",
    "characteristics = xgb_num_characteristics + xgb_categorial_characteristics"
   ]
  },
  {
   "cell_type": "code",
   "execution_count": null,
   "id": "2a0dcf59-cee8-4b5d-a58e-531154d3ce80",
   "metadata": {},
   "outputs": [],
   "source": [
    "x_full_train = train_data[characteristics].dropna()\n",
    "y_full_train = train_data['isGoal'][x_full_train.index].to_numpy()"
   ]
  },
  {
   "cell_type": "code",
   "execution_count": null,
   "id": "f77ab92f-6e9f-40ab-9a64-3ed1edcde1d8",
   "metadata": {},
   "outputs": [],
   "source": [
    "full_pipeline = ColumnTransformer(\n",
    "    transformers=[\n",
    "        (\"cat\", OneHotEncoder(), xgb_categorial_characteristics),  # OneHotEncoder pour les colonnes catégorielles\n",
    "    ],\n",
    "    remainder=\"passthrough\"  # Garder les autres colonnes telles quelles\n",
    ")\n",
    "\n",
    "# Appliquer la pipeline aux données\n",
    "x_full_train_transformed = full_pipeline.fit_transform(x_full_train)"
   ]
  },
  {
   "cell_type": "markdown",
   "id": "300c07ef-17fb-4228-a083-aeff2fbeb4e0",
   "metadata": {},
   "source": [
    "### Optimisation des hyperparamètres"
   ]
  },
  {
   "cell_type": "code",
   "execution_count": null,
   "id": "2b3b345a-9753-4579-853f-6e57883a11ff",
   "metadata": {},
   "outputs": [],
   "source": [
    "from sklearn.metrics import make_scorer\n",
    "\n",
    "'''\n",
    "def compute_ece(y_true, y_proba, n_bins=10):\n",
    "    \"\"\"\n",
    "    Calcule l'Expected Calibration Error (ECE).\n",
    "    \n",
    "    Args:\n",
    "        y_true: array, étiquettes vraies (0 ou 1).\n",
    "        y_proba: array, probabilités prédites pour la classe positive.\n",
    "        n_bins: int, nombre de bins pour la calibration.\n",
    "        \n",
    "    Returns:\n",
    "        ece: erreur de calibration moyenne attendue.\n",
    "    \"\"\"\n",
    "    bins = np.linspace(0, 1, n_bins + 1)\n",
    "    bin_indices = np.digitize(y_proba, bins, right=True) - 1\n",
    "    ece = 0.0\n",
    "\n",
    "    for i in range(n_bins):\n",
    "        # Masque des exemples dans le bin courant\n",
    "        bin_mask = bin_indices == i\n",
    "        if bin_mask.sum() > 0:\n",
    "            bin_mean_predicted = y_proba[bin_mask].mean()\n",
    "            bin_actual = y_true[bin_mask].mean()\n",
    "            ece += (bin_mask.sum() / len(y_true)) * abs(bin_mean_predicted - bin_actual)\n",
    "    \n",
    "    return ece\n",
    "\n",
    "# Créer une version négative de l'ECE pour minimisation\n",
    "def negative_ece(y_true, y_proba):\n",
    "    return -compute_ece(y_true, y_proba)\n",
    "\n",
    "ece_scorer = make_scorer(negative_ece, needs_proba=True)\n",
    "\n",
    "xgb = XGBClassifier(objective='binary:logistic')\n",
    "\n",
    "stratified_cv = StratifiedKFold(n_splits=5, shuffle=True, random_state=42)\n",
    "\n",
    "param_grid = {\n",
    "    \"learning_rate\": [0.01, 0.1],        # Taux d'apprentissage\n",
    "    \"max_depth\": [10, 20],                  # Profondeur maximale des arbres\n",
    "    \"n_estimators\": [200, 300],          # Nombre d'arbres\n",
    "    \"subsample\": [0.7, 1.0],                 # Proportion des échantillons utilisés par arbre\n",
    "}\n",
    "\n",
    "grid_search = GridSearchCV(\n",
    "    estimator=xgb,\n",
    "    param_grid=param_grid,\n",
    "    scoring=ece_scorer,\n",
    "    cv=stratified_cv,                                   # Nombre de folds pour la validation croisée\n",
    "    verbose=1,                              # Niveau de log\n",
    "    n_jobs=-1                               # Utilisation de tous les cœurs disponibles\n",
    ")\n",
    "\n",
    "grid_search.fit(x_full_train_transformed, y_full_train)\n",
    "\n",
    "# Résultats de la meilleure combinaison d'hyperparamètres\n",
    "print(\"Meilleurs hyperparamètres :\", grid_search.best_params_)\n",
    "print(\"Meilleur score (Brier Score) :\", grid_search.best_score_)\n",
    "\n",
    "\n",
    "# show_xgboost_hyperparameters_scores(grid_search)\n",
    "'''"
   ]
  },
  {
   "cell_type": "markdown",
   "id": "f9e8d848-b50d-40cb-85a4-0bb6f62b627a",
   "metadata": {},
   "source": [
    "### Courbes XGBoost"
   ]
  },
  {
   "cell_type": "code",
   "execution_count": null,
   "id": "1c574a99-1dbe-4820-b374-61e81ddaa611",
   "metadata": {},
   "outputs": [],
   "source": [
    "xgb_basic = XGBClassifier(objective='binary:logistic')\n",
    "\n",
    "# grid_search.best_params_\n",
    "# best_params = {'learning_rate': 0.1, 'max_depth': 20, 'n_estimators': 300, 'subsample': 1.0}\n",
    "best_params = {'learning_rate': 0.01, 'max_depth': 10, 'n_estimators': 300, 'subsample': 1.0}\n",
    "\n",
    "xgb_advanced = XGBClassifier(objective='binary:logistic', **best_params)\n",
    "\n",
    "x = train_data[characteristics].dropna()\n",
    "y = train_data['isGoal'][x.index]\n",
    "\n",
    "x_train_advanced, x_val_advanced, y_train_advanced, y_val_advanced = train_test_split(x, y, test_size=0.2, random_state=42, stratify=y)"
   ]
  },
  {
   "cell_type": "code",
   "execution_count": null,
   "id": "62138198-bced-4519-bcdd-69dab0e0608b",
   "metadata": {},
   "outputs": [],
   "source": [
    "xgb_basic.fit(x_train_basic, y_train_basic)\n",
    "\n",
    "x_train_advanced = full_pipeline.fit_transform(x_train_advanced)\n",
    "x_val_advanced = full_pipeline.fit_transform(x_val_advanced)\n",
    "\n",
    "xgb_advanced.fit(x_train_advanced, y_train_advanced)\n",
    "\n",
    "y_predicted_prob_basic = xgb_basic.predict_proba(x_val_basic)[:, 1]\n",
    "y_predicted_prob_advanced = xgb_advanced.predict_proba(x_val_advanced)[:, 1]"
   ]
  },
  {
   "cell_type": "markdown",
   "id": "b690cde7-6da9-4651-9ca1-a5531ac0dfca",
   "metadata": {},
   "source": [
    "#### ROC/AUC"
   ]
  },
  {
   "cell_type": "code",
   "execution_count": null,
   "id": "14cb74e0-cde4-48f5-9949-be2cf8b14183",
   "metadata": {},
   "outputs": [],
   "source": [
    "plt.figure(figsize=(15, 8))\n",
    "RocCurveDisplay.from_predictions(y_val_basic, y_predicted_prob_basic, name=\"XGBoost basique (Distance et angle)\", color=\"blue\", ax=plt.gca())\n",
    "RocCurveDisplay.from_predictions(y_val_advanced, y_predicted_prob_advanced, name=\"XGBoost avancé - caractéristiques nouvelles\", color=\"green\", ax=plt.gca())\n",
    "\n",
    "plt.title(\"ROC Curves for XGBoost Models\")\n",
    "plt.grid(True)\n",
    "plt.show()"
   ]
  },
  {
   "cell_type": "markdown",
   "id": "085880f0-fa20-419c-a939-baa62084c12b",
   "metadata": {},
   "source": [
    "#### Taux de buts vs percentile de probabilité"
   ]
  },
  {
   "cell_type": "code",
   "execution_count": null,
   "id": "1f5751a7-1a47-471d-bf3d-1fd03051bf53",
   "metadata": {},
   "outputs": [],
   "source": [
    "goal_rate_basic = compute_goal_rate_by_percentile(y_val_basic, y_predicted_prob_basic, percentiles)\n",
    "goal_rate_advanced = compute_goal_rate_by_percentile(y_val_advanced, y_predicted_prob_advanced, percentiles)\n",
    "\n",
    "# Tracer les taux de buts\n",
    "plt.figure(figsize=(10, 6))\n",
    "plt.plot(percentiles[:-1], goal_rate_basic, label=\"XGBoost basique\", color=\"blue\")\n",
    "plt.plot(percentiles[:-1], goal_rate_advanced, label=\"XGBoost avancé - caractéristiques nouvelles\", color=\"green\")\n",
    "\n",
    "plt.title(\"Taux de buts par centile de probabilité\")\n",
    "plt.xlabel(\"Centile de probabilité\")\n",
    "plt.xlim(100,0)\n",
    "plt.ylabel(\"Taux de buts (%)\")\n",
    "plt.ylim(0, 100)\n",
    "plt.grid(True)\n",
    "plt.legend()\n",
    "plt.show()"
   ]
  },
  {
   "cell_type": "markdown",
   "id": "3bd24892-087f-4791-9d5a-3334936a669d",
   "metadata": {},
   "source": [
    "#### Proportion cumulée des buts par centile"
   ]
  },
  {
   "cell_type": "code",
   "execution_count": null,
   "id": "d9df24ed-2eb5-4d11-86f8-c6d440c08768",
   "metadata": {},
   "outputs": [],
   "source": []
  },
  {
   "cell_type": "markdown",
   "id": "27870c70-af16-4c17-b88d-27daa3bf34e9",
   "metadata": {},
   "source": [
    "#### Diagramme de fiabilité"
   ]
  },
  {
   "cell_type": "code",
   "execution_count": null,
   "id": "f6056b92-78f8-431c-9721-1a5aaa706c9f",
   "metadata": {},
   "outputs": [],
   "source": [
    "fig, ax = plt.subplots(figsize=(8, 6))\n",
    "\n",
    "CalibrationDisplay.from_predictions(y_val_basic, y_predicted_prob_basic, n_bins=10, ax=ax, name=\"XGBoost basique\")\n",
    "CalibrationDisplay.from_predictions(y_val_advanced, y_predicted_prob_advanced, n_bins=10, ax=ax, name=\"XGBoost avancé - caractéristiques nouvelles\")\n",
    "\n",
    "plt.title(\"Diagramme de fiabilité\")\n",
    "plt.show()"
   ]
  },
  {
   "cell_type": "markdown",
   "id": "02e0f610-58e6-4eaa-9828-3dcde0122f75",
   "metadata": {},
   "source": [
    "### wandb"
   ]
  },
  {
   "cell_type": "code",
   "execution_count": null,
   "id": "7a5af3bd-8a0d-4468-9c6c-6efbab2b77fe",
   "metadata": {},
   "outputs": [],
   "source": [
    "run = wandb.init(\n",
    "    project=config.WANDB_PROJECT_NAME,  # Nom du projet\n",
    "    name=\"XGBoost avancé (nouvelles caractéristiques)\",  # Nom de l'expérience\n",
    "    group=\"XGBoost\",\n",
    "    tags=[\"XGBoost\", \"new_features\"],  # Tags pour cette expérience\n",
    "    entity=config.WANDB_TEAM_NAME\n",
    ")\n",
    "\n",
    "xgb_params = {\n",
    "    'learning_rate': 0.01,\n",
    "    'max_depth': 10,\n",
    "    'n_estimators': 300,\n",
    "    'subsample': 1.0\n",
    "}\n",
    "\n",
    "# Logger les hyperparamètres dans wandb\n",
    "wandb.config.update(xgb_params)\n",
    "\n",
    "y_predicted_advanced = xgb_advanced.predict(x_val_advanced)\n",
    "\n",
    "auc_roc = roc_auc_score(y_val_advanced, y_predicted_prob_advanced)\n",
    "f1 = f1_score(y_predicted_advanced, y_val_advanced, average=\"weighted\")\n",
    "ece = compute_ece(y_val_advanced, y_predicted_prob_advanced)\n",
    "\n",
    "wandb.log({\"val_roc_auc\": auc_roc, \"val_f1_score_weighted\": f1, \"val_expected_calibration_error\": ece })\n",
    "\n",
    "model_path = \"XGBoost_improved_with_new_features.pkl\"\n",
    "with open(model_path, \"wb\") as f:\n",
    "    pickle.dump(xgb_advanced, f)\n",
    "\n",
    "# Enregistrer le modèle avec WandB\n",
    "run.log_model(path=\"XGBoost_improved_with_new_features.pkl\", name=\"XGBoost_improved_with_new_features\")\n",
    "\n",
    "# Terminer l'expérience\n",
    "wandb.finish()"
   ]
  },
  {
   "cell_type": "markdown",
   "id": "bb375412-f445-4554-972f-056c57bfa60a",
   "metadata": {},
   "source": [
    "## Question 3"
   ]
  },
  {
   "cell_type": "markdown",
   "id": "0f6f1002-a980-486d-8b80-7b61e131bcc3",
   "metadata": {},
   "source": [
    "### Sélection par importances via forêt aléatoire"
   ]
  },
  {
   "cell_type": "code",
   "execution_count": null,
   "id": "51c74030-3859-48aa-86ed-fdc67dc6d4ec",
   "metadata": {},
   "outputs": [],
   "source": [
    "import numpy as np\n",
    "import matplotlib.pyplot as plt\n",
    "from sklearn.ensemble import ExtraTreesClassifier\n",
    "from sklearn.feature_selection import SelectFromModel\n",
    "from sklearn.model_selection import cross_val_score, StratifiedKFold\n",
    "from sklearn.metrics import make_scorer, accuracy_score"
   ]
  },
  {
   "cell_type": "code",
   "execution_count": null,
   "id": "f04e428f-f172-4425-8b73-4f31bfe5f2ec",
   "metadata": {},
   "outputs": [],
   "source": [
    "x_full_train = train_data[characteristics].dropna()\n",
    "y_full_train = train_data['isGoal'][x_full_train.index].to_numpy()\n",
    "\n",
    "x_full_train_transformed = full_pipeline.fit_transform(x_full_train)"
   ]
  },
  {
   "cell_type": "code",
   "execution_count": null,
   "id": "e9b16498-6a8d-4ff9-a2c4-330b5570e178",
   "metadata": {},
   "outputs": [],
   "source": [
    "'''\n",
    "clf = ExtraTreesClassifier(n_estimators=100, random_state=42)\n",
    "clf.fit(x_full_train_transformed, y_full_train)\n",
    "\n",
    "# Obtenir l'importance des caractéristiques\n",
    "importances = clf.feature_importances_\n",
    "\n",
    "# Définir plusieurs seuils pour les importances\n",
    "thresholds = np.linspace(0, max(importances), 10)\n",
    "\n",
    "print(min(importances), max(importances)) # 0.0005237490370182553 0.10476373782698718\n",
    "\n",
    "# Initialiser les variables pour suivre les scores et les seuils\n",
    "scores_by_threshold = []\n",
    "\n",
    "# Définir une validation croisée stratifiée\n",
    "cv = StratifiedKFold(n_splits=5, shuffle=True, random_state=42)\n",
    "\n",
    "# Essayer plusieurs seuils pour sélectionner les meilleures caractéristiques\n",
    "for threshold in thresholds:\n",
    "    # Sélectionner les caractéristiques importantes\n",
    "    selector = SelectFromModel(clf, threshold=threshold, prefit=True)\n",
    "    \n",
    "    x_train_selected = selector.transform(x_full_train_transformed)\n",
    "\n",
    "    xgb_advanced = XGBClassifier(objective='binary:logistic', **best_params)\n",
    "\n",
    "    # Calculer la moyenne des scores sur les plis de la validation croisée\n",
    "    scores = cross_val_score(xgb_advanced, x_train_selected, y_full_train, cv=cv, scoring=make_scorer(negative_ece, needs_proba=True))\n",
    "    mean_score = np.mean(scores)\n",
    "\n",
    "    # Stocker les résultats\n",
    "    scores_by_threshold.append((threshold, mean_score))\n",
    "    print(f\"Threshold: {threshold:.4f}, Cross-Validation negative ECE: {mean_score:.4f}\")\n",
    "\n",
    "ece_by_threshold = [(t[0], t[1] * -1) for t in scores_by_threshold]\n",
    "\n",
    "# Extraire les valeurs pour l'axe x (étiquettes) et l'axe y (hauteur des barres)\n",
    "thresholds = [x[0] for x in ece_by_threshold]\n",
    "ece_values = [x[1] for x in ece_by_threshold]\n",
    "\n",
    "# Créer le graphique en bâtons\n",
    "plt.figure(figsize=(10, 6))\n",
    "plt.bar(thresholds, ece_values, width=0.003, color='skyblue')\n",
    "\n",
    "# Ajouter les étiquettes\n",
    "plt.xlabel('Threshold')\n",
    "plt.ylabel('Erreur de calibration moyenne')\n",
    "plt.title('Graphique en bâtons des Thresholds et des érreurs de calibration attendues moyennes')\n",
    "\n",
    "# Afficher les étiquettes des thresholds sur l'axe des x\n",
    "plt.xticks(thresholds, rotation=45)\n",
    "\n",
    "# Afficher le graphique\n",
    "plt.tight_layout()\n",
    "plt.grid()\n",
    "plt.savefig('modele_avance_q3_feature_selection_random_forest.png', dpi=300)\n",
    "plt.show()\n",
    "'''"
   ]
  },
  {
   "cell_type": "code",
   "execution_count": null,
   "id": "55600503-617d-4aa9-a96b-b5daa7f6f147",
   "metadata": {},
   "outputs": [],
   "source": [
    "# best_threshold = sorted(ece_by_threshold, key=lambda x: x[1])[0][0] . celui qui minimise l'érruer de calibration\n",
    "best_threshold = 0.08148290719876781"
   ]
  },
  {
   "cell_type": "code",
   "execution_count": null,
   "id": "bbc3cf9e-269e-4783-8c8e-8be75a29f77d",
   "metadata": {},
   "outputs": [],
   "source": [
    "clf = ExtraTreesClassifier(n_estimators=100, random_state=42)\n",
    "clf.fit(x_full_train_transformed, y_full_train)\n",
    "\n",
    "selector = SelectFromModel(clf, threshold=best_threshold, prefit=True)"
   ]
  },
  {
   "cell_type": "code",
   "execution_count": null,
   "id": "a0123376-f4f4-443a-8a44-fe7e7a772c08",
   "metadata": {},
   "outputs": [],
   "source": [
    "ohe = full_pipeline.named_transformers_[\"cat\"]\n",
    "ohe_columns = ohe.get_feature_names_out(xgb_categorial_characteristics)\n",
    "\n",
    "# Colonnes \"passthrough\" (non modifiées)\n",
    "passthrough_columns = xgb_num_characteristics\n",
    "\n",
    "# Liste finale des colonnes\n",
    "all_columns = list(ohe_columns) + passthrough_columns\n",
    "all_columns_array = np.array(all_columns)\n",
    "\n",
    "print(\"colonnes conservées\")\n",
    "print(all_columns_array[selector.get_support()])\n",
    "'''\n",
    "['shotDistance' 'shotAngle' 'gameSeconds' 'xCoord' 'yCoord'\n",
    " 'timeSinceLastEvent' 'distanceFromLastEvent' 'speedFromLastEvent']\n",
    "'''"
   ]
  },
  {
   "cell_type": "code",
   "execution_count": null,
   "id": "5a108b8d-011c-4a47-a3b9-8d404dddd4e7",
   "metadata": {},
   "outputs": [],
   "source": [
    "x_train_advanced_2, x_val_advanced_2, y_train_advanced_2, y_val_advanced_2 = train_test_split(x_full_train, y_full_train, test_size=0.2, random_state=42, stratify=y_full_train)\n",
    "\n",
    "xgb_advanced_2 = XGBClassifier(objective='binary:logistic', **best_params)\n",
    "\n",
    "x_train_advanced_2 = full_pipeline.fit_transform(x_train_advanced_2)\n",
    "x_train_advanced_2 = selector.transform(x_train_advanced_2)\n",
    "\n",
    "x_val_advanced_2 = full_pipeline.fit_transform(x_val_advanced_2)\n",
    "x_val_advanced_2 = selector.transform(x_val_advanced_2)\n",
    "\n",
    "xgb_advanced_2.fit(x_train_advanced_2, y_train_advanced_2)\n",
    "\n",
    "y_predicted_prob_advanced_2 = xgb_advanced_2.predict_proba(x_val_advanced_2)[:, 1]"
   ]
  },
  {
   "cell_type": "markdown",
   "id": "92b4b38f-dcf7-44a8-9b4d-d002ae11444c",
   "metadata": {},
   "source": [
    "#### ROC/AUC"
   ]
  },
  {
   "cell_type": "code",
   "execution_count": null,
   "id": "73822247-ef13-4fde-86b2-25d5661f18dc",
   "metadata": {},
   "outputs": [],
   "source": [
    "plt.figure(figsize=(15, 8))\n",
    "RocCurveDisplay.from_predictions(y_val_basic, y_predicted_prob_basic, name=\"XGBoost basique (Distance et angle)\", color=\"blue\", ax=plt.gca())\n",
    "RocCurveDisplay.from_predictions(y_val_advanced, y_predicted_prob_advanced, name=\"XGBoost avancé - caractéristiques nouvelles\", color=\"green\", ax=plt.gca())\n",
    "RocCurveDisplay.from_predictions(y_val_advanced_2, y_predicted_prob_advanced_2, name=\"XGBoost avancé - caractéristiques sélectionnées\", color=\"red\", ax=plt.gca())\n",
    "\n",
    "plt.title(\"ROC Curves for XGBoost Models\")\n",
    "plt.grid(True)\n",
    "plt.savefig('modele_avance_q3_roc.png', dpi=300)\n",
    "plt.show()"
   ]
  },
  {
   "cell_type": "markdown",
   "id": "a71b64e0-ea25-4240-a8ec-4c7d9349f167",
   "metadata": {},
   "source": [
    "#### Taux de buts vs percentile de probabilité"
   ]
  },
  {
   "cell_type": "code",
   "execution_count": null,
   "id": "a17b395d-c3ef-4d66-9a53-91457457fb4e",
   "metadata": {},
   "outputs": [],
   "source": [
    "goal_rate_basic = compute_goal_rate_by_percentile(y_val_basic, y_predicted_prob_basic, percentiles)\n",
    "goal_rate_advanced = compute_goal_rate_by_percentile(y_val_advanced, y_predicted_prob_advanced, percentiles)\n",
    "goal_rate_advanced_2 = compute_goal_rate_by_percentile(y_val_advanced_2, y_predicted_prob_advanced_2, percentiles)\n",
    "\n",
    "\n",
    "# Tracer les taux de buts\n",
    "plt.figure(figsize=(10, 6))\n",
    "plt.plot(percentiles[:-1], goal_rate_basic, label=\"XGBoost basique\", color=\"blue\")\n",
    "plt.plot(percentiles[:-1], goal_rate_advanced, label=\"XGBoost avancé - caractéristiques nouvelles\", color=\"green\")\n",
    "plt.plot(percentiles[:-1], goal_rate_advanced_2, label=\"XGBoost avancé - caractéristiques sélectionnées\", color=\"red\")\n",
    "\n",
    "\n",
    "plt.title(\"Taux de buts par centile de probabilité\")\n",
    "plt.xlabel(\"Centile de probabilité\")\n",
    "plt.xlim(100,0)\n",
    "plt.ylabel(\"Taux de buts (%)\")\n",
    "plt.ylim(0, 100)\n",
    "plt.grid(True)\n",
    "plt.legend()\n",
    "plt.savefig('modele_avance_q3_goal_rate.png', dpi=300)\n",
    "plt.show()"
   ]
  },
  {
   "cell_type": "markdown",
   "id": "e899d021-3174-407c-922b-322ed5cdd11b",
   "metadata": {},
   "source": [
    "#### Proportion cumulée des buts par centile"
   ]
  },
  {
   "cell_type": "markdown",
   "id": "ec2bfca6-8d85-484a-a1ab-b6c3bcd04b7f",
   "metadata": {},
   "source": [
    "#### Diagramme de fiabilité"
   ]
  },
  {
   "cell_type": "code",
   "execution_count": null,
   "id": "0371819c-fec1-48f5-931b-97c4b5076918",
   "metadata": {},
   "outputs": [],
   "source": [
    "fig, ax = plt.subplots(figsize=(8, 6))\n",
    "\n",
    "CalibrationDisplay.from_predictions(y_val_basic, y_predicted_prob_basic, n_bins=10, ax=ax, name=\"XGBoost basique\")\n",
    "CalibrationDisplay.from_predictions(y_val_advanced, y_predicted_prob_advanced, n_bins=10, ax=ax, name=\"XGBoost avancé - caractéristiques nouvelles\")\n",
    "CalibrationDisplay.from_predictions(y_val_advanced_2, y_predicted_prob_advanced_2, n_bins=10, ax=ax, name=\"XGBoost avancé - caractéristiques sélectionnées\")\n",
    "\n",
    "plt.title(\"Diagramme de fiabilité\")\n",
    "plt.savefig('modele_avance_q3_reliability_diagram.png', dpi=300)\n",
    "plt.show()"
   ]
  },
  {
   "cell_type": "markdown",
   "id": "07680930-c6be-44b3-926b-26e253424c71",
   "metadata": {},
   "source": [
    "### Wandb"
   ]
  },
  {
   "cell_type": "code",
   "execution_count": null,
   "id": "f667cdc3-990f-46fd-b72f-630bdc635f5d",
   "metadata": {},
   "outputs": [],
   "source": [
    "run = wandb.init(\n",
    "    project=config.WANDB_PROJECT_NAME,  # Nom du projet\n",
    "    name=\"XGBoost avancé (caractéristiques selectionnées)\",  # Nom de l'expérience\n",
    "    group=\"XGBoost\",\n",
    "    tags=[\"XGBoost\", \"selected_features\"],  # Tags pour cette expérience\n",
    "    entity=config.WANDB_TEAM_NAME\n",
    ")\n",
    "\n",
    "xgb_params = {\n",
    "    'learning_rate': 0.01,\n",
    "    'max_depth': 10,\n",
    "    'n_estimators': 300,\n",
    "    'subsample': 1.0\n",
    "}\n",
    "\n",
    "# Logger les hyperparamètres dans wandb\n",
    "wandb.config.update(xgb_params)\n",
    "\n",
    "y_predicted_advanced_2 = xgb_advanced_2.predict(x_val_advanced_2)\n",
    "\n",
    "auc_roc = roc_auc_score(y_val_advanced_2, y_predicted_prob_advanced_2)\n",
    "f1 = f1_score(y_predicted_advanced_2, y_val_advanced_2, average=\"weighted\")\n",
    "ece = compute_ece(y_val_advanced_2, y_predicted_prob_advanced_2)\n",
    "\n",
    "# Enregistrer les métriques dans Wandb\n",
    "wandb.log({\"val_roc_auc\": auc_roc, \"val_f1_score_weighted\": f1, \"val_expected_calibration_error\": ece })\n",
    "\n",
    "model_path = \"XGBoost_improved_with_selected_features.pkl\"\n",
    "with open(model_path, \"wb\") as f:\n",
    "    pickle.dump(xgb_advanced_2, f)\n",
    "\n",
    "# Enregistrer le modèle avec WandB\n",
    "run.log_model(path=\"XGBoost_improved_with_selected_features.pkl\", name=\"XGBoost_improved_with_selected_features\")\n",
    "\n",
    "# Terminer l'expérience\n",
    "wandb.finish()"
   ]
  },
  {
   "cell_type": "markdown",
   "id": "2da3a95018a2af0b",
   "metadata": {},
   "source": [
    "# Faites de votre mieux!\n",
    "\n",
    "### Implémentation des réseaux de neurones"
   ]
  },
  {
   "cell_type": "code",
   "execution_count": null,
   "id": "f7be9c6cd03aff4f",
   "metadata": {},
   "outputs": [],
   "source": [
    "# Sélection des caractéristiques\n",
    "characteristics = ['shotDistance', 'shotAngle', 'numberPeriod', 'gameSeconds'\n",
    "                   ,'emptyGoalNet', 'offensivePressureTime', 'speedFromLastEvent', 'distanceFromLastEvent']\n",
    "\n",
    "X = train_data[characteristics].dropna()\n",
    "y = train_data['isGoal'][X.index]\n",
    "\n",
    "# Chargement des données\n",
    "config.INPUTS_DATA = X.to_numpy()\n",
    "config.LABELS_DATA = y.to_numpy()"
   ]
  },
  {
   "cell_type": "markdown",
   "id": "99d38a59cf91d976",
   "metadata": {},
   "source": [
    "### Optimisation Perceptron"
   ]
  },
  {
   "cell_type": "code",
   "execution_count": null,
   "id": "b81af5cae43276fc",
   "metadata": {},
   "outputs": [],
   "source": [
    "# model_start.optimize(\"Perceptron\")"
   ]
  },
  {
   "cell_type": "markdown",
   "id": "7f7ed4ccd4e447bf",
   "metadata": {},
   "source": [
    "### Optimisation MLP 1 couche cachée"
   ]
  },
  {
   "cell_type": "code",
   "execution_count": null,
   "id": "4d554f96dd5d9b69",
   "metadata": {},
   "outputs": [],
   "source": [
    "#model_start.optimize(\"MLP_H1\")"
   ]
  },
  {
   "cell_type": "markdown",
   "id": "3a161bfb90887c3f",
   "metadata": {},
   "source": [
    "### Optimisation 2 couches cachées"
   ]
  },
  {
   "cell_type": "code",
   "execution_count": null,
   "id": "4558a153cbbf96af",
   "metadata": {},
   "outputs": [],
   "source": [
    "#model_start.optimize(\"MLP_H2\") "
   ]
  },
  {
   "cell_type": "markdown",
   "id": "ac70cefd2fb59ea6",
   "metadata": {},
   "source": [
    "# Évaluer sur l'ensemble de test"
   ]
  },
  {
   "cell_type": "markdown",
   "id": "110a3ad441eb0250",
   "metadata": {},
   "source": [
    "### Acquisition des données d'entraînement"
   ]
  },
  {
   "cell_type": "code",
   "execution_count": null,
   "id": "9de912320ec3c7b0",
   "metadata": {},
   "outputs": [],
   "source": [
    "filename = './data/dataframe_2020_to_2021.csv'\n",
    "start_year = 2020\n",
    "end_year = 2021\n",
    "\n",
    "if not os.path.isfile(filename):\n",
    "    # Get the data from the NHL API (2020 - 2021)\n",
    "    nhl_data_provider = get_data_from(start_year, end_year)\n",
    "\n",
    "    # Clean the data\n",
    "    clean_regular_season, clean_playoff = clean_data(nhl_data_provider)\n",
    "\n",
    "    # Transform data into dataframe\n",
    "    df_2020_to_2021 = convert_dictionaries_to_dataframes(clean_regular_season,\n",
    "                                                         clean_playoff,\n",
    "                                                         np.arange(start_year, end_year + 1).tolist())\n",
    "    df_2020_to_2021.to_csv(filename, index=False)"
   ]
  },
  {
   "cell_type": "markdown",
   "id": "16b4dab03f2ba13c",
   "metadata": {},
   "source": [
    "### Récupération des données d'entraînement"
   ]
  },
  {
   "cell_type": "code",
   "execution_count": null,
   "id": "e2e27c2c3ffb3c63",
   "metadata": {},
   "outputs": [],
   "source": [
    "test_data = pd.read_csv(filename)\n",
    "\n",
    "# Séparation des données de test en saison régulières et playoff\n",
    "regular_test_data = test_data[test_data['gameType'] == \"regular-season\"].dropna()\n",
    "playoff_test_data = test_data[test_data['gameType'] == \"playoffs\"].dropna()"
   ]
  },
  {
   "cell_type": "markdown",
   "id": "e8953aad49eb9480",
   "metadata": {},
   "source": [
    "## Prédiction pendant la saison régulière (2020-2021)"
   ]
  },
  {
   "cell_type": "markdown",
   "id": "ff430e4198af40fc",
   "metadata": {},
   "source": [
    "### Regression logistique"
   ]
  },
  {
   "cell_type": "code",
   "execution_count": null,
   "id": "dc130706e8a2214a",
   "metadata": {},
   "outputs": [],
   "source": [
    "#TODO: CODE ICI"
   ]
  },
  {
   "cell_type": "markdown",
   "id": "d2f8a76452e472de",
   "metadata": {},
   "source": [
    "### XGBoost"
   ]
  },
  {
   "cell_type": "code",
   "execution_count": null,
   "id": "285cbf69141f057d",
   "metadata": {},
   "outputs": [],
   "source": [
    "#TODO: CODE ICI\n",
    "\n",
    "characteristics = xgb_num_characteristics + xgb_categorial_characteristics\n",
    "\n",
    "x_test = regular_test_data[characteristics].dropna()\n",
    "y_test = regular_test_data['isGoal'][x_test.index].to_numpy()\n",
    "\n",
    "x_test_transformed = full_pipeline.fit_transform(x_test)\n",
    "\n",
    "# Initialize a run\n",
    "run = wandb.init(project=config.WANDB_PROJECT_NAME, entity=config.WANDB_TEAM_NAME)\n",
    "\n",
    "# Access and download model. Returns path to downloaded artifact\n",
    "downloaded_model_path = run.use_model(name = \"XGBoost_improved_with_new_features:latest\")"
   ]
  },
  {
   "cell_type": "code",
   "execution_count": null,
   "id": "211abd1d-1ab6-4032-9268-748ba2dfee25",
   "metadata": {},
   "outputs": [],
   "source": [
    "# Charger le modèle\n",
    "with open(downloaded_model_path, \"rb\") as file:  # \"rb\" signifie lecture en mode binaire\n",
    "    xgb_model = pickle.load(file)\n",
    "\n",
    "y_pred_prob_xgb = xgb_model.predict_proba(x_test_transformed)[:, 1]\n",
    "y_pred_xgb = xgb_model.predict(x_test_transformed)\n",
    "\n",
    "auc_roc = roc_auc_score(y_test, y_pred_prob_xgb)\n",
    "f1 = f1_score(y_pred_xgb, y_test, average=\"weighted\")\n",
    "ece = compute_ece(y_test, y_pred_prob_xgb)\n",
    "\n",
    "print(f\"F1 pondéré: {f1}\")\n",
    "print(f\"AUC: {auc_roc}\")\n",
    "print(f\"ece: {ece}\")"
   ]
  },
  {
   "cell_type": "markdown",
   "id": "2e66e9988a15241d",
   "metadata": {},
   "source": [
    "### Préparation des données pour les réseaux de neurones"
   ]
  },
  {
   "cell_type": "code",
   "execution_count": null,
   "id": "d82b76b63dbf9e43",
   "metadata": {},
   "outputs": [],
   "source": [
    "# Chargement des données de test\n",
    "X_regular = regular_test_data[characteristics]\n",
    "y_regular = regular_test_data['isGoal'][X_regular.index]\n",
    "\n",
    "# Ajout dans le fichier config.py :\n",
    "config.TEST_DATA = X_regular.to_numpy()"
   ]
  },
  {
   "cell_type": "markdown",
   "id": "4eabd2ffc8dc8d9c",
   "metadata": {},
   "source": [
    "### Perceptron"
   ]
  },
  {
   "cell_type": "code",
   "execution_count": null,
   "id": "e01ba9b8c60fbeb8",
   "metadata": {},
   "outputs": [],
   "source": [
    "y_pred = model_start.predict_data(\"Perceptron\")\n",
    "f1 = f1_score(y_pred, y_regular, average=\"weighted\")\n",
    "print(f\"F1-score du modèle sur l'ensemble de validation: {f1:.2f}\") "
   ]
  },
  {
   "cell_type": "markdown",
   "id": "2ae5701f1d4b1b12",
   "metadata": {},
   "source": [
    "### MLP 1 couche cachée"
   ]
  },
  {
   "cell_type": "code",
   "execution_count": null,
   "id": "ee846e308235c4a0",
   "metadata": {},
   "outputs": [],
   "source": [
    "y_pred = model_start.predict_data(\"MLP_H1\")\n",
    "f1 = f1_score(y_pred, y_regular, average=\"weighted\")\n",
    "print(f\"F1-score du modèle sur l'ensemble de validation: {f1:.2f}\") "
   ]
  },
  {
   "cell_type": "markdown",
   "id": "9d97aab66afe5349",
   "metadata": {},
   "source": [
    "### MLP 2 couches cachées"
   ]
  },
  {
   "cell_type": "code",
   "execution_count": null,
   "id": "83db9a0c20315756",
   "metadata": {},
   "outputs": [],
   "source": [
    "y_pred = model_start.predict_data(\"MLP_H2\")\n",
    "f1 = f1_score(y_pred, y_regular, average=\"weighted\")\n",
    "print(f\"F1-score du modèle sur l'ensemble de validation: {f1:.2f}\") "
   ]
  },
  {
   "cell_type": "markdown",
   "id": "b1a2fa1c55ec9b45",
   "metadata": {},
   "source": [
    "## Prédiction pendant les Playoffs (2020-2021)"
   ]
  },
  {
   "cell_type": "markdown",
   "id": "49be4e944b91b206",
   "metadata": {},
   "source": [
    "### Regression logistique"
   ]
  },
  {
   "cell_type": "code",
   "execution_count": null,
   "id": "113e420e11a0a844",
   "metadata": {},
   "outputs": [],
   "source": [
    "#TODO: CODE ICI"
   ]
  },
  {
   "cell_type": "markdown",
   "id": "d7557c796411dae0",
   "metadata": {},
   "source": [
    "### XGBoost"
   ]
  },
  {
   "cell_type": "code",
   "execution_count": null,
   "id": "a40f5d2b0b9703a0",
   "metadata": {},
   "outputs": [],
   "source": [
    "#TODO: CODE ICI"
   ]
  },
  {
   "cell_type": "markdown",
   "id": "a42703b60c0a1903",
   "metadata": {},
   "source": [
    "### Préparation des données pour les réseaux de neurones"
   ]
  },
  {
   "cell_type": "code",
   "execution_count": null,
   "id": "6f8044de5e5097ef",
   "metadata": {},
   "outputs": [],
   "source": [
    "# Chargement des données de test\n",
    "X_playoff = playoff_test_data [characteristics]\n",
    "y_playoff = playoff_test_data ['isGoal'][X_playoff.index]\n",
    "\n",
    "# Ajout dans le fichier config.py :\n",
    "config.TEST_DATA = X_playoff.to_numpy()"
   ]
  },
  {
   "cell_type": "markdown",
   "id": "57f0cc2deb08ca14",
   "metadata": {},
   "source": [
    "### Perceptron"
   ]
  },
  {
   "cell_type": "code",
   "execution_count": null,
   "id": "82026ab9b5aa04d3",
   "metadata": {},
   "outputs": [],
   "source": [
    "y_pred = model_start.predict_data(\"Perceptron\")\n",
    "f1 = f1_score(y_pred, y_playoff, average=\"weighted\")\n",
    "print(f\"F1-score du modèle sur l'ensemble de validation: {f1:.2f}\") "
   ]
  },
  {
   "cell_type": "markdown",
   "id": "8b4ce7d77315b12d",
   "metadata": {},
   "source": [
    "### MLP 1 couche cachée"
   ]
  },
  {
   "cell_type": "code",
   "execution_count": null,
   "id": "f1b77493aa66f6ce",
   "metadata": {},
   "outputs": [],
   "source": [
    "y_pred = model_start.predict_data(\"MLP_H1\")\n",
    "f1 = f1_score(y_pred, y_playoff, average=\"weighted\")\n",
    "print(f\"F1-score du modèle sur l'ensemble de validation: {f1:.2f}\") "
   ]
  },
  {
   "cell_type": "markdown",
   "id": "b9f861bfd46e2d34",
   "metadata": {},
   "source": [
    "### MLP 2 couches cachées"
   ]
  },
  {
   "cell_type": "code",
   "execution_count": null,
   "id": "6191d485fe81d820",
   "metadata": {},
   "outputs": [],
   "source": [
    "y_pred = model_start.predict_data(\"MLP_H2\")\n",
    "f1 = f1_score(y_pred, y_playoff, average=\"weighted\")\n",
    "print(f\"F1-score du modèle sur l'ensemble de validation: {f1:.2f}\") "
   ]
  }
 ],
 "metadata": {
  "kernelspec": {
   "display_name": "Python 3 (ipykernel)",
   "language": "python",
   "name": "python3"
  },
  "language_info": {
   "codemirror_mode": {
    "name": "ipython",
    "version": 3
   },
   "file_extension": ".py",
   "mimetype": "text/x-python",
   "name": "python",
   "nbconvert_exporter": "python",
   "pygments_lexer": "ipython3",
   "version": "3.12.7"
  }
 },
 "nbformat": 4,
 "nbformat_minor": 5
}
