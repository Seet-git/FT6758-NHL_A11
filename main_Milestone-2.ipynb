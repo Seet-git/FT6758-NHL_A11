{
 "cells": [
  {
   "cell_type": "markdown",
   "id": "c80872dc-29ae-49ff-b9bc-fe5d93e2e735",
   "metadata": {},
   "source": [
    "# Milestone 2\n",
    "\n",
    "### Avant de commencer. Merci de lire bien attentivement le README.md pour cette seconde partie."
   ]
  },
  {
   "cell_type": "code",
   "execution_count": null,
   "id": "b003ab98-0656-4769-a091-34c2d40270b8",
   "metadata": {
    "ExecuteTime": {
     "end_time": "2024-11-22T03:25:44.914587Z",
     "start_time": "2024-11-22T03:25:44.837662Z"
    }
   },
   "outputs": [],
   "source": [
    "%load_ext autoreload\n",
    "%autoreload 2"
   ]
  },
  {
   "cell_type": "code",
   "execution_count": null,
   "id": "935a0893-61e9-45a2-8c74-83de62ee46a9",
   "metadata": {
    "ExecuteTime": {
     "end_time": "2024-11-22T03:25:51.010705Z",
     "start_time": "2024-11-22T03:25:44.926095Z"
    }
   },
   "outputs": [],
   "source": [
    "# all imports\n",
    "from src import *\n",
    "import pandas as pd\n",
    "import os.path\n",
    "from sklearn.model_selection import GridSearchCV, StratifiedKFold\n",
    "import wandb\n",
    "import pickle\n",
    "from sklearn.metrics import roc_auc_score\n",
    "from xgboost import XGBClassifier\n",
    "import config\n",
    "from sklearn.metrics import roc_curve, auc, RocCurveDisplay\n",
    "from sklearn.calibration import CalibrationDisplay\n",
    "from sklearn.linear_model import LogisticRegression\n",
    "from sklearn.model_selection import train_test_split\n",
    "from sklearn.metrics import accuracy_score, f1_score\n",
    "from sklearn.compose import ColumnTransformer\n",
    "from sklearn.preprocessing import OneHotEncoder\n",
    "# commenté car j'ai des érreurs liées au package torch qui est assez complique a installer windows\n",
    "#from src.models import model_start"
   ]
  },
  {
   "cell_type": "markdown",
   "id": "81d3f10fb1207ecd",
   "metadata": {},
   "source": [
    "## Data acquisition"
   ]
  },
  {
   "cell_type": "code",
   "execution_count": null,
   "id": "ba8e508b87e75d",
   "metadata": {
    "ExecuteTime": {
     "end_time": "2024-11-22T03:25:53.118324Z",
     "start_time": "2024-11-22T03:25:51.390937Z"
    }
   },
   "outputs": [],
   "source": [
    "filename = './data/dataframe_2016_to_2019.csv'\n",
    "start_year = 2016\n",
    "end_year = 2019\n",
    "\n",
    "if not os.path.isfile(filename):\n",
    "    # Get the data from the NHL API (2016 - 2019)\n",
    "    nhl_data_provider = get_data_from(start_year, end_year)\n",
    "\n",
    "    # Clean the data\n",
    "    clean_regular_season, clean_playoff = clean_data(nhl_data_provider)\n",
    "\n",
    "    # Transform data into dataframe\n",
    "    df_2016_to_2019 = convert_dictionaries_to_dataframes(clean_regular_season,\n",
    "                                                         clean_playoff,\n",
    "                                                         np.arange(start_year, end_year + 1).tolist())\n",
    "    df_2016_to_2019.to_csv(filename, index=False)"
   ]
  },
  {
   "cell_type": "markdown",
   "id": "ebed071c016b2b6d",
   "metadata": {},
   "source": [
    "#### Récupération des données d'entraînement"
   ]
  },
  {
   "cell_type": "code",
   "execution_count": null,
   "id": "30d106063dac160f",
   "metadata": {
    "ExecuteTime": {
     "end_time": "2024-11-22T03:25:54.594628Z",
     "start_time": "2024-11-22T03:25:53.536279Z"
    }
   },
   "outputs": [],
   "source": [
    "train_data = pd.read_csv(filename)"
   ]
  },
  {
   "cell_type": "markdown",
   "id": "cd50c0cb-ba97-4145-a1c4-d16520a245ee",
   "metadata": {},
   "source": [
    "# Ingénierie des caractéristiques I"
   ]
  },
  {
   "cell_type": "markdown",
   "id": "b923fde4-63fd-4665-af96-3f39f2428823",
   "metadata": {},
   "source": [
    "## Question 1"
   ]
  },
  {
   "cell_type": "code",
   "execution_count": null,
   "id": "823381d6fa2ec155",
   "metadata": {
    "ExecuteTime": {
     "end_time": "2024-11-22T03:25:54.818433Z",
     "start_time": "2024-11-22T03:25:54.617064Z"
    }
   },
   "outputs": [],
   "source": [
    "count_table = pd.crosstab(train_data['isGoal'], train_data['typeDescKey'])\n",
    "# count_table2 = pd.crosstab(train_data['emptyGoalNet_0_1'],train_data['emptyGoalNet'])\n",
    "\n",
    "count_table\n",
    "# count_table2"
   ]
  },
  {
   "cell_type": "markdown",
   "id": "a74a58e4d007a935",
   "metadata": {},
   "source": [
    "#### Histogramme du nombre de tirs (buts et non-buts séparés), regroupés par distance"
   ]
  },
  {
   "cell_type": "markdown",
   "id": "c7e5c2acb7c1b638",
   "metadata": {},
   "source": [
    "##### Variables distance de tir et angle de tir regroupées"
   ]
  },
  {
   "cell_type": "code",
   "execution_count": null,
   "id": "75df1005dee0dff0",
   "metadata": {
    "ExecuteTime": {
     "end_time": "2024-11-22T03:25:55.105596Z",
     "start_time": "2024-11-22T03:25:54.841966Z"
    }
   },
   "outputs": [],
   "source": [
    "# Binning de la distance en intervalles de 20 pieds\n",
    "train_data.loc[:,'shotDistance_bin'] = pd.cut(train_data['shotDistance'], bins=[0, 20, 40, 60, 80, 100, 120, 140, 160, 180, 200], labels=['0-19', '20-39', '40-59', '60-79', '80-99', '100-119', '120-139', '140-159', '160-179', '180-200'])\n",
    "\n",
    "train_data.loc[:,'shotAngle_bin'] = pd.cut(train_data['shotAngle'], bins=[0, 20, 40, 60, 80, 100, 120, 140, 160, 180], labels=['0-19', '20-39', '40-59', '60-79', '80-99', '100-119', '120-139', '140-159', '160-179'])\n",
    "\n",
    "\n",
    "train_data\n"
   ]
  },
  {
   "cell_type": "code",
   "execution_count": null,
   "id": "69b746540f59f542",
   "metadata": {
    "ExecuteTime": {
     "end_time": "2024-11-22T03:25:55.790807Z",
     "start_time": "2024-11-22T03:25:55.134358Z"
    }
   },
   "outputs": [],
   "source": [
    "## Add in advancedVisualisation (by Youry)\n",
    "def histogram_2_variables_binned(df, x_bin, hue, shrink, xlabel, ylabel, title, legendTitle, legendLabels):\n",
    "    plt.figure(figsize=(10, 6))\n",
    "    sns.histplot(data=df, x=x_bin, hue=hue, multiple='dodge', palette='coolwarm', shrink=shrink)\n",
    "    plt.xlabel(xlabel)\n",
    "    plt.ylabel(ylabel)\n",
    "    plt.ylim(0,100000)\n",
    "    plt.title(title)\n",
    "    plt.legend(title=legendTitle, labels=legendLabels)\n",
    "    plt.grid(axis=\"y\")\n",
    "    plt.show()\n",
    "\n",
    "\n",
    "histogram_2_variables_binned(df=train_data, x_bin='shotDistance_bin', hue='isGoal', shrink=0.8, xlabel='Distance du tir (pieds)', ylabel='Nombre de tirs', title='Histogramme du nombre de tirs par distance', legendTitle='', legendLabels=['But', 'Non-but'])"
   ]
  },
  {
   "cell_type": "markdown",
   "id": "dada7e9ffe260df6",
   "metadata": {},
   "source": [
    "#### Histogramme du nombre de tirs (buts et non-buts séparés), regroupés par angle"
   ]
  },
  {
   "cell_type": "code",
   "execution_count": null,
   "id": "82c884801d8862b3",
   "metadata": {
    "ExecuteTime": {
     "end_time": "2024-11-22T03:25:56.323002Z",
     "start_time": "2024-11-22T03:25:55.804823Z"
    }
   },
   "outputs": [],
   "source": [
    "histogram_2_variables_binned(df=train_data, x_bin='shotAngle_bin', hue='isGoal', shrink=0.8, xlabel='Angle du tir', ylabel='Nombre de tirs', title='Histogramme du nombre de tirs par angle', legendTitle='', legendLabels=['But', 'Non-but'])"
   ]
  },
  {
   "cell_type": "markdown",
   "id": "e7ab91aa648af712",
   "metadata": {},
   "source": [
    "#### Histogramme 2D où un axe est la distance et l'autre est l'angle (sans distinction entre buts et non-buts)"
   ]
  },
  {
   "cell_type": "code",
   "execution_count": null,
   "id": "8ffc00609d6ad278",
   "metadata": {
    "ExecuteTime": {
     "end_time": "2024-11-22T03:25:56.842906Z",
     "start_time": "2024-11-22T03:25:56.355248Z"
    }
   },
   "outputs": [],
   "source": [
    "def histogram2D_2_variables(df, x, y, bins, label, xlabel, ylabel, title):\n",
    "    # Remove rows with NaN values\n",
    "    df = df.dropna(subset=[x, y])\n",
    "    # Plot the histogram with hue for 'is_goal'\n",
    "    plt.figure(figsize=(10, 6))\n",
    "    plt.hist2d(df[x], df[y], bins=bins, cmap='Blues')\n",
    "    # Customize legend labels for hue values\n",
    "    plt.colorbar(label=label)\n",
    "    plt.xlabel(xlabel)\n",
    "    plt.ylabel(ylabel)\n",
    "    plt.title(title)\n",
    "    plt.show()\n",
    "\n",
    "histogram2D_2_variables(train_data, x='shotDistance', y='shotAngle', bins=20, label='Nombre de tirs', xlabel='Distance du tir (pieds)', ylabel='Angle du tir', title='Histogramme 2D du nombre de tirs par distance et angle')"
   ]
  },
  {
   "cell_type": "markdown",
   "id": "3987e0936629d0b3",
   "metadata": {},
   "source": []
  },
  {
   "cell_type": "code",
   "execution_count": null,
   "id": "8ed7c90cde829916",
   "metadata": {
    "ExecuteTime": {
     "end_time": "2024-11-22T03:25:56.990875Z",
     "start_time": "2024-11-22T03:25:56.842906Z"
    }
   },
   "outputs": [],
   "source": [
    "'''\n",
    "def histogram2D_2_variables_seaborn(df, x, y, title, xlabel, ylabel, kind):\n",
    "    # Remove rows with NaN values\n",
    "    df = df.dropna(subset=[x, y])\n",
    "    # Jointplot to visualize the 2D histogram\n",
    "    sns.jointplot(data=df, x=x, y=y, kind=kind, cmap='Blues')\n",
    "    # Add title and labels\n",
    "    plt.suptitle(title, fontsize=16)\n",
    "    plt.xlabel(xlabel)\n",
    "    plt.ylabel(ylabel)\n",
    "    # Show the plot\n",
    "    plt.show()\n",
    "\n",
    "\n",
    "# histogram2D_2_variables_seaborn(train_data, x='shotDistance', y='shotAngle', title=\"Histogramme 2D de la Distance et de l'Angle\", xlabel='Distance du tir (pieds)', ylabel='Angle du tir',\n",
    "#                         kind='kde'\n",
    "#                         # kind='reg'\n",
    "#                         # kind='hist'\n",
    "#                         # kind='hex'\n",
    "# )\n",
    "\n",
    "\n",
    "g = sns.jointplot(data=train_data, x='shotAngle', y='shotDistance')\n",
    "g.plot_joint(sns.kdeplot, color=\"r\", zorder=0, levels=6)\n",
    "g.plot_marginals(sns.rugplot, color=\"r\", height=-.15, clip_on=False)\n",
    "\n",
    "# Ajouter un titre, un xlabel, et un ylabel\n",
    "g.ax_joint.set_title(\"Relation entre la distance et l'angle des tirs\", fontsize=14)\n",
    "g.ax_joint.set_xlabel(\"Angle du tir\", fontsize=12)\n",
    "g.ax_joint.set_ylabel(\"Distance du tir(pieds)\", fontsize=12)\n",
    "\n",
    "# Ajuster l'espacement du titre\n",
    "plt.subplots_adjust(top=0.9)  # Ajuste la position du titre\n",
    "'''"
   ]
  },
  {
   "cell_type": "markdown",
   "id": "b3c1b9bd-42be-41a6-8a92-6fc22f391f93",
   "metadata": {},
   "source": [
    "## Question 2"
   ]
  },
  {
   "cell_type": "markdown",
   "id": "be3fc60cbac49078",
   "metadata": {},
   "source": [
    "#### Le taux de but (buts / (buts + non-buts)) par distance"
   ]
  },
  {
   "cell_type": "code",
   "execution_count": null,
   "id": "354536725e03ce07",
   "metadata": {
    "ExecuteTime": {
     "end_time": "2024-11-22T03:25:57.168911Z",
     "start_time": "2024-11-22T03:25:57.021545Z"
    }
   },
   "outputs": [],
   "source": [
    "df_distance_goal_rate = train_data.groupby('shotDistance')['isGoal'].mean().reset_index()\n",
    "df_distance_goal_rate.columns = ['shotDistance', 'goalRate']\n",
    "\n",
    "df_distance_goal_rate"
   ]
  },
  {
   "cell_type": "code",
   "execution_count": null,
   "id": "28f06856f5182f64",
   "metadata": {
    "ExecuteTime": {
     "end_time": "2024-11-22T03:25:57.559286Z",
     "start_time": "2024-11-22T03:25:57.225841Z"
    }
   },
   "outputs": [],
   "source": [
    "def scatterplot_2_variables(df, x, y, color, s, title, xlabel, ylabel):\n",
    "    plt.figure(figsize=(10, 6))\n",
    "    sns.scatterplot(data=df, x=x, y=y, color=color, s=s, marker='o')\n",
    "    plt.xlabel(xlabel)\n",
    "    plt.ylabel(ylabel)\n",
    "    plt.title(title)\n",
    "    plt.grid(True)\n",
    "    plt.show()\n",
    "\n",
    "scatterplot_2_variables(df=df_distance_goal_rate, x='shotDistance', y='goalRate',color='blue', s=20, title='Taux de but en fonction de la distance', xlabel='Distance du tir', ylabel='Taux de but')"
   ]
  },
  {
   "cell_type": "markdown",
   "id": "ff01635877df8a39",
   "metadata": {},
   "source": [
    "#### Le taux de but (buts / (buts + non-buts)) par angle"
   ]
  },
  {
   "cell_type": "code",
   "execution_count": null,
   "id": "9d73a978a9e107e3",
   "metadata": {
    "ExecuteTime": {
     "end_time": "2024-11-22T03:25:57.702169Z",
     "start_time": "2024-11-22T03:25:57.559286Z"
    }
   },
   "outputs": [],
   "source": [
    "df_angle_goal_rate = train_data.groupby('shotAngle')['isGoal'].mean().reset_index()\n",
    "df_angle_goal_rate.columns = ['shotAngle', 'goalRate']\n",
    "\n",
    "df_angle_goal_rate"
   ]
  },
  {
   "cell_type": "code",
   "execution_count": null,
   "id": "9377ab40ff1e27b7",
   "metadata": {
    "ExecuteTime": {
     "end_time": "2024-11-22T03:25:58.094703Z",
     "start_time": "2024-11-22T03:25:57.761185Z"
    }
   },
   "outputs": [],
   "source": [
    "scatterplot_2_variables(df=df_angle_goal_rate, x='shotAngle', y='goalRate', color='green', s=20,\n",
    "                        title='Taux de but en fonction de l\\'angle', xlabel='Angle du tir', ylabel='Taux de but')"
   ]
  },
  {
   "cell_type": "markdown",
   "id": "23c319211076ad5d",
   "metadata": {},
   "source": [
    "#### Question 2 : vaiables distance et angle binned(s)"
   ]
  },
  {
   "cell_type": "code",
   "execution_count": null,
   "id": "cb95f454149f531e",
   "metadata": {
    "ExecuteTime": {
     "end_time": "2024-11-22T03:25:58.261899Z",
     "start_time": "2024-11-22T03:25:58.103205Z"
    }
   },
   "outputs": [],
   "source": [
    "# Regrouper les tirs par bins de distance\n",
    "goal_stats_by_distance = train_data.groupby('shotDistance_bin', observed=True).agg(\n",
    "    goals=('isGoal', 'sum'),\n",
    "    total_shots=('isGoal', 'count')\n",
    ")\n",
    "\n",
    "# Calculer le taux de but\n",
    "goal_stats_by_distance['goal_rate'] = goal_stats_by_distance['goals'] / goal_stats_by_distance['total_shots']\n",
    "\n",
    "goal_stats_by_distance\n"
   ]
  },
  {
   "cell_type": "code",
   "execution_count": null,
   "id": "837e52cb82d2143c",
   "metadata": {
    "ExecuteTime": {
     "end_time": "2024-11-22T03:25:58.736585Z",
     "start_time": "2024-11-22T03:25:58.326882Z"
    }
   },
   "outputs": [],
   "source": [
    "# Tracer la courbe\n",
    "def plot_goal_rate(df, x, y, rate, rate_min, rate_max, plotTitle, title, fontSize, xlabel, sizeXlabel, ylabel, sizeYlabel):\n",
    "    # Histogramme\n",
    "    plt.figure(figsize=(10, 6))\n",
    "    bars = plt.bar(df.index, df[rate]*100, color='green', label=plotTitle)\n",
    "    # Annoter les ratios sur les barres\n",
    "    for bar, (_, row) in zip(bars, df.iterrows()):\n",
    "        x_i = int(row[x])\n",
    "        y_i = int(row[y])\n",
    "        rate_i = row[rate]\n",
    "        plt.text(\n",
    "            bar.get_x() + bar.get_width() / 2,\n",
    "            bar.get_height(),\n",
    "            f\"{rate_i*100:.1f}%\\n({x_i}/{y_i})\",\n",
    "            ha='center',\n",
    "            va='bottom',\n",
    "            fontsize=9,\n",
    "            color='black'\n",
    "        )\n",
    "    # Affiche le graphique\n",
    "    plt.title(title, fontsize=fontSize)\n",
    "    plt.xlabel(xlabel, fontsize=sizeXlabel)\n",
    "    plt.ylabel(ylabel, fontsize=sizeYlabel)\n",
    "    plt.ylim(rate_min, rate_max)  # Limiter l'axe Y\n",
    "    plt.grid(alpha=0.5)\n",
    "    # plt.legend()\n",
    "    plt.tight_layout()\n",
    "    plt.show()\n",
    "\n",
    "\n",
    "plot_goal_rate(goal_stats_by_distance, 'goals', 'total_shots', 'goal_rate', 0, 20, 'Taux de but', 'Taux de but en fonction de la distance', 14, 'Distance de tir', 12, 'Taux de but (%)', 12)"
   ]
  },
  {
   "cell_type": "code",
   "execution_count": null,
   "id": "fd9879be2b6ba3dc",
   "metadata": {
    "ExecuteTime": {
     "end_time": "2024-11-22T03:25:58.897491Z",
     "start_time": "2024-11-22T03:25:58.741605Z"
    }
   },
   "outputs": [],
   "source": [
    "# Regrouper les tirs par bins d'angle\n",
    "goal_stats_by_angle = train_data.groupby('shotAngle_bin', observed=True).agg(\n",
    "    goals=('isGoal', 'sum'),\n",
    "    total_shots=('isGoal', 'count')\n",
    ")\n",
    "\n",
    "# Calculer le taux de but\n",
    "goal_stats_by_angle['goal_rate'] = goal_stats_by_angle['goals'] / goal_stats_by_angle['total_shots']\n",
    "\n",
    "goal_stats_by_angle"
   ]
  },
  {
   "cell_type": "code",
   "execution_count": null,
   "id": "f8af52da7e7e3998",
   "metadata": {
    "ExecuteTime": {
     "end_time": "2024-11-22T03:25:59.480660Z",
     "start_time": "2024-11-22T03:25:59.125205Z"
    }
   },
   "outputs": [],
   "source": [
    "plot_goal_rate(goal_stats_by_angle, 'goals', 'total_shots','goal_rate', 0, 100, 'Taux de but', 'Taux de but en fonction de l\\'angle', 14, 'Angle de tir', 12, 'Taux de but', 12)"
   ]
  },
  {
   "cell_type": "markdown",
   "id": "50f0252c-a0f5-49d2-94d8-122c0a0d4f44",
   "metadata": {},
   "source": [
    "## Question 3"
   ]
  },
  {
   "cell_type": "code",
   "execution_count": null,
   "id": "3308d338-9f62-469f-90ad-2a1d5806c2e7",
   "metadata": {
    "ExecuteTime": {
     "end_time": "2024-11-22T03:26:00.048722Z",
     "start_time": "2024-11-22T03:25:59.488665Z"
    }
   },
   "outputs": [],
   "source": [
    "plot_goals_by_distance(train_data)"
   ]
  },
  {
   "cell_type": "markdown",
   "id": "dab78bb9-a65a-4a9a-83a4-a19311c0e7a6",
   "metadata": {},
   "source": [
    "### Nombre de buts net non vides marqués depuis l'intérieur de la zone défensive"
   ]
  },
  {
   "cell_type": "code",
   "execution_count": null,
   "id": "1b29a7e8-d323-4297-8886-34deb30773fc",
   "metadata": {
    "ExecuteTime": {
     "end_time": "2024-11-22T03:26:00.237824Z",
     "start_time": "2024-11-22T03:26:00.092172Z"
    }
   },
   "outputs": [],
   "source": [
    "filtered_data = train_data[\n",
    "    (train_data['shotDistance'] > 90) & (train_data['typeDescKey'] == 'goal') & (train_data['emptyGoalNet'] == 0)]\n",
    "len(filtered_data)"
   ]
  },
  {
   "cell_type": "code",
   "execution_count": null,
   "id": "f1c4e345-811f-4578-9a8c-d0d16a9ac23f",
   "metadata": {
    "ExecuteTime": {
     "end_time": "2024-11-22T03:26:00.360568Z",
     "start_time": "2024-11-22T03:26:00.245050Z"
    }
   },
   "outputs": [],
   "source": [
    "filtered_data.loc[54362, :]"
   ]
  },
  {
   "cell_type": "code",
   "execution_count": null,
   "id": "ef8264b5-a914-4c97-829f-8e598f61f571",
   "metadata": {
    "ExecuteTime": {
     "end_time": "2024-11-22T03:26:00.550863Z",
     "start_time": "2024-11-22T03:26:00.426977Z"
    }
   },
   "outputs": [],
   "source": [
    "# l'venement 54362 (filtered_data.loc[54362,:]) du match 2016020894 n'a pas les bonnes coordonées. \n",
    "# voir la vidéo: https://www.youtube.com/watch?v=lM6JXVW0-YY du match. le but de Mats Zuccarello en période de shoot-out\n",
    "# est fait du coté droit, non du coté gauche\n",
    "\n",
    "# l'evenemnt 80622 du match 2017020004 n'a pas les bonnes coordonées.\n",
    "# voir la vidéo: https://www.youtube.com/watch?v=WpIGr7srlLY. le but de Kevin Labanc est du mauvais coté\n",
    "\n",
    "# l'evenemnet 1806 n'a pas le bon zoneShoot/zoneCode. il a comme zoneShoot D (defensive) alors que quand on regarde le but de\n",
    "# John Tavares, il le marque bien dans la zone offensive https://www.youtube.com/watch?v=MO7vAygX2_c"
   ]
  },
  {
   "cell_type": "markdown",
   "id": "a5e0346e-df4d-4c25-bea5-ed7effb1d2c4",
   "metadata": {},
   "source": [
    "### Nombre de buts marqués depuis l'intérieur de la zone défensive"
   ]
  },
  {
   "cell_type": "code",
   "execution_count": null,
   "id": "9d246ecf-bf7e-4917-9ba0-3bdc90b15d94",
   "metadata": {
    "ExecuteTime": {
     "end_time": "2024-11-22T03:26:00.722040Z",
     "start_time": "2024-11-22T03:26:00.585158Z"
    }
   },
   "outputs": [],
   "source": [
    "filtered_data = train_data[(train_data['shotDistance'] > 90) & (train_data['typeDescKey'] == 'goal')]\n",
    "\n",
    "grouped_df = filtered_data.groupby(['shotType']).count()\n",
    "\n",
    "print(grouped_df['idGame'])"
   ]
  },
  {
   "cell_type": "code",
   "execution_count": null,
   "id": "0af22d9e-6002-4dab-9365-2cd7e5ed0b22",
   "metadata": {
    "ExecuteTime": {
     "end_time": "2024-11-22T03:26:00.882448Z",
     "start_time": "2024-11-22T03:26:00.746688Z"
    }
   },
   "outputs": [],
   "source": [
    "filtered_data[filtered_data['shotType'] == 'wrap-around']"
   ]
  },
  {
   "cell_type": "code",
   "execution_count": null,
   "id": "c29f1bbb-d35f-485b-96c1-0fc38a4fa342",
   "metadata": {
    "ExecuteTime": {
     "end_time": "2024-11-22T03:26:01.068418Z",
     "start_time": "2024-11-22T03:26:00.942425Z"
    }
   },
   "outputs": [],
   "source": [
    "# pour l'evenement 47255 du match 2016020779, le type de tir n'est pas correct car un wrap-around ne peut pas se faire aussi loin\n",
    "# voir: https://www.nhl.com/gamecenter/pit-vs-stl/2017/02/04/2016020779/playbyplay\n",
    "# video: https://www.youtube.com/watch?v=CHcbWHyRDbE. Sidney Crosby a bien tiré depuis la position (3,1). donc les coordonées et la distance sont \n",
    "# bonnes. Le type de tir n'est pas le bon. \n",
    "\n",
    "# video wrap-around: https://www.youtube.com/watch?v=tmRibUXW8RE"
   ]
  },
  {
   "cell_type": "markdown",
   "id": "ad96b03ba9792ed",
   "metadata": {},
   "source": [
    "# Modèles de base"
   ]
  },
  {
   "cell_type": "markdown",
   "id": "d21ecfbcf28f7733",
   "metadata": {},
   "source": [
    "#### Préparation de la caractéristique et de la cible"
   ]
  },
  {
   "cell_type": "code",
   "execution_count": null,
   "id": "657b093261e8e471",
   "metadata": {
    "ExecuteTime": {
     "end_time": "2024-11-22T03:26:01.342392Z",
     "start_time": "2024-11-22T03:26:01.199080Z"
    }
   },
   "outputs": [],
   "source": [
    "# Préparation de la caractéristique et de la cible\n",
    "X = train_data[['shotDistance']].dropna()\n",
    "y = train_data['isGoal'][X.index]"
   ]
  },
  {
   "cell_type": "code",
   "execution_count": null,
   "id": "72c479ebdfe445d9",
   "metadata": {
    "ExecuteTime": {
     "end_time": "2024-11-22T03:26:01.514009Z",
     "start_time": "2024-11-22T03:26:01.367463Z"
    }
   },
   "outputs": [],
   "source": [
    "# Vérification des types et absence de NaN\n",
    "print(X.shape)\n",
    "print(y.shape)\n",
    "print(\"Type de X:\", type(X))\n",
    "print(\"Type de y:\", type(y))\n",
    "print(\"Valeurs manquantes dans X:\", X.isnull().sum().sum())\n",
    "print(\"Valeurs manquantes dans y:\", y.isnull().sum())"
   ]
  },
  {
   "cell_type": "code",
   "execution_count": null,
   "id": "74e8a02980cd3dee",
   "metadata": {
    "ExecuteTime": {
     "end_time": "2024-11-22T03:26:01.803890Z",
     "start_time": "2024-11-22T03:26:01.563952Z"
    }
   },
   "outputs": [],
   "source": [
    "# Division des données en ensembles d'entraînement et de validation\n",
    "X_train, X_val, y_train, y_val = train_test_split(X, y, test_size=0.2, random_state=42, stratify=y)\n",
    "\n",
    "print(X_train.shape)\n",
    "print(y_train.shape)\n",
    "print(X_val.shape)\n",
    "print(y_val.shape)"
   ]
  },
  {
   "cell_type": "markdown",
   "id": "42b696e89215b8a5",
   "metadata": {},
   "source": [
    "### Question 1"
   ]
  },
  {
   "cell_type": "markdown",
   "id": "79ccda742e46aed7",
   "metadata": {},
   "source": [
    "#### Entraîner le modèle"
   ]
  },
  {
   "cell_type": "code",
   "execution_count": null,
   "id": "17ac8579f726925",
   "metadata": {
    "ExecuteTime": {
     "end_time": "2024-11-22T03:26:02.185123Z",
     "start_time": "2024-11-22T03:26:01.803890Z"
    }
   },
   "outputs": [],
   "source": [
    "clf = LogisticRegression()\n",
    "clf.fit(X_train, y_train)"
   ]
  },
  {
   "cell_type": "markdown",
   "id": "c3eb524c7482bddf",
   "metadata": {},
   "source": [
    "#### Prédiction et évaluation"
   ]
  },
  {
   "cell_type": "code",
   "execution_count": null,
   "id": "542df2e5872b7863",
   "metadata": {
    "ExecuteTime": {
     "end_time": "2024-11-22T03:26:02.358999Z",
     "start_time": "2024-11-22T03:26:02.212807Z"
    }
   },
   "outputs": [],
   "source": [
    "# Prédiction et évaluation\n",
    "y_pred = clf.predict(X_val)\n",
    "accuracy = accuracy_score(y_val, y_pred)\n",
    "f1 = f1_score(y_val, y_pred, average=\"weighted\")\n",
    "print(f\"Précision du modèle sur l'ensemble de validation: {accuracy:.2f}\")\n",
    "print(f\"F1-score du modèle sur l'ensemble de validation: {f1:.2f}\")"
   ]
  },
  {
   "cell_type": "markdown",
   "id": "9676b4dc2865a51d",
   "metadata": {},
   "source": [
    "##### Analyse des résultats :\n",
    "Précision globale :\n",
    "\n",
    "Une précision élevée ne signifie pas nécessairement que le modèle est performant, surtout si les classes sont déséquilibrées (ex. : beaucoup plus de non-buts que de buts).\n",
    "Problème potentiel :\n",
    "\n",
    "La distance seule peut ne pas capturer suffisamment de complexité dans les données pour prédire efficacement si un tir est un but.\n",
    "Un déséquilibre des classes pourrait conduire à un biais du modèle vers la classe majoritaire."
   ]
  },
  {
   "cell_type": "markdown",
   "id": "6596749ac779242b",
   "metadata": {},
   "source": [
    "### Question 2"
   ]
  },
  {
   "cell_type": "markdown",
   "id": "2aedcaa4ff4be95f",
   "metadata": {},
   "source": [
    "##### La courbe ROC est tracée avec le taux de vrais positifs (TPR) contre le taux de faux positifs (FPR). La métrique AUC (Area Under Curve) représente l’aire sous cette courbe."
   ]
  },
  {
   "cell_type": "code",
   "execution_count": null,
   "id": "2b21ff875e91a612",
   "metadata": {
    "ExecuteTime": {
     "end_time": "2024-11-22T03:26:02.505831Z",
     "start_time": "2024-11-22T03:26:02.382439Z"
    }
   },
   "outputs": [],
   "source": [
    "from sklearn.metrics import roc_curve, auc, RocCurveDisplay\n",
    "from sklearn.calibration import CalibrationDisplay"
   ]
  },
  {
   "cell_type": "code",
   "execution_count": null,
   "id": "60137eb0101a7bc4",
   "metadata": {
    "ExecuteTime": {
     "end_time": "2024-11-22T03:26:02.670546Z",
     "start_time": "2024-11-22T03:26:02.529132Z"
    }
   },
   "outputs": [],
   "source": [
    "# Probabilités pour la classe \"but\"\n",
    "y_proba = clf.predict_proba(X_val)[:, 1]\n",
    "\n",
    "# Calcul des ROC et AUC\n",
    "fpr, tpr, _ = roc_curve(y_val, y_proba)\n",
    "roc_auc = auc(fpr, tpr)"
   ]
  },
  {
   "cell_type": "code",
   "execution_count": null,
   "id": "6c50c5acf8e53b4a",
   "metadata": {
    "ExecuteTime": {
     "end_time": "2024-11-22T03:26:02.804016Z",
     "start_time": "2024-11-22T03:26:02.692100Z"
    }
   },
   "outputs": [],
   "source": [
    "# def plot_roc_curve_(fpr_, tpr_, roc_auc_, color_, label1, label2#, xmin_, xmax_, ymin_, ymax_\n",
    "#                     ):\n",
    "#     # Tracé de la courbe ROC\n",
    "#     plt.figure(figsize=(8, 6))\n",
    "#     plt.plot(fpr_ * 100, tpr_ * 100, color=color_, label = f\"{label1} (AUC = {roc_auc_:.2f})\")\n",
    "#     plt.plot([0, 100], [0, 100], linestyle=\"--\", color=\"gray\", label=label2) # Ligne de base du classificateur aléatoire\n",
    "#     plt.title(\"Courbe ROC\", fontsize=14)\n",
    "#     plt.xlabel(\"Taux de faux positifs- FPR (%)\", fontsize=12)\n",
    "#     # plt.xlim(xmin_,xmax_)\n",
    "#     # plt.xlim(100,0)\n",
    "#     plt.ylabel(\"Taux de vrais positifs- TPR (%)\", fontsize=12)\n",
    "#     # plt.ylim(ymin_,ymax_)\n",
    "#     plt.legend(fontsize=12)\n",
    "#     plt.grid(alpha=0.3)\n",
    "#     plt.tight_layout()\n",
    "#     plt.show()\n",
    "#\n",
    "# # Appel de la fonction\n",
    "# plot_roc_curve_(fpr_=fpr, tpr_=tpr, roc_auc_=roc_auc, color_=\"blue\", label1=\"Régression logistique\", label2=\"Classificateur aléatoire\"\n",
    "#                 #, xmin_=100, xmax_=0, ymin_=0, ymax_=100\n",
    "#                 )\n"
   ]
  },
  {
   "cell_type": "markdown",
   "id": "4749250e1c06f56e",
   "metadata": {},
   "source": [
    "##### Courbe ROC et AUC : La courbe ROC permet de visualiser le compromis entre les taux de vrais positifs et de faux positifs, et l'AUC fournit une mesure globale de la performance du modèle."
   ]
  },
  {
   "cell_type": "code",
   "execution_count": null,
   "id": "b5500aef709dbb5",
   "metadata": {
    "ExecuteTime": {
     "end_time": "2024-11-22T03:26:03.134726Z",
     "start_time": "2024-11-22T03:26:02.825684Z"
    }
   },
   "outputs": [],
   "source": [
    "# Ligne de base aléatoire\n",
    "y_proba_random = np.random.uniform(0, 1, len(y_val))\n",
    "plt.figure(figsize=(10, 6))\n",
    "# ROC\n",
    "RocCurveDisplay.from_predictions(y_val, y_proba, name=\"Régression logistique\", color=\"blue\", ax=plt.gca())\n",
    "RocCurveDisplay.from_predictions(y_val, y_proba_random, name=\"Classificateur aléatoire\", color=\"gray\", linestyle=\"--\", ax=plt.gca())\n",
    "plt.title(\"ROC Curves for Logistic Regression Models\")\n",
    "plt.grid(True)\n",
    "plt.show()"
   ]
  },
  {
   "cell_type": "markdown",
   "id": "efe97fc2dd041e6f",
   "metadata": {},
   "source": [
    "#### b) Taux de buts par centile de probabilité"
   ]
  },
  {
   "cell_type": "markdown",
   "id": "e074d078094ac0d0",
   "metadata": {},
   "source": [
    "##### Cette courbe montre la capacité du modèle à prédire des buts en fonction de la probabilité qu'il attribue à chaque tir.\n",
    "Pour tracer le taux de buts par centile de probabilité, nous devons analyser la proportion de tirs qui se sont effectivement transformés en buts dans chaque centile des probabilités prédites par le modèle."
   ]
  },
  {
   "cell_type": "code",
   "execution_count": null,
   "id": "5baa7c628ad74f83",
   "metadata": {
    "ExecuteTime": {
     "end_time": "2024-11-22T03:26:03.496585Z",
     "start_time": "2024-11-22T03:26:03.180721Z"
    }
   },
   "outputs": [],
   "source": [
    "percentiles = np.linspace(0, 100, 11)\n",
    "goal_rates = compute_goal_rate_by_percentile(y_val, y_proba, percentiles)\n",
    "\n",
    "plot_line_2_variables(x=percentiles[:-1], y=goal_rates, color='green', label=\"Taux de buts par centile de probabilité\", xinf=100, xsup=0, x_label=\"Centile de probabilité\", y_label=\"Taux de buts (%)\")"
   ]
  },
  {
   "cell_type": "markdown",
   "id": "68add4df2877c0e2",
   "metadata": {},
   "source": [
    "##### Cette courbe montre la capacité du modèle à prédire des buts en fonction de la probabilité qu'il attribue à chaque tir."
   ]
  },
  {
   "cell_type": "markdown",
   "id": "282a0df636206e7d",
   "metadata": {},
   "source": [
    "#### c) La proportion cumulée de buts (pas de tirs) comme une fonction du centile de la probabilité de tir donnée par le modèle"
   ]
  },
  {
   "cell_type": "markdown",
   "id": "161c7c289272a03a",
   "metadata": {},
   "source": [
    "##### Elle montre dans quelle mesure chaque modèle capture les buts les plus probables."
   ]
  },
  {
   "cell_type": "code",
   "execution_count": null,
   "id": "217a97428ada7f76",
   "metadata": {
    "ExecuteTime": {
     "end_time": "2024-11-22T03:26:03.851210Z",
     "start_time": "2024-11-22T03:26:03.553657Z"
    }
   },
   "outputs": [],
   "source": [
    "def compute_cumulative_goal_rate(y_val, y_proba):\n",
    "    # Sélectionner uniquement les buts (classe positive)\n",
    "    goal_indices = (y_val == 1)\n",
    "    proba_goals = y_proba[goal_indices]\n",
    "\n",
    "    # Trier les probabilités des vrais buts en ordre décroissant\n",
    "    sorted_goal_proba = np.sort(proba_goals)[::-1]\n",
    "\n",
    "    # Calculer la proportion cumulée\n",
    "    cumulative_proportion = np.cumsum(sorted_goal_proba) * 100 / np.sum(sorted_goal_proba)\n",
    "\n",
    "    return cumulative_proportion\n",
    "\n",
    "\n",
    "cumulative_proportion = compute_cumulative_goal_rate(y_val, y_proba)\n",
    "x_value = np.linspace(0, 100, len(cumulative_proportion))\n",
    "\n",
    "\n",
    "plot_line_2_variables(x_value, cumulative_proportion, color=\"green\", label=\"Proportion cumulée des buts\", xinf=100, xsup=0, x_label=\"Centile de probabilité\", y_label=\"Proportion cumulée des buts (%)\")"
   ]
  },
  {
   "cell_type": "markdown",
   "id": "1c4a7a8ecea0949e",
   "metadata": {},
   "source": [
    "#### d) Le diagramme de fiabilité (courbe de calibration)"
   ]
  },
  {
   "cell_type": "code",
   "execution_count": null,
   "id": "73a2c49dd7beea47",
   "metadata": {
    "ExecuteTime": {
     "end_time": "2024-11-22T03:26:04.125220Z",
     "start_time": "2024-11-22T03:26:03.851210Z"
    }
   },
   "outputs": [],
   "source": [
    "# 4. Diagramme de fiabilité\n",
    "CalibrationDisplay.from_predictions(y_val, y_proba, n_bins=10)\n",
    "plt.title(\"Diagramme de fiabilité\")\n",
    "plt.show()"
   ]
  },
  {
   "cell_type": "code",
   "execution_count": null,
   "id": "846bb20d12f5a98a",
   "metadata": {
    "ExecuteTime": {
     "end_time": "2024-11-22T03:26:04.417267Z",
     "start_time": "2024-11-22T03:26:04.150253Z"
    }
   },
   "outputs": [],
   "source": [
    "CalibrationDisplay.from_estimator(clf, X_val, y_val)\n",
    "plt.title('Courbe de Calibration', fontsize=14)\n",
    "plt.show()"
   ]
  },
  {
   "cell_type": "markdown",
   "id": "b8f82c8082864913",
   "metadata": {},
   "source": [
    "### Question 3 : Entrainement de deux autres classificateurs\n",
    "- Distance seuelement\n",
    "- Angle seulement\n",
    "- Distance et angle"
   ]
  },
  {
   "cell_type": "code",
   "execution_count": null,
   "id": "fa008720632017e4",
   "metadata": {
    "ExecuteTime": {
     "end_time": "2024-11-22T03:26:04.588225Z",
     "start_time": "2024-11-22T03:26:04.440895Z"
    }
   },
   "outputs": [],
   "source": [
    "# Préparation de la caractéristique et de la cible\n",
    "X_2 = train_data[['shotDistance', 'shotAngle']].dropna()\n",
    "y_2 = train_data['isGoal'][X.index]"
   ]
  },
  {
   "cell_type": "code",
   "execution_count": null,
   "id": "c08db232e4e67d45",
   "metadata": {
    "ExecuteTime": {
     "end_time": "2024-11-22T03:26:04.748814Z",
     "start_time": "2024-11-22T03:26:04.616045Z"
    }
   },
   "outputs": [],
   "source": [
    "# Vérification des types et absence de NaN\n",
    "print(\"Type de X:\", type(X_2))\n",
    "print(\"Type de y:\", type(y_2))\n",
    "print(\"Valeurs manquantes dans X:\", X_2.isnull().sum().sum())\n",
    "print(\"Valeurs manquantes dans y:\", y_2.isnull().sum())"
   ]
  },
  {
   "cell_type": "code",
   "execution_count": null,
   "id": "2029eca3aa3a789a",
   "metadata": {
    "ExecuteTime": {
     "end_time": "2024-11-22T03:26:05.008245Z",
     "start_time": "2024-11-22T03:26:04.772647Z"
    }
   },
   "outputs": [],
   "source": [
    "# Division des données en ensembles d'entraînement et de validation\n",
    "X2_train, X2_val, y2_train, y2_val = train_test_split(X_2, y_2, test_size=0.2, random_state=42,stratify=y_2)"
   ]
  },
  {
   "cell_type": "code",
   "execution_count": null,
   "id": "cf22ff03a7ca3f62",
   "metadata": {
    "ExecuteTime": {
     "end_time": "2024-11-22T03:26:05.166968Z",
     "start_time": "2024-11-22T03:26:05.031266Z"
    }
   },
   "outputs": [],
   "source": [
    "# Charger les caractéristiques pour chaque ensemble de données\n",
    "# La distance seulement\n",
    "X2_distance_train = X2_train[['shotDistance']]\n",
    "X2_distance_val = X2_val[['shotDistance']]\n",
    "# L'angle seulement\n",
    "X2_angle_train = X2_train[['shotAngle']]\n",
    "X2_angle_val = X2_val[['shotAngle']]\n",
    "# La distance et l'angle\n",
    "X2_both_train = X2_train[['shotDistance','shotAngle']]\n",
    "X2_both_val = X2_val[['shotDistance','shotAngle']]"
   ]
  },
  {
   "cell_type": "code",
   "execution_count": null,
   "id": "f9c18ecde5537cdf",
   "metadata": {
    "ExecuteTime": {
     "end_time": "2024-11-22T03:26:05.308957Z",
     "start_time": "2024-11-22T03:26:05.189242Z"
    }
   },
   "outputs": [],
   "source": [
    "print(X2_distance_train.shape)\n",
    "print(X2_distance_val.shape)\n",
    "print(X2_angle_train.shape)\n",
    "print(X2_angle_val.shape)"
   ]
  },
  {
   "cell_type": "code",
   "execution_count": null,
   "id": "1a215e1d822cd10f",
   "metadata": {
    "ExecuteTime": {
     "end_time": "2024-11-22T03:26:06.169146Z",
     "start_time": "2024-11-22T03:26:05.330165Z"
    }
   },
   "outputs": [],
   "source": [
    "# Entraînement des modèles\n",
    "clf_distance = LogisticRegression().fit(X2_distance_train, y2_train)\n",
    "clf_angle = LogisticRegression().fit(X2_angle_train, y2_train)\n",
    "clf_both = LogisticRegression().fit(X2_both_train, y2_train)\n",
    "\n",
    "# Probabilités prédites pour chaque modèle\n",
    "y_proba_distance = clf_distance.predict_proba(X2_distance_val)[:, 1]\n",
    "y_proba_angle = clf_angle.predict_proba(X2_angle_val)[:, 1]\n",
    "y_proba_both = clf_both.predict_proba(X2_both_val)[:, 1]\n",
    "\n",
    "# Ligne de base aléatoire\n",
    "y2_proba_random = np.random.uniform(0, 1, len(y2_val))"
   ]
  },
  {
   "cell_type": "markdown",
   "id": "b3a748050bb07e4",
   "metadata": {},
   "source": [
    "#### a) Courbe ROC avec AUC"
   ]
  },
  {
   "cell_type": "code",
   "execution_count": null,
   "id": "9a1781c922fb19aa",
   "metadata": {
    "ExecuteTime": {
     "end_time": "2024-11-22T03:26:06.536374Z",
     "start_time": "2024-11-22T03:26:06.191771Z"
    }
   },
   "outputs": [],
   "source": [
    "# Tracer les courbes ROC\n",
    "plt.figure(figsize=(10, 6))\n",
    "RocCurveDisplay.from_predictions(y2_val, y_proba_distance, name=\"Distance\", color=\"blue\", ax=plt.gca())\n",
    "RocCurveDisplay.from_predictions(y2_val, y_proba_angle, name=\"Angle\", color=\"green\", ax=plt.gca())\n",
    "RocCurveDisplay.from_predictions(y2_val, y_proba_both, name=\"Distance + Angle\", color=\"red\", ax=plt.gca())\n",
    "RocCurveDisplay.from_predictions(y2_val, y2_proba_random, name=\"Random Baseline\", color=\"gray\", linestyle=\"--\", ax=plt.gca())\n",
    "\n",
    "plt.title(\"ROC Curves for Logistic Regression Models\")\n",
    "plt.grid(True)\n",
    "plt.show()"
   ]
  },
  {
   "cell_type": "markdown",
   "id": "e2084311c7776bb",
   "metadata": {},
   "source": [
    "#### b) Taux de buts par centile"
   ]
  },
  {
   "cell_type": "code",
   "execution_count": null,
   "id": "3d8af0cda1996c4b",
   "metadata": {
    "ExecuteTime": {
     "end_time": "2024-11-22T04:01:34.309249Z",
     "start_time": "2024-11-22T04:01:33.591026Z"
    }
   },
   "outputs": [],
   "source": [
    "# Calculer les taux pour chaque modèle\n",
    "# centiles = np.linspace(100, 0, 100)  # Centiles décroissants\n",
    "goal_rate_distance = compute_goal_rate_by_percentile(y_val, y_proba_distance, percentiles)\n",
    "goal_rate_angle = compute_goal_rate_by_percentile(y_val, y_proba_angle, percentiles)\n",
    "goal_rate_both = compute_goal_rate_by_percentile(y_val, y_proba_both, percentiles)\n",
    "goal_rate_random = compute_goal_rate_by_percentile(y_val, y_proba_random, percentiles)\n",
    "\n",
    "# Tracer les taux de buts\n",
    "plt.figure(figsize=(10, 6))\n",
    "plt.plot(percentiles[:-1], goal_rate_distance, label=\"Distance\", color=\"blue\")\n",
    "plt.plot(percentiles[:-1], goal_rate_angle, label=\"Angle\", color=\"green\")\n",
    "plt.plot(percentiles[:-1], goal_rate_both, label=\"Distance + Angle\", color=\"red\")\n",
    "plt.plot(percentiles[:-1], goal_rate_random, label=\"Random Baseline\", color=\"black\", linestyle=\"--\")\n",
    "\n",
    "# Personnalisation du graphique\n",
    "ax = plt.gca()\n",
    "ax.grid()\n",
    "ax.set_facecolor('0.95')\n",
    "\n",
    "ax.set_ylim([0, 100])\n",
    "ax.set_xlim([0, 100])\n",
    "ax.invert_xaxis()\n",
    "major_ticks = np.arange(0, 110, 10)\n",
    "ax.set_xticks(major_ticks)\n",
    "ax.set_yticks(major_ticks)\n",
    "\n",
    "plt.title(\"Taux de buts par centile de probabilité\")\n",
    "plt.xlabel(\"Centile de probabilité\")\n",
    "# plt.xlim(100,0)\n",
    "plt.ylabel(\"Taux de buts (%)\")\n",
    "# plt.ylim(0, 100)\n",
    "plt.grid(True)\n",
    "plt.legend()\n",
    "plt.show()\n"
   ]
  },
  {
   "cell_type": "markdown",
   "id": "68247c15043dfac2",
   "metadata": {},
   "source": [
    "#### c) Proportion cumulée des buts par centile"
   ]
  },
  {
   "cell_type": "code",
   "execution_count": null,
   "id": "d8ca56edccf0bc71",
   "metadata": {
    "ExecuteTime": {
     "end_time": "2024-11-22T05:30:45.045001Z",
     "start_time": "2024-11-22T05:30:44.347453Z"
    }
   },
   "outputs": [],
   "source": [
    "# Calculer les proportions cumulées pour chaque modèle\n",
    "cumulative_goals_distance = compute_cumulative_goal_rate(y2_val, y_proba_distance)\n",
    "cumulative_goals_angle = compute_cumulative_goal_rate(y2_val, y_proba_angle)\n",
    "cumulative_goals_both = compute_cumulative_goal_rate(y2_val, y_proba_both)\n",
    "cumulative_goals_random = compute_cumulative_goal_rate(y2_val, y2_proba_random)\n",
    "\n",
    "\n",
    "# x_value = np.linspace(0, 100, len(cumulative_proportion))\n",
    "\n",
    "# Tracer les proportions cumulées\n",
    "plt.figure(figsize=(10, 6))\n",
    "plt.plot(x_value, cumulative_goals_distance, label=\"Distance\", color=\"blue\")\n",
    "plt.plot(x_value, cumulative_goals_angle, label=\"Angle\", color=\"green\")\n",
    "plt.plot(x_value, cumulative_goals_both, label=\"Distance + Angle\", color=\"red\")\n",
    "plt.plot(x_value, cumulative_goals_random, label=\"Random Baseline\", color=\"black\", linestyle=\"--\")\n",
    "\n",
    "# Personnalisation du graphique\n",
    "ax = plt.gca()\n",
    "ax.grid()\n",
    "ax.set_facecolor('0.95')\n",
    "\n",
    "ax.set_ylim([0, 100])\n",
    "ax.set_xlim([0, 100])\n",
    "# ax.invert_xaxis()\n",
    "major_ticks = np.arange(0, 110, 10)\n",
    "ax.set_xticks(major_ticks)\n",
    "ax.set_yticks(major_ticks)\n",
    "\n",
    "plt.xlabel(\"Centile de probabilité\")\n",
    "plt.ylabel(\"Proportion cumulée des buts (%)\")\n",
    "plt.title(\"Proportion cumulée des buts\")\n",
    "plt.grid(True)\n",
    "plt.legend()\n",
    "plt.show()\n"
   ]
  },
  {
   "cell_type": "markdown",
   "id": "e62c72ad-0afa-41e5-a563-5b095674e41f",
   "metadata": {},
   "source": [
    "#### d) Diagramme de fiabilité"
   ]
  },
  {
   "cell_type": "code",
   "execution_count": null,
   "id": "221ef54e-050d-48d7-b8ab-29aa288c82c3",
   "metadata": {
    "ExecuteTime": {
     "end_time": "2024-11-22T03:26:07.531997Z",
     "start_time": "2024-11-22T03:26:07.234426Z"
    }
   },
   "outputs": [],
   "source": [
    "fig, ax = plt.subplots(figsize=(8, 6))\n",
    "\n",
    "CalibrationDisplay.from_predictions(y2_val, y_proba_distance, n_bins=10, ax=ax, name=\"Reg log : distance\")\n",
    "CalibrationDisplay.from_predictions(y2_val, y_proba_angle, n_bins=10, ax=ax, name=\"Reg log : angle\")\n",
    "CalibrationDisplay.from_predictions(y2_val, y_proba_both, n_bins=10, ax=ax, name=\"Reg log : both\")\n",
    "\n",
    "plt.title(\"Diagramme de fiabilité\")\n",
    "plt.show()"
   ]
  },
  {
   "cell_type": "markdown",
   "id": "a5462449e8905100",
   "metadata": {},
   "source": [
    "### Question 4: WandB"
   ]
  },
  {
   "cell_type": "code",
   "execution_count": null,
   "id": "e729d5608c1b1709",
   "metadata": {
    "ExecuteTime": {
     "end_time": "2024-11-22T03:26:07.672647Z",
     "start_time": "2024-11-22T03:26:07.556200Z"
    }
   },
   "outputs": [],
   "source": [
    "import os\n",
    "os.environ[\"WANDB_DIR\"] = \"C:/DS_milestone2_wandb\"\n",
    "os.environ[\"WANDB_NOTEBOOK_NAME\"] = \"main_Milestone-2.ipynb\""
   ]
  },
  {
   "cell_type": "markdown",
   "id": "79ee27011b141ca6",
   "metadata": {},
   "source": [
    "#### wandb pour distance seulement"
   ]
  },
  {
   "cell_type": "code",
   "execution_count": null,
   "id": "8edc93b433274bb9",
   "metadata": {
    "ExecuteTime": {
     "end_time": "2024-11-22T03:26:09.136734Z",
     "start_time": "2024-11-22T03:26:07.695409Z"
    }
   },
   "outputs": [],
   "source": [
    "# Initialiser Wandb pour distance\n",
    "wandb.init(\n",
    "    project=config.WANDB_PROJECT_NAME,  # Nom du projet\n",
    "    dir=\"C:/DS_milestone2_wandb\",\n",
    "    name=\"LogisticRegression_Distance\",  # Nom de l'expérience\n",
    "    group=\"logistic_regression\",\n",
    "    tags=[\"logistic_regression\", \"distance_only\"],  # Tags pour cette expérience\n",
    "    entity=config.WANDB_TEAM_NAME\n",
    ")\n",
    "\n",
    "# Exemple : Entraîner le modèle\n",
    "clf1 = LogisticRegression()\n",
    "clf1.fit(X2_distance_train, y2_train)\n",
    "\n",
    "# Évaluer le modèle (exemple avec AUC ROC)\n",
    "y_proba1 = clf1.predict_proba(X2_distance_val)[:, 1]\n",
    "auc_roc1 = roc_auc_score(y2_val, y_proba1)\n",
    "\n",
    "# Enregistrer les métriques dans Wandb\n",
    "wandb.log({\"val_roc_auc\": auc_roc1})\n",
    "\n",
    "# Sauvegarder le modèle\n",
    "model_path1 = \"logistic_regression_distance.pkl\"\n",
    "with open(model_path1, \"wb\") as f:\n",
    "    pickle.dump(clf1, f)\n",
    "\n",
    "# Enregistrer le modèle dans Wandb\n",
    "wandb.save(model_path1)\n",
    "\n",
    "# Terminer l'expérience\n",
    "wandb.finish()"
   ]
  },
  {
   "cell_type": "markdown",
   "id": "ae82bb666f8b1fbc",
   "metadata": {},
   "source": [
    "#### wandb pour angle seulement"
   ]
  },
  {
   "cell_type": "code",
   "execution_count": null,
   "id": "4024d7917ffcee13",
   "metadata": {
    "ExecuteTime": {
     "end_time": "2024-11-22T03:26:09.144274700Z",
     "start_time": "2024-11-19T01:14:05.467786Z"
    }
   },
   "outputs": [],
   "source": [
    "# Initialiser Wandb\n",
    "wandb.init(\n",
    "    project=config.WANDB_PROJECT_NAME,\n",
    "    dir=\"C:/DS_milestone2_wandb\",\n",
    "    name=\"LogisticRegression_Angle\",  # Nom de l'expérience\n",
    "    group=\"logistic_regression\",\n",
    "    tags=[\"logistic_regression\", \"angle_only\"],  # Tags pour cette expérience\n",
    "    entity=config.WANDB_TEAM_NAME\n",
    ")\n",
    "\n",
    "# Exemple : Entraîner le modèle\n",
    "clf2 = LogisticRegression()\n",
    "clf2.fit(X2_angle_train, y2_train)\n",
    "\n",
    "# Évaluer le modèle (exemple avec AUC ROC)\n",
    "y_proba2 = clf2.predict_proba(X2_angle_val)[:, 1]\n",
    "auc_roc2 = roc_auc_score(y2_val, y_proba2)\n",
    "\n",
    "# Enregistrer les métriques dans Wandb\n",
    "wandb.log({\"val_roc_auc\": auc_roc2})\n",
    "\n",
    "# Sauvegarder le modèle\n",
    "model_path2 = \"logistic_regression_angle.pkl\"\n",
    "with open(model_path2, \"wb\") as f2:\n",
    "    pickle.dump(clf2, f2)\n",
    "\n",
    "# Enregistrer le modèle dans Wandb\n",
    "wandb.save(model_path2)\n",
    "\n",
    "# Terminer l'expérience\n",
    "wandb.finish()"
   ]
  },
  {
   "cell_type": "markdown",
   "id": "f6ab9cf08437f886",
   "metadata": {},
   "source": [
    "#### wandb: Distance et angle"
   ]
  },
  {
   "cell_type": "code",
   "execution_count": null,
   "id": "602b7eaf87f5fe44",
   "metadata": {
    "ExecuteTime": {
     "end_time": "2024-11-22T03:26:09.155291400Z",
     "start_time": "2024-11-19T01:23:48.204735Z"
    }
   },
   "outputs": [],
   "source": [
    "# Initialiser Wandb\n",
    "wandb.init(\n",
    "    project=config.WANDB_PROJECT_NAME,\n",
    "    dir=\"C:/DS_milestone2_wandb\",\n",
    "    name=\"LogisticRegression_Distance_Angle\",  # Nom de l'expérience\n",
    "    group=\"logistic_regression\",\n",
    "    tags=[\"logistic_regression\", \"distance et angle\"],  # Tags pour cette expérience\n",
    "    entity=config.WANDB_TEAM_NAME\n",
    ")\n",
    "\n",
    "# Exemple : Entraîner le modèle\n",
    "clf3 = LogisticRegression()\n",
    "clf3.fit(X2_both_train, y2_train)\n",
    "\n",
    "# Évaluer le modèle (exemple avec AUC ROC)\n",
    "y_proba3 = clf3.predict_proba(X2_both_val)[:, 1]\n",
    "auc_roc3 = roc_auc_score(y2_val, y_proba3)\n",
    "\n",
    "# Enregistrer les métriques dans Wandb\n",
    "wandb.log({\"val_roc_auc\": auc_roc3})\n",
    "\n",
    "# Sauvegarder le modèle\n",
    "model_path3 = \"logistic_regression_distance_and_angle.pkl\"\n",
    "with open(model_path3, \"wb\") as f3:\n",
    "    pickle.dump(clf3, f3)\n",
    "\n",
    "# Enregistrer le modèle dans Wandb\n",
    "wandb.save(model_path3)\n",
    "\n",
    "# Terminer l'expérience\n",
    "wandb.finish()"
   ]
  },
  {
   "cell_type": "markdown",
   "id": "db0224009dcc7d52",
   "metadata": {},
   "source": [
    "# Ingénierie des caractéristiques II\n",
    "\n",
    "### Ajout de l'artefact sur Wandb"
   ]
  },
  {
   "cell_type": "code",
   "execution_count": null,
   "id": "d7f485859221d38d",
   "metadata": {},
   "outputs": [],
   "source": [
    "# Connect to the Wandb API\n",
    "api = wandb.Api()\n",
    "\n",
    "# Spécifiez votre projet\n",
    "project_name = config.WANDB_PROJECT_NAME\n",
    "entity = config.WANDB_TEAM_NAME\n",
    "\n",
    "try:\n",
    "    artifact = api.artifact(f'{entity}/{project_name}/wpg_v_wsh_2017021065:latest')\n",
    "    print(\"L'artefact existe déjà.\")\n",
    "except wandb.errors.CommError as e:\n",
    "    run = wandb.init(project=\"IFT6758.2024-A11\")\n",
    "\n",
    "    # Create artefact\n",
    "    artifact = wandb.Artifact(\n",
    "        \"wpg_v_wsh_2017021065\",\n",
    "        type=\"dataset\"\n",
    "    )\n",
    "\n",
    "    # add data\n",
    "    my_table = wandb.Table(dataframe=train_data[train_data['idGame'] == 2017021065])\n",
    "    artifact.add(my_table, \"wpg_v_wsh_2017021065\")\n",
    "    run.log_artifact(artifact)\n"
   ]
  },
  {
   "cell_type": "markdown",
   "id": "4b712e75-ae96-4a65-b62f-1081533c2e12",
   "metadata": {},
   "source": [
    "# Modèles avancés "
   ]
  },
  {
   "cell_type": "markdown",
   "id": "7bad4e13-94a4-475a-9272-f937009362ca",
   "metadata": {},
   "source": [
    "## Question 1"
   ]
  },
  {
   "cell_type": "markdown",
   "id": "2f5c6fdf-e731-47ba-a459-d3470f56a3e1",
   "metadata": {},
   "source": [
    "### Entrainement du modèle"
   ]
  },
  {
   "cell_type": "code",
   "execution_count": null,
   "id": "1cfd70f8-923e-4980-8d78-470b0c2a01a8",
   "metadata": {},
   "outputs": [],
   "source": [
    "# Sélection des caractéristiques\n",
    "characteristics = ['shotDistance', 'shotAngle']\n",
    "\n",
    "x = train_data[characteristics].dropna()\n",
    "y = train_data['isGoal'][x.index]"
   ]
  },
  {
   "cell_type": "code",
   "execution_count": null,
   "id": "e507fc56-b6c2-45d0-9b3b-7a47e3955a9f",
   "metadata": {},
   "outputs": [],
   "source": [
    "x_train, x_val, y_train, y_val = train_test_split(x, y, test_size=0.2, random_state=42, stratify=y)"
   ]
  },
  {
   "cell_type": "code",
   "execution_count": null,
   "id": "714cb9ca-ba9a-45d7-b826-81225f1d547f",
   "metadata": {},
   "outputs": [],
   "source": [
    "xgb = XGBClassifier(objective='binary:logistic')\n",
    "xgb.fit(x_train, y_train)"
   ]
  },
  {
   "cell_type": "markdown",
   "id": "39e350b6-a139-4422-bb53-1c6998064148",
   "metadata": {},
   "source": [
    "### Courbes"
   ]
  },
  {
   "cell_type": "markdown",
   "id": "646d7dca-4956-424c-9ffa-ea003d667c7f",
   "metadata": {},
   "source": [
    "#### ROC/AUC"
   ]
  },
  {
   "cell_type": "code",
   "execution_count": null,
   "id": "27185ebc-1b85-4992-8c47-f125fa4690ae",
   "metadata": {},
   "outputs": [],
   "source": [
    "# Probabilités pour la classe \"but\"\n",
    "y_predicted_prob = xgb.predict_proba(x_val)[:, 1]"
   ]
  },
  {
   "cell_type": "code",
   "execution_count": null,
   "id": "13736dcb-6917-4f13-92de-3033ff8411b6",
   "metadata": {},
   "outputs": [],
   "source": [
    "# Ligne de base aléatoire\n",
    "y_proba_random = np.random.uniform(0, 1, len(y_val))\n",
    "plt.figure(figsize=(10, 6))\n",
    "# ROC\n",
    "RocCurveDisplay.from_predictions(y_val, y_predicted_prob, name=\"XGBoost\", color=\"blue\", ax=plt.gca())\n",
    "RocCurveDisplay.from_predictions(y_val, y_proba_random, name=\"Classificateur aléatoire\", color=\"gray\", linestyle=\"--\", ax=plt.gca())\n",
    "plt.title(\"ROC Curve for XGBoost Model\")\n",
    "plt.grid(True)\n",
    "plt.show()"
   ]
  },
  {
   "cell_type": "code",
   "execution_count": null,
   "id": "25e47ebc-7271-429f-9405-5a42328dcc6a",
   "metadata": {},
   "outputs": [],
   "source": [
    "# le XGBoost a un AUC similaire a celui de la regression logistique (entrainée avec l'angle et la distance) "
   ]
  },
  {
   "cell_type": "markdown",
   "id": "d07a3656-0198-44b2-bc3c-6eafeef06e3e",
   "metadata": {},
   "source": [
    "#### Taux de buts vs percentile de probabilité "
   ]
  },
  {
   "cell_type": "code",
   "execution_count": null,
   "id": "a4b295d2-620e-4f49-9863-43aea31c6291",
   "metadata": {},
   "outputs": [],
   "source": [
    "percentiles = np.linspace(0, 100, 11)\n",
    "goal_rates = compute_goal_rate_by_percentile(y_val, y_predicted_prob, percentiles)\n",
    "\n",
    "plot_line_2_variables(x=percentiles[:-1], y=goal_rates, color='green', label=\"Taux de buts par centile des probabilités prédites\", xinf=100, xsup=0, x_label=\"Centiles des probabilités prédites\", y_label=\"Taux de buts (%)\")"
   ]
  },
  {
   "cell_type": "code",
   "execution_count": null,
   "id": "c2bc65e2-01de-4ba3-8c86-b37f9729ccfa",
   "metadata": {},
   "outputs": [],
   "source": [
    "# il s'agit d'une courbe de calibrage personnalisé. la courbe monte régulièrement, cela signifie  cela signifie que les probabilités prédites \n",
    "# par le modèle sont cohérentes avec les fréquences observées\n",
    "# La courbe est similaire a celle de la reg logistique distance + angle"
   ]
  },
  {
   "cell_type": "markdown",
   "id": "363e0dd7-786e-445d-aff2-8e023c56d8a6",
   "metadata": {},
   "source": [
    "#### Proportion cumulée de buts vs percentile de probabilité"
   ]
  },
  {
   "cell_type": "markdown",
   "id": "099d1b0c-b2d6-4b20-9772-914096e0685c",
   "metadata": {},
   "source": [
    "#### Le diagramme de fiabilité (courbe de calibration)"
   ]
  },
  {
   "cell_type": "code",
   "execution_count": null,
   "id": "ca1b7ebd-acc2-4c15-b66e-d2806c164cd9",
   "metadata": {},
   "outputs": [],
   "source": [
    "CalibrationDisplay.from_predictions(y_val, y_predicted_prob, n_bins=10, name=\"XGBoost basique\")\n",
    "plt.title(\"Diagramme de fiabilité\")\n",
    "plt.show()"
   ]
  },
  {
   "cell_type": "code",
   "execution_count": null,
   "id": "f4774164-1ea2-472d-9287-930390c0e055",
   "metadata": {},
   "outputs": [],
   "source": [
    "# la courbe passe en dessous de la diagonale a partir de 0.4 environ, \n",
    "# ainsi, cette figure pourrait impliquerait que le modèle sur-prédit les probabilités. cependant, sachant qu'il n,ya pas peu\n",
    "#etre pas assez de données dans les bins, on est mieux de se fier a la courbe de buts par percentile qu'on a faite qui a aplus de données\n",
    "#par bin (la fraction de valeurs positive dans chaque bin est donc plus representative )\n",
    "\n",
    "#La courbe est cohérente au début (où il y a beaucoup d'exemples) mais devient incohérente aux extrémités (où les bins sont sous-représentés)\n",
    "# ici le modele surprédit, alors que dans le cas de la regression logistique, le modèle sous-predit"
   ]
  },
  {
   "cell_type": "markdown",
   "id": "8070c637-f5b6-46c5-b06e-e4a8a2dd14cc",
   "metadata": {},
   "source": [
    "### Wandb"
   ]
  },
  {
   "cell_type": "code",
   "execution_count": null,
   "id": "01263f51-deca-4205-8c16-c1ce3cd62920",
   "metadata": {},
   "outputs": [],
   "source": [
    "# Initialiser Wandb pour distance\n",
    "wandb.init(\n",
    "    project=config.WANDB_PROJECT_NAME,  # Nom du projet\n",
    "    name=\"XGBoost par défaut : distance et angle\",  # Nom de l'expérience\n",
    "    group=\"XGBoost\",\n",
    "    tags=[\"XGBoost\", \"distance_and_angle\"],  # Tags pour cette expérience\n",
    "    entity=config.WANDB_TEAM_NAME\n",
    ")\n",
    "\n",
    "xgb_params = {\n",
    "    \"learning_rate\": 0.3,\n",
    "    \"max_depth\": 6,\n",
    "    \"n_estimators\": 100,\n",
    "    \"subsample\": 1.0\n",
    "}\n",
    "\n",
    "# Logger les hyperparamètres dans wandb\n",
    "wandb.config.update(xgb_params)\n",
    "\n",
    "# Exemple : Entraîner le modèle\n",
    "xgb = XGBClassifier(objective='binary:logistic')\n",
    "xgb.fit(x_train, y_train)\n",
    "\n",
    "# Évaluer le modèle (exemple avec AUC ROC)\n",
    "y_predicted_prob = xgb.predict_proba(x_val)[:, 1]\n",
    "y_predicted = xgb.predict(x_val)\n",
    "\n",
    "auc_roc = roc_auc_score(y_val, y_predicted_prob)\n",
    "f1 = f1_score(y_predicted, y_val, average=\"weighted\")\n",
    "ece = compute_ece(y_val, y_predicted_prob)\n",
    "\n",
    "# Enregistrer les métriques dans Wandb\n",
    "wandb.log({\"val_roc_auc\": auc_roc, \"val_f1_score_weighted_weighted\": f1, \"val_expected_calibration_error\": ece })\n",
    "\n",
    "# Terminer l'expérience\n",
    "wandb.finish()"
   ]
  },
  {
   "cell_type": "markdown",
   "id": "cb16cc9d-d9d0-46fe-8d27-8ec079868c89",
   "metadata": {},
   "source": [
    "## Question 2"
   ]
  },
  {
   "cell_type": "code",
   "execution_count": null,
   "id": "1abbe852-3910-40a4-a8b4-be9ec0ccd4f6",
   "metadata": {},
   "outputs": [],
   "source": [
    "xgb_categorial_characteristics = [\n",
    "    'shotType',\n",
    "    'previousEventType',\n",
    "    'rebound'\n",
    "]\n",
    "\n",
    "xgb_num_characteristics = ['shotDistance', \n",
    "                   'shotAngle', \n",
    "                   'numberPeriod', \n",
    "                   'gameSeconds',\n",
    "                   'xCoord',\n",
    "                   'yCoord',\n",
    "                   'previousXCoord',\n",
    "                   'previousYCoord',\n",
    "                   'timeSinceLastEvent',\n",
    "                   'distanceFromLastEvent',\n",
    "                   'speedFromLastEvent',\n",
    "                  'reboundAngleShot' # changement angle de tir\n",
    "                  ]\n",
    "\n",
    "characteristics = xgb_num_characteristics + xgb_categorial_characteristics"
   ]
  },
  {
   "cell_type": "code",
   "execution_count": null,
   "id": "2a0dcf59-cee8-4b5d-a58e-531154d3ce80",
   "metadata": {},
   "outputs": [],
   "source": [
    "x_full_train = train_data[characteristics].dropna()\n",
    "y_full_train = train_data['isGoal'][x_full_train.index].to_numpy()"
   ]
  },
  {
   "cell_type": "code",
   "execution_count": null,
   "id": "f77ab92f-6e9f-40ab-9a64-3ed1edcde1d8",
   "metadata": {},
   "outputs": [],
   "source": [
    "full_pipeline = ColumnTransformer(\n",
    "    transformers=[\n",
    "        (\"cat\", OneHotEncoder(), xgb_categorial_characteristics),  # OneHotEncoder pour les colonnes catégorielles\n",
    "    ],\n",
    "    remainder=\"passthrough\"  # Garder les autres colonnes telles quelles\n",
    ")\n",
    "\n",
    "# Appliquer la pipeline aux données\n",
    "x_full_train_transformed = full_pipeline.fit_transform(x_full_train)"
   ]
  },
  {
   "cell_type": "markdown",
   "id": "300c07ef-17fb-4228-a083-aeff2fbeb4e0",
   "metadata": {},
   "source": [
    "### Optimisation des hyperparamètres"
   ]
  },
  {
   "cell_type": "code",
   "execution_count": null,
   "id": "2b3b345a-9753-4579-853f-6e57883a11ff",
   "metadata": {},
   "outputs": [],
   "source": [
    "from sklearn.metrics import make_scorer\n",
    "\n",
    "'''\n",
    "def compute_ece(y_true, y_proba, n_bins=10):\n",
    "    \"\"\"\n",
    "    Calcule l'Expected Calibration Error (ECE).\n",
    "    \n",
    "    Args:\n",
    "        y_true: array, étiquettes vraies (0 ou 1).\n",
    "        y_proba: array, probabilités prédites pour la classe positive.\n",
    "        n_bins: int, nombre de bins pour la calibration.\n",
    "        \n",
    "    Returns:\n",
    "        ece: erreur de calibration moyenne attendue.\n",
    "    \"\"\"\n",
    "    bins = np.linspace(0, 1, n_bins + 1)\n",
    "    bin_indices = np.digitize(y_proba, bins, right=True) - 1\n",
    "    ece = 0.0\n",
    "\n",
    "    for i in range(n_bins):\n",
    "        # Masque des exemples dans le bin courant\n",
    "        bin_mask = bin_indices == i\n",
    "        if bin_mask.sum() > 0:\n",
    "            bin_mean_predicted = y_proba[bin_mask].mean()\n",
    "            bin_actual = y_true[bin_mask].mean()\n",
    "            ece += (bin_mask.sum() / len(y_true)) * abs(bin_mean_predicted - bin_actual)\n",
    "    \n",
    "    return ece\n",
    "\n",
    "# Créer une version négative de l'ECE pour minimisation\n",
    "def negative_ece(y_true, y_proba):\n",
    "    return -compute_ece(y_true, y_proba)\n",
    "\n",
    "ece_scorer = make_scorer(negative_ece, needs_proba=True)\n",
    "\n",
    "xgb = XGBClassifier(objective='binary:logistic')\n",
    "\n",
    "stratified_cv = StratifiedKFold(n_splits=5, shuffle=True, random_state=42)\n",
    "\n",
    "param_grid = {\n",
    "    \"learning_rate\": [0.01, 0.1],        # Taux d'apprentissage\n",
    "    \"max_depth\": [10, 20],                  # Profondeur maximale des arbres\n",
    "    \"n_estimators\": [200, 300],          # Nombre d'arbres\n",
    "    \"subsample\": [0.7, 1.0],                 # Proportion des échantillons utilisés par arbre\n",
    "}\n",
    "\n",
    "grid_search = GridSearchCV(\n",
    "    estimator=xgb,\n",
    "    param_grid=param_grid,\n",
    "    scoring=ece_scorer,\n",
    "    cv=stratified_cv,                                   # Nombre de folds pour la validation croisée\n",
    "    verbose=1,                              # Niveau de log\n",
    "    n_jobs=-1                               # Utilisation de tous les cœurs disponibles\n",
    ")\n",
    "\n",
    "grid_search.fit(x_full_train_transformed, y_full_train)\n",
    "\n",
    "# Résultats de la meilleure combinaison d'hyperparamètres\n",
    "print(\"Meilleurs hyperparamètres :\", grid_search.best_params_)\n",
    "print(\"Meilleur score (Brier Score) :\", grid_search.best_score_)\n",
    "\n",
    "\n",
    "# show_xgboost_hyperparameters_scores(grid_search)\n",
    "'''"
   ]
  },
  {
   "cell_type": "markdown",
   "id": "f9e8d848-b50d-40cb-85a4-0bb6f62b627a",
   "metadata": {},
   "source": [
    "### Courbes XGBoost"
   ]
  },
  {
   "cell_type": "code",
   "execution_count": null,
   "id": "1c574a99-1dbe-4820-b374-61e81ddaa611",
   "metadata": {},
   "outputs": [],
   "source": [
    "xgb_basic = XGBClassifier(objective='binary:logistic')\n",
    "\n",
    "# grid_search.best_params_\n",
    "# best_params = {'learning_rate': 0.1, 'max_depth': 20, 'n_estimators': 300, 'subsample': 1.0}\n",
    "best_params = {'learning_rate': 0.01, 'max_depth': 10, 'n_estimators': 300, 'subsample': 1.0}\n",
    "\n",
    "xgb_advanced = XGBClassifier(objective='binary:logistic', **best_params)\n",
    "\n",
    "x = train_data[characteristics].dropna()\n",
    "y = train_data['isGoal'][x.index]\n",
    "\n",
    "x_train, x_val, y_train, y_val = train_test_split(x, y, test_size=0.2, random_state=42, stratify=y)"
   ]
  },
  {
   "cell_type": "code",
   "execution_count": null,
   "id": "62138198-bced-4519-bcdd-69dab0e0608b",
   "metadata": {},
   "outputs": [],
   "source": [
    "xgb_basic.fit(x_train[['shotDistance', 'shotAngle']], y_train)\n",
    "\n",
    "x_train_transformed = full_pipeline.fit_transform(x_train)\n",
    "x_val_transformed = full_pipeline.fit_transform(x_val)\n",
    "\n",
    "xgb_advanced.fit(x_train_transformed, y_train)\n",
    "\n",
    "y_predicted_prob_basic = xgb_basic.predict_proba(x_val[['shotDistance', 'shotAngle']])[:, 1]\n",
    "y_predicted_prob_advanced = xgb_advanced.predict_proba(x_val_transformed)[:, 1]"
   ]
  },
  {
   "cell_type": "markdown",
   "id": "b690cde7-6da9-4651-9ca1-a5531ac0dfca",
   "metadata": {},
   "source": [
    "#### ROC/AUC"
   ]
  },
  {
   "cell_type": "code",
   "execution_count": null,
   "id": "14cb74e0-cde4-48f5-9949-be2cf8b14183",
   "metadata": {},
   "outputs": [],
   "source": [
    "plt.figure(figsize=(10, 6))\n",
    "RocCurveDisplay.from_predictions(y_val, y_predicted_prob_basic, name=\"XGBoost basique (Distance et angle)\", color=\"blue\", ax=plt.gca())\n",
    "RocCurveDisplay.from_predictions(y_val, y_predicted_prob_advanced, name=\"XGBoost avancé\", color=\"green\", ax=plt.gca())\n",
    "\n",
    "plt.title(\"ROC Curves for XGBoost Models\")\n",
    "plt.grid(True)\n",
    "plt.show()"
   ]
  },
  {
   "cell_type": "markdown",
   "id": "085880f0-fa20-419c-a939-baa62084c12b",
   "metadata": {},
   "source": [
    "#### Taux de buts vs percentile de probabilité"
   ]
  },
  {
   "cell_type": "code",
   "execution_count": null,
   "id": "1f5751a7-1a47-471d-bf3d-1fd03051bf53",
   "metadata": {},
   "outputs": [],
   "source": [
    "goal_rate_basic = compute_goal_rate_by_percentile(y_val, y_predicted_prob_basic, percentiles)\n",
    "goal_rate_advanced = compute_goal_rate_by_percentile(y_val, y_predicted_prob_advanced, percentiles)\n",
    "\n",
    "# Tracer les taux de buts\n",
    "plt.figure(figsize=(10, 6))\n",
    "plt.plot(percentiles[:-1], goal_rate_basic, label=\"XGBoost basique\", color=\"blue\")\n",
    "plt.plot(percentiles[:-1], goal_rate_advanced, label=\"XGBoost avancé\", color=\"green\")\n",
    "\n",
    "plt.title(\"Taux de buts par centile de probabilité\")\n",
    "plt.xlabel(\"Centile de probabilité\")\n",
    "plt.xlim(100,0)\n",
    "plt.ylabel(\"Taux de buts (%)\")\n",
    "plt.ylim(0, 100)\n",
    "plt.grid(True)\n",
    "plt.legend()\n",
    "plt.show()"
   ]
  },
  {
   "cell_type": "markdown",
   "id": "3bd24892-087f-4791-9d5a-3334936a669d",
   "metadata": {},
   "source": [
    "#### Proportion cumulée des buts par centile"
   ]
  },
  {
   "cell_type": "code",
   "execution_count": null,
   "id": "d9df24ed-2eb5-4d11-86f8-c6d440c08768",
   "metadata": {},
   "outputs": [],
   "source": []
  },
  {
   "cell_type": "markdown",
   "id": "27870c70-af16-4c17-b88d-27daa3bf34e9",
   "metadata": {},
   "source": [
    "#### Diagramme de fiabilité"
   ]
  },
  {
   "cell_type": "code",
   "execution_count": null,
   "id": "f6056b92-78f8-431c-9721-1a5aaa706c9f",
   "metadata": {},
   "outputs": [],
   "source": [
    "fig, ax = plt.subplots(figsize=(8, 6))\n",
    "\n",
    "CalibrationDisplay.from_predictions(y_val, y_predicted_prob_basic, n_bins=10, ax=ax, name=\"XGBoost basique\")\n",
    "CalibrationDisplay.from_predictions(y_val, y_predicted_prob_advanced, n_bins=10, ax=ax, name=\"XGBoost avancé\")\n",
    "\n",
    "plt.title(\"Diagramme de fiabilité\")\n",
    "plt.show()"
   ]
  },
  {
   "cell_type": "markdown",
   "id": "02e0f610-58e6-4eaa-9828-3dcde0122f75",
   "metadata": {},
   "source": [
    "### wandb"
   ]
  },
  {
   "cell_type": "code",
   "execution_count": null,
   "id": "7a5af3bd-8a0d-4468-9c6c-6efbab2b77fe",
   "metadata": {},
   "outputs": [],
   "source": [
    "run = wandb.init(\n",
    "    project=config.WANDB_PROJECT_NAME,  # Nom du projet\n",
    "    name=\"XGBoost avancé (nouvelles caractéristiques)\",  # Nom de l'expérience\n",
    "    group=\"XGBoost\",\n",
    "    tags=[\"XGBoost\", \"new_features\"],  # Tags pour cette expérience\n",
    "    entity=config.WANDB_TEAM_NAME\n",
    ")\n",
    "\n",
    "xgb_params = {\n",
    "    'learning_rate': 0.01,\n",
    "    'max_depth': 10,\n",
    "    'n_estimators': 300,\n",
    "    'subsample': 1.0\n",
    "}\n",
    "\n",
    "# Logger les hyperparamètres dans wandb\n",
    "wandb.config.update(xgb_params)\n",
    "\n",
    "y_predicted_advanced = xgb_advanced.predict(x_val_transformed)\n",
    "\n",
    "auc_roc = roc_auc_score(y_val, y_predicted_prob_advanced)\n",
    "f1 = f1_score(y_predicted_advanced, y_val, average=\"weighted\")\n",
    "ece = compute_ece(y_val, y_predicted_prob_advanced)\n",
    "\n",
    "wandb.log({\"val_roc_auc\": auc_roc, \"val_f1_score_weighted\": f1, \"val_expected_calibration_error\": ece })\n",
    "\n",
    "model_path = \"XGBoost_improved_with_new_features.pkl\"\n",
    "with open(model_path, \"wb\") as f:\n",
    "    pickle.dump(xgb_advanced, f)\n",
    "\n",
    "# Enregistrer le modèle avec WandB\n",
    "run.log_model(path=\"XGBoost_improved_with_new_features.pkl\", name=\"XGBoost_improved_with_new_features\")\n",
    "\n",
    "# Terminer l'expérience\n",
    "wandb.finish()"
   ]
  },
  {
   "cell_type": "markdown",
   "id": "bb375412-f445-4554-972f-056c57bfa60a",
   "metadata": {},
   "source": [
    "## Question 3"
   ]
  },
  {
   "cell_type": "markdown",
   "id": "0f6f1002-a980-486d-8b80-7b61e131bcc3",
   "metadata": {},
   "source": [
    "### Sélection par importances via forêt aléatoire"
   ]
  },
  {
   "cell_type": "code",
   "execution_count": null,
   "id": "51c74030-3859-48aa-86ed-fdc67dc6d4ec",
   "metadata": {},
   "outputs": [],
   "source": [
    "import numpy as np\n",
    "import matplotlib.pyplot as plt\n",
    "from sklearn.ensemble import ExtraTreesClassifier\n",
    "from sklearn.feature_selection import SelectFromModel\n",
    "from sklearn.model_selection import cross_val_score, StratifiedKFold\n",
    "from sklearn.metrics import make_scorer, accuracy_score"
   ]
  },
  {
   "cell_type": "code",
   "execution_count": null,
   "id": "f04e428f-f172-4425-8b73-4f31bfe5f2ec",
   "metadata": {},
   "outputs": [],
   "source": [
    "x_full_train = train_data[characteristics].dropna()\n",
    "y_full_train = train_data['isGoal'][x_full_train.index].to_numpy()\n",
    "\n",
    "x_full_train_transformed = full_pipeline.fit_transform(x_full_train)"
   ]
  },
  {
   "cell_type": "code",
   "execution_count": null,
   "id": "e9b16498-6a8d-4ff9-a2c4-330b5570e178",
   "metadata": {},
   "outputs": [],
   "source": [
    "'''\n",
    "clf = ExtraTreesClassifier(n_estimators=100, random_state=42)\n",
    "clf.fit(x_full_train_transformed, y_full_train)\n",
    "\n",
    "# Obtenir l'importance des caractéristiques\n",
    "importances = clf.feature_importances_\n",
    "\n",
    "# Définir plusieurs seuils pour les importances\n",
    "thresholds = np.linspace(0, max(importances), 10)\n",
    "\n",
    "print('importances')\n",
    "print(importances)\n",
    "\n",
    "# Initialiser les variables pour suivre les scores et les seuils\n",
    "scores_by_threshold = []\n",
    "\n",
    "# Définir une validation croisée stratifiée\n",
    "cv = StratifiedKFold(n_splits=5, shuffle=True, random_state=42)\n",
    "\n",
    "# Essayer plusieurs seuils pour sélectionner les meilleures caractéristiques\n",
    "for threshold in thresholds:\n",
    "    # Sélectionner les caractéristiques importantes\n",
    "    selector = SelectFromModel(clf, threshold=threshold, prefit=True)\n",
    "    \n",
    "    x_train_selected = selector.transform(x_full_train_transformed)\n",
    "\n",
    "    xgb_advanced = XGBClassifier(objective='binary:logistic', **best_params)\n",
    "\n",
    "    # Calculer la moyenne des scores sur les plis de la validation croisée\n",
    "    scores = cross_val_score(xgb_advanced, x_train_selected, y_full_train, cv=cv, scoring=make_scorer(negative_ece, needs_proba=True))\n",
    "    mean_score = np.mean(scores)\n",
    "\n",
    "    # Stocker les résultats\n",
    "    scores_by_threshold.append((threshold, mean_score))\n",
    "    print(f\"Threshold: {threshold:.4f}, Cross-Validation negative ECE: {mean_score:.4f}\")\n",
    "\n",
    "ece_by_threshold = [(t[0], t[1] * -1) for t in scores_by_threshold]\n",
    "\n",
    "# Extraire les valeurs pour l'axe x (étiquettes) et l'axe y (hauteur des barres)\n",
    "thresholds = [x[0] for x in ece_by_threshold]\n",
    "ece_values = [x[1] for x in ece_by_threshold]\n",
    "\n",
    "# Créer le graphique en bâtons\n",
    "plt.figure(figsize=(10, 6))\n",
    "plt.bar(thresholds, ece_values, width=0.003, color='skyblue')\n",
    "\n",
    "# Ajouter les étiquettes\n",
    "plt.xlabel('Threshold')\n",
    "plt.ylabel('Erreur de calibration moyenne')\n",
    "plt.title('Graphique en bâtons des Thresholds et des érreurs de calibration attendues moyennes')\n",
    "\n",
    "# Afficher les étiquettes des thresholds sur l'axe des x\n",
    "plt.xticks(thresholds, rotation=45)\n",
    "\n",
    "# Afficher le graphique\n",
    "plt.tight_layout()\n",
    "plt.grid()\n",
    "plt.show()\n",
    "\n",
    "plt.savefig('feature_selection_random_forest')\n",
    "'''"
   ]
  },
  {
   "cell_type": "code",
   "execution_count": null,
   "id": "55600503-617d-4aa9-a96b-b5daa7f6f147",
   "metadata": {},
   "outputs": [],
   "source": [
    "# best_threshold = sorted(ece_by_threshold, key=lambda x: x[1])[0][0] . celui qui minimise l'érruer de calibration\n",
    "best_threshold = 0.08148290719876781"
   ]
  },
  {
   "cell_type": "code",
   "execution_count": null,
   "id": "bbc3cf9e-269e-4783-8c8e-8be75a29f77d",
   "metadata": {},
   "outputs": [],
   "source": [
    "clf = ExtraTreesClassifier(n_estimators=100, random_state=42)\n",
    "clf.fit(x_full_train_transformed, y_full_train)\n",
    "\n",
    "selector = SelectFromModel(clf, threshold=best_threshold, prefit=True)"
   ]
  },
  {
   "cell_type": "code",
   "execution_count": null,
   "id": "a0123376-f4f4-443a-8a44-fe7e7a772c08",
   "metadata": {},
   "outputs": [],
   "source": [
    "ohe = full_pipeline.named_transformers_[\"cat\"]\n",
    "ohe_columns = ohe.get_feature_names_out(xgb_categorial_characteristics)\n",
    "\n",
    "# Colonnes \"passthrough\" (non modifiées)\n",
    "passthrough_columns = xgb_num_characteristics\n",
    "\n",
    "# Liste finale des colonnes\n",
    "all_columns = list(ohe_columns) + passthrough_columns\n",
    "all_columns_array = np.array(all_columns)\n",
    "\n",
    "print(\"colonnes conservées\")\n",
    "print(all_columns_array[selector.get_support()])\n",
    "'''\n",
    "['shotDistance' 'shotAngle' 'gameSeconds' 'xCoord' 'yCoord'\n",
    " 'timeSinceLastEvent' 'distanceFromLastEvent' 'speedFromLastEvent']\n",
    "'''"
   ]
  },
  {
   "cell_type": "code",
   "execution_count": null,
   "id": "5a108b8d-011c-4a47-a3b9-8d404dddd4e7",
   "metadata": {},
   "outputs": [],
   "source": [
    "x_train, x_val, y_train, y_val = train_test_split(x_full_train, y_full_train, test_size=0.2, random_state=42, stratify=y_full_train)\n",
    "\n",
    "xgb_basic = XGBClassifier(objective='binary:logistic')\n",
    "xgb_advanced = XGBClassifier(objective='binary:logistic', **best_params)\n",
    "xgb_advanced_2 = XGBClassifier(objective='binary:logistic', **best_params)\n",
    "\n",
    "x_train_transformed = full_pipeline.fit_transform(x_train)\n",
    "x_train_transformed_2 = selector.transform(x_train_transformed)\n",
    "\n",
    "x_val_transformed = full_pipeline.fit_transform(x_val)\n",
    "x_val_transformed_2 = selector.transform(x_val_transformed)\n",
    "\n",
    "xgb_basic.fit(x_train[['shotDistance', 'shotAngle']], y_train)\n",
    "xgb_advanced.fit(x_train_transformed, y_train)\n",
    "xgb_advanced_2.fit(x_train_transformed_2, y_train)\n",
    "\n",
    "y_predicted_prob_basic = xgb_basic.predict_proba(x_val[['shotDistance', 'shotAngle']])[:, 1]\n",
    "y_predicted_prob_advanced = xgb_advanced.predict_proba(x_val_transformed)[:, 1]\n",
    "y_predicted_prob_advanced_2 = xgb_advanced_2.predict_proba(x_val_transformed_2)[:, 1]"
   ]
  },
  {
   "cell_type": "markdown",
   "id": "92b4b38f-dcf7-44a8-9b4d-d002ae11444c",
   "metadata": {},
   "source": [
    "#### ROC/AUC"
   ]
  },
  {
   "cell_type": "code",
   "execution_count": null,
   "id": "73822247-ef13-4fde-86b2-25d5661f18dc",
   "metadata": {},
   "outputs": [],
   "source": [
    "plt.figure(figsize=(10, 6))\n",
    "RocCurveDisplay.from_predictions(y_val, y_predicted_prob_basic, name=\"XGBoost basique (Distance et angle)\", color=\"blue\", ax=plt.gca())\n",
    "RocCurveDisplay.from_predictions(y_val, y_predicted_prob_advanced, name=\"XGBoost avancé\", color=\"green\", ax=plt.gca())\n",
    "RocCurveDisplay.from_predictions(y_val, y_predicted_prob_advanced_2, name=\"XGBoost avancé - caractéristiques sélectionnées\", color=\"red\", ax=plt.gca())\n",
    "\n",
    "plt.title(\"ROC Curves for XGBoost Models\")\n",
    "plt.grid(True)\n",
    "plt.show()"
   ]
  },
  {
   "cell_type": "markdown",
   "id": "a71b64e0-ea25-4240-a8ec-4c7d9349f167",
   "metadata": {},
   "source": [
    "#### Taux de buts vs percentile de probabilité"
   ]
  },
  {
   "cell_type": "code",
   "execution_count": null,
   "id": "a17b395d-c3ef-4d66-9a53-91457457fb4e",
   "metadata": {},
   "outputs": [],
   "source": [
    "goal_rate_basic = compute_goal_rate_by_percentile(y_val, y_predicted_prob_basic, percentiles)\n",
    "goal_rate_advanced = compute_goal_rate_by_percentile(y_val, y_predicted_prob_advanced, percentiles)\n",
    "goal_rate_advanced_2 = compute_goal_rate_by_percentile(y_val, y_predicted_prob_advanced_2, percentiles)\n",
    "\n",
    "\n",
    "# Tracer les taux de buts\n",
    "plt.figure(figsize=(10, 6))\n",
    "plt.plot(percentiles[:-1], goal_rate_basic, label=\"XGBoost basique\", color=\"blue\")\n",
    "plt.plot(percentiles[:-1], goal_rate_advanced, label=\"XGBoost avancé\", color=\"green\")\n",
    "plt.plot(percentiles[:-1], goal_rate_advanced_2, label=\"XGBoost avancé - caractéristiques sélectionnées\", color=\"red\")\n",
    "\n",
    "\n",
    "plt.title(\"Taux de buts par centile de probabilité\")\n",
    "plt.xlabel(\"Centile de probabilité\")\n",
    "plt.xlim(100,0)\n",
    "plt.ylabel(\"Taux de buts (%)\")\n",
    "plt.ylim(0, 100)\n",
    "plt.grid(True)\n",
    "plt.legend()\n",
    "plt.show()"
   ]
  },
  {
   "cell_type": "markdown",
   "id": "e899d021-3174-407c-922b-322ed5cdd11b",
   "metadata": {},
   "source": [
    "#### Proportion cumulée des buts par centile"
   ]
  },
  {
   "cell_type": "markdown",
   "id": "ec2bfca6-8d85-484a-a1ab-b6c3bcd04b7f",
   "metadata": {},
   "source": [
    "#### Diagramme de fiabilité"
   ]
  },
  {
   "cell_type": "code",
   "execution_count": null,
   "id": "0371819c-fec1-48f5-931b-97c4b5076918",
   "metadata": {},
   "outputs": [],
   "source": [
    "fig, ax = plt.subplots(figsize=(8, 6))\n",
    "\n",
    "CalibrationDisplay.from_predictions(y_val, y_predicted_prob_basic, n_bins=10, ax=ax, name=\"XGBoost basique\")\n",
    "CalibrationDisplay.from_predictions(y_val, y_predicted_prob_advanced, n_bins=10, ax=ax, name=\"XGBoost avancé\")\n",
    "CalibrationDisplay.from_predictions(y_val, y_predicted_prob_advanced_2, n_bins=10, ax=ax, name=\"XGBoost avancé - caractéristiques sélectionnées\")\n",
    "\n",
    "plt.title(\"Diagramme de fiabilité\")\n",
    "plt.show()"
   ]
  },
  {
   "cell_type": "markdown",
   "id": "07680930-c6be-44b3-926b-26e253424c71",
   "metadata": {},
   "source": [
    "### Wandb"
   ]
  },
  {
   "cell_type": "code",
   "execution_count": null,
   "id": "f667cdc3-990f-46fd-b72f-630bdc635f5d",
   "metadata": {},
   "outputs": [],
   "source": [
    "run = wandb.init(\n",
    "    project=config.WANDB_PROJECT_NAME,  # Nom du projet\n",
    "    name=\"XGBoost avancé (caractéristiques selectionnées)\",  # Nom de l'expérience\n",
    "    group=\"XGBoost\",\n",
    "    tags=[\"XGBoost\", \"selected_features\"],  # Tags pour cette expérience\n",
    "    entity=config.WANDB_TEAM_NAME\n",
    ")\n",
    "\n",
    "xgb_params = {\n",
    "    'learning_rate': 0.01,\n",
    "    'max_depth': 10,\n",
    "    'n_estimators': 300,\n",
    "    'subsample': 1.0\n",
    "}\n",
    "\n",
    "# Logger les hyperparamètres dans wandb\n",
    "wandb.config.update(xgb_params)\n",
    "\n",
    "y_predicted_advanced_2 = xgb_advanced_2.predict(x_val_transformed_2)\n",
    "\n",
    "auc_roc = roc_auc_score(y_val, y_predicted_prob_advanced_2)\n",
    "f1 = f1_score(y_predicted_advanced_2, y_val, average=\"weighted\")\n",
    "ece = compute_ece(y_val, y_predicted_prob_advanced_2)\n",
    "\n",
    "\n",
    "# Enregistrer les métriques dans Wandb\n",
    "wandb.log({\"val_roc_auc\": auc_roc, \"val_f1_score_weighted\": f1, \"val_expected_calibration_error\": ece })\n",
    "\n",
    "model_path = \"XGBoost_improved_with_selected_features.pkl\"\n",
    "with open(model_path, \"wb\") as f:\n",
    "    pickle.dump(xgb_advanced_2, f)\n",
    "\n",
    "# Enregistrer le modèle avec WandB\n",
    "run.log_model(path=\"XGBoost_improved_with_selected_features.pkl\", name=\"XGBoost_improved_with_selected_features\")\n",
    "\n",
    "# Terminer l'expérience\n",
    "wandb.finish()"
   ]
  },
  {
   "cell_type": "markdown",
   "id": "2da3a95018a2af0b",
   "metadata": {},
   "source": [
    "# Faites de votre mieux!\n",
    "\n",
    "### Implémentation des réseaux de neurones"
   ]
  },
  {
   "cell_type": "code",
   "execution_count": null,
   "id": "f7be9c6cd03aff4f",
   "metadata": {},
   "outputs": [],
   "source": [
    "# Sélection des caractéristiques\n",
    "characteristics = ['shotDistance', 'shotAngle', 'numberPeriod', 'gameSeconds'\n",
    "                   ,'emptyGoalNet', 'offensivePressureTime', 'speedFromLastEvent', 'distanceFromLastEvent']\n",
    "\n",
    "X = train_data[characteristics].dropna()\n",
    "y = train_data['isGoal'][X.index]\n",
    "\n",
    "# Chargement des données\n",
    "config.INPUTS_DATA = X.to_numpy()\n",
    "config.LABELS_DATA = y.to_numpy()"
   ]
  },
  {
   "cell_type": "markdown",
   "id": "99d38a59cf91d976",
   "metadata": {},
   "source": [
    "### Optimisation Perceptron"
   ]
  },
  {
   "cell_type": "code",
   "execution_count": null,
   "id": "b81af5cae43276fc",
   "metadata": {},
   "outputs": [],
   "source": [
    "# model_start.optimize(\"Perceptron\")"
   ]
  },
  {
   "cell_type": "markdown",
   "id": "7f7ed4ccd4e447bf",
   "metadata": {},
   "source": [
    "### Optimisation MLP 1 couche cachée"
   ]
  },
  {
   "cell_type": "code",
   "execution_count": null,
   "id": "4d554f96dd5d9b69",
   "metadata": {},
   "outputs": [],
   "source": [
    "#model_start.optimize(\"MLP_H1\")"
   ]
  },
  {
   "cell_type": "markdown",
   "id": "3a161bfb90887c3f",
   "metadata": {},
   "source": [
    "### Optimisation 2 couches cachées"
   ]
  },
  {
   "cell_type": "code",
   "execution_count": null,
   "id": "4558a153cbbf96af",
   "metadata": {},
   "outputs": [],
   "source": [
    "#model_start.optimize(\"MLP_H2\") "
   ]
  },
  {
   "cell_type": "markdown",
   "id": "ac70cefd2fb59ea6",
   "metadata": {},
   "source": [
    "# Évaluer sur l'ensemble de test"
   ]
  },
  {
   "cell_type": "markdown",
   "id": "110a3ad441eb0250",
   "metadata": {},
   "source": [
    "### Acquisition des données d'entraînement"
   ]
  },
  {
   "cell_type": "code",
   "execution_count": null,
   "id": "9de912320ec3c7b0",
   "metadata": {},
   "outputs": [],
   "source": [
    "filename = './data/dataframe_2020_to_2021.csv'\n",
    "start_year = 2020\n",
    "end_year = 2021\n",
    "\n",
    "if not os.path.isfile(filename):\n",
    "    # Get the data from the NHL API (2020 - 2021)\n",
    "    nhl_data_provider = get_data_from(start_year, end_year)\n",
    "\n",
    "    # Clean the data\n",
    "    clean_regular_season, clean_playoff = clean_data(nhl_data_provider)\n",
    "\n",
    "    # Transform data into dataframe\n",
    "    df_2020_to_2021 = convert_dictionaries_to_dataframes(clean_regular_season,\n",
    "                                                         clean_playoff,\n",
    "                                                         np.arange(start_year, end_year + 1).tolist())\n",
    "    df_2020_to_2021.to_csv(filename, index=False)"
   ]
  },
  {
   "cell_type": "markdown",
   "id": "16b4dab03f2ba13c",
   "metadata": {},
   "source": [
    "### Récupération des données d'entraînement"
   ]
  },
  {
   "cell_type": "code",
   "execution_count": null,
   "id": "e2e27c2c3ffb3c63",
   "metadata": {},
   "outputs": [],
   "source": [
    "test_data = pd.read_csv(filename)\n",
    "\n",
    "# Séparation des données de test en saison régulières et playoff\n",
    "regular_test_data = test_data[test_data['gameType'] == \"regular-season\"].dropna()\n",
    "playoff_test_data = test_data[test_data['gameType'] == \"playoffs\"].dropna()"
   ]
  },
  {
   "cell_type": "markdown",
   "id": "e8953aad49eb9480",
   "metadata": {},
   "source": [
    "## Prédiction pendant la saison régulière (2020-2021)"
   ]
  },
  {
   "cell_type": "markdown",
   "id": "ff430e4198af40fc",
   "metadata": {},
   "source": [
    "### Regression logistique"
   ]
  },
  {
   "cell_type": "code",
   "execution_count": null,
   "id": "dc130706e8a2214a",
   "metadata": {},
   "outputs": [],
   "source": [
    "#TODO: CODE ICI"
   ]
  },
  {
   "cell_type": "markdown",
   "id": "d2f8a76452e472de",
   "metadata": {},
   "source": [
    "### XGBoost"
   ]
  },
  {
   "cell_type": "code",
   "execution_count": null,
   "id": "285cbf69141f057d",
   "metadata": {},
   "outputs": [],
   "source": [
    "#TODO: CODE ICI\n",
    "\n",
    "characteristics = xgb_num_characteristics + xgb_categorial_characteristics\n",
    "\n",
    "x_test = regular_test_data[characteristics].dropna()\n",
    "y_test = regular_test_data['isGoal'][x_test.index].to_numpy()\n",
    "\n",
    "x_test_transformed = full_pipeline.fit_transform(x_test)\n",
    "\n",
    "# Initialize a run\n",
    "run = wandb.init(project=config.WANDB_PROJECT_NAME, entity=config.WANDB_TEAM_NAME)\n",
    "\n",
    "# Access and download model. Returns path to downloaded artifact\n",
    "downloaded_model_path = run.use_model(name = \"XGBoost_improved_with_new_features:latest\")"
   ]
  },
  {
   "cell_type": "code",
   "execution_count": null,
   "id": "211abd1d-1ab6-4032-9268-748ba2dfee25",
   "metadata": {},
   "outputs": [],
   "source": [
    "# Charger le modèle\n",
    "with open(downloaded_model_path, \"rb\") as file:  # \"rb\" signifie lecture en mode binaire\n",
    "    xgb_model = pickle.load(file)\n",
    "\n",
    "y_pred_prob_xgb = xgb_model.predict_proba(x_test_transformed)[:, 1]\n",
    "y_pred_xgb = xgb_model.predict(x_test_transformed)\n",
    "\n",
    "auc_roc = roc_auc_score(y_test, y_pred_prob_xgb)\n",
    "f1 = f1_score(y_pred_xgb, y_test, average=\"weighted\")\n",
    "ece = compute_ece(y_test, y_pred_prob_xgb)\n",
    "\n",
    "print(f\"F1 pondéré: {f1}\")\n",
    "print(f\"AUC: {auc_roc}\")\n",
    "print(f\"ece: {ece}\")"
   ]
  },
  {
   "cell_type": "markdown",
   "id": "2e66e9988a15241d",
   "metadata": {},
   "source": [
    "### Préparation des données pour les réseaux de neurones"
   ]
  },
  {
   "cell_type": "code",
   "execution_count": null,
   "id": "d82b76b63dbf9e43",
   "metadata": {},
   "outputs": [],
   "source": [
    "# Chargement des données de test\n",
    "X_regular = regular_test_data[characteristics]\n",
    "y_regular = regular_test_data['isGoal'][X_regular.index]\n",
    "\n",
    "# Ajout dans le fichier config.py :\n",
    "config.TEST_DATA = X_regular.to_numpy()"
   ]
  },
  {
   "cell_type": "markdown",
   "id": "4eabd2ffc8dc8d9c",
   "metadata": {},
   "source": [
    "### Perceptron"
   ]
  },
  {
   "cell_type": "code",
   "execution_count": null,
   "id": "e01ba9b8c60fbeb8",
   "metadata": {},
   "outputs": [],
   "source": [
    "y_pred = model_start.predict_data(\"Perceptron\")\n",
    "f1 = f1_score(y_pred, y_regular, average=\"weighted\")\n",
    "print(f\"F1-score du modèle sur l'ensemble de validation: {f1:.2f}\") "
   ]
  },
  {
   "cell_type": "markdown",
   "id": "2ae5701f1d4b1b12",
   "metadata": {},
   "source": [
    "### MLP 1 couche cachée"
   ]
  },
  {
   "cell_type": "code",
   "execution_count": null,
   "id": "ee846e308235c4a0",
   "metadata": {},
   "outputs": [],
   "source": [
    "y_pred = model_start.predict_data(\"MLP_H1\")\n",
    "f1 = f1_score(y_pred, y_regular, average=\"weighted\")\n",
    "print(f\"F1-score du modèle sur l'ensemble de validation: {f1:.2f}\") "
   ]
  },
  {
   "cell_type": "markdown",
   "id": "9d97aab66afe5349",
   "metadata": {},
   "source": [
    "### MLP 2 couches cachées"
   ]
  },
  {
   "cell_type": "code",
   "execution_count": null,
   "id": "83db9a0c20315756",
   "metadata": {},
   "outputs": [],
   "source": [
    "y_pred = model_start.predict_data(\"MLP_H2\")\n",
    "f1 = f1_score(y_pred, y_regular, average=\"weighted\")\n",
    "print(f\"F1-score du modèle sur l'ensemble de validation: {f1:.2f}\") "
   ]
  },
  {
   "cell_type": "markdown",
   "id": "b1a2fa1c55ec9b45",
   "metadata": {},
   "source": [
    "## Prédiction pendant les Playoffs (2020-2021)"
   ]
  },
  {
   "cell_type": "markdown",
   "id": "49be4e944b91b206",
   "metadata": {},
   "source": [
    "### Regression logistique"
   ]
  },
  {
   "cell_type": "code",
   "execution_count": null,
   "id": "113e420e11a0a844",
   "metadata": {},
   "outputs": [],
   "source": [
    "#TODO: CODE ICI"
   ]
  },
  {
   "cell_type": "markdown",
   "id": "d7557c796411dae0",
   "metadata": {},
   "source": [
    "### XGBoost"
   ]
  },
  {
   "cell_type": "code",
   "execution_count": null,
   "id": "a40f5d2b0b9703a0",
   "metadata": {},
   "outputs": [],
   "source": [
    "#TODO: CODE ICI"
   ]
  },
  {
   "cell_type": "markdown",
   "id": "a42703b60c0a1903",
   "metadata": {},
   "source": [
    "### Préparation des données pour les réseaux de neurones"
   ]
  },
  {
   "cell_type": "code",
   "execution_count": null,
   "id": "6f8044de5e5097ef",
   "metadata": {},
   "outputs": [],
   "source": [
    "# Chargement des données de test\n",
    "X_playoff = playoff_test_data [characteristics]\n",
    "y_playoff = playoff_test_data ['isGoal'][X_playoff.index]\n",
    "\n",
    "# Ajout dans le fichier config.py :\n",
    "config.TEST_DATA = X_playoff.to_numpy()"
   ]
  },
  {
   "cell_type": "markdown",
   "id": "57f0cc2deb08ca14",
   "metadata": {},
   "source": [
    "### Perceptron"
   ]
  },
  {
   "cell_type": "code",
   "execution_count": null,
   "id": "82026ab9b5aa04d3",
   "metadata": {},
   "outputs": [],
   "source": [
    "y_pred = model_start.predict_data(\"Perceptron\")\n",
    "f1 = f1_score(y_pred, y_playoff, average=\"weighted\")\n",
    "print(f\"F1-score du modèle sur l'ensemble de validation: {f1:.2f}\") "
   ]
  },
  {
   "cell_type": "markdown",
   "id": "8b4ce7d77315b12d",
   "metadata": {},
   "source": [
    "### MLP 1 couche cachée"
   ]
  },
  {
   "cell_type": "code",
   "execution_count": null,
   "id": "f1b77493aa66f6ce",
   "metadata": {},
   "outputs": [],
   "source": [
    "y_pred = model_start.predict_data(\"MLP_H1\")\n",
    "f1 = f1_score(y_pred, y_playoff, average=\"weighted\")\n",
    "print(f\"F1-score du modèle sur l'ensemble de validation: {f1:.2f}\") "
   ]
  },
  {
   "cell_type": "markdown",
   "id": "b9f861bfd46e2d34",
   "metadata": {},
   "source": [
    "### MLP 2 couches cachées"
   ]
  },
  {
   "cell_type": "code",
   "execution_count": null,
   "id": "6191d485fe81d820",
   "metadata": {},
   "outputs": [],
   "source": [
    "y_pred = model_start.predict_data(\"MLP_H2\")\n",
    "f1 = f1_score(y_pred, y_playoff, average=\"weighted\")\n",
    "print(f\"F1-score du modèle sur l'ensemble de validation: {f1:.2f}\") "
   ]
  }
 ],
 "metadata": {
  "kernelspec": {
   "display_name": "Python 3 (ipykernel)",
   "language": "python",
   "name": "python3"
  },
  "language_info": {
   "codemirror_mode": {
    "name": "ipython",
    "version": 3
   },
   "file_extension": ".py",
   "mimetype": "text/x-python",
   "name": "python",
   "nbconvert_exporter": "python",
   "pygments_lexer": "ipython3",
   "version": "3.12.7"
  }
 },
 "nbformat": 4,
 "nbformat_minor": 5
}
