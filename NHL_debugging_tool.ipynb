{
 "cells": [
  {
   "cell_type": "code",
   "id": "b69354cd",
   "metadata": {},
   "source": [
    "import SeasonData as sdata\n",
    "import pandas as pd\n",
    "import ipywidgets\n",
    "import pprint"
   ],
   "outputs": [],
   "execution_count": null
  },
  {
   "cell_type": "code",
   "id": "41923042",
   "metadata": {},
   "source": [
    "# we assume it is a regular season\n",
    "\n",
    "season = '2022'\n",
    "rs_data = sdata.NHLData()\n",
    "rs_data.fetch_regular_season(year = season)\n",
    "game_count = len(rs_data.regular_season[season])\n",
    "\n",
    "def plot_game(game_number):    \n",
    "    game_data = rs_data.regular_season['2022'][game_number-1]\n",
    "    \n",
    "    print(game_data['startTimeUTC'])\n",
    "    print(f\"Game ID: {game_number}; {game_data['homeTeam']['abbrev']} (home) vs {game_data['awayTeam']['abbrev']} (away)\")\n",
    "    \n",
    "    col1 = ['', 'Teams', 'Goals', 'SoG']\n",
    "    col2 = [\"Home\",f\"{game_data['homeTeam']['abbrev']}\", f\"{game_data['homeTeam']['score']}\", f\"{game_data['homeTeam']['sog']}\"]\n",
    "    col3 = [\"Away\",f\"{game_data['awayTeam']['abbrev']}\", f\"{game_data['awayTeam']['score']}\", f\"{game_data['awayTeam']['sog']}\"]\n",
    "    print('')\n",
    "    for c1, c2, c3 in zip(col1, col2, col3):\n",
    "        print(f'{c1:<18} {c2:<18} {c3:<18}')\n",
    "    \n",
    "    event_count = len(game_data['plays'])\n",
    "    \n",
    "    ipywidgets.interact(plot_game_event, event_number=(1, event_count,1), game_data=ipywidgets.fixed(game_data))\n",
    "\n",
    "def plot_game_event(game_data, event_number):\n",
    "    event_data = game_data['plays'][event_number-1]\n",
    "    print(\"infos de l'evenement\")\n",
    "    pprint.pprint(event_data)\n",
    "\n",
    "ipywidgets.interact(plot_game, game_number=(1, game_count,1))\n"
   ],
   "outputs": [],
   "execution_count": null
  },
  {
   "cell_type": "code",
   "id": "40f1074d",
   "metadata": {},
   "source": [],
   "outputs": [],
   "execution_count": null
  }
 ],
 "metadata": {
  "kernelspec": {
   "display_name": "Python 3 (ipykernel)",
   "language": "python",
   "name": "python3"
  },
  "language_info": {
   "codemirror_mode": {
    "name": "ipython",
    "version": 3
   },
   "file_extension": ".py",
   "mimetype": "text/x-python",
   "name": "python",
   "nbconvert_exporter": "python",
   "pygments_lexer": "ipython3",
   "version": "3.9.13"
  }
 },
 "nbformat": 4,
 "nbformat_minor": 5
}
