{
 "cells": [
  {
   "cell_type": "code",
   "execution_count": 1,
   "id": "b69354cd",
   "metadata": {},
   "outputs": [],
   "source": [
    "import SeasonData as sdata\n",
    "import pandas as pd\n",
    "import ipywidgets\n",
    "import pprint\n",
    "import matplotlib.pyplot as plt\n",
    "import matplotlib.image as mpimg "
   ]
  },
  {
   "cell_type": "code",
   "execution_count": 4,
   "id": "41923042",
   "metadata": {},
   "outputs": [
    {
     "name": "stdout",
     "output_type": "stream",
     "text": [
      "Data imported: 1312\n",
      "Data imported: 89\n",
      "Data imported: 1312\n",
      "Data imported: 88\n"
     ]
    },
    {
     "data": {
      "application/vnd.jupyter.widget-view+json": {
       "model_id": "0d99ef7422f9489e91961b4a0f5a843f",
       "version_major": 2,
       "version_minor": 0
      },
      "text/plain": [
       "interactive(children=(Dropdown(description='game_type', options=('regular', 'playoff'), value='regular'), Drop…"
      ]
     },
     "metadata": {},
     "output_type": "display_data"
    },
    {
     "data": {
      "text/plain": [
       "<function __main__.plot_nhl_data(game_type, season=2022)>"
      ]
     },
     "execution_count": 4,
     "metadata": {},
     "output_type": "execute_result"
    }
   ],
   "source": [
    "nhl_data_provider = sdata.NHLData()\n",
    "season_list = [2021,2022]\n",
    "\n",
    "# on charge les données au préalable\n",
    "for season in season_list:\n",
    "    nhl_data_provider.fetch_regular_season(year = str(season))\n",
    "    nhl_data_provider.fetch_playoffs(year = str(season))\n",
    "    \n",
    "\n",
    "def plot_nhl_data(game_type, season=2022):\n",
    "    season = str(season)\n",
    "    \n",
    "    if(game_type == 'regular'):\n",
    "        #nhl_data_provider.fetch_regular_season(year = season)\n",
    "        games_data = nhl_data_provider.regular_season[season]\n",
    "    else:\n",
    "        #nhl_data_provider.fetch_playoffs(year = season)\n",
    "        games_data = nhl_data_provider.playoffs[season]\n",
    "    \n",
    "    game_count = len(games_data)\n",
    "    ipywidgets.interact(plot_game, game_number=(1, game_count,1), games_data=ipywidgets.fixed(games_data))\n",
    "    \n",
    "\n",
    "def plot_game(game_number, games_data):    \n",
    "    game_data = games_data[game_number-1]\n",
    "    \n",
    "    print(game_data['startTimeUTC'])\n",
    "    print(f\"Game ID: {game_number}; {game_data['homeTeam']['abbrev']} (home) vs {game_data['awayTeam']['abbrev']} (away)\")\n",
    "    \n",
    "    col1 = ['', 'Teams', 'Goals', 'SoG']\n",
    "    col2 = [\"Home\",f\"{game_data['homeTeam']['abbrev']}\", f\"{game_data['homeTeam']['score']}\", f\"{game_data['homeTeam']['sog']}\"]\n",
    "    col3 = [\"Away\",f\"{game_data['awayTeam']['abbrev']}\", f\"{game_data['awayTeam']['score']}\", f\"{game_data['awayTeam']['sog']}\"]\n",
    "    print('')\n",
    "    for c1, c2, c3 in zip(col1, col2, col3):\n",
    "        print(f'{c1:<18} {c2:<18} {c3:<18}')\n",
    "    \n",
    "    event_count = len(game_data['plays'])\n",
    "    \n",
    "    ipywidgets.interact(plot_game_event, event_number=(1, event_count,1), game_data=ipywidgets.fixed(game_data))\n",
    "\n",
    "def plot_game_event(game_data, event_number):\n",
    "    event_data = game_data['plays'][event_number-1]\n",
    "    print(\"infos de l'evenement\")\n",
    "    \n",
    "    image_path = 'patinoire.png'\n",
    "    img = mpimg.imread(image_path)\n",
    "    img_height, img_width = img.shape[0], img.shape[1]\n",
    "\n",
    "    fig, ax = plt.subplots()\n",
    "\n",
    "    # Afficher l'image dans le fond\n",
    "    ax.imshow(img, extent=[-100, 100, -42.5, 42.5], origin='lower')\n",
    "    # ax.imshow(img, extent=[-img_width/2, img_width/2, -img_height/2, img_height/2], origin='lower')\n",
    "\n",
    "    # Positionner les axes x et y aux bords (gauche pour y et bas pour x)\n",
    "    ax.spines['left'].set_position(('axes', 0))  # Garder l'axe y à gauche\n",
    "    ax.spines['bottom'].set_position(('axes', 0))  # Garder l'axe x en bas\n",
    "\n",
    "    # Masquer les axes du haut et de droite\n",
    "    ax.spines['right'].set_color('none')\n",
    "    ax.spines['top'].set_color('none')\n",
    "    \n",
    "    if('details' in event_data and 'xCoord' in event_data['details'] and 'yCoord' in event_data['details']):\n",
    "        ax.scatter(event_data['details']['xCoord'], event_data['details']['yCoord'], color=\"blue\", s=100, zorder=5)\n",
    "    \n",
    "    plt.show()\n",
    "    \n",
    "    # on affiche les données brute de l'évenement\n",
    "    pprint.pprint(event_data)  \n",
    "\n",
    "ipywidgets.interact(plot_nhl_data, game_type=['regular', 'playoff'], season=season_list)"
   ]
  }
 ],
 "metadata": {
  "kernelspec": {
   "display_name": "Python 3 (ipykernel)",
   "language": "python",
   "name": "python3"
  },
  "language_info": {
   "codemirror_mode": {
    "name": "ipython",
    "version": 3
   },
   "file_extension": ".py",
   "mimetype": "text/x-python",
   "name": "python",
   "nbconvert_exporter": "python",
   "pygments_lexer": "ipython3",
   "version": "3.9.13"
  }
 },
 "nbformat": 4,
 "nbformat_minor": 5
}
