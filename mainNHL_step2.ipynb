{
 "cells": [
  {
   "cell_type": "markdown",
   "id": "c80872dc-29ae-49ff-b9bc-fe5d93e2e735",
   "metadata": {},
   "source": [
    "# Milestone 2"
   ]
  },
  {
   "cell_type": "code",
   "execution_count": null,
   "id": "b003ab98-0656-4769-a091-34c2d40270b8",
   "metadata": {},
   "outputs": [],
   "source": [
    "%load_ext autoreload\n",
    "%autoreload 2"
   ]
  },
  {
   "cell_type": "code",
   "execution_count": null,
   "id": "935a0893-61e9-45a2-8c74-83de62ee46a9",
   "metadata": {},
   "outputs": [],
   "source": [
    "# all imports\n",
    "\n",
    "from src import * \n",
    "import pandas as pd"
   ]
  },
  {
   "cell_type": "code",
   "execution_count": null,
   "id": "44529c08-fee4-4a55-8bf2-f2a9137eeb0c",
   "metadata": {},
   "outputs": [],
   "source": [
    "train_data = pd.read_csv('data/dataframe_2016_to_2019.csv')"
   ]
  },
  {
   "cell_type": "markdown",
   "id": "cd50c0cb-ba97-4145-a1c4-d16520a245ee",
   "metadata": {},
   "source": [
    "# Ingénierie des caractéristique"
   ]
  },
  {
   "cell_type": "markdown",
   "id": "b923fde4-63fd-4665-af96-3f39f2428823",
   "metadata": {},
   "source": [
    "### question 1"
   ]
  },
  {
   "cell_type": "markdown",
   "id": "b3c1b9bd-42be-41a6-8a92-6fc22f391f93",
   "metadata": {},
   "source": [
    "## question 2"
   ]
  },
  {
   "cell_type": "markdown",
   "id": "50f0252c-a0f5-49d2-94d8-122c0a0d4f44",
   "metadata": {},
   "source": [
    "## question 3"
   ]
  },
  {
   "cell_type": "code",
   "execution_count": null,
   "id": "b3826f3b-c7dd-46ca-a332-85a95ddc528e",
   "metadata": {},
   "outputs": [],
   "source": [
    "plot_goals_by_distance(train_data)"
   ]
  }
 ],
 "metadata": {
  "kernelspec": {
   "display_name": "Python 3 (ipykernel)",
   "language": "python",
   "name": "python3"
  },
  "language_info": {
   "codemirror_mode": {
    "name": "ipython",
    "version": 3
   },
   "file_extension": ".py",
   "mimetype": "text/x-python",
   "name": "python",
   "nbconvert_exporter": "python",
   "pygments_lexer": "ipython3",
   "version": "3.9.20"
  }
 },
 "nbformat": 4,
 "nbformat_minor": 5
}
